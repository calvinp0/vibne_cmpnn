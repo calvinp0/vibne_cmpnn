{
 "cells": [
  {
   "cell_type": "code",
   "execution_count": 1,
   "id": "b045fca1",
   "metadata": {},
   "outputs": [
    {
     "name": "stdout",
     "output_type": "stream",
     "text": [
      "Current working directory: /home/calvin/code/vibe_cmpnn\n",
      "Project files: ['preprocessing.py', 'dataset.py', '.pytest_cache', 'raw', 'vibe_test.ipynb', '__pycache__', 'processed', '0392-1.pdf', 'Sample_Model_Run.ipynb', 'model.py', 'model_tests.py']\n",
      "Raw directory files: ['val.csv', 'SAMPL.csv', 'train.csv', 'test.csv']\n"
     ]
    }
   ],
   "source": [
    "%load_ext autoreload\n",
    "%autoreload 2\n",
    "import os\n",
    "import random\n",
    "import numpy as np\n",
    "import torch\n",
    "import torch.backends.cudnn as cudnn\n",
    "import torch\n",
    "from torch_geometric.loader import DataLoader\n",
    "from torch_geometric.data import Batch\n",
    "from dataset import CMPNNDataset\n",
    "from model import CMPNNEncoder, FFNHead\n",
    "# Verify working directory and raw data files\n",
    "print('Current working directory:', os.getcwd())\n",
    "print('Project files:', os.listdir(os.getcwd()))\n",
    "print('Raw directory files:', os.listdir(os.path.join(os.getcwd(), 'raw')))\n",
    "## reproducibility seeds\n",
    "random.seed(42)\n",
    "np.random.seed(42)\n",
    "torch.manual_seed(42)\n",
    "torch.cuda.manual_seed_all(42)\n",
    "cudnn.deterministic = True\n",
    "cudnn.benchmark = False"
   ]
  },
  {
   "cell_type": "code",
   "execution_count": 2,
   "id": "fbba6261",
   "metadata": {},
   "outputs": [
    {
     "name": "stdout",
     "output_type": "stream",
     "text": [
      "Splits: train=514, val=64, test=64\n"
     ]
    }
   ],
   "source": [
    "# 0. Scaffold-based train/val/test split in-memory\n",
    "import pandas as pd\n",
    "from dataset import scaffold_split_df\n",
    "from preprocessing import StandardScaler\n",
    "\n",
    "# read full CSV\n",
    "df = pd.read_csv('raw/SAMPL.csv')\n",
    "# split by Bemis–Murcko scaffold\n",
    "train_df, val_df, test_df = scaffold_split_df(df, valid_ratio=0.1, test_ratio=0.1, seed=42)\n",
    "# write splits back to disk for CMPNNDataset\n",
    "\n",
    "\n",
    "scaler = StandardScaler()\n",
    "scaler.fit(train_df.y.values)\n",
    "train_df['y'] = scaler.transform(train_df.y.values)\n",
    "val_df['y']   = scaler.transform(val_df.y.values)\n",
    "test_df['y']  = scaler.transform(test_df.y.values)\n",
    "\n",
    "train_df.to_csv('raw/train.csv', index=False)\n",
    "val_df.to_csv  ('raw/val.csv',   index=False)\n",
    "test_df.to_csv ('raw/test.csv',  index=False)\n",
    "print(f'Splits: train={len(train_df)}, val={len(val_df)}, test={len(test_df)}')"
   ]
  },
  {
   "cell_type": "code",
   "execution_count": 3,
   "id": "88ce58d1",
   "metadata": {},
   "outputs": [
    {
     "name": "stdout",
     "output_type": "stream",
     "text": [
      "Train/Val/Test sizes: 514/64/64\n"
     ]
    },
    {
     "name": "stderr",
     "output_type": "stream",
     "text": [
      "Processing...\n",
      "Done!\n",
      "/home/calvin/miniforge3/envs/dmpnn_rocm/lib/python3.10/site-packages/torch_geometric/data/in_memory_dataset.py:300: UserWarning: It is not recommended to directly access the internal storage format `data` of an 'InMemoryDataset'. If you are absolutely certain what you are doing, access the internal storage via `InMemoryDataset._data` instead to suppress this warning. Alternatively, you can access stacked individual attributes of every graph via `dataset.{attr_name}`.\n",
      "  warnings.warn(msg)\n",
      "Processing...\n",
      "Done!\n",
      "/home/calvin/miniforge3/envs/dmpnn_rocm/lib/python3.10/site-packages/torch_geometric/data/in_memory_dataset.py:300: UserWarning: It is not recommended to directly access the internal storage format `data` of an 'InMemoryDataset'. If you are absolutely certain what you are doing, access the internal storage via `InMemoryDataset._data` instead to suppress this warning. Alternatively, you can access stacked individual attributes of every graph via `dataset.{attr_name}`.\n",
      "  warnings.warn(msg)\n",
      "Processing...\n",
      "Done!\n",
      "/home/calvin/miniforge3/envs/dmpnn_rocm/lib/python3.10/site-packages/torch_geometric/data/in_memory_dataset.py:300: UserWarning: It is not recommended to directly access the internal storage format `data` of an 'InMemoryDataset'. If you are absolutely certain what you are doing, access the internal storage via `InMemoryDataset._data` instead to suppress this warning. Alternatively, you can access stacked individual attributes of every graph via `dataset.{attr_name}`.\n",
      "  warnings.warn(msg)\n"
     ]
    }
   ],
   "source": [
    "# 1. Load datasets and create DataLoaders\n",
    "from dataset import CMPNNDataset\n",
    "from torch_geometric.loader import DataLoader\n",
    "from torch_geometric.data import Batch\n",
    "train_ds = CMPNNDataset(root='.', csv_file='train.csv')\n",
    "val_ds   = CMPNNDataset(root='.', csv_file='val.csv')\n",
    "test_ds  = CMPNNDataset(root='.', csv_file='test.csv')\n",
    "print(f'Train/Val/Test sizes: {len(train_ds)}/{len(val_ds)}/{len(test_ds)}')\n",
    "# batching\n",
    "train_loader = DataLoader(train_ds, batch_size=32, shuffle=True,  collate_fn=Batch.from_data_list)\n",
    "val_loader   = DataLoader(val_ds,   batch_size=32, shuffle=False, collate_fn=Batch.from_data_list)\n",
    "test_loader  = DataLoader(test_ds,  batch_size=32, shuffle=False, collate_fn=Batch.from_data_list)"
   ]
  },
  {
   "cell_type": "code",
   "execution_count": 38,
   "id": "3f2d9cb5",
   "metadata": {},
   "outputs": [
    {
     "name": "stdout",
     "output_type": "stream",
     "text": [
      "Epoch 01  MSE_scaled Train: 309819512891.5402, Val: 3.9098\n",
      "Epoch 02  MSE_scaled Train: 0.9010, Val: 0.6115\n",
      "Epoch 03  MSE_scaled Train: 0.7806, Val: 1.5661\n",
      "Epoch 04  MSE_scaled Train: 0.8214, Val: 1.3700\n",
      "Epoch 03  MSE_scaled Train: 0.7806, Val: 1.5661\n",
      "Epoch 04  MSE_scaled Train: 0.8214, Val: 1.3700\n",
      "Epoch 05  MSE_scaled Train: 0.3598, Val: 2.7203\n",
      "Epoch 06  MSE_scaled Train: 0.3205, Val: 0.8201\n",
      "Epoch 05  MSE_scaled Train: 0.3598, Val: 2.7203\n",
      "Epoch 06  MSE_scaled Train: 0.3205, Val: 0.8201\n",
      "Epoch 07  MSE_scaled Train: 0.1477, Val: 2.9974\n",
      "Epoch 08  MSE_scaled Train: 0.2667, Val: 1.8507\n",
      "Epoch 07  MSE_scaled Train: 0.1477, Val: 2.9974\n",
      "Epoch 08  MSE_scaled Train: 0.2667, Val: 1.8507\n",
      "Epoch 09  MSE_scaled Train: 0.1305, Val: 0.3536\n",
      "Epoch 10  MSE_scaled Train: 0.1036, Val: 2.0967\n",
      "Epoch 09  MSE_scaled Train: 0.1305, Val: 0.3536\n",
      "Epoch 10  MSE_scaled Train: 0.1036, Val: 2.0967\n",
      "Epoch 11  MSE_scaled Train: 0.2031, Val: 0.7059\n",
      "Epoch 12  MSE_scaled Train: 0.0838, Val: 1.2527\n",
      "Epoch 11  MSE_scaled Train: 0.2031, Val: 0.7059\n",
      "Epoch 12  MSE_scaled Train: 0.0838, Val: 1.2527\n",
      "Epoch 13  MSE_scaled Train: 0.0736, Val: 1.2636\n",
      "Epoch 14  MSE_scaled Train: 0.1299, Val: 0.8621\n",
      "Epoch 13  MSE_scaled Train: 0.0736, Val: 1.2636\n",
      "Epoch 14  MSE_scaled Train: 0.1299, Val: 0.8621\n",
      "Epoch 15  MSE_scaled Train: 0.0689, Val: 0.5722\n",
      "Epoch 16  MSE_scaled Train: 0.0644, Val: 0.3671\n",
      "Epoch 15  MSE_scaled Train: 0.0689, Val: 0.5722\n",
      "Epoch 16  MSE_scaled Train: 0.0644, Val: 0.3671\n",
      "Epoch 17  MSE_scaled Train: 0.0833, Val: 1.0880\n",
      "Epoch 18  MSE_scaled Train: 0.0565, Val: 1.2524\n",
      "Epoch 17  MSE_scaled Train: 0.0833, Val: 1.0880\n",
      "Epoch 18  MSE_scaled Train: 0.0565, Val: 1.2524\n",
      "Epoch 19  MSE_scaled Train: 0.0701, Val: 0.5840\n",
      "Epoch 20  MSE_scaled Train: 0.0546, Val: 0.6408\n",
      "Epoch 19  MSE_scaled Train: 0.0701, Val: 0.5840\n",
      "Epoch 20  MSE_scaled Train: 0.0546, Val: 0.6408\n",
      "Epoch 21  MSE_scaled Train: 0.0387, Val: 0.7227\n",
      "Epoch 22  MSE_scaled Train: 0.0406, Val: 1.2356\n",
      "Epoch 21  MSE_scaled Train: 0.0387, Val: 0.7227\n",
      "Epoch 22  MSE_scaled Train: 0.0406, Val: 1.2356\n",
      "Epoch 23  MSE_scaled Train: 0.0465, Val: 1.0146\n",
      "Epoch 24  MSE_scaled Train: 0.0344, Val: 0.9896\n",
      "Epoch 23  MSE_scaled Train: 0.0465, Val: 1.0146\n",
      "Epoch 24  MSE_scaled Train: 0.0344, Val: 0.9896\n",
      "Epoch 25  MSE_scaled Train: 0.0398, Val: 0.7526\n",
      "Epoch 26  MSE_scaled Train: 0.0451, Val: 0.8178\n",
      "Epoch 25  MSE_scaled Train: 0.0398, Val: 0.7526\n",
      "Epoch 26  MSE_scaled Train: 0.0451, Val: 0.8178\n",
      "Epoch 27  MSE_scaled Train: 0.0347, Val: 0.8012\n",
      "Epoch 28  MSE_scaled Train: 0.0304, Val: 0.8572\n",
      "Epoch 27  MSE_scaled Train: 0.0347, Val: 0.8012\n",
      "Epoch 28  MSE_scaled Train: 0.0304, Val: 0.8572\n",
      "Epoch 29  MSE_scaled Train: 0.0301, Val: 0.9157\n",
      "Epoch 30  MSE_scaled Train: 0.0282, Val: 0.5397\n",
      "Epoch 29  MSE_scaled Train: 0.0301, Val: 0.9157\n",
      "Epoch 30  MSE_scaled Train: 0.0282, Val: 0.5397\n",
      "Epoch 31  MSE_scaled Train: 0.0280, Val: 0.7812\n",
      "Epoch 32  MSE_scaled Train: 0.0264, Val: 0.9952\n",
      "Epoch 31  MSE_scaled Train: 0.0280, Val: 0.7812\n",
      "Epoch 32  MSE_scaled Train: 0.0264, Val: 0.9952\n",
      "Epoch 33  MSE_scaled Train: 0.0292, Val: 0.7742\n",
      "Epoch 34  MSE_scaled Train: 0.0239, Val: 0.6484\n",
      "Epoch 33  MSE_scaled Train: 0.0292, Val: 0.7742\n",
      "Epoch 34  MSE_scaled Train: 0.0239, Val: 0.6484\n",
      "Epoch 35  MSE_scaled Train: 0.0303, Val: 0.3698\n",
      "Epoch 36  MSE_scaled Train: 0.0321, Val: 0.7803\n",
      "Epoch 35  MSE_scaled Train: 0.0303, Val: 0.3698\n",
      "Epoch 36  MSE_scaled Train: 0.0321, Val: 0.7803\n",
      "Epoch 37  MSE_scaled Train: 0.0232, Val: 0.5919\n",
      "Epoch 38  MSE_scaled Train: 0.0249, Val: 1.0368\n",
      "Epoch 37  MSE_scaled Train: 0.0232, Val: 0.5919\n",
      "Epoch 38  MSE_scaled Train: 0.0249, Val: 1.0368\n",
      "Epoch 39  MSE_scaled Train: 0.0189, Val: 0.8503\n",
      "Epoch 40  MSE_scaled Train: 0.0192, Val: 0.5592\n",
      "Epoch 39  MSE_scaled Train: 0.0189, Val: 0.8503\n",
      "Epoch 40  MSE_scaled Train: 0.0192, Val: 0.5592\n",
      "Epoch 41  MSE_scaled Train: 0.0210, Val: 0.5966\n",
      "Epoch 42  MSE_scaled Train: 0.0142, Val: 0.8702\n",
      "Epoch 41  MSE_scaled Train: 0.0210, Val: 0.5966\n",
      "Epoch 42  MSE_scaled Train: 0.0142, Val: 0.8702\n",
      "Epoch 43  MSE_scaled Train: 0.0175, Val: 0.6471\n",
      "Epoch 44  MSE_scaled Train: 0.0133, Val: 0.4897\n",
      "Epoch 43  MSE_scaled Train: 0.0175, Val: 0.6471\n",
      "Epoch 44  MSE_scaled Train: 0.0133, Val: 0.4897\n",
      "Epoch 45  MSE_scaled Train: 0.0192, Val: 0.7222\n",
      "Epoch 46  MSE_scaled Train: 0.0231, Val: 0.6007\n",
      "Epoch 45  MSE_scaled Train: 0.0192, Val: 0.7222\n",
      "Epoch 46  MSE_scaled Train: 0.0231, Val: 0.6007\n",
      "Epoch 47  MSE_scaled Train: 0.0163, Val: 0.5377\n",
      "Epoch 48  MSE_scaled Train: 0.0189, Val: 0.8046\n",
      "Epoch 47  MSE_scaled Train: 0.0163, Val: 0.5377\n",
      "Epoch 48  MSE_scaled Train: 0.0189, Val: 0.8046\n",
      "Epoch 49  MSE_scaled Train: 0.0174, Val: 0.6355\n",
      "Epoch 50  MSE_scaled Train: 0.0146, Val: 0.9432\n",
      "Epoch 49  MSE_scaled Train: 0.0174, Val: 0.6355\n",
      "Epoch 50  MSE_scaled Train: 0.0146, Val: 0.9432\n",
      "Epoch 51  MSE_scaled Train: 0.0221, Val: 0.8086\n",
      "Epoch 52  MSE_scaled Train: 0.0214, Val: 0.7058\n",
      "Epoch 51  MSE_scaled Train: 0.0221, Val: 0.8086\n",
      "Epoch 52  MSE_scaled Train: 0.0214, Val: 0.7058\n",
      "Epoch 53  MSE_scaled Train: 0.0167, Val: 0.6915\n",
      "Epoch 54  MSE_scaled Train: 0.0169, Val: 0.6779\n",
      "Epoch 53  MSE_scaled Train: 0.0167, Val: 0.6915\n",
      "Epoch 54  MSE_scaled Train: 0.0169, Val: 0.6779\n",
      "Epoch 55  MSE_scaled Train: 0.0201, Val: 0.8236\n",
      "Epoch 56  MSE_scaled Train: 0.0120, Val: 0.6934\n",
      "Epoch 55  MSE_scaled Train: 0.0201, Val: 0.8236\n",
      "Epoch 56  MSE_scaled Train: 0.0120, Val: 0.6934\n",
      "Epoch 57  MSE_scaled Train: 0.0107, Val: 0.7739\n",
      "Epoch 58  MSE_scaled Train: 0.0090, Val: 0.6638\n",
      "Epoch 57  MSE_scaled Train: 0.0107, Val: 0.7739\n",
      "Epoch 58  MSE_scaled Train: 0.0090, Val: 0.6638\n",
      "Epoch 59  MSE_scaled Train: 0.0155, Val: 0.9422\n",
      "Epoch 60  MSE_scaled Train: 0.0139, Val: 0.6940\n",
      "Epoch 59  MSE_scaled Train: 0.0155, Val: 0.9422\n",
      "Epoch 60  MSE_scaled Train: 0.0139, Val: 0.6940\n",
      "Epoch 61  MSE_scaled Train: 0.0137, Val: 0.7446\n",
      "Epoch 62  MSE_scaled Train: 0.0100, Val: 0.7796\n",
      "Epoch 61  MSE_scaled Train: 0.0137, Val: 0.7446\n",
      "Epoch 62  MSE_scaled Train: 0.0100, Val: 0.7796\n",
      "Epoch 63  MSE_scaled Train: 0.0105, Val: 0.8297\n",
      "Epoch 64  MSE_scaled Train: 0.0127, Val: 0.6976\n",
      "Epoch 63  MSE_scaled Train: 0.0105, Val: 0.8297\n",
      "Epoch 64  MSE_scaled Train: 0.0127, Val: 0.6976\n",
      "Epoch 65  MSE_scaled Train: 0.0087, Val: 0.8525\n",
      "Epoch 66  MSE_scaled Train: 0.0094, Val: 0.7163\n",
      "Epoch 65  MSE_scaled Train: 0.0087, Val: 0.8525\n",
      "Epoch 66  MSE_scaled Train: 0.0094, Val: 0.7163\n",
      "Epoch 67  MSE_scaled Train: 0.0092, Val: 0.8292\n",
      "Epoch 68  MSE_scaled Train: 0.0133, Val: 0.8185\n",
      "Epoch 67  MSE_scaled Train: 0.0092, Val: 0.8292\n",
      "Epoch 68  MSE_scaled Train: 0.0133, Val: 0.8185\n",
      "Epoch 69  MSE_scaled Train: 0.0116, Val: 0.6097\n",
      "Epoch 70  MSE_scaled Train: 0.0139, Val: 0.9082\n",
      "Epoch 69  MSE_scaled Train: 0.0116, Val: 0.6097\n",
      "Epoch 70  MSE_scaled Train: 0.0139, Val: 0.9082\n",
      "Epoch 71  MSE_scaled Train: 0.0095, Val: 0.8296\n",
      "Epoch 72  MSE_scaled Train: 0.0076, Val: 0.9201\n",
      "Epoch 71  MSE_scaled Train: 0.0095, Val: 0.8296\n",
      "Epoch 72  MSE_scaled Train: 0.0076, Val: 0.9201\n",
      "Epoch 73  MSE_scaled Train: 0.0086, Val: 0.7419\n",
      "Epoch 74  MSE_scaled Train: 0.0099, Val: 0.8465\n",
      "Epoch 73  MSE_scaled Train: 0.0086, Val: 0.7419\n",
      "Epoch 74  MSE_scaled Train: 0.0099, Val: 0.8465\n",
      "Epoch 75  MSE_scaled Train: 0.0123, Val: 0.8225\n",
      "Epoch 76  MSE_scaled Train: 0.0194, Val: 1.0979\n",
      "Epoch 75  MSE_scaled Train: 0.0123, Val: 0.8225\n",
      "Epoch 76  MSE_scaled Train: 0.0194, Val: 1.0979\n",
      "Epoch 77  MSE_scaled Train: 0.0236, Val: 0.6122\n",
      "Epoch 78  MSE_scaled Train: 0.0169, Val: 0.6385\n",
      "Epoch 77  MSE_scaled Train: 0.0236, Val: 0.6122\n",
      "Epoch 78  MSE_scaled Train: 0.0169, Val: 0.6385\n",
      "Epoch 79  MSE_scaled Train: 0.0122, Val: 0.6658\n",
      "Epoch 80  MSE_scaled Train: 0.0084, Val: 0.7146\n",
      "Epoch 79  MSE_scaled Train: 0.0122, Val: 0.6658\n",
      "Epoch 80  MSE_scaled Train: 0.0084, Val: 0.7146\n",
      "Epoch 81  MSE_scaled Train: 0.0068, Val: 0.7797\n",
      "Epoch 82  MSE_scaled Train: 0.0074, Val: 0.8194\n",
      "Epoch 81  MSE_scaled Train: 0.0068, Val: 0.7797\n",
      "Epoch 82  MSE_scaled Train: 0.0074, Val: 0.8194\n",
      "Epoch 83  MSE_scaled Train: 0.0065, Val: 0.7601\n",
      "Epoch 84  MSE_scaled Train: 0.0055, Val: 0.8898\n",
      "Epoch 83  MSE_scaled Train: 0.0065, Val: 0.7601\n",
      "Epoch 84  MSE_scaled Train: 0.0055, Val: 0.8898\n",
      "Epoch 85  MSE_scaled Train: 0.0080, Val: 0.9096\n",
      "Epoch 86  MSE_scaled Train: 0.0099, Val: 0.5309\n",
      "Epoch 85  MSE_scaled Train: 0.0080, Val: 0.9096\n",
      "Epoch 86  MSE_scaled Train: 0.0099, Val: 0.5309\n",
      "Epoch 87  MSE_scaled Train: 0.0142, Val: 0.6328\n",
      "Epoch 88  MSE_scaled Train: 0.0112, Val: 0.7024\n",
      "Epoch 87  MSE_scaled Train: 0.0142, Val: 0.6328\n",
      "Epoch 88  MSE_scaled Train: 0.0112, Val: 0.7024\n",
      "Epoch 89  MSE_scaled Train: 0.0068, Val: 0.7978\n",
      "Epoch 90  MSE_scaled Train: 0.0070, Val: 0.6285\n",
      "Epoch 89  MSE_scaled Train: 0.0068, Val: 0.7978\n",
      "Epoch 90  MSE_scaled Train: 0.0070, Val: 0.6285\n",
      "Epoch 91  MSE_scaled Train: 0.0120, Val: 0.6143\n",
      "Epoch 92  MSE_scaled Train: 0.0096, Val: 0.7574\n",
      "Epoch 91  MSE_scaled Train: 0.0120, Val: 0.6143\n",
      "Epoch 92  MSE_scaled Train: 0.0096, Val: 0.7574\n",
      "Epoch 93  MSE_scaled Train: 0.0068, Val: 0.5464\n",
      "Epoch 94  MSE_scaled Train: 0.0123, Val: 0.6694\n",
      "Epoch 93  MSE_scaled Train: 0.0068, Val: 0.5464\n",
      "Epoch 94  MSE_scaled Train: 0.0123, Val: 0.6694\n",
      "Epoch 95  MSE_scaled Train: 0.0109, Val: 0.7266\n",
      "Epoch 96  MSE_scaled Train: 0.0072, Val: 0.7364\n",
      "Epoch 95  MSE_scaled Train: 0.0109, Val: 0.7266\n",
      "Epoch 96  MSE_scaled Train: 0.0072, Val: 0.7364\n",
      "Epoch 97  MSE_scaled Train: 0.0159, Val: 0.7812\n",
      "Epoch 98  MSE_scaled Train: 0.0105, Val: 1.0047\n",
      "Epoch 97  MSE_scaled Train: 0.0159, Val: 0.7812\n",
      "Epoch 98  MSE_scaled Train: 0.0105, Val: 1.0047\n",
      "Epoch 99  MSE_scaled Train: 0.0301, Val: 0.4792\n",
      "Epoch 100  MSE_scaled Train: 0.0450, Val: 0.5740\n",
      "Epoch 99  MSE_scaled Train: 0.0301, Val: 0.4792\n",
      "Epoch 100  MSE_scaled Train: 0.0450, Val: 0.5740\n"
     ]
    },
    {
     "data": {
      "text/plain": [
       "<All keys matched successfully>"
      ]
     },
     "execution_count": 38,
     "metadata": {},
     "output_type": "execute_result"
    }
   ],
   "source": [
    "# 2. Build model, optimizer, criterion,\n",
    "device   = torch.device('cuda' if torch.cuda.is_available() else 'cpu')\n",
    "model    = CMPNNEncoder(in_node_feats=127, in_edge_feats=12, hidden_dim=300, num_steps=6, dropout=0, n_tasks=1,\n",
    "                        readout='sum').to(device)\n",
    "head     = FFNHead(in_dim=300, hidden_dim=300, out_dim=1, dropout=0.0).to(device)\n",
    "optimizer= torch.optim.Adam(list(model.parameters()) + list(head.parameters()), lr=3e-4, weight_decay=1e-5)\n",
    "criterion= torch.nn.MSELoss()\n",
    "\n",
    "# training with early‐stopping on MSE_scaled,\n",
    "best_val = float('inf')\n",
    "best_wts = None\n",
    "for epoch in range(1, 101):\n",
    "    model.train(); head.train()\n",
    "    train_loss = 0.0\n",
    "    for batch in train_loader:\n",
    "        batch = batch.to(device)\n",
    "        optimizer.zero_grad()\n",
    "        z     = model.embed(batch.x, batch.edge_index, batch.edge_attr, batch.batch)\n",
    "        y_pred= head(z).view(-1)\n",
    "        loss  = criterion(y_pred, batch.y.view(-1))\n",
    "        loss.backward()\n",
    "        torch.nn.utils.clip_grad_norm_(list(model.parameters()) + list(head.parameters()), 5.0)\n",
    "        optimizer.step()\n",
    "        train_loss += loss.item() * batch.num_graphs\n",
    "    mse_train = train_loss / len(train_ds)\n",
    "    # freeze BN stats after first epoch\n",
    "    if epoch == 2:\n",
    "        model.bn_node.eval()\n",
    "        model.bn_edge.eval()\n",
    "\n",
    "    # validation on scaled targets,\n",
    "    model.eval(); head.eval()\n",
    "    val_loss = 0.0\n",
    "    with torch.no_grad():\n",
    "        for batch in val_loader:\n",
    "            batch   = batch.to(device)\n",
    "            z       = model.embed(batch.x, batch.edge_index, batch.edge_attr, batch.batch)\n",
    "            y_pred  = head(z).view(-1)\n",
    "            val_loss+= criterion(y_pred, batch.y.view(-1)).item() * batch.num_graphs\n",
    "    mse_val = val_loss / len(val_ds)\n",
    "    print(f'Epoch {epoch:02d}  MSE_scaled Train: {mse_train:.4f}, Val: {mse_val:.4f}')\n",
    "    if mse_val < best_val:\n",
    "        best_val = mse_val\n",
    "        best_wts = (model.state_dict(), head.state_dict())\n",
    "\n",
    "# load best weights,\n",
    "model.load_state_dict(best_wts[0])\n",
    "head.load_state_dict(best_wts[1])"
   ]
  },
  {
   "cell_type": "code",
   "execution_count": 39,
   "id": "42404c9a",
   "metadata": {},
   "outputs": [
    {
     "name": "stdout",
     "output_type": "stream",
     "text": [
      "Test RMSE: 2.666 kcal/mol   MAE: 2.172 kcal/mol   R²: 0.420\n"
     ]
    }
   ],
   "source": [
    "model.eval(); head.eval()\n",
    "test_loss = 0.0\n",
    "y_true, y_pred = [], []\n",
    "with torch.no_grad():\n",
    "    for batch in test_loader:\n",
    "        batch = batch.to(device)\n",
    "        z     = model.embed(batch.x, batch.edge_index, batch.edge_attr, batch.batch)\n",
    "        y_s   = head(z).view(-1).cpu().numpy()                  # scaled\n",
    "        y_o   = scaler.inverse_transform(y_s)                   # real units\n",
    "        y_pred.append(y_o)\n",
    "        y_true.append(scaler.inverse_transform(batch.y.cpu().numpy()))\n",
    "                                 # already real units now\n",
    "y_pred = np.concatenate(y_pred)\n",
    "y_true = np.concatenate(y_true)\n",
    "\n",
    "rmse = np.sqrt(((y_pred - y_true) ** 2).mean())\n",
    "mae  = np.abs(y_pred - y_true).mean()\n",
    "r2   = 1 - ((y_pred - y_true) ** 2).sum() / ((y_true - y_true.mean()) ** 2).sum()\n",
    "print(f'Test RMSE: {rmse:.3f} kcal/mol   MAE: {mae:.3f} kcal/mol   R²: {r2:.3f}')\n"
   ]
  },
  {
   "cell_type": "code",
   "execution_count": 40,
   "id": "14f26e16",
   "metadata": {},
   "outputs": [
    {
     "name": "stdout",
     "output_type": "stream",
     "text": [
      "Best-epoch Val RMSE = 2.08 kcal/mol\n"
     ]
    }
   ],
   "source": [
    "# after training\n",
    "best_val_rmse_real = (best_val ** 0.5) * scaler.std_\n",
    "print(f'Best-epoch Val RMSE = {best_val_rmse_real:.2f} kcal/mol')\n"
   ]
  },
  {
   "cell_type": "code",
   "execution_count": 41,
   "id": "3f3033de",
   "metadata": {},
   "outputs": [
    {
     "name": "stdout",
     "output_type": "stream",
     "text": [
      "σ used for un-scaling : 3.5009811920179015\n",
      "Best val MSE (scaled) : 0.3536395765841007\n",
      "Best val RMSE (scaled): 0.5946760265759001\n"
     ]
    }
   ],
   "source": [
    "print('σ used for un-scaling :', float(scaler.std_))   # expect ~2.6–3.0\n",
    "print('Best val MSE (scaled) :', best_val)\n",
    "print('Best val RMSE (scaled):', best_val**0.5)\n"
   ]
  },
  {
   "cell_type": "code",
   "execution_count": 43,
   "id": "5770af6f",
   "metadata": {},
   "outputs": [
    {
     "name": "stderr",
     "output_type": "stream",
     "text": [
      "Processing...\n",
      "Done!\n",
      "/home/calvin/miniforge3/envs/dmpnn_rocm/lib/python3.10/site-packages/torch_geometric/data/in_memory_dataset.py:300: UserWarning: It is not recommended to directly access the internal storage format `data` of an 'InMemoryDataset'. If you are absolutely certain what you are doing, access the internal storage via `InMemoryDataset._data` instead to suppress this warning. Alternatively, you can access stacked individual attributes of every graph via `dataset.{attr_name}`.\n",
      "  warnings.warn(msg)\n",
      "Processing...\n",
      "Done!\n",
      "/home/calvin/miniforge3/envs/dmpnn_rocm/lib/python3.10/site-packages/torch_geometric/data/in_memory_dataset.py:300: UserWarning: It is not recommended to directly access the internal storage format `data` of an 'InMemoryDataset'. If you are absolutely certain what you are doing, access the internal storage via `InMemoryDataset._data` instead to suppress this warning. Alternatively, you can access stacked individual attributes of every graph via `dataset.{attr_name}`.\n",
      "  warnings.warn(msg)\n",
      "Processing...\n",
      "Done!\n",
      "/home/calvin/miniforge3/envs/dmpnn_rocm/lib/python3.10/site-packages/torch_geometric/data/in_memory_dataset.py:300: UserWarning: It is not recommended to directly access the internal storage format `data` of an 'InMemoryDataset'. If you are absolutely certain what you are doing, access the internal storage via `InMemoryDataset._data` instead to suppress this warning. Alternatively, you can access stacked individual attributes of every graph via `dataset.{attr_name}`.\n",
      "  warnings.warn(msg)\n",
      "Processing...\n",
      "Done!\n",
      "/home/calvin/miniforge3/envs/dmpnn_rocm/lib/python3.10/site-packages/torch_geometric/data/in_memory_dataset.py:300: UserWarning: It is not recommended to directly access the internal storage format `data` of an 'InMemoryDataset'. If you are absolutely certain what you are doing, access the internal storage via `InMemoryDataset._data` instead to suppress this warning. Alternatively, you can access stacked individual attributes of every graph via `dataset.{attr_name}`.\n",
      "  warnings.warn(msg)\n",
      "Processing...\n",
      "Done!\n",
      "/home/calvin/miniforge3/envs/dmpnn_rocm/lib/python3.10/site-packages/torch_geometric/data/in_memory_dataset.py:300: UserWarning: It is not recommended to directly access the internal storage format `data` of an 'InMemoryDataset'. If you are absolutely certain what you are doing, access the internal storage via `InMemoryDataset._data` instead to suppress this warning. Alternatively, you can access stacked individual attributes of every graph via `dataset.{attr_name}`.\n",
      "  warnings.warn(msg)\n",
      "Processing...\n",
      "Done!\n",
      "/home/calvin/miniforge3/envs/dmpnn_rocm/lib/python3.10/site-packages/torch_geometric/data/in_memory_dataset.py:300: UserWarning: It is not recommended to directly access the internal storage format `data` of an 'InMemoryDataset'. If you are absolutely certain what you are doing, access the internal storage via `InMemoryDataset._data` instead to suppress this warning. Alternatively, you can access stacked individual attributes of every graph via `dataset.{attr_name}`.\n",
      "  warnings.warn(msg)\n",
      "Processing...\n",
      "Done!\n",
      "/home/calvin/miniforge3/envs/dmpnn_rocm/lib/python3.10/site-packages/torch_geometric/data/in_memory_dataset.py:300: UserWarning: It is not recommended to directly access the internal storage format `data` of an 'InMemoryDataset'. If you are absolutely certain what you are doing, access the internal storage via `InMemoryDataset._data` instead to suppress this warning. Alternatively, you can access stacked individual attributes of every graph via `dataset.{attr_name}`.\n",
      "  warnings.warn(msg)\n",
      "Processing...\n",
      "Done!\n",
      "/home/calvin/miniforge3/envs/dmpnn_rocm/lib/python3.10/site-packages/torch_geometric/data/in_memory_dataset.py:300: UserWarning: It is not recommended to directly access the internal storage format `data` of an 'InMemoryDataset'. If you are absolutely certain what you are doing, access the internal storage via `InMemoryDataset._data` instead to suppress this warning. Alternatively, you can access stacked individual attributes of every graph via `dataset.{attr_name}`.\n",
      "  warnings.warn(msg)\n",
      "Processing...\n",
      "Done!\n",
      "/home/calvin/miniforge3/envs/dmpnn_rocm/lib/python3.10/site-packages/torch_geometric/data/in_memory_dataset.py:300: UserWarning: It is not recommended to directly access the internal storage format `data` of an 'InMemoryDataset'. If you are absolutely certain what you are doing, access the internal storage via `InMemoryDataset._data` instead to suppress this warning. Alternatively, you can access stacked individual attributes of every graph via `dataset.{attr_name}`.\n",
      "  warnings.warn(msg)\n",
      "Processing...\n",
      "Done!\n",
      "/home/calvin/miniforge3/envs/dmpnn_rocm/lib/python3.10/site-packages/torch_geometric/data/in_memory_dataset.py:300: UserWarning: It is not recommended to directly access the internal storage format `data` of an 'InMemoryDataset'. If you are absolutely certain what you are doing, access the internal storage via `InMemoryDataset._data` instead to suppress this warning. Alternatively, you can access stacked individual attributes of every graph via `dataset.{attr_name}`.\n",
      "  warnings.warn(msg)\n",
      "Processing...\n",
      "Done!\n",
      "/home/calvin/miniforge3/envs/dmpnn_rocm/lib/python3.10/site-packages/torch_geometric/data/in_memory_dataset.py:300: UserWarning: It is not recommended to directly access the internal storage format `data` of an 'InMemoryDataset'. If you are absolutely certain what you are doing, access the internal storage via `InMemoryDataset._data` instead to suppress this warning. Alternatively, you can access stacked individual attributes of every graph via `dataset.{attr_name}`.\n",
      "  warnings.warn(msg)\n",
      "Processing...\n",
      "Done!\n",
      "/home/calvin/miniforge3/envs/dmpnn_rocm/lib/python3.10/site-packages/torch_geometric/data/in_memory_dataset.py:300: UserWarning: It is not recommended to directly access the internal storage format `data` of an 'InMemoryDataset'. If you are absolutely certain what you are doing, access the internal storage via `InMemoryDataset._data` instead to suppress this warning. Alternatively, you can access stacked individual attributes of every graph via `dataset.{attr_name}`.\n",
      "  warnings.warn(msg)\n",
      "Processing...\n",
      "Done!\n",
      "/home/calvin/miniforge3/envs/dmpnn_rocm/lib/python3.10/site-packages/torch_geometric/data/in_memory_dataset.py:300: UserWarning: It is not recommended to directly access the internal storage format `data` of an 'InMemoryDataset'. If you are absolutely certain what you are doing, access the internal storage via `InMemoryDataset._data` instead to suppress this warning. Alternatively, you can access stacked individual attributes of every graph via `dataset.{attr_name}`.\n",
      "  warnings.warn(msg)\n",
      "Processing...\n",
      "Done!\n",
      "/home/calvin/miniforge3/envs/dmpnn_rocm/lib/python3.10/site-packages/torch_geometric/data/in_memory_dataset.py:300: UserWarning: It is not recommended to directly access the internal storage format `data` of an 'InMemoryDataset'. If you are absolutely certain what you are doing, access the internal storage via `InMemoryDataset._data` instead to suppress this warning. Alternatively, you can access stacked individual attributes of every graph via `dataset.{attr_name}`.\n",
      "  warnings.warn(msg)\n",
      "Processing...\n",
      "Done!\n",
      "/home/calvin/miniforge3/envs/dmpnn_rocm/lib/python3.10/site-packages/torch_geometric/data/in_memory_dataset.py:300: UserWarning: It is not recommended to directly access the internal storage format `data` of an 'InMemoryDataset'. If you are absolutely certain what you are doing, access the internal storage via `InMemoryDataset._data` instead to suppress this warning. Alternatively, you can access stacked individual attributes of every graph via `dataset.{attr_name}`.\n",
      "  warnings.warn(msg)\n",
      "Processing...\n",
      "Done!\n",
      "/home/calvin/miniforge3/envs/dmpnn_rocm/lib/python3.10/site-packages/torch_geometric/data/in_memory_dataset.py:300: UserWarning: It is not recommended to directly access the internal storage format `data` of an 'InMemoryDataset'. If you are absolutely certain what you are doing, access the internal storage via `InMemoryDataset._data` instead to suppress this warning. Alternatively, you can access stacked individual attributes of every graph via `dataset.{attr_name}`.\n",
      "  warnings.warn(msg)\n",
      "Processing...\n",
      "Done!\n",
      "/home/calvin/miniforge3/envs/dmpnn_rocm/lib/python3.10/site-packages/torch_geometric/data/in_memory_dataset.py:300: UserWarning: It is not recommended to directly access the internal storage format `data` of an 'InMemoryDataset'. If you are absolutely certain what you are doing, access the internal storage via `InMemoryDataset._data` instead to suppress this warning. Alternatively, you can access stacked individual attributes of every graph via `dataset.{attr_name}`.\n",
      "  warnings.warn(msg)\n",
      "Processing...\n",
      "Done!\n",
      "/home/calvin/miniforge3/envs/dmpnn_rocm/lib/python3.10/site-packages/torch_geometric/data/in_memory_dataset.py:300: UserWarning: It is not recommended to directly access the internal storage format `data` of an 'InMemoryDataset'. If you are absolutely certain what you are doing, access the internal storage via `InMemoryDataset._data` instead to suppress this warning. Alternatively, you can access stacked individual attributes of every graph via `dataset.{attr_name}`.\n",
      "  warnings.warn(msg)\n",
      "Processing...\n",
      "Done!\n",
      "/home/calvin/miniforge3/envs/dmpnn_rocm/lib/python3.10/site-packages/torch_geometric/data/in_memory_dataset.py:300: UserWarning: It is not recommended to directly access the internal storage format `data` of an 'InMemoryDataset'. If you are absolutely certain what you are doing, access the internal storage via `InMemoryDataset._data` instead to suppress this warning. Alternatively, you can access stacked individual attributes of every graph via `dataset.{attr_name}`.\n",
      "  warnings.warn(msg)\n",
      "Processing...\n",
      "Done!\n",
      "/home/calvin/miniforge3/envs/dmpnn_rocm/lib/python3.10/site-packages/torch_geometric/data/in_memory_dataset.py:300: UserWarning: It is not recommended to directly access the internal storage format `data` of an 'InMemoryDataset'. If you are absolutely certain what you are doing, access the internal storage via `InMemoryDataset._data` instead to suppress this warning. Alternatively, you can access stacked individual attributes of every graph via `dataset.{attr_name}`.\n",
      "  warnings.warn(msg)\n",
      "Processing...\n",
      "Done!\n",
      "/home/calvin/miniforge3/envs/dmpnn_rocm/lib/python3.10/site-packages/torch_geometric/data/in_memory_dataset.py:300: UserWarning: It is not recommended to directly access the internal storage format `data` of an 'InMemoryDataset'. If you are absolutely certain what you are doing, access the internal storage via `InMemoryDataset._data` instead to suppress this warning. Alternatively, you can access stacked individual attributes of every graph via `dataset.{attr_name}`.\n",
      "  warnings.warn(msg)\n",
      "Processing...\n",
      "Done!\n",
      "/home/calvin/miniforge3/envs/dmpnn_rocm/lib/python3.10/site-packages/torch_geometric/data/in_memory_dataset.py:300: UserWarning: It is not recommended to directly access the internal storage format `data` of an 'InMemoryDataset'. If you are absolutely certain what you are doing, access the internal storage via `InMemoryDataset._data` instead to suppress this warning. Alternatively, you can access stacked individual attributes of every graph via `dataset.{attr_name}`.\n",
      "  warnings.warn(msg)\n",
      "Processing...\n",
      "Done!\n",
      "/home/calvin/miniforge3/envs/dmpnn_rocm/lib/python3.10/site-packages/torch_geometric/data/in_memory_dataset.py:300: UserWarning: It is not recommended to directly access the internal storage format `data` of an 'InMemoryDataset'. If you are absolutely certain what you are doing, access the internal storage via `InMemoryDataset._data` instead to suppress this warning. Alternatively, you can access stacked individual attributes of every graph via `dataset.{attr_name}`.\n",
      "  warnings.warn(msg)\n",
      "Processing...\n",
      "Done!\n",
      "/home/calvin/miniforge3/envs/dmpnn_rocm/lib/python3.10/site-packages/torch_geometric/data/in_memory_dataset.py:300: UserWarning: It is not recommended to directly access the internal storage format `data` of an 'InMemoryDataset'. If you are absolutely certain what you are doing, access the internal storage via `InMemoryDataset._data` instead to suppress this warning. Alternatively, you can access stacked individual attributes of every graph via `dataset.{attr_name}`.\n",
      "  warnings.warn(msg)\n",
      "Processing...\n",
      "Done!\n",
      "/home/calvin/miniforge3/envs/dmpnn_rocm/lib/python3.10/site-packages/torch_geometric/data/in_memory_dataset.py:300: UserWarning: It is not recommended to directly access the internal storage format `data` of an 'InMemoryDataset'. If you are absolutely certain what you are doing, access the internal storage via `InMemoryDataset._data` instead to suppress this warning. Alternatively, you can access stacked individual attributes of every graph via `dataset.{attr_name}`.\n",
      "  warnings.warn(msg)\n",
      "Processing...\n",
      "Done!\n",
      "/home/calvin/miniforge3/envs/dmpnn_rocm/lib/python3.10/site-packages/torch_geometric/data/in_memory_dataset.py:300: UserWarning: It is not recommended to directly access the internal storage format `data` of an 'InMemoryDataset'. If you are absolutely certain what you are doing, access the internal storage via `InMemoryDataset._data` instead to suppress this warning. Alternatively, you can access stacked individual attributes of every graph via `dataset.{attr_name}`.\n",
      "  warnings.warn(msg)\n",
      "Processing...\n",
      "Done!\n",
      "/home/calvin/miniforge3/envs/dmpnn_rocm/lib/python3.10/site-packages/torch_geometric/data/in_memory_dataset.py:300: UserWarning: It is not recommended to directly access the internal storage format `data` of an 'InMemoryDataset'. If you are absolutely certain what you are doing, access the internal storage via `InMemoryDataset._data` instead to suppress this warning. Alternatively, you can access stacked individual attributes of every graph via `dataset.{attr_name}`.\n",
      "  warnings.warn(msg)\n",
      "Processing...\n",
      "Done!\n",
      "/home/calvin/miniforge3/envs/dmpnn_rocm/lib/python3.10/site-packages/torch_geometric/data/in_memory_dataset.py:300: UserWarning: It is not recommended to directly access the internal storage format `data` of an 'InMemoryDataset'. If you are absolutely certain what you are doing, access the internal storage via `InMemoryDataset._data` instead to suppress this warning. Alternatively, you can access stacked individual attributes of every graph via `dataset.{attr_name}`.\n",
      "  warnings.warn(msg)\n",
      "Processing...\n",
      "Done!\n",
      "/home/calvin/miniforge3/envs/dmpnn_rocm/lib/python3.10/site-packages/torch_geometric/data/in_memory_dataset.py:300: UserWarning: It is not recommended to directly access the internal storage format `data` of an 'InMemoryDataset'. If you are absolutely certain what you are doing, access the internal storage via `InMemoryDataset._data` instead to suppress this warning. Alternatively, you can access stacked individual attributes of every graph via `dataset.{attr_name}`.\n",
      "  warnings.warn(msg)\n",
      "Processing...\n",
      "Done!\n",
      "/home/calvin/miniforge3/envs/dmpnn_rocm/lib/python3.10/site-packages/torch_geometric/data/in_memory_dataset.py:300: UserWarning: It is not recommended to directly access the internal storage format `data` of an 'InMemoryDataset'. If you are absolutely certain what you are doing, access the internal storage via `InMemoryDataset._data` instead to suppress this warning. Alternatively, you can access stacked individual attributes of every graph via `dataset.{attr_name}`.\n",
      "  warnings.warn(msg)\n",
      "Processing...\n",
      "Done!\n",
      "/home/calvin/miniforge3/envs/dmpnn_rocm/lib/python3.10/site-packages/torch_geometric/data/in_memory_dataset.py:300: UserWarning: It is not recommended to directly access the internal storage format `data` of an 'InMemoryDataset'. If you are absolutely certain what you are doing, access the internal storage via `InMemoryDataset._data` instead to suppress this warning. Alternatively, you can access stacked individual attributes of every graph via `dataset.{attr_name}`.\n",
      "  warnings.warn(msg)\n",
      "Processing...\n",
      "Done!\n",
      "/home/calvin/miniforge3/envs/dmpnn_rocm/lib/python3.10/site-packages/torch_geometric/data/in_memory_dataset.py:300: UserWarning: It is not recommended to directly access the internal storage format `data` of an 'InMemoryDataset'. If you are absolutely certain what you are doing, access the internal storage via `InMemoryDataset._data` instead to suppress this warning. Alternatively, you can access stacked individual attributes of every graph via `dataset.{attr_name}`.\n",
      "  warnings.warn(msg)\n",
      "Processing...\n",
      "Done!\n",
      "/home/calvin/miniforge3/envs/dmpnn_rocm/lib/python3.10/site-packages/torch_geometric/data/in_memory_dataset.py:300: UserWarning: It is not recommended to directly access the internal storage format `data` of an 'InMemoryDataset'. If you are absolutely certain what you are doing, access the internal storage via `InMemoryDataset._data` instead to suppress this warning. Alternatively, you can access stacked individual attributes of every graph via `dataset.{attr_name}`.\n",
      "  warnings.warn(msg)\n",
      "Processing...\n",
      "Done!\n",
      "/home/calvin/miniforge3/envs/dmpnn_rocm/lib/python3.10/site-packages/torch_geometric/data/in_memory_dataset.py:300: UserWarning: It is not recommended to directly access the internal storage format `data` of an 'InMemoryDataset'. If you are absolutely certain what you are doing, access the internal storage via `InMemoryDataset._data` instead to suppress this warning. Alternatively, you can access stacked individual attributes of every graph via `dataset.{attr_name}`.\n",
      "  warnings.warn(msg)\n",
      "Processing...\n",
      "Done!\n",
      "/home/calvin/miniforge3/envs/dmpnn_rocm/lib/python3.10/site-packages/torch_geometric/data/in_memory_dataset.py:300: UserWarning: It is not recommended to directly access the internal storage format `data` of an 'InMemoryDataset'. If you are absolutely certain what you are doing, access the internal storage via `InMemoryDataset._data` instead to suppress this warning. Alternatively, you can access stacked individual attributes of every graph via `dataset.{attr_name}`.\n",
      "  warnings.warn(msg)\n",
      "Processing...\n",
      "Done!\n",
      "/home/calvin/miniforge3/envs/dmpnn_rocm/lib/python3.10/site-packages/torch_geometric/data/in_memory_dataset.py:300: UserWarning: It is not recommended to directly access the internal storage format `data` of an 'InMemoryDataset'. If you are absolutely certain what you are doing, access the internal storage via `InMemoryDataset._data` instead to suppress this warning. Alternatively, you can access stacked individual attributes of every graph via `dataset.{attr_name}`.\n",
      "  warnings.warn(msg)\n",
      "Processing...\n",
      "Done!\n",
      "/home/calvin/miniforge3/envs/dmpnn_rocm/lib/python3.10/site-packages/torch_geometric/data/in_memory_dataset.py:300: UserWarning: It is not recommended to directly access the internal storage format `data` of an 'InMemoryDataset'. If you are absolutely certain what you are doing, access the internal storage via `InMemoryDataset._data` instead to suppress this warning. Alternatively, you can access stacked individual attributes of every graph via `dataset.{attr_name}`.\n",
      "  warnings.warn(msg)\n",
      "Processing...\n",
      "Done!\n",
      "/home/calvin/miniforge3/envs/dmpnn_rocm/lib/python3.10/site-packages/torch_geometric/data/in_memory_dataset.py:300: UserWarning: It is not recommended to directly access the internal storage format `data` of an 'InMemoryDataset'. If you are absolutely certain what you are doing, access the internal storage via `InMemoryDataset._data` instead to suppress this warning. Alternatively, you can access stacked individual attributes of every graph via `dataset.{attr_name}`.\n",
      "  warnings.warn(msg)\n",
      "Processing...\n",
      "Done!\n",
      "/home/calvin/miniforge3/envs/dmpnn_rocm/lib/python3.10/site-packages/torch_geometric/data/in_memory_dataset.py:300: UserWarning: It is not recommended to directly access the internal storage format `data` of an 'InMemoryDataset'. If you are absolutely certain what you are doing, access the internal storage via `InMemoryDataset._data` instead to suppress this warning. Alternatively, you can access stacked individual attributes of every graph via `dataset.{attr_name}`.\n",
      "  warnings.warn(msg)\n",
      "Processing...\n",
      "Done!\n",
      "/home/calvin/miniforge3/envs/dmpnn_rocm/lib/python3.10/site-packages/torch_geometric/data/in_memory_dataset.py:300: UserWarning: It is not recommended to directly access the internal storage format `data` of an 'InMemoryDataset'. If you are absolutely certain what you are doing, access the internal storage via `InMemoryDataset._data` instead to suppress this warning. Alternatively, you can access stacked individual attributes of every graph via `dataset.{attr_name}`.\n",
      "  warnings.warn(msg)\n",
      "Processing...\n",
      "Done!\n",
      "/home/calvin/miniforge3/envs/dmpnn_rocm/lib/python3.10/site-packages/torch_geometric/data/in_memory_dataset.py:300: UserWarning: It is not recommended to directly access the internal storage format `data` of an 'InMemoryDataset'. If you are absolutely certain what you are doing, access the internal storage via `InMemoryDataset._data` instead to suppress this warning. Alternatively, you can access stacked individual attributes of every graph via `dataset.{attr_name}`.\n",
      "  warnings.warn(msg)\n",
      "Processing...\n",
      "Done!\n",
      "/home/calvin/miniforge3/envs/dmpnn_rocm/lib/python3.10/site-packages/torch_geometric/data/in_memory_dataset.py:300: UserWarning: It is not recommended to directly access the internal storage format `data` of an 'InMemoryDataset'. If you are absolutely certain what you are doing, access the internal storage via `InMemoryDataset._data` instead to suppress this warning. Alternatively, you can access stacked individual attributes of every graph via `dataset.{attr_name}`.\n",
      "  warnings.warn(msg)\n",
      "Processing...\n",
      "Done!\n",
      "/home/calvin/miniforge3/envs/dmpnn_rocm/lib/python3.10/site-packages/torch_geometric/data/in_memory_dataset.py:300: UserWarning: It is not recommended to directly access the internal storage format `data` of an 'InMemoryDataset'. If you are absolutely certain what you are doing, access the internal storage via `InMemoryDataset._data` instead to suppress this warning. Alternatively, you can access stacked individual attributes of every graph via `dataset.{attr_name}`.\n",
      "  warnings.warn(msg)\n",
      "Processing...\n",
      "Done!\n",
      "/home/calvin/miniforge3/envs/dmpnn_rocm/lib/python3.10/site-packages/torch_geometric/data/in_memory_dataset.py:300: UserWarning: It is not recommended to directly access the internal storage format `data` of an 'InMemoryDataset'. If you are absolutely certain what you are doing, access the internal storage via `InMemoryDataset._data` instead to suppress this warning. Alternatively, you can access stacked individual attributes of every graph via `dataset.{attr_name}`.\n",
      "  warnings.warn(msg)\n",
      "Processing...\n",
      "Done!\n",
      "/home/calvin/miniforge3/envs/dmpnn_rocm/lib/python3.10/site-packages/torch_geometric/data/in_memory_dataset.py:300: UserWarning: It is not recommended to directly access the internal storage format `data` of an 'InMemoryDataset'. If you are absolutely certain what you are doing, access the internal storage via `InMemoryDataset._data` instead to suppress this warning. Alternatively, you can access stacked individual attributes of every graph via `dataset.{attr_name}`.\n",
      "  warnings.warn(msg)\n",
      "Processing...\n",
      "Done!\n",
      "/home/calvin/miniforge3/envs/dmpnn_rocm/lib/python3.10/site-packages/torch_geometric/data/in_memory_dataset.py:300: UserWarning: It is not recommended to directly access the internal storage format `data` of an 'InMemoryDataset'. If you are absolutely certain what you are doing, access the internal storage via `InMemoryDataset._data` instead to suppress this warning. Alternatively, you can access stacked individual attributes of every graph via `dataset.{attr_name}`.\n",
      "  warnings.warn(msg)\n",
      "Processing...\n",
      "Done!\n",
      "/home/calvin/miniforge3/envs/dmpnn_rocm/lib/python3.10/site-packages/torch_geometric/data/in_memory_dataset.py:300: UserWarning: It is not recommended to directly access the internal storage format `data` of an 'InMemoryDataset'. If you are absolutely certain what you are doing, access the internal storage via `InMemoryDataset._data` instead to suppress this warning. Alternatively, you can access stacked individual attributes of every graph via `dataset.{attr_name}`.\n",
      "  warnings.warn(msg)\n",
      "Processing...\n",
      "Done!\n",
      "/home/calvin/miniforge3/envs/dmpnn_rocm/lib/python3.10/site-packages/torch_geometric/data/in_memory_dataset.py:300: UserWarning: It is not recommended to directly access the internal storage format `data` of an 'InMemoryDataset'. If you are absolutely certain what you are doing, access the internal storage via `InMemoryDataset._data` instead to suppress this warning. Alternatively, you can access stacked individual attributes of every graph via `dataset.{attr_name}`.\n",
      "  warnings.warn(msg)\n",
      "Processing...\n",
      "Done!\n",
      "/home/calvin/miniforge3/envs/dmpnn_rocm/lib/python3.10/site-packages/torch_geometric/data/in_memory_dataset.py:300: UserWarning: It is not recommended to directly access the internal storage format `data` of an 'InMemoryDataset'. If you are absolutely certain what you are doing, access the internal storage via `InMemoryDataset._data` instead to suppress this warning. Alternatively, you can access stacked individual attributes of every graph via `dataset.{attr_name}`.\n",
      "  warnings.warn(msg)\n",
      "Processing...\n",
      "Done!\n",
      "/home/calvin/miniforge3/envs/dmpnn_rocm/lib/python3.10/site-packages/torch_geometric/data/in_memory_dataset.py:300: UserWarning: It is not recommended to directly access the internal storage format `data` of an 'InMemoryDataset'. If you are absolutely certain what you are doing, access the internal storage via `InMemoryDataset._data` instead to suppress this warning. Alternatively, you can access stacked individual attributes of every graph via `dataset.{attr_name}`.\n",
      "  warnings.warn(msg)\n",
      "Processing...\n",
      "Processing...\n",
      "Done!\n",
      "/home/calvin/miniforge3/envs/dmpnn_rocm/lib/python3.10/site-packages/torch_geometric/data/in_memory_dataset.py:300: UserWarning: It is not recommended to directly access the internal storage format `data` of an 'InMemoryDataset'. If you are absolutely certain what you are doing, access the internal storage via `InMemoryDataset._data` instead to suppress this warning. Alternatively, you can access stacked individual attributes of every graph via `dataset.{attr_name}`.\n",
      "  warnings.warn(msg)\n",
      "Processing...\n",
      "Done!\n",
      "/home/calvin/miniforge3/envs/dmpnn_rocm/lib/python3.10/site-packages/torch_geometric/data/in_memory_dataset.py:300: UserWarning: It is not recommended to directly access the internal storage format `data` of an 'InMemoryDataset'. If you are absolutely certain what you are doing, access the internal storage via `InMemoryDataset._data` instead to suppress this warning. Alternatively, you can access stacked individual attributes of every graph via `dataset.{attr_name}`.\n",
      "  warnings.warn(msg)\n",
      "Processing...\n",
      "Done!\n",
      "/home/calvin/miniforge3/envs/dmpnn_rocm/lib/python3.10/site-packages/torch_geometric/data/in_memory_dataset.py:300: UserWarning: It is not recommended to directly access the internal storage format `data` of an 'InMemoryDataset'. If you are absolutely certain what you are doing, access the internal storage via `InMemoryDataset._data` instead to suppress this warning. Alternatively, you can access stacked individual attributes of every graph via `dataset.{attr_name}`.\n",
      "  warnings.warn(msg)\n",
      "Processing...\n",
      "Done!\n",
      "/home/calvin/miniforge3/envs/dmpnn_rocm/lib/python3.10/site-packages/torch_geometric/data/in_memory_dataset.py:300: UserWarning: It is not recommended to directly access the internal storage format `data` of an 'InMemoryDataset'. If you are absolutely certain what you are doing, access the internal storage via `InMemoryDataset._data` instead to suppress this warning. Alternatively, you can access stacked individual attributes of every graph via `dataset.{attr_name}`.\n",
      "  warnings.warn(msg)\n",
      "Processing...\n",
      "Done!\n",
      "/home/calvin/miniforge3/envs/dmpnn_rocm/lib/python3.10/site-packages/torch_geometric/data/in_memory_dataset.py:300: UserWarning: It is not recommended to directly access the internal storage format `data` of an 'InMemoryDataset'. If you are absolutely certain what you are doing, access the internal storage via `InMemoryDataset._data` instead to suppress this warning. Alternatively, you can access stacked individual attributes of every graph via `dataset.{attr_name}`.\n",
      "  warnings.warn(msg)\n",
      "Processing...\n",
      "Done!\n",
      "/home/calvin/miniforge3/envs/dmpnn_rocm/lib/python3.10/site-packages/torch_geometric/data/in_memory_dataset.py:300: UserWarning: It is not recommended to directly access the internal storage format `data` of an 'InMemoryDataset'. If you are absolutely certain what you are doing, access the internal storage via `InMemoryDataset._data` instead to suppress this warning. Alternatively, you can access stacked individual attributes of every graph via `dataset.{attr_name}`.\n",
      "  warnings.warn(msg)\n",
      "Processing...\n",
      "Done!\n",
      "/home/calvin/miniforge3/envs/dmpnn_rocm/lib/python3.10/site-packages/torch_geometric/data/in_memory_dataset.py:300: UserWarning: It is not recommended to directly access the internal storage format `data` of an 'InMemoryDataset'. If you are absolutely certain what you are doing, access the internal storage via `InMemoryDataset._data` instead to suppress this warning. Alternatively, you can access stacked individual attributes of every graph via `dataset.{attr_name}`.\n",
      "  warnings.warn(msg)\n",
      "Processing...\n",
      "Done!\n",
      "/home/calvin/miniforge3/envs/dmpnn_rocm/lib/python3.10/site-packages/torch_geometric/data/in_memory_dataset.py:300: UserWarning: It is not recommended to directly access the internal storage format `data` of an 'InMemoryDataset'. If you are absolutely certain what you are doing, access the internal storage via `InMemoryDataset._data` instead to suppress this warning. Alternatively, you can access stacked individual attributes of every graph via `dataset.{attr_name}`.\n",
      "  warnings.warn(msg)\n",
      "Processing...\n",
      "Done!\n",
      "/home/calvin/miniforge3/envs/dmpnn_rocm/lib/python3.10/site-packages/torch_geometric/data/in_memory_dataset.py:300: UserWarning: It is not recommended to directly access the internal storage format `data` of an 'InMemoryDataset'. If you are absolutely certain what you are doing, access the internal storage via `InMemoryDataset._data` instead to suppress this warning. Alternatively, you can access stacked individual attributes of every graph via `dataset.{attr_name}`.\n",
      "  warnings.warn(msg)\n",
      "Processing...\n",
      "Done!\n",
      "/home/calvin/miniforge3/envs/dmpnn_rocm/lib/python3.10/site-packages/torch_geometric/data/in_memory_dataset.py:300: UserWarning: It is not recommended to directly access the internal storage format `data` of an 'InMemoryDataset'. If you are absolutely certain what you are doing, access the internal storage via `InMemoryDataset._data` instead to suppress this warning. Alternatively, you can access stacked individual attributes of every graph via `dataset.{attr_name}`.\n",
      "  warnings.warn(msg)\n",
      "Processing...\n",
      "Done!\n",
      "/home/calvin/miniforge3/envs/dmpnn_rocm/lib/python3.10/site-packages/torch_geometric/data/in_memory_dataset.py:300: UserWarning: It is not recommended to directly access the internal storage format `data` of an 'InMemoryDataset'. If you are absolutely certain what you are doing, access the internal storage via `InMemoryDataset._data` instead to suppress this warning. Alternatively, you can access stacked individual attributes of every graph via `dataset.{attr_name}`.\n",
      "  warnings.warn(msg)\n",
      "Processing...\n",
      "Done!\n",
      "/home/calvin/miniforge3/envs/dmpnn_rocm/lib/python3.10/site-packages/torch_geometric/data/in_memory_dataset.py:300: UserWarning: It is not recommended to directly access the internal storage format `data` of an 'InMemoryDataset'. If you are absolutely certain what you are doing, access the internal storage via `InMemoryDataset._data` instead to suppress this warning. Alternatively, you can access stacked individual attributes of every graph via `dataset.{attr_name}`.\n",
      "  warnings.warn(msg)\n",
      "Processing...\n",
      "Done!\n",
      "/home/calvin/miniforge3/envs/dmpnn_rocm/lib/python3.10/site-packages/torch_geometric/data/in_memory_dataset.py:300: UserWarning: It is not recommended to directly access the internal storage format `data` of an 'InMemoryDataset'. If you are absolutely certain what you are doing, access the internal storage via `InMemoryDataset._data` instead to suppress this warning. Alternatively, you can access stacked individual attributes of every graph via `dataset.{attr_name}`.\n",
      "  warnings.warn(msg)\n",
      "Processing...\n",
      "Done!\n",
      "/home/calvin/miniforge3/envs/dmpnn_rocm/lib/python3.10/site-packages/torch_geometric/data/in_memory_dataset.py:300: UserWarning: It is not recommended to directly access the internal storage format `data` of an 'InMemoryDataset'. If you are absolutely certain what you are doing, access the internal storage via `InMemoryDataset._data` instead to suppress this warning. Alternatively, you can access stacked individual attributes of every graph via `dataset.{attr_name}`.\n",
      "  warnings.warn(msg)\n",
      "Processing...\n",
      "Done!\n",
      "/home/calvin/miniforge3/envs/dmpnn_rocm/lib/python3.10/site-packages/torch_geometric/data/in_memory_dataset.py:300: UserWarning: It is not recommended to directly access the internal storage format `data` of an 'InMemoryDataset'. If you are absolutely certain what you are doing, access the internal storage via `InMemoryDataset._data` instead to suppress this warning. Alternatively, you can access stacked individual attributes of every graph via `dataset.{attr_name}`.\n",
      "  warnings.warn(msg)\n",
      "Processing...\n",
      "Done!\n",
      "/home/calvin/miniforge3/envs/dmpnn_rocm/lib/python3.10/site-packages/torch_geometric/data/in_memory_dataset.py:300: UserWarning: It is not recommended to directly access the internal storage format `data` of an 'InMemoryDataset'. If you are absolutely certain what you are doing, access the internal storage via `InMemoryDataset._data` instead to suppress this warning. Alternatively, you can access stacked individual attributes of every graph via `dataset.{attr_name}`.\n",
      "  warnings.warn(msg)\n",
      "Processing...\n",
      "Done!\n",
      "/home/calvin/miniforge3/envs/dmpnn_rocm/lib/python3.10/site-packages/torch_geometric/data/in_memory_dataset.py:300: UserWarning: It is not recommended to directly access the internal storage format `data` of an 'InMemoryDataset'. If you are absolutely certain what you are doing, access the internal storage via `InMemoryDataset._data` instead to suppress this warning. Alternatively, you can access stacked individual attributes of every graph via `dataset.{attr_name}`.\n",
      "  warnings.warn(msg)\n",
      "Processing...\n",
      "Done!\n",
      "/home/calvin/miniforge3/envs/dmpnn_rocm/lib/python3.10/site-packages/torch_geometric/data/in_memory_dataset.py:300: UserWarning: It is not recommended to directly access the internal storage format `data` of an 'InMemoryDataset'. If you are absolutely certain what you are doing, access the internal storage via `InMemoryDataset._data` instead to suppress this warning. Alternatively, you can access stacked individual attributes of every graph via `dataset.{attr_name}`.\n",
      "  warnings.warn(msg)\n",
      "Processing...\n",
      "Done!\n",
      "/home/calvin/miniforge3/envs/dmpnn_rocm/lib/python3.10/site-packages/torch_geometric/data/in_memory_dataset.py:300: UserWarning: It is not recommended to directly access the internal storage format `data` of an 'InMemoryDataset'. If you are absolutely certain what you are doing, access the internal storage via `InMemoryDataset._data` instead to suppress this warning. Alternatively, you can access stacked individual attributes of every graph via `dataset.{attr_name}`.\n",
      "  warnings.warn(msg)\n",
      "Processing...\n",
      "Done!\n",
      "/home/calvin/miniforge3/envs/dmpnn_rocm/lib/python3.10/site-packages/torch_geometric/data/in_memory_dataset.py:300: UserWarning: It is not recommended to directly access the internal storage format `data` of an 'InMemoryDataset'. If you are absolutely certain what you are doing, access the internal storage via `InMemoryDataset._data` instead to suppress this warning. Alternatively, you can access stacked individual attributes of every graph via `dataset.{attr_name}`.\n",
      "  warnings.warn(msg)\n",
      "Processing...\n",
      "Done!\n",
      "/home/calvin/miniforge3/envs/dmpnn_rocm/lib/python3.10/site-packages/torch_geometric/data/in_memory_dataset.py:300: UserWarning: It is not recommended to directly access the internal storage format `data` of an 'InMemoryDataset'. If you are absolutely certain what you are doing, access the internal storage via `InMemoryDataset._data` instead to suppress this warning. Alternatively, you can access stacked individual attributes of every graph via `dataset.{attr_name}`.\n",
      "  warnings.warn(msg)\n",
      "Processing...\n",
      "Done!\n",
      "/home/calvin/miniforge3/envs/dmpnn_rocm/lib/python3.10/site-packages/torch_geometric/data/in_memory_dataset.py:300: UserWarning: It is not recommended to directly access the internal storage format `data` of an 'InMemoryDataset'. If you are absolutely certain what you are doing, access the internal storage via `InMemoryDataset._data` instead to suppress this warning. Alternatively, you can access stacked individual attributes of every graph via `dataset.{attr_name}`.\n",
      "  warnings.warn(msg)\n",
      "Processing...\n",
      "Done!\n",
      "/home/calvin/miniforge3/envs/dmpnn_rocm/lib/python3.10/site-packages/torch_geometric/data/in_memory_dataset.py:300: UserWarning: It is not recommended to directly access the internal storage format `data` of an 'InMemoryDataset'. If you are absolutely certain what you are doing, access the internal storage via `InMemoryDataset._data` instead to suppress this warning. Alternatively, you can access stacked individual attributes of every graph via `dataset.{attr_name}`.\n",
      "  warnings.warn(msg)\n",
      "Processing...\n",
      "Done!\n",
      "/home/calvin/miniforge3/envs/dmpnn_rocm/lib/python3.10/site-packages/torch_geometric/data/in_memory_dataset.py:300: UserWarning: It is not recommended to directly access the internal storage format `data` of an 'InMemoryDataset'. If you are absolutely certain what you are doing, access the internal storage via `InMemoryDataset._data` instead to suppress this warning. Alternatively, you can access stacked individual attributes of every graph via `dataset.{attr_name}`.\n",
      "  warnings.warn(msg)\n",
      "Processing...\n",
      "Done!\n",
      "/home/calvin/miniforge3/envs/dmpnn_rocm/lib/python3.10/site-packages/torch_geometric/data/in_memory_dataset.py:300: UserWarning: It is not recommended to directly access the internal storage format `data` of an 'InMemoryDataset'. If you are absolutely certain what you are doing, access the internal storage via `InMemoryDataset._data` instead to suppress this warning. Alternatively, you can access stacked individual attributes of every graph via `dataset.{attr_name}`.\n",
      "  warnings.warn(msg)\n",
      "Processing...\n",
      "Done!\n",
      "/home/calvin/miniforge3/envs/dmpnn_rocm/lib/python3.10/site-packages/torch_geometric/data/in_memory_dataset.py:300: UserWarning: It is not recommended to directly access the internal storage format `data` of an 'InMemoryDataset'. If you are absolutely certain what you are doing, access the internal storage via `InMemoryDataset._data` instead to suppress this warning. Alternatively, you can access stacked individual attributes of every graph via `dataset.{attr_name}`.\n",
      "  warnings.warn(msg)\n",
      "Processing...\n",
      "Done!\n",
      "/home/calvin/miniforge3/envs/dmpnn_rocm/lib/python3.10/site-packages/torch_geometric/data/in_memory_dataset.py:300: UserWarning: It is not recommended to directly access the internal storage format `data` of an 'InMemoryDataset'. If you are absolutely certain what you are doing, access the internal storage via `InMemoryDataset._data` instead to suppress this warning. Alternatively, you can access stacked individual attributes of every graph via `dataset.{attr_name}`.\n",
      "  warnings.warn(msg)\n",
      "Processing...\n",
      "Done!\n",
      "/home/calvin/miniforge3/envs/dmpnn_rocm/lib/python3.10/site-packages/torch_geometric/data/in_memory_dataset.py:300: UserWarning: It is not recommended to directly access the internal storage format `data` of an 'InMemoryDataset'. If you are absolutely certain what you are doing, access the internal storage via `InMemoryDataset._data` instead to suppress this warning. Alternatively, you can access stacked individual attributes of every graph via `dataset.{attr_name}`.\n",
      "  warnings.warn(msg)\n",
      "Processing...\n",
      "Done!\n",
      "/home/calvin/miniforge3/envs/dmpnn_rocm/lib/python3.10/site-packages/torch_geometric/data/in_memory_dataset.py:300: UserWarning: It is not recommended to directly access the internal storage format `data` of an 'InMemoryDataset'. If you are absolutely certain what you are doing, access the internal storage via `InMemoryDataset._data` instead to suppress this warning. Alternatively, you can access stacked individual attributes of every graph via `dataset.{attr_name}`.\n",
      "  warnings.warn(msg)\n",
      "Processing...\n",
      "Done!\n",
      "/home/calvin/miniforge3/envs/dmpnn_rocm/lib/python3.10/site-packages/torch_geometric/data/in_memory_dataset.py:300: UserWarning: It is not recommended to directly access the internal storage format `data` of an 'InMemoryDataset'. If you are absolutely certain what you are doing, access the internal storage via `InMemoryDataset._data` instead to suppress this warning. Alternatively, you can access stacked individual attributes of every graph via `dataset.{attr_name}`.\n",
      "  warnings.warn(msg)\n",
      "Processing...\n",
      "Done!\n",
      "/home/calvin/miniforge3/envs/dmpnn_rocm/lib/python3.10/site-packages/torch_geometric/data/in_memory_dataset.py:300: UserWarning: It is not recommended to directly access the internal storage format `data` of an 'InMemoryDataset'. If you are absolutely certain what you are doing, access the internal storage via `InMemoryDataset._data` instead to suppress this warning. Alternatively, you can access stacked individual attributes of every graph via `dataset.{attr_name}`.\n",
      "  warnings.warn(msg)\n",
      "Processing...\n",
      "Done!\n",
      "/home/calvin/miniforge3/envs/dmpnn_rocm/lib/python3.10/site-packages/torch_geometric/data/in_memory_dataset.py:300: UserWarning: It is not recommended to directly access the internal storage format `data` of an 'InMemoryDataset'. If you are absolutely certain what you are doing, access the internal storage via `InMemoryDataset._data` instead to suppress this warning. Alternatively, you can access stacked individual attributes of every graph via `dataset.{attr_name}`.\n",
      "  warnings.warn(msg)\n",
      "Processing...\n",
      "Done!\n",
      "/home/calvin/miniforge3/envs/dmpnn_rocm/lib/python3.10/site-packages/torch_geometric/data/in_memory_dataset.py:300: UserWarning: It is not recommended to directly access the internal storage format `data` of an 'InMemoryDataset'. If you are absolutely certain what you are doing, access the internal storage via `InMemoryDataset._data` instead to suppress this warning. Alternatively, you can access stacked individual attributes of every graph via `dataset.{attr_name}`.\n",
      "  warnings.warn(msg)\n",
      "Processing...\n",
      "Done!\n",
      "/home/calvin/miniforge3/envs/dmpnn_rocm/lib/python3.10/site-packages/torch_geometric/data/in_memory_dataset.py:300: UserWarning: It is not recommended to directly access the internal storage format `data` of an 'InMemoryDataset'. If you are absolutely certain what you are doing, access the internal storage via `InMemoryDataset._data` instead to suppress this warning. Alternatively, you can access stacked individual attributes of every graph via `dataset.{attr_name}`.\n",
      "  warnings.warn(msg)\n",
      "Processing...\n",
      "Done!\n",
      "/home/calvin/miniforge3/envs/dmpnn_rocm/lib/python3.10/site-packages/torch_geometric/data/in_memory_dataset.py:300: UserWarning: It is not recommended to directly access the internal storage format `data` of an 'InMemoryDataset'. If you are absolutely certain what you are doing, access the internal storage via `InMemoryDataset._data` instead to suppress this warning. Alternatively, you can access stacked individual attributes of every graph via `dataset.{attr_name}`.\n",
      "  warnings.warn(msg)\n",
      "Processing...\n",
      "Done!\n",
      "/home/calvin/miniforge3/envs/dmpnn_rocm/lib/python3.10/site-packages/torch_geometric/data/in_memory_dataset.py:300: UserWarning: It is not recommended to directly access the internal storage format `data` of an 'InMemoryDataset'. If you are absolutely certain what you are doing, access the internal storage via `InMemoryDataset._data` instead to suppress this warning. Alternatively, you can access stacked individual attributes of every graph via `dataset.{attr_name}`.\n",
      "  warnings.warn(msg)\n",
      "Processing...\n",
      "Done!\n",
      "/home/calvin/miniforge3/envs/dmpnn_rocm/lib/python3.10/site-packages/torch_geometric/data/in_memory_dataset.py:300: UserWarning: It is not recommended to directly access the internal storage format `data` of an 'InMemoryDataset'. If you are absolutely certain what you are doing, access the internal storage via `InMemoryDataset._data` instead to suppress this warning. Alternatively, you can access stacked individual attributes of every graph via `dataset.{attr_name}`.\n",
      "  warnings.warn(msg)\n",
      "Processing...\n",
      "Done!\n",
      "/home/calvin/miniforge3/envs/dmpnn_rocm/lib/python3.10/site-packages/torch_geometric/data/in_memory_dataset.py:300: UserWarning: It is not recommended to directly access the internal storage format `data` of an 'InMemoryDataset'. If you are absolutely certain what you are doing, access the internal storage via `InMemoryDataset._data` instead to suppress this warning. Alternatively, you can access stacked individual attributes of every graph via `dataset.{attr_name}`.\n",
      "  warnings.warn(msg)\n",
      "Processing...\n",
      "Done!\n",
      "/home/calvin/miniforge3/envs/dmpnn_rocm/lib/python3.10/site-packages/torch_geometric/data/in_memory_dataset.py:300: UserWarning: It is not recommended to directly access the internal storage format `data` of an 'InMemoryDataset'. If you are absolutely certain what you are doing, access the internal storage via `InMemoryDataset._data` instead to suppress this warning. Alternatively, you can access stacked individual attributes of every graph via `dataset.{attr_name}`.\n",
      "  warnings.warn(msg)\n",
      "Processing...\n",
      "Done!\n",
      "/home/calvin/miniforge3/envs/dmpnn_rocm/lib/python3.10/site-packages/torch_geometric/data/in_memory_dataset.py:300: UserWarning: It is not recommended to directly access the internal storage format `data` of an 'InMemoryDataset'. If you are absolutely certain what you are doing, access the internal storage via `InMemoryDataset._data` instead to suppress this warning. Alternatively, you can access stacked individual attributes of every graph via `dataset.{attr_name}`.\n",
      "  warnings.warn(msg)\n",
      "Processing...\n",
      "Done!\n",
      "/home/calvin/miniforge3/envs/dmpnn_rocm/lib/python3.10/site-packages/torch_geometric/data/in_memory_dataset.py:300: UserWarning: It is not recommended to directly access the internal storage format `data` of an 'InMemoryDataset'. If you are absolutely certain what you are doing, access the internal storage via `InMemoryDataset._data` instead to suppress this warning. Alternatively, you can access stacked individual attributes of every graph via `dataset.{attr_name}`.\n",
      "  warnings.warn(msg)\n",
      "Processing...\n",
      "Done!\n",
      "/home/calvin/miniforge3/envs/dmpnn_rocm/lib/python3.10/site-packages/torch_geometric/data/in_memory_dataset.py:300: UserWarning: It is not recommended to directly access the internal storage format `data` of an 'InMemoryDataset'. If you are absolutely certain what you are doing, access the internal storage via `InMemoryDataset._data` instead to suppress this warning. Alternatively, you can access stacked individual attributes of every graph via `dataset.{attr_name}`.\n",
      "  warnings.warn(msg)\n",
      "Processing...\n",
      "Done!\n",
      "/home/calvin/miniforge3/envs/dmpnn_rocm/lib/python3.10/site-packages/torch_geometric/data/in_memory_dataset.py:300: UserWarning: It is not recommended to directly access the internal storage format `data` of an 'InMemoryDataset'. If you are absolutely certain what you are doing, access the internal storage via `InMemoryDataset._data` instead to suppress this warning. Alternatively, you can access stacked individual attributes of every graph via `dataset.{attr_name}`.\n",
      "  warnings.warn(msg)\n",
      "Processing...\n",
      "Done!\n",
      "/home/calvin/miniforge3/envs/dmpnn_rocm/lib/python3.10/site-packages/torch_geometric/data/in_memory_dataset.py:300: UserWarning: It is not recommended to directly access the internal storage format `data` of an 'InMemoryDataset'. If you are absolutely certain what you are doing, access the internal storage via `InMemoryDataset._data` instead to suppress this warning. Alternatively, you can access stacked individual attributes of every graph via `dataset.{attr_name}`.\n",
      "  warnings.warn(msg)\n",
      "Processing...\n"
     ]
    },
    {
     "name": "stdout",
     "output_type": "stream",
     "text": [
      "Repeat 1 Fold 1 → RMSE: 4.371\n",
      "Repeat 1 Fold 2 → RMSE: 4.323\n",
      "Repeat 1 Fold 3 → RMSE: 3.990\n",
      "Repeat 1 Fold 4 → RMSE: 4.069\n",
      "Repeat 1 Fold 5 → RMSE: 4.293\n",
      "Repeat 2 Fold 1 → RMSE: 4.403\n",
      "Repeat 2 Fold 2 → RMSE: 4.279\n",
      "Repeat 2 Fold 3 → RMSE: 4.150\n",
      "Repeat 2 Fold 4 → RMSE: 4.182\n",
      "Repeat 2 Fold 5 → RMSE: 4.183\n",
      "Repeat 3 Fold 1 → RMSE: 4.365\n",
      "Repeat 3 Fold 2 → RMSE: 4.267\n",
      "Repeat 3 Fold 3 → RMSE: 4.122\n",
      "Repeat 3 Fold 4 → RMSE: 4.011\n",
      "Repeat 3 Fold 5 → RMSE: 4.125\n",
      "Repeat 4 Fold 1 → RMSE: 4.400\n",
      "Repeat 4 Fold 2 → RMSE: 4.264\n",
      "Repeat 4 Fold 3 → RMSE: 4.019\n",
      "Repeat 4 Fold 4 → RMSE: 4.105\n",
      "Repeat 4 Fold 5 → RMSE: 4.243\n",
      "Repeat 5 Fold 1 → RMSE: 4.361\n",
      "Repeat 5 Fold 2 → RMSE: 4.247\n",
      "Repeat 5 Fold 3 → RMSE: 4.137\n",
      "Repeat 5 Fold 4 → RMSE: 4.101\n",
      "Repeat 5 Fold 5 → RMSE: 4.209\n"
     ]
    },
    {
     "name": "stderr",
     "output_type": "stream",
     "text": [
      "Done!\n",
      "/home/calvin/miniforge3/envs/dmpnn_rocm/lib/python3.10/site-packages/torch_geometric/data/in_memory_dataset.py:300: UserWarning: It is not recommended to directly access the internal storage format `data` of an 'InMemoryDataset'. If you are absolutely certain what you are doing, access the internal storage via `InMemoryDataset._data` instead to suppress this warning. Alternatively, you can access stacked individual attributes of every graph via `dataset.{attr_name}`.\n",
      "  warnings.warn(msg)\n",
      "Processing...\n",
      "Done!\n",
      "/home/calvin/miniforge3/envs/dmpnn_rocm/lib/python3.10/site-packages/torch_geometric/data/in_memory_dataset.py:300: UserWarning: It is not recommended to directly access the internal storage format `data` of an 'InMemoryDataset'. If you are absolutely certain what you are doing, access the internal storage via `InMemoryDataset._data` instead to suppress this warning. Alternatively, you can access stacked individual attributes of every graph via `dataset.{attr_name}`.\n",
      "  warnings.warn(msg)\n"
     ]
    }
   ],
   "source": [
    "import pandas as pd\n",
    "from preprocessing import (\n",
    "    scaffold_cross_validation_repeated,\n",
    "    StandardScaler\n",
    ")\n",
    "from dataset import CMPNNDataset\n",
    "from model import CMPNNEncoder, FFNHead\n",
    "from torch_geometric.loader import DataLoader\n",
    "from torch_geometric.data import Batch\n",
    "import torch, numpy as np\n",
    "\n",
    "# load full dataset\n",
    "df = pd.read_csv('raw/SAMPL.csv')\n",
    "\n",
    "# get 5 repeats × 5 folds each\n",
    "all_splits = scaffold_cross_validation_repeated(df, n_splits=5, n_repeats=5, seed=42)\n",
    "\n",
    "results = []\n",
    "for repeat_idx, folds in enumerate(all_splits, start=1):\n",
    "    for fold_idx, (train_df, test_df) in enumerate(folds, start=1):\n",
    "        # fit scaler only on train targets\n",
    "        scaler = StandardScaler().fit(train_df.y.values)\n",
    "        train_df['y'] = scaler.transform(train_df.y.values)\n",
    "        test_df ['y'] = scaler.transform(test_df.y.values)\n",
    "        # save splits (or pass DataFrames directly to a custom Dataset)\n",
    "        train_df.to_csv('raw/train.csv', index=False)\n",
    "        test_df .to_csv('raw/test.csv',  index=False)\n",
    "\n",
    "        # load & train\n",
    "        train_ds = CMPNNDataset(root='.', csv_file='train.csv')\n",
    "        test_ds  = CMPNNDataset(root='.', csv_file='test.csv')\n",
    "        loader   = DataLoader(train_ds, batch_size=32, shuffle=True, collate_fn=Batch.from_data_list)\n",
    "        model    = CMPNNEncoder(127,12,hidden_dim=128,num_steps=5).to(device)\n",
    "        head     = FFNHead(256,64,1).to(device)\n",
    "        optimizer= torch.optim.Adam(list(model.parameters())+list(head.parameters()), lr=1e-3, weight_decay=1e-5)\n",
    "        criterion= torch.nn.MSELoss()\n",
    "\n",
    "        # (run your train loop here, tracking best weights)\n",
    "        # …\n",
    "\n",
    "        # final evaluation on test split (undo scaling)\n",
    "        model.eval(); head.eval()\n",
    "        y_pred_s, y_true_s = [], []\n",
    "        with torch.no_grad():\n",
    "            for batch in DataLoader(test_ds, batch_size=32, collate_fn=Batch.from_data_list):\n",
    "                batch = batch.to(device)\n",
    "                z     = model.embed(batch.x, batch.edge_index, batch.edge_attr, batch.batch)\n",
    "                y_s   = head(z).view(-1).cpu().numpy()\n",
    "                y_true_s.append(batch.y.cpu().numpy())\n",
    "                y_pred_s.append(y_s)\n",
    "        y_pred = scaler.inverse_transform(np.concatenate(y_pred_s))\n",
    "        y_true = scaler.inverse_transform(np.concatenate(y_true_s))\n",
    "        rmse = np.sqrt(((y_pred - y_true)**2).mean())\n",
    "        results.append((repeat_idx, fold_idx, rmse))\n",
    "\n",
    "# summarize\n",
    "for r,f,rmse in results:\n",
    "    print(f'Repeat {r} Fold {f} → RMSE: {rmse:.3f}')"
   ]
  },
  {
   "cell_type": "code",
   "execution_count": 49,
   "id": "5e05396b",
   "metadata": {},
   "outputs": [],
   "source": [
    "import os, uuid\n",
    "from pathlib import Path\n",
    "Path('raw').mkdir(exist_ok=True)          # make sure ./raw exists\n",
    "\n",
    "def df_to_dataset(df):\n",
    "    \"\"\"Write *inside* ./raw and build a CMPNNDataset that can find it.\"\"\"\n",
    "    fname = f'tmp_{uuid.uuid4().hex}.csv'\n",
    "    path  = os.path.join('raw', fname)    # <-- write into ./raw\n",
    "    df.to_csv(path, index=False)\n",
    "    return CMPNNDataset(root='.', csv_file=fname)\n"
   ]
  },
  {
   "cell_type": "code",
   "execution_count": 51,
   "id": "0c6958af",
   "metadata": {},
   "outputs": [
    {
     "name": "stderr",
     "output_type": "stream",
     "text": [
      "Processing...\n",
      "Done!\n",
      "Processing...\n",
      "Done!\n",
      "Processing...\n",
      "Done!\n"
     ]
    },
    {
     "name": "stdout",
     "output_type": "stream",
     "text": [
      "Repeat 1  Fold 1  RMSE = 2.065 kcal/mol\n"
     ]
    },
    {
     "name": "stderr",
     "output_type": "stream",
     "text": [
      "Processing...\n",
      "Done!\n",
      "Processing...\n",
      "Done!\n",
      "Processing...\n",
      "Done!\n"
     ]
    },
    {
     "name": "stdout",
     "output_type": "stream",
     "text": [
      "Repeat 1  Fold 2  RMSE = 2.047 kcal/mol\n"
     ]
    },
    {
     "name": "stderr",
     "output_type": "stream",
     "text": [
      "Processing...\n",
      "Done!\n",
      "Processing...\n",
      "Done!\n",
      "Processing...\n",
      "Done!\n"
     ]
    },
    {
     "name": "stdout",
     "output_type": "stream",
     "text": [
      "Repeat 1  Fold 3  RMSE = 2.407 kcal/mol\n"
     ]
    },
    {
     "name": "stderr",
     "output_type": "stream",
     "text": [
      "Processing...\n",
      "Done!\n",
      "Processing...\n",
      "Done!\n",
      "Processing...\n",
      "Done!\n",
      "Done!\n"
     ]
    },
    {
     "name": "stdout",
     "output_type": "stream",
     "text": [
      "Repeat 1  Fold 4  RMSE = 3.925 kcal/mol\n"
     ]
    },
    {
     "name": "stderr",
     "output_type": "stream",
     "text": [
      "Processing...\n",
      "Done!\n",
      "Processing...\n",
      "Done!\n",
      "Processing...\n",
      "Done!\n"
     ]
    },
    {
     "name": "stdout",
     "output_type": "stream",
     "text": [
      "Repeat 1  Fold 5  RMSE = 3.053 kcal/mol\n"
     ]
    },
    {
     "name": "stderr",
     "output_type": "stream",
     "text": [
      "Processing...\n",
      "Done!\n",
      "Processing...\n",
      "Done!\n",
      "Processing...\n",
      "Done!\n",
      "Done!\n"
     ]
    },
    {
     "name": "stdout",
     "output_type": "stream",
     "text": [
      "Repeat 2  Fold 1  RMSE = 2.837 kcal/mol\n"
     ]
    },
    {
     "name": "stderr",
     "output_type": "stream",
     "text": [
      "Processing...\n",
      "Done!\n",
      "Processing...\n",
      "Done!\n",
      "Processing...\n",
      "Done!\n"
     ]
    },
    {
     "name": "stdout",
     "output_type": "stream",
     "text": [
      "Repeat 2  Fold 2  RMSE = 2.138 kcal/mol\n"
     ]
    },
    {
     "name": "stderr",
     "output_type": "stream",
     "text": [
      "Processing...\n",
      "Done!\n",
      "Processing...\n",
      "Done!\n",
      "Processing...\n",
      "Done!\n"
     ]
    },
    {
     "name": "stdout",
     "output_type": "stream",
     "text": [
      "Repeat 2  Fold 3  RMSE = 3.176 kcal/mol\n"
     ]
    },
    {
     "name": "stderr",
     "output_type": "stream",
     "text": [
      "Processing...\n",
      "Done!\n",
      "Processing...\n",
      "Done!\n",
      "Processing...\n",
      "Done!\n"
     ]
    },
    {
     "name": "stdout",
     "output_type": "stream",
     "text": [
      "Repeat 2  Fold 4  RMSE = 3.432 kcal/mol\n"
     ]
    },
    {
     "name": "stderr",
     "output_type": "stream",
     "text": [
      "Processing...\n",
      "Done!\n",
      "Processing...\n",
      "Done!\n",
      "Processing...\n",
      "Done!\n"
     ]
    },
    {
     "name": "stdout",
     "output_type": "stream",
     "text": [
      "Repeat 2  Fold 5  RMSE = 2.522 kcal/mol\n"
     ]
    },
    {
     "name": "stderr",
     "output_type": "stream",
     "text": [
      "Processing...\n",
      "Done!\n",
      "Processing...\n",
      "Done!\n",
      "Processing...\n",
      "Done!\n"
     ]
    },
    {
     "name": "stdout",
     "output_type": "stream",
     "text": [
      "Repeat 3  Fold 1  RMSE = 2.485 kcal/mol\n"
     ]
    },
    {
     "name": "stderr",
     "output_type": "stream",
     "text": [
      "Processing...\n",
      "Done!\n",
      "Processing...\n",
      "Done!\n",
      "Processing...\n",
      "Done!\n"
     ]
    },
    {
     "name": "stdout",
     "output_type": "stream",
     "text": [
      "Repeat 3  Fold 2  RMSE = 2.197 kcal/mol\n"
     ]
    },
    {
     "name": "stderr",
     "output_type": "stream",
     "text": [
      "Processing...\n",
      "Done!\n",
      "Processing...\n",
      "Done!\n",
      "Processing...\n",
      "Done!\n"
     ]
    },
    {
     "name": "stdout",
     "output_type": "stream",
     "text": [
      "Repeat 3  Fold 3  RMSE = 2.823 kcal/mol\n"
     ]
    },
    {
     "name": "stderr",
     "output_type": "stream",
     "text": [
      "Processing...\n",
      "Done!\n",
      "Processing...\n",
      "Done!\n",
      "Processing...\n",
      "Done!\n"
     ]
    },
    {
     "name": "stdout",
     "output_type": "stream",
     "text": [
      "Repeat 3  Fold 4  RMSE = 3.820 kcal/mol\n"
     ]
    },
    {
     "name": "stderr",
     "output_type": "stream",
     "text": [
      "Processing...\n",
      "Done!\n",
      "Processing...\n",
      "Done!\n",
      "Processing...\n",
      "Done!\n"
     ]
    },
    {
     "name": "stdout",
     "output_type": "stream",
     "text": [
      "Repeat 3  Fold 5  RMSE = 2.493 kcal/mol\n"
     ]
    },
    {
     "name": "stderr",
     "output_type": "stream",
     "text": [
      "Processing...\n",
      "Done!\n",
      "Processing...\n",
      "Done!\n",
      "Processing...\n",
      "Done!\n"
     ]
    },
    {
     "name": "stdout",
     "output_type": "stream",
     "text": [
      "Repeat 4  Fold 1  RMSE = 2.991 kcal/mol\n"
     ]
    },
    {
     "name": "stderr",
     "output_type": "stream",
     "text": [
      "Processing...\n",
      "Done!\n",
      "Processing...\n",
      "Done!\n",
      "Processing...\n",
      "Done!\n"
     ]
    },
    {
     "name": "stdout",
     "output_type": "stream",
     "text": [
      "Repeat 4  Fold 2  RMSE = 2.268 kcal/mol\n"
     ]
    },
    {
     "name": "stderr",
     "output_type": "stream",
     "text": [
      "Processing...\n",
      "Done!\n",
      "Processing...\n",
      "Done!\n",
      "Processing...\n",
      "Done!\n"
     ]
    },
    {
     "name": "stdout",
     "output_type": "stream",
     "text": [
      "Repeat 4  Fold 3  RMSE = 2.870 kcal/mol\n"
     ]
    },
    {
     "name": "stderr",
     "output_type": "stream",
     "text": [
      "Processing...\n",
      "Done!\n",
      "Processing...\n",
      "Done!\n",
      "Processing...\n",
      "Done!\n"
     ]
    },
    {
     "name": "stdout",
     "output_type": "stream",
     "text": [
      "Repeat 4  Fold 4  RMSE = 3.778 kcal/mol\n"
     ]
    },
    {
     "name": "stderr",
     "output_type": "stream",
     "text": [
      "Processing...\n",
      "Done!\n",
      "Processing...\n",
      "Done!\n",
      "Processing...\n",
      "Done!\n"
     ]
    },
    {
     "name": "stdout",
     "output_type": "stream",
     "text": [
      "Repeat 4  Fold 5  RMSE = 2.267 kcal/mol\n"
     ]
    },
    {
     "name": "stderr",
     "output_type": "stream",
     "text": [
      "Processing...\n",
      "Done!\n",
      "Processing...\n",
      "Done!\n",
      "Processing...\n",
      "Done!\n"
     ]
    },
    {
     "name": "stdout",
     "output_type": "stream",
     "text": [
      "Repeat 5  Fold 1  RMSE = 2.243 kcal/mol\n"
     ]
    },
    {
     "name": "stderr",
     "output_type": "stream",
     "text": [
      "Processing...\n",
      "Done!\n",
      "Processing...\n",
      "Done!\n",
      "Processing...\n",
      "Done!\n"
     ]
    },
    {
     "name": "stdout",
     "output_type": "stream",
     "text": [
      "Repeat 5  Fold 2  RMSE = 2.112 kcal/mol\n"
     ]
    },
    {
     "name": "stderr",
     "output_type": "stream",
     "text": [
      "Processing...\n",
      "Done!\n",
      "Processing...\n",
      "Done!\n",
      "Processing...\n",
      "Done!\n"
     ]
    },
    {
     "name": "stdout",
     "output_type": "stream",
     "text": [
      "Repeat 5  Fold 3  RMSE = 3.023 kcal/mol\n"
     ]
    },
    {
     "name": "stderr",
     "output_type": "stream",
     "text": [
      "Processing...\n",
      "Done!\n",
      "Processing...\n",
      "Done!\n",
      "Processing...\n",
      "Done!\n"
     ]
    },
    {
     "name": "stdout",
     "output_type": "stream",
     "text": [
      "Repeat 5  Fold 4  RMSE = 3.594 kcal/mol\n"
     ]
    },
    {
     "name": "stderr",
     "output_type": "stream",
     "text": [
      "Processing...\n",
      "Done!\n",
      "Processing...\n",
      "Done!\n",
      "Processing...\n",
      "Done!\n"
     ]
    },
    {
     "name": "stdout",
     "output_type": "stream",
     "text": [
      "Repeat 5  Fold 5  RMSE = 2.336 kcal/mol\n",
      "── summary ───────────────────────────────────────────────────\n",
      "Mean RMSE  2.756 ± 0.581 kcal/mol\n"
     ]
    }
   ],
   "source": [
    "import pandas as pd, numpy as np, torch, torch.nn as nn\n",
    "from torch_geometric.loader import DataLoader\n",
    "from torch_geometric.data import Batch\n",
    "from preprocessing import scaffold_cross_validation_repeated, StandardScaler\n",
    "from dataset       import CMPNNDataset\n",
    "from model         import CMPNNEncoder, FFNHead\n",
    "\n",
    "device = torch.device('cuda' if torch.cuda.is_available() else 'cpu')\n",
    "\n",
    "def split_train_val(df, valid_ratio=0.1, seed=0):\n",
    "    \"\"\"Random 90/10 split that keeps scaffolds in train (ok for inner val).\"\"\"\n",
    "    rng = np.random.RandomState(seed)\n",
    "    perm = rng.permutation(len(df))\n",
    "    k = int(len(df) * (1 - valid_ratio))\n",
    "    return df.iloc[perm[:k]].reset_index(drop=True), df.iloc[perm[k:]].reset_index(drop=True)\n",
    "\n",
    "def train_one_fold(train_df, test_df, seed):\n",
    "    # ── scale targets on train only ────────────────────────────────\n",
    "    scaler = StandardScaler().fit(train_df.y.values)\n",
    "    for df in (train_df, test_df):\n",
    "        df.loc[:, 'y'] = scaler.transform(df.y.values)\n",
    "\n",
    "    # inner val split\n",
    "    train_df, val_df = split_train_val(train_df, valid_ratio=0.1, seed=seed)\n",
    "\n",
    "    # ── datasets & loaders ─────────────────────────────────────────\n",
    "    def ds_from(df): return CMPNNDataset(dataframe=df)\n",
    "    ds_tr, ds_val, ds_te = map(df_to_dataset, (train_df, val_df, test_df))\n",
    "\n",
    "\n",
    "    L  = lambda d, bs, sh: DataLoader(d, bs, sh, collate_fn=Batch.from_data_list)\n",
    "    ld_tr, ld_val, ld_te = L(ds_tr, 32, True), L(ds_val, 64, False), L(ds_te, 64, False)\n",
    "\n",
    "    # ── model, head, optimiser ─────────────────────────────────────\n",
    "    torch.manual_seed(seed)\n",
    "    model = CMPNNEncoder(127, 12, hidden_dim=256, num_steps=4,\n",
    "                         dropout=0.0, readout='sum',\n",
    "                         use_booster=False).to(device)\n",
    "    head  = FFNHead(256, 256, 1, dropout=0.0).to(device)\n",
    "    opt   = torch.optim.Adam(\n",
    "             list(model.parameters())+list(head.parameters()),\n",
    "             lr=2e-4, weight_decay=5e-6)\n",
    "    criterion = nn.MSELoss()\n",
    "\n",
    "    # ── train with early-stopping ──────────────────────────────────\n",
    "    best_val, best_w, patience, PATIENCE = float('inf'), None, 0, 25\n",
    "    for epoch in range(200):                    # hard cap\n",
    "        model.train(); head.train()\n",
    "        for batch in ld_tr:\n",
    "            batch = batch.to(device)\n",
    "            opt.zero_grad()\n",
    "            z = model.embed(batch.x, batch.edge_index, batch.edge_attr, batch.batch)\n",
    "            loss = criterion(head(z).view(-1), batch.y.view(-1))\n",
    "            loss.backward(); torch.nn.utils.clip_grad_norm_(model.parameters(), 5.0)\n",
    "            opt.step()\n",
    "        # validation\n",
    "        model.eval(); head.eval()\n",
    "        val_mse, n = 0.0, 0\n",
    "        with torch.no_grad():\n",
    "            for batch in ld_val:\n",
    "                batch = batch.to(device)\n",
    "                z = model.embed(batch.x, batch.edge_index, batch.edge_attr, batch.batch)\n",
    "                val_mse += criterion(head(z).view(-1), batch.y.view(-1)).item()*batch.num_graphs\n",
    "                n += batch.num_graphs\n",
    "        val_mse /= n\n",
    "        if val_mse < best_val:\n",
    "            best_val, patience, best_w = val_mse, 0, (model.state_dict(), head.state_dict())\n",
    "        else:\n",
    "            patience += 1\n",
    "            if patience >= PATIENCE:\n",
    "                break\n",
    "\n",
    "    # ── test evaluation (real units) ───────────────────────────────\n",
    "    model.load_state_dict(best_w[0]); head.load_state_dict(best_w[1])\n",
    "    model.eval(); head.eval()\n",
    "    yp, yt = [], []\n",
    "    with torch.no_grad():\n",
    "        for batch in ld_te:\n",
    "            batch = batch.to(device)\n",
    "            z = model.embed(batch.x, batch.edge_index, batch.edge_attr, batch.batch)\n",
    "            yp.append(head(z).view(-1).cpu().numpy())\n",
    "            yt.append(batch.y.cpu().numpy())\n",
    "    yp = scaler.inverse_transform(np.concatenate(yp))\n",
    "    yt = scaler.inverse_transform(np.concatenate(yt))\n",
    "    rmse = np.sqrt(((yp - yt) ** 2).mean())\n",
    "    return rmse\n",
    "\n",
    "# ── 5 × 5 scaffold CV ──────────────────────────────────────────────\n",
    "full_df = pd.read_csv('raw/SAMPL.csv')\n",
    "results = []\n",
    "for rep, folds in enumerate(scaffold_cross_validation_repeated(full_df, 5, 5), 1):\n",
    "    for fold, (train_df, test_df) in enumerate(folds, 1):\n",
    "        rmse = train_one_fold(train_df, test_df, seed=1000*rep+fold)\n",
    "        results.append(rmse)\n",
    "        print(f'Repeat {rep}  Fold {fold}  RMSE = {rmse:.3f} kcal/mol')\n",
    "\n",
    "print('── summary ───────────────────────────────────────────────────')\n",
    "print(f'Mean RMSE  {np.mean(results):.3f} ± {np.std(results):.3f} kcal/mol')\n"
   ]
  },
  {
   "cell_type": "code",
   "execution_count": null,
   "id": "37e6fcb7",
   "metadata": {},
   "outputs": [],
   "source": []
  }
 ],
 "metadata": {
  "kernelspec": {
   "display_name": "dmpnn_rocm",
   "language": "python",
   "name": "python3"
  },
  "language_info": {
   "codemirror_mode": {
    "name": "ipython",
    "version": 3
   },
   "file_extension": ".py",
   "mimetype": "text/x-python",
   "name": "python",
   "nbconvert_exporter": "python",
   "pygments_lexer": "ipython3",
   "version": "3.10.16"
  }
 },
 "nbformat": 4,
 "nbformat_minor": 5
}
