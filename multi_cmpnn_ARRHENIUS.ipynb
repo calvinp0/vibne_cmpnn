{
 "cells": [
  {
   "cell_type": "code",
   "execution_count": 1,
   "id": "87dba866",
   "metadata": {},
   "outputs": [],
   "source": [
    "%load_ext autoreload\n",
    "%autoreload 2\n",
    "\n",
    "import os\n",
    "\n",
    "import pandas as pd\n",
    "from pytorch_lightning import Trainer\n",
    "from pl_module import CMPNNLitModel, MultiCMPNNLitModel\n",
    "from dataset import CMPNNDataset, MultiCMPNNDataset, MultiCMPNNDatasetSDF, CMPNNDataModule\n",
    "from preprocessing import scaffold_split_indices, random_split_indices\n",
    "from torch_geometric.loader import DataLoader\n",
    "from torch_geometric.data import Batch\n",
    "from torch.utils.data import Subset\n",
    "from global_feat import CompositeGlobalFeaturizer, MorganBinaryFeaturizer, RDKit2DNormalizedFeaturizer"
   ]
  },
  {
   "cell_type": "code",
   "execution_count": 2,
   "id": "85e817a8",
   "metadata": {},
   "outputs": [],
   "source": [
    "sdf_path = '/home/calvin/code/chemprop_phd_customised/habnet/data/processed/sdf_data'\n",
    "target_data = '/home/calvin/code/chemprop_phd_customised/habnet/data/processed/target_data/kinetics_summary.csv'\n",
    "assert os.path.exists(sdf_path), f\"SDF path does not exist: {sdf_path}\"\n",
    "assert os.path.exists(target_data), f\"Target data file does not exist: {target_data}\""
   ]
  },
  {
   "cell_type": "code",
   "execution_count": 3,
   "id": "49047e96",
   "metadata": {},
   "outputs": [],
   "source": [
    "out_csv   = '/home/calvin/code/chemprop_phd_customised/habnet/data/processed/target_data/temp_target_kinetic_data.csv'\n"
   ]
  },
  {
   "cell_type": "code",
   "execution_count": 4,
   "id": "54f444e5",
   "metadata": {},
   "outputs": [],
   "source": [
    "root = \".\"\n",
    "sdf_dir = \"/home/calvin/code/chemprop_phd_customised/habnet/data/processed/sdf_data/\"\n",
    "targets = out_csv\n",
    "target_cols  = ['A_log10','n', 'Ea_yj']\n",
    "target_types = {'A_log10': 'continuous', 'n': 'continuous', 'Ea_yj': 'continuous'}"
   ]
  },
  {
   "cell_type": "code",
   "execution_count": 5,
   "id": "ccddc10a",
   "metadata": {},
   "outputs": [
    {
     "name": "stderr",
     "output_type": "stream",
     "text": [
      "Processing...\n",
      "/home/calvin/code/vibe_cmpnn/dataset.py:514: UserWarning: No target row for reaction 'rmg_rxn_1130' – skipped\n",
      "  warnings.warn(f\"No target row for reaction '{rxn}' – skipped\")\n",
      "/home/calvin/code/vibe_cmpnn/dataset.py:514: UserWarning: No target row for reaction 'rmg_rxn_1141' – skipped\n",
      "  warnings.warn(f\"No target row for reaction '{rxn}' – skipped\")\n",
      "/home/calvin/code/vibe_cmpnn/dataset.py:514: UserWarning: No target row for reaction 'rmg_rxn_1162' – skipped\n",
      "  warnings.warn(f\"No target row for reaction '{rxn}' – skipped\")\n",
      "/home/calvin/code/vibe_cmpnn/dataset.py:514: UserWarning: No target row for reaction 'rmg_rxn_1337' – skipped\n",
      "  warnings.warn(f\"No target row for reaction '{rxn}' – skipped\")\n",
      "/home/calvin/code/vibe_cmpnn/dataset.py:514: UserWarning: No target row for reaction 'rmg_rxn_14' – skipped\n",
      "  warnings.warn(f\"No target row for reaction '{rxn}' – skipped\")\n",
      "/home/calvin/code/vibe_cmpnn/dataset.py:514: UserWarning: No target row for reaction 'rmg_rxn_1454' – skipped\n",
      "  warnings.warn(f\"No target row for reaction '{rxn}' – skipped\")\n",
      "/home/calvin/code/vibe_cmpnn/dataset.py:514: UserWarning: No target row for reaction 'rmg_rxn_1492' – skipped\n",
      "  warnings.warn(f\"No target row for reaction '{rxn}' – skipped\")\n",
      "/home/calvin/code/vibe_cmpnn/dataset.py:514: UserWarning: No target row for reaction 'rmg_rxn_1496' – skipped\n",
      "  warnings.warn(f\"No target row for reaction '{rxn}' – skipped\")\n",
      "/home/calvin/code/vibe_cmpnn/dataset.py:514: UserWarning: No target row for reaction 'rmg_rxn_15' – skipped\n",
      "  warnings.warn(f\"No target row for reaction '{rxn}' – skipped\")\n",
      "/home/calvin/code/vibe_cmpnn/dataset.py:514: UserWarning: No target row for reaction 'rmg_rxn_151' – skipped\n",
      "  warnings.warn(f\"No target row for reaction '{rxn}' – skipped\")\n",
      "/home/calvin/code/vibe_cmpnn/dataset.py:514: UserWarning: No target row for reaction 'rmg_rxn_1532' – skipped\n",
      "  warnings.warn(f\"No target row for reaction '{rxn}' – skipped\")\n",
      "/home/calvin/code/vibe_cmpnn/dataset.py:514: UserWarning: No target row for reaction 'rmg_rxn_15371' – skipped\n",
      "  warnings.warn(f\"No target row for reaction '{rxn}' – skipped\")\n",
      "/home/calvin/code/vibe_cmpnn/dataset.py:514: UserWarning: No target row for reaction 'rmg_rxn_15397' – skipped\n",
      "  warnings.warn(f\"No target row for reaction '{rxn}' – skipped\")\n",
      "/home/calvin/code/vibe_cmpnn/dataset.py:514: UserWarning: No target row for reaction 'rmg_rxn_15418' – skipped\n",
      "  warnings.warn(f\"No target row for reaction '{rxn}' – skipped\")\n",
      "/home/calvin/code/vibe_cmpnn/dataset.py:514: UserWarning: No target row for reaction 'rmg_rxn_15565' – skipped\n",
      "  warnings.warn(f\"No target row for reaction '{rxn}' – skipped\")\n",
      "/home/calvin/code/vibe_cmpnn/dataset.py:514: UserWarning: No target row for reaction 'rmg_rxn_15591' – skipped\n",
      "  warnings.warn(f\"No target row for reaction '{rxn}' – skipped\")\n",
      "/home/calvin/code/vibe_cmpnn/dataset.py:514: UserWarning: No target row for reaction 'rmg_rxn_15612' – skipped\n",
      "  warnings.warn(f\"No target row for reaction '{rxn}' – skipped\")\n",
      "/home/calvin/code/vibe_cmpnn/dataset.py:514: UserWarning: No target row for reaction 'rmg_rxn_16491' – skipped\n",
      "  warnings.warn(f\"No target row for reaction '{rxn}' – skipped\")\n",
      "/home/calvin/code/vibe_cmpnn/dataset.py:514: UserWarning: No target row for reaction 'rmg_rxn_16513' – skipped\n",
      "  warnings.warn(f\"No target row for reaction '{rxn}' – skipped\")\n",
      "/home/calvin/code/vibe_cmpnn/dataset.py:514: UserWarning: No target row for reaction 'rmg_rxn_16522' – skipped\n",
      "  warnings.warn(f\"No target row for reaction '{rxn}' – skipped\")\n",
      "/home/calvin/code/vibe_cmpnn/dataset.py:514: UserWarning: No target row for reaction 'rmg_rxn_16785' – skipped\n",
      "  warnings.warn(f\"No target row for reaction '{rxn}' – skipped\")\n",
      "/home/calvin/code/vibe_cmpnn/dataset.py:514: UserWarning: No target row for reaction 'rmg_rxn_16791' – skipped\n",
      "  warnings.warn(f\"No target row for reaction '{rxn}' – skipped\")\n",
      "/home/calvin/code/vibe_cmpnn/dataset.py:514: UserWarning: No target row for reaction 'rmg_rxn_169' – skipped\n",
      "  warnings.warn(f\"No target row for reaction '{rxn}' – skipped\")\n",
      "/home/calvin/code/vibe_cmpnn/dataset.py:514: UserWarning: No target row for reaction 'rmg_rxn_188' – skipped\n",
      "  warnings.warn(f\"No target row for reaction '{rxn}' – skipped\")\n",
      "/home/calvin/code/vibe_cmpnn/dataset.py:514: UserWarning: No target row for reaction 'rmg_rxn_207' – skipped\n",
      "  warnings.warn(f\"No target row for reaction '{rxn}' – skipped\")\n",
      "/home/calvin/code/vibe_cmpnn/dataset.py:514: UserWarning: No target row for reaction 'rmg_rxn_21' – skipped\n",
      "  warnings.warn(f\"No target row for reaction '{rxn}' – skipped\")\n",
      "/home/calvin/code/vibe_cmpnn/dataset.py:514: UserWarning: No target row for reaction 'rmg_rxn_227' – skipped\n",
      "  warnings.warn(f\"No target row for reaction '{rxn}' – skipped\")\n",
      "/home/calvin/code/vibe_cmpnn/dataset.py:514: UserWarning: No target row for reaction 'rmg_rxn_248' – skipped\n",
      "  warnings.warn(f\"No target row for reaction '{rxn}' – skipped\")\n",
      "/home/calvin/code/vibe_cmpnn/dataset.py:514: UserWarning: No target row for reaction 'rmg_rxn_270' – skipped\n",
      "  warnings.warn(f\"No target row for reaction '{rxn}' – skipped\")\n",
      "/home/calvin/code/vibe_cmpnn/dataset.py:514: UserWarning: No target row for reaction 'rmg_rxn_28' – skipped\n",
      "  warnings.warn(f\"No target row for reaction '{rxn}' – skipped\")\n",
      "/home/calvin/code/vibe_cmpnn/dataset.py:514: UserWarning: No target row for reaction 'rmg_rxn_293' – skipped\n",
      "  warnings.warn(f\"No target row for reaction '{rxn}' – skipped\")\n",
      "/home/calvin/code/vibe_cmpnn/dataset.py:514: UserWarning: No target row for reaction 'rmg_rxn_3' – skipped\n",
      "  warnings.warn(f\"No target row for reaction '{rxn}' – skipped\")\n",
      "/home/calvin/code/vibe_cmpnn/dataset.py:514: UserWarning: No target row for reaction 'rmg_rxn_36' – skipped\n",
      "  warnings.warn(f\"No target row for reaction '{rxn}' – skipped\")\n",
      "/home/calvin/code/vibe_cmpnn/dataset.py:514: UserWarning: No target row for reaction 'rmg_rxn_364' – skipped\n",
      "  warnings.warn(f\"No target row for reaction '{rxn}' – skipped\")\n",
      "/home/calvin/code/vibe_cmpnn/dataset.py:514: UserWarning: No target row for reaction 'rmg_rxn_370' – skipped\n",
      "  warnings.warn(f\"No target row for reaction '{rxn}' – skipped\")\n",
      "/home/calvin/code/vibe_cmpnn/dataset.py:514: UserWarning: No target row for reaction 'rmg_rxn_371' – skipped\n",
      "  warnings.warn(f\"No target row for reaction '{rxn}' – skipped\")\n",
      "/home/calvin/code/vibe_cmpnn/dataset.py:514: UserWarning: No target row for reaction 'rmg_rxn_374' – skipped\n",
      "  warnings.warn(f\"No target row for reaction '{rxn}' – skipped\")\n",
      "/home/calvin/code/vibe_cmpnn/dataset.py:514: UserWarning: No target row for reaction 'rmg_rxn_376' – skipped\n",
      "  warnings.warn(f\"No target row for reaction '{rxn}' – skipped\")\n",
      "/home/calvin/code/vibe_cmpnn/dataset.py:514: UserWarning: No target row for reaction 'rmg_rxn_377' – skipped\n",
      "  warnings.warn(f\"No target row for reaction '{rxn}' – skipped\")\n",
      "/home/calvin/code/vibe_cmpnn/dataset.py:514: UserWarning: No target row for reaction 'rmg_rxn_379' – skipped\n",
      "  warnings.warn(f\"No target row for reaction '{rxn}' – skipped\")\n",
      "/home/calvin/code/vibe_cmpnn/dataset.py:514: UserWarning: No target row for reaction 'rmg_rxn_381' – skipped\n",
      "  warnings.warn(f\"No target row for reaction '{rxn}' – skipped\")\n",
      "/home/calvin/code/vibe_cmpnn/dataset.py:514: UserWarning: No target row for reaction 'rmg_rxn_382' – skipped\n",
      "  warnings.warn(f\"No target row for reaction '{rxn}' – skipped\")\n",
      "/home/calvin/code/vibe_cmpnn/dataset.py:514: UserWarning: No target row for reaction 'rmg_rxn_383' – skipped\n",
      "  warnings.warn(f\"No target row for reaction '{rxn}' – skipped\")\n",
      "/home/calvin/code/vibe_cmpnn/dataset.py:514: UserWarning: No target row for reaction 'rmg_rxn_384' – skipped\n",
      "  warnings.warn(f\"No target row for reaction '{rxn}' – skipped\")\n",
      "/home/calvin/code/vibe_cmpnn/dataset.py:514: UserWarning: No target row for reaction 'rmg_rxn_387' – skipped\n",
      "  warnings.warn(f\"No target row for reaction '{rxn}' – skipped\")\n",
      "/home/calvin/code/vibe_cmpnn/dataset.py:514: UserWarning: No target row for reaction 'rmg_rxn_388' – skipped\n",
      "  warnings.warn(f\"No target row for reaction '{rxn}' – skipped\")\n",
      "/home/calvin/code/vibe_cmpnn/dataset.py:514: UserWarning: No target row for reaction 'rmg_rxn_390' – skipped\n",
      "  warnings.warn(f\"No target row for reaction '{rxn}' – skipped\")\n",
      "/home/calvin/code/vibe_cmpnn/dataset.py:514: UserWarning: No target row for reaction 'rmg_rxn_391' – skipped\n",
      "  warnings.warn(f\"No target row for reaction '{rxn}' – skipped\")\n",
      "/home/calvin/code/vibe_cmpnn/dataset.py:514: UserWarning: No target row for reaction 'rmg_rxn_392' – skipped\n",
      "  warnings.warn(f\"No target row for reaction '{rxn}' – skipped\")\n",
      "/home/calvin/code/vibe_cmpnn/dataset.py:514: UserWarning: No target row for reaction 'rmg_rxn_394' – skipped\n",
      "  warnings.warn(f\"No target row for reaction '{rxn}' – skipped\")\n",
      "/home/calvin/code/vibe_cmpnn/dataset.py:514: UserWarning: No target row for reaction 'rmg_rxn_395' – skipped\n",
      "  warnings.warn(f\"No target row for reaction '{rxn}' – skipped\")\n",
      "/home/calvin/code/vibe_cmpnn/dataset.py:514: UserWarning: No target row for reaction 'rmg_rxn_396' – skipped\n",
      "  warnings.warn(f\"No target row for reaction '{rxn}' – skipped\")\n",
      "/home/calvin/code/vibe_cmpnn/dataset.py:514: UserWarning: No target row for reaction 'rmg_rxn_4' – skipped\n",
      "  warnings.warn(f\"No target row for reaction '{rxn}' – skipped\")\n",
      "/home/calvin/code/vibe_cmpnn/dataset.py:514: UserWarning: No target row for reaction 'rmg_rxn_498' – skipped\n",
      "  warnings.warn(f\"No target row for reaction '{rxn}' – skipped\")\n",
      "/home/calvin/code/vibe_cmpnn/dataset.py:514: UserWarning: No target row for reaction 'rmg_rxn_499' – skipped\n",
      "  warnings.warn(f\"No target row for reaction '{rxn}' – skipped\")\n",
      "/home/calvin/code/vibe_cmpnn/dataset.py:514: UserWarning: No target row for reaction 'rmg_rxn_500' – skipped\n",
      "  warnings.warn(f\"No target row for reaction '{rxn}' – skipped\")\n",
      "/home/calvin/code/vibe_cmpnn/dataset.py:514: UserWarning: No target row for reaction 'rmg_rxn_501' – skipped\n",
      "  warnings.warn(f\"No target row for reaction '{rxn}' – skipped\")\n",
      "/home/calvin/code/vibe_cmpnn/dataset.py:514: UserWarning: No target row for reaction 'rmg_rxn_504' – skipped\n",
      "  warnings.warn(f\"No target row for reaction '{rxn}' – skipped\")\n",
      "/home/calvin/code/vibe_cmpnn/dataset.py:514: UserWarning: No target row for reaction 'rmg_rxn_505' – skipped\n",
      "  warnings.warn(f\"No target row for reaction '{rxn}' – skipped\")\n",
      "/home/calvin/code/vibe_cmpnn/dataset.py:514: UserWarning: No target row for reaction 'rmg_rxn_506' – skipped\n",
      "  warnings.warn(f\"No target row for reaction '{rxn}' – skipped\")\n",
      "/home/calvin/code/vibe_cmpnn/dataset.py:514: UserWarning: No target row for reaction 'rmg_rxn_507' – skipped\n",
      "  warnings.warn(f\"No target row for reaction '{rxn}' – skipped\")\n",
      "/home/calvin/code/vibe_cmpnn/dataset.py:514: UserWarning: No target row for reaction 'rmg_rxn_508' – skipped\n",
      "  warnings.warn(f\"No target row for reaction '{rxn}' – skipped\")\n",
      "/home/calvin/code/vibe_cmpnn/dataset.py:514: UserWarning: No target row for reaction 'rmg_rxn_509' – skipped\n",
      "  warnings.warn(f\"No target row for reaction '{rxn}' – skipped\")\n",
      "/home/calvin/code/vibe_cmpnn/dataset.py:514: UserWarning: No target row for reaction 'rmg_rxn_511' – skipped\n",
      "  warnings.warn(f\"No target row for reaction '{rxn}' – skipped\")\n",
      "/home/calvin/code/vibe_cmpnn/dataset.py:514: UserWarning: No target row for reaction 'rmg_rxn_512' – skipped\n",
      "  warnings.warn(f\"No target row for reaction '{rxn}' – skipped\")\n",
      "/home/calvin/code/vibe_cmpnn/dataset.py:514: UserWarning: No target row for reaction 'rmg_rxn_513' – skipped\n",
      "  warnings.warn(f\"No target row for reaction '{rxn}' – skipped\")\n",
      "/home/calvin/code/vibe_cmpnn/dataset.py:514: UserWarning: No target row for reaction 'rmg_rxn_53' – skipped\n",
      "  warnings.warn(f\"No target row for reaction '{rxn}' – skipped\")\n",
      "/home/calvin/code/vibe_cmpnn/dataset.py:514: UserWarning: No target row for reaction 'rmg_rxn_55' – skipped\n",
      "  warnings.warn(f\"No target row for reaction '{rxn}' – skipped\")\n",
      "/home/calvin/code/vibe_cmpnn/dataset.py:514: UserWarning: No target row for reaction 'rmg_rxn_550' – skipped\n",
      "  warnings.warn(f\"No target row for reaction '{rxn}' – skipped\")\n",
      "/home/calvin/code/vibe_cmpnn/dataset.py:514: UserWarning: No target row for reaction 'rmg_rxn_6' – skipped\n",
      "  warnings.warn(f\"No target row for reaction '{rxn}' – skipped\")\n",
      "/home/calvin/code/vibe_cmpnn/dataset.py:514: UserWarning: No target row for reaction 'rmg_rxn_642' – skipped\n",
      "  warnings.warn(f\"No target row for reaction '{rxn}' – skipped\")\n",
      "/home/calvin/code/vibe_cmpnn/dataset.py:514: UserWarning: No target row for reaction 'rmg_rxn_648' – skipped\n",
      "  warnings.warn(f\"No target row for reaction '{rxn}' – skipped\")\n",
      "/home/calvin/code/vibe_cmpnn/dataset.py:514: UserWarning: No target row for reaction 'rmg_rxn_652' – skipped\n",
      "  warnings.warn(f\"No target row for reaction '{rxn}' – skipped\")\n",
      "/home/calvin/code/vibe_cmpnn/dataset.py:514: UserWarning: No target row for reaction 'rmg_rxn_678' – skipped\n",
      "  warnings.warn(f\"No target row for reaction '{rxn}' – skipped\")\n",
      "/home/calvin/code/vibe_cmpnn/dataset.py:514: UserWarning: No target row for reaction 'rmg_rxn_688' – skipped\n",
      "  warnings.warn(f\"No target row for reaction '{rxn}' – skipped\")\n",
      "/home/calvin/code/vibe_cmpnn/dataset.py:514: UserWarning: No target row for reaction 'rmg_rxn_76' – skipped\n",
      "  warnings.warn(f\"No target row for reaction '{rxn}' – skipped\")\n",
      "/home/calvin/code/vibe_cmpnn/dataset.py:514: UserWarning: No target row for reaction 'rmg_rxn_760' – skipped\n",
      "  warnings.warn(f\"No target row for reaction '{rxn}' – skipped\")\n",
      "/home/calvin/code/vibe_cmpnn/dataset.py:514: UserWarning: No target row for reaction 'rmg_rxn_89' – skipped\n",
      "  warnings.warn(f\"No target row for reaction '{rxn}' – skipped\")\n",
      "/home/calvin/code/vibe_cmpnn/dataset.py:514: UserWarning: No target row for reaction 'rxn_1222' – skipped\n",
      "  warnings.warn(f\"No target row for reaction '{rxn}' – skipped\")\n",
      "/home/calvin/code/vibe_cmpnn/dataset.py:514: UserWarning: No target row for reaction 'rxn_131' – skipped\n",
      "  warnings.warn(f\"No target row for reaction '{rxn}' – skipped\")\n",
      "/home/calvin/code/vibe_cmpnn/dataset.py:514: UserWarning: No target row for reaction 'rxn_132' – skipped\n",
      "  warnings.warn(f\"No target row for reaction '{rxn}' – skipped\")\n",
      "/home/calvin/code/vibe_cmpnn/dataset.py:514: UserWarning: No target row for reaction 'rxn_133' – skipped\n",
      "  warnings.warn(f\"No target row for reaction '{rxn}' – skipped\")\n",
      "/home/calvin/code/vibe_cmpnn/dataset.py:514: UserWarning: No target row for reaction 'rxn_135' – skipped\n",
      "  warnings.warn(f\"No target row for reaction '{rxn}' – skipped\")\n",
      "/home/calvin/code/vibe_cmpnn/dataset.py:514: UserWarning: No target row for reaction 'rxn_139' – skipped\n",
      "  warnings.warn(f\"No target row for reaction '{rxn}' – skipped\")\n",
      "/home/calvin/code/vibe_cmpnn/dataset.py:514: UserWarning: No target row for reaction 'rxn_143' – skipped\n",
      "  warnings.warn(f\"No target row for reaction '{rxn}' – skipped\")\n",
      "/home/calvin/code/vibe_cmpnn/dataset.py:514: UserWarning: No target row for reaction 'rxn_144' – skipped\n",
      "  warnings.warn(f\"No target row for reaction '{rxn}' – skipped\")\n",
      "/home/calvin/code/vibe_cmpnn/dataset.py:514: UserWarning: No target row for reaction 'rxn_147' – skipped\n",
      "  warnings.warn(f\"No target row for reaction '{rxn}' – skipped\")\n",
      "/home/calvin/code/vibe_cmpnn/dataset.py:514: UserWarning: No target row for reaction 'rxn_149' – skipped\n",
      "  warnings.warn(f\"No target row for reaction '{rxn}' – skipped\")\n",
      "/home/calvin/code/vibe_cmpnn/dataset.py:514: UserWarning: No target row for reaction 'rxn_151' – skipped\n",
      "  warnings.warn(f\"No target row for reaction '{rxn}' – skipped\")\n",
      "/home/calvin/code/vibe_cmpnn/dataset.py:514: UserWarning: No target row for reaction 'rxn_153' – skipped\n",
      "  warnings.warn(f\"No target row for reaction '{rxn}' – skipped\")\n",
      "/home/calvin/code/vibe_cmpnn/dataset.py:514: UserWarning: No target row for reaction 'rxn_155' – skipped\n",
      "  warnings.warn(f\"No target row for reaction '{rxn}' – skipped\")\n",
      "/home/calvin/code/vibe_cmpnn/dataset.py:514: UserWarning: No target row for reaction 'rxn_161' – skipped\n",
      "  warnings.warn(f\"No target row for reaction '{rxn}' – skipped\")\n",
      "/home/calvin/code/vibe_cmpnn/dataset.py:514: UserWarning: No target row for reaction 'rxn_166' – skipped\n",
      "  warnings.warn(f\"No target row for reaction '{rxn}' – skipped\")\n",
      "/home/calvin/code/vibe_cmpnn/dataset.py:514: UserWarning: No target row for reaction 'rxn_168' – skipped\n",
      "  warnings.warn(f\"No target row for reaction '{rxn}' – skipped\")\n",
      "/home/calvin/code/vibe_cmpnn/dataset.py:514: UserWarning: No target row for reaction 'rxn_170' – skipped\n",
      "  warnings.warn(f\"No target row for reaction '{rxn}' – skipped\")\n",
      "/home/calvin/code/vibe_cmpnn/dataset.py:514: UserWarning: No target row for reaction 'rxn_193' – skipped\n",
      "  warnings.warn(f\"No target row for reaction '{rxn}' – skipped\")\n",
      "/home/calvin/code/vibe_cmpnn/dataset.py:514: UserWarning: No target row for reaction 'rxn_225' – skipped\n",
      "  warnings.warn(f\"No target row for reaction '{rxn}' – skipped\")\n",
      "/home/calvin/code/vibe_cmpnn/dataset.py:514: UserWarning: No target row for reaction 'rxn_230' – skipped\n",
      "  warnings.warn(f\"No target row for reaction '{rxn}' – skipped\")\n",
      "/home/calvin/code/vibe_cmpnn/dataset.py:514: UserWarning: No target row for reaction 'rxn_233' – skipped\n",
      "  warnings.warn(f\"No target row for reaction '{rxn}' – skipped\")\n",
      "/home/calvin/code/vibe_cmpnn/dataset.py:514: UserWarning: No target row for reaction 'rxn_264' – skipped\n",
      "  warnings.warn(f\"No target row for reaction '{rxn}' – skipped\")\n",
      "/home/calvin/code/vibe_cmpnn/dataset.py:514: UserWarning: No target row for reaction 'rxn_265' – skipped\n",
      "  warnings.warn(f\"No target row for reaction '{rxn}' – skipped\")\n",
      "/home/calvin/code/vibe_cmpnn/dataset.py:514: UserWarning: No target row for reaction 'rxn_266' – skipped\n",
      "  warnings.warn(f\"No target row for reaction '{rxn}' – skipped\")\n",
      "/home/calvin/code/vibe_cmpnn/dataset.py:514: UserWarning: No target row for reaction 'rxn_342' – skipped\n",
      "  warnings.warn(f\"No target row for reaction '{rxn}' – skipped\")\n",
      "/home/calvin/code/vibe_cmpnn/dataset.py:514: UserWarning: No target row for reaction 'rxn_42' – skipped\n",
      "  warnings.warn(f\"No target row for reaction '{rxn}' – skipped\")\n",
      "/home/calvin/code/vibe_cmpnn/dataset.py:514: UserWarning: No target row for reaction 'rxn_52' – skipped\n",
      "  warnings.warn(f\"No target row for reaction '{rxn}' – skipped\")\n",
      "/home/calvin/code/vibe_cmpnn/dataset.py:514: UserWarning: No target row for reaction 'rxn_673' – skipped\n",
      "  warnings.warn(f\"No target row for reaction '{rxn}' – skipped\")\n",
      "/home/calvin/code/vibe_cmpnn/dataset.py:514: UserWarning: No target row for reaction 'rxn_683' – skipped\n",
      "  warnings.warn(f\"No target row for reaction '{rxn}' – skipped\")\n",
      "/home/calvin/code/vibe_cmpnn/dataset.py:514: UserWarning: No target row for reaction 'rxn_691' – skipped\n",
      "  warnings.warn(f\"No target row for reaction '{rxn}' – skipped\")\n",
      "/home/calvin/code/vibe_cmpnn/dataset.py:514: UserWarning: No target row for reaction 'rxn_776' – skipped\n",
      "  warnings.warn(f\"No target row for reaction '{rxn}' – skipped\")\n",
      "/home/calvin/code/vibe_cmpnn/dataset.py:514: UserWarning: No target row for reaction 'rxn_781' – skipped\n",
      "  warnings.warn(f\"No target row for reaction '{rxn}' – skipped\")\n",
      "/home/calvin/code/vibe_cmpnn/dataset.py:514: UserWarning: No target row for reaction 'rxn_92' – skipped\n",
      "  warnings.warn(f\"No target row for reaction '{rxn}' – skipped\")\n",
      "Done!\n"
     ]
    }
   ],
   "source": [
    "\n",
    "ds = MultiCMPNNDatasetSDF(\n",
    "    root,\n",
    "    sdf_files=sdf_dir,\n",
    "    target_df=targets,\n",
    "    target_cols=target_cols,\n",
    "    target_types=target_types,\n",
    "    atom_messages=True,\n",
    "    keep_hs=True,\n",
    "    sanitize=False,\n",
    "    force_reload=True,\n",
    "    prune_value=-10,\n",
    "    # global_featurizer= CompositeGlobalFeaturizer(\n",
    "    #     featurizers=[\n",
    "    #         MorganBinaryFeaturizer(radius=2, length=2048),\n",
    "    #         RDKit2DNormalizedFeaturizer(),\n",
    "    #     ]\n",
    "    # ),\n",
    "    # pre_transform=PeriodicToSinCosGaussianJitter(target_cols, target_types, radians = False, ignore_val=-10, max_jitter_deg = 10)\n",
    ")"
   ]
  },
  {
   "cell_type": "code",
   "execution_count": 6,
   "id": "cbb4cc9c",
   "metadata": {},
   "outputs": [
    {
     "data": {
      "text/plain": [
       "(Data(x=[7, 133], edge_index=[2, 14], edge_attr=[14, 12], y=[3], name='r1h', reaction='kfir_rxn_10218'),\n",
       " Data(x=[8, 133], edge_index=[2, 14], edge_attr=[14, 12], y=[3], name='r2h', reaction='kfir_rxn_10218'))"
      ]
     },
     "execution_count": 6,
     "metadata": {},
     "output_type": "execute_result"
    }
   ],
   "source": [
    "ds[0]"
   ]
  },
  {
   "cell_type": "code",
   "execution_count": 7,
   "id": "aa340326",
   "metadata": {},
   "outputs": [
    {
     "name": "stdout",
     "output_type": "stream",
     "text": [
      "train: 1359, val: 170, test: 170\n"
     ]
    }
   ],
   "source": [
    "train_idx, val_idx, test_idx = random_split_indices(ds, 0.1, 0.1)\n",
    "\n",
    "print(f\"train: {len(train_idx)}, val: {len(val_idx)}, test: {len(test_idx)}\")"
   ]
  },
  {
   "cell_type": "code",
   "execution_count": 8,
   "id": "160b3ae1",
   "metadata": {},
   "outputs": [
    {
     "data": {
      "text/plain": [
       "(tensor([-2.6576e+00,  4.3149e+00,  3.8700e-04]),\n",
       " tensor([3.2817, 0.8044, 1.0247]),\n",
       " tensor([]))"
      ]
     },
     "execution_count": 8,
     "metadata": {},
     "output_type": "execute_result"
    }
   ],
   "source": [
    "ds.compute_normalization(train_idx)"
   ]
  },
  {
   "cell_type": "code",
   "execution_count": 9,
   "id": "dc8a4960",
   "metadata": {},
   "outputs": [],
   "source": [
    "ds.apply_normalization()"
   ]
  },
  {
   "cell_type": "code",
   "execution_count": 10,
   "id": "3699bbe2",
   "metadata": {},
   "outputs": [],
   "source": [
    "train_ds = Subset(ds, train_idx)\n",
    "val_ds   = Subset(ds, val_idx)\n",
    "test_ds  = Subset(ds, test_idx)"
   ]
  },
  {
   "cell_type": "code",
   "execution_count": 11,
   "id": "d8bc4ffa",
   "metadata": {},
   "outputs": [],
   "source": [
    "from utils_paired import collate_pairs\n",
    "# Use pytorch pure data loader\n",
    "from torch.utils.data import DataLoader\n",
    "# 7) create dataloaders\n",
    "train_loader = DataLoader(train_ds, batch_size=64, shuffle=True, collate_fn=collate_pairs)\n",
    "val_loader = DataLoader(val_ds, batch_size=32, shuffle=False, collate_fn=collate_pairs)\n",
    "test_loader = DataLoader(test_ds, batch_size=32, shuffle=False, collate_fn=collate_pairs)"
   ]
  },
  {
   "cell_type": "code",
   "execution_count": 12,
   "id": "774c82ec",
   "metadata": {},
   "outputs": [
    {
     "name": "stdout",
     "output_type": "stream",
     "text": [
      "<class 'abc.DataBatch'> 8\n"
     ]
    },
    {
     "data": {
      "text/plain": [
       "tensor([[ 0.3258, -0.4802, -0.7364],\n",
       "        [ 0.3258, -0.4802, -0.7364],\n",
       "        [-0.6540,  0.5385, -0.0953],\n",
       "        [-0.6540,  0.5385, -0.0953],\n",
       "        [ 0.7273, -0.7758, -1.3326],\n",
       "        [ 0.7273, -0.7758, -1.3326],\n",
       "        [ 1.3823, -0.9251, -1.1318],\n",
       "        [ 1.3823, -0.9251, -1.1318]])"
      ]
     },
     "execution_count": 12,
     "metadata": {},
     "output_type": "execute_result"
    }
   ],
   "source": [
    "from utils_paired import collate_pairs\n",
    "# Use pytorch pure data loader\n",
    "from torch.utils.data import DataLoader\n",
    "# 7) create dataloaders\n",
    "train_loader = DataLoader(train_ds, batch_size=64, shuffle=True, collate_fn=collate_pairs)\n",
    "val_loader = DataLoader(val_ds, batch_size=32, shuffle=False, collate_fn=collate_pairs)\n",
    "test_loader = DataLoader(test_ds, batch_size=32, shuffle=False, collate_fn=collate_pairs)\n",
    "sample_pairs = [train_ds[i] for i in range(4)]   # 4 tuple-pairs\n",
    "batch        = collate_pairs(sample_pairs)       # now returns one Batch\n",
    "print(type(batch), batch.num_graphs)             # Batch 8\n",
    "\n",
    "batch.num_graphs\n",
    "batch.y"
   ]
  },
  {
   "cell_type": "code",
   "execution_count": 13,
   "id": "322a9b55",
   "metadata": {},
   "outputs": [],
   "source": [
    "from torchmetrics import MeanSquaredError, MeanAbsoluteError, R2Score\n",
    "# Check device\n",
    "import torch\n",
    "device = \"cuda\" if torch.cuda.is_available() else \"cpu\""
   ]
  },
  {
   "cell_type": "code",
   "execution_count": 14,
   "id": "c2c6a1e8",
   "metadata": {},
   "outputs": [
    {
     "data": {
      "text/plain": [
       "tensor([-2.6576e+00,  4.3149e+00,  3.8700e-04])"
      ]
     },
     "execution_count": 14,
     "metadata": {},
     "output_type": "execute_result"
    }
   ],
   "source": [
    "ds.mean"
   ]
  },
  {
   "cell_type": "code",
   "execution_count": 15,
   "id": "b9198995",
   "metadata": {},
   "outputs": [
    {
     "data": {
      "text/plain": [
       "tensor([3.2817, 0.8044, 1.0247])"
      ]
     },
     "execution_count": 15,
     "metadata": {},
     "output_type": "execute_result"
    }
   ],
   "source": [
    "ds.std"
   ]
  },
  {
   "cell_type": "code",
   "execution_count": 52,
   "id": "ca9819d6",
   "metadata": {},
   "outputs": [
    {
     "name": "stdout",
     "output_type": "stream",
     "text": [
      ">>> Model class created\n"
     ]
    },
    {
     "ename": "TypeError",
     "evalue": "metrics.CMPNNMetric.__init__() got multiple values for keyword argument 'alias'",
     "output_type": "error",
     "traceback": [
      "\u001b[0;31m---------------------------------------------------------------------------\u001b[0m",
      "\u001b[0;31mTypeError\u001b[0m                                 Traceback (most recent call last)",
      "Cell \u001b[0;32mIn[52], line 15\u001b[0m\n\u001b[1;32m      1\u001b[0m \u001b[38;5;28;01mfrom\u001b[39;00m\u001b[38;5;250m \u001b[39m\u001b[38;5;21;01mmetrics\u001b[39;00m\u001b[38;5;250m \u001b[39m\u001b[38;5;28;01mimport\u001b[39;00m MSE, RMSE, R2Score, MAE, AngularError, SinCosMSELoss, AngularMSELoss, PinballLoss\n\u001b[1;32m      2\u001b[0m \u001b[38;5;28mprint\u001b[39m(\u001b[38;5;124m\"\u001b[39m\u001b[38;5;124m>>> Model class created\u001b[39m\u001b[38;5;124m\"\u001b[39m)\n\u001b[1;32m      3\u001b[0m model \u001b[38;5;241m=\u001b[39m MultiCMPNNLitModel(\n\u001b[1;32m      4\u001b[0m     in_node_feats\u001b[38;5;241m=\u001b[39mds\u001b[38;5;241m.\u001b[39mnum_atom_features,\n\u001b[1;32m      5\u001b[0m     in_edge_feats\u001b[38;5;241m=\u001b[39mds\u001b[38;5;241m.\u001b[39mnum_bond_features,\n\u001b[1;32m      6\u001b[0m     \u001b[38;5;66;03m# in_global_feats=ds.global_feature_dim,\u001b[39;00m\n\u001b[1;32m      7\u001b[0m     hidden_dim\u001b[38;5;241m=\u001b[39m\u001b[38;5;241m1024\u001b[39m,\n\u001b[1;32m      8\u001b[0m     num_steps\u001b[38;5;241m=\u001b[39m\u001b[38;5;241m3\u001b[39m,\n\u001b[1;32m      9\u001b[0m     dropout_mp\u001b[38;5;241m=\u001b[39m\u001b[38;5;241m0.1\u001b[39m,\n\u001b[1;32m     10\u001b[0m     dropout_head\u001b[38;5;241m=\u001b[39m\u001b[38;5;241m0.1\u001b[39m,\n\u001b[1;32m     11\u001b[0m     n_tasks\u001b[38;5;241m=\u001b[39m\u001b[38;5;241m3\u001b[39m,\n\u001b[1;32m     12\u001b[0m     \u001b[38;5;66;03m#metrics=[AngularError()],\u001b[39;00m\n\u001b[1;32m     13\u001b[0m     metrics \u001b[38;5;241m=\u001b[39m [\n\u001b[1;32m     14\u001b[0m     MSE (task_weights\u001b[38;5;241m=\u001b[39m[\u001b[38;5;241m10\u001b[39m,\u001b[38;5;241m1\u001b[39m,\u001b[38;5;241m1\u001b[39m]),          \u001b[38;5;66;03m# primary mean loss\u001b[39;00m\n\u001b[0;32m---> 15\u001b[0m     \u001b[43mPinballLoss\u001b[49m\u001b[43m(\u001b[49m\u001b[43mq\u001b[49m\u001b[38;5;241;43m=\u001b[39;49m\u001b[38;5;241;43m0.9\u001b[39;49m\u001b[43m,\u001b[49m\u001b[43m \u001b[49m\u001b[43mtask_weights\u001b[49m\u001b[38;5;241;43m=\u001b[39;49m\u001b[43m[\u001b[49m\u001b[38;5;241;43m10\u001b[39;49m\u001b[43m,\u001b[49m\u001b[38;5;241;43m1\u001b[39;49m\u001b[43m,\u001b[49m\u001b[38;5;241;43m1\u001b[39;49m\u001b[43m]\u001b[49m\u001b[43m,\u001b[49m\u001b[43m \u001b[49m\u001b[43malias\u001b[49m\u001b[38;5;241;43m=\u001b[39;49m\u001b[38;5;124;43m'\u001b[39;49m\u001b[38;5;124;43mpinball_loss\u001b[39;49m\u001b[38;5;124;43m'\u001b[39;49m\u001b[43m)\u001b[49m,\n\u001b[1;32m     16\u001b[0m     RMSE([\u001b[38;5;241m10\u001b[39m,\u001b[38;5;241m1\u001b[39m,\u001b[38;5;241m1\u001b[39m]),\n\u001b[1;32m     17\u001b[0m     MAE ([\u001b[38;5;241m10\u001b[39m,\u001b[38;5;241m1\u001b[39m,\u001b[38;5;241m1\u001b[39m]),\n\u001b[1;32m     18\u001b[0m     R2Score([\u001b[38;5;241m10\u001b[39m,\u001b[38;5;241m1\u001b[39m,\u001b[38;5;241m1\u001b[39m])\n\u001b[1;32m     19\u001b[0m ],\n\u001b[1;32m     20\u001b[0m     lr\u001b[38;5;241m=\u001b[39m\u001b[38;5;241m1e-4\u001b[39m,\n\u001b[1;32m     21\u001b[0m     weight_decay\u001b[38;5;241m=\u001b[39m\u001b[38;5;241m1e-4\u001b[39m,\n\u001b[1;32m     22\u001b[0m     target_mean\u001b[38;5;241m=\u001b[39mds\u001b[38;5;241m.\u001b[39mmean,\n\u001b[1;32m     23\u001b[0m     target_std\u001b[38;5;241m=\u001b[39mds\u001b[38;5;241m.\u001b[39mstd,\n\u001b[1;32m     24\u001b[0m     mpn_shared\u001b[38;5;241m=\u001b[39m\u001b[38;5;28;01mTrue\u001b[39;00m,\n\u001b[1;32m     25\u001b[0m     target_types\u001b[38;5;241m=\u001b[39mtarget_types,\n\u001b[1;32m     26\u001b[0m     \u001b[38;5;66;03m# ignore_val=-10,\u001b[39;00m\n\u001b[1;32m     27\u001b[0m     jitter\u001b[38;5;241m=\u001b[39m\u001b[38;5;28;01mFalse\u001b[39;00m,\n\u001b[1;32m     28\u001b[0m     normalize_head\u001b[38;5;241m=\u001b[39m\u001b[38;5;28;01mTrue\u001b[39;00m,\n\u001b[1;32m     29\u001b[0m     readout\u001b[38;5;241m=\u001b[39m\u001b[38;5;124m\"\u001b[39m\u001b[38;5;124mgru\u001b[39m\u001b[38;5;124m\"\u001b[39m,\n\u001b[1;32m     30\u001b[0m     X_d_transform\u001b[38;5;241m=\u001b[39m\u001b[38;5;28;01mNone\u001b[39;00m,\n\u001b[1;32m     31\u001b[0m     mean_dir\u001b[38;5;241m=\u001b[39mds\u001b[38;5;241m.\u001b[39mper_mean_dir,\n\u001b[1;32m     32\u001b[0m     pinball_weight\u001b[38;5;241m=\u001b[39m\u001b[38;5;241m0.2\u001b[39m\n\u001b[1;32m     33\u001b[0m )\n\u001b[1;32m     34\u001b[0m \u001b[38;5;28mprint\u001b[39m(\u001b[38;5;124m\"\u001b[39m\u001b[38;5;124m>>> Model instantiated\u001b[39m\u001b[38;5;124m\"\u001b[39m)\n",
      "File \u001b[0;32m~/code/vibe_cmpnn/metrics.py:399\u001b[0m, in \u001b[0;36mPinballLoss.__init__\u001b[0;34m(self, q, task_weights, **kw)\u001b[0m\n\u001b[1;32m    397\u001b[0m \u001b[38;5;28;01mdef\u001b[39;00m\u001b[38;5;250m \u001b[39m\u001b[38;5;21m__init__\u001b[39m(\u001b[38;5;28mself\u001b[39m, q: \u001b[38;5;28mfloat\u001b[39m \u001b[38;5;241m=\u001b[39m \u001b[38;5;241m0.9\u001b[39m, task_weights\u001b[38;5;241m=\u001b[39m\u001b[38;5;28;01mNone\u001b[39;00m, \u001b[38;5;241m*\u001b[39m\u001b[38;5;241m*\u001b[39mkw):\n\u001b[1;32m    398\u001b[0m     alias \u001b[38;5;241m=\u001b[39m \u001b[38;5;124mf\u001b[39m\u001b[38;5;124m\"\u001b[39m\u001b[38;5;124mpinball_q\u001b[39m\u001b[38;5;132;01m{\u001b[39;00m\u001b[38;5;28mint\u001b[39m(q\u001b[38;5;241m*\u001b[39m\u001b[38;5;241m100\u001b[39m)\u001b[38;5;132;01m}\u001b[39;00m\u001b[38;5;124m\"\u001b[39m   \u001b[38;5;66;03m# → pinball_q90\u001b[39;00m\n\u001b[0;32m--> 399\u001b[0m     \u001b[38;5;28msuper\u001b[39m()\u001b[38;5;241m.\u001b[39m\u001b[38;5;21m__init__\u001b[39m(task_weights\u001b[38;5;241m=\u001b[39mtask_weights, alias\u001b[38;5;241m=\u001b[39malias, \u001b[38;5;241m*\u001b[39m\u001b[38;5;241m*\u001b[39mkw)\n\u001b[1;32m    400\u001b[0m     \u001b[38;5;28;01mif\u001b[39;00m \u001b[38;5;129;01mnot\u001b[39;00m \u001b[38;5;241m0\u001b[39m \u001b[38;5;241m<\u001b[39m q \u001b[38;5;241m<\u001b[39m \u001b[38;5;241m1\u001b[39m:\n\u001b[1;32m    401\u001b[0m         \u001b[38;5;28;01mraise\u001b[39;00m \u001b[38;5;167;01mValueError\u001b[39;00m(\u001b[38;5;124m\"\u001b[39m\u001b[38;5;124mq must be inside (0,1)\u001b[39m\u001b[38;5;124m\"\u001b[39m)\n",
      "\u001b[0;31mTypeError\u001b[0m: metrics.CMPNNMetric.__init__() got multiple values for keyword argument 'alias'"
     ]
    }
   ],
   "source": [
    "from metrics import MSE, RMSE, R2Score, MAE, AngularError, SinCosMSELoss, AngularMSELoss, PinballLoss\n",
    "print(\">>> Model class created\")\n",
    "model = MultiCMPNNLitModel(\n",
    "    in_node_feats=ds.num_atom_features,\n",
    "    in_edge_feats=ds.num_bond_features,\n",
    "    # in_global_feats=ds.global_feature_dim,\n",
    "    hidden_dim=1024,\n",
    "    num_steps=3,\n",
    "    dropout_mp=0.1,\n",
    "    dropout_head=0.1,\n",
    "    n_tasks=3,\n",
    "    #metrics=[AngularError()],\n",
    "    metrics = [\n",
    "    MSE (task_weights=[10,1,1]),          # primary mean loss\n",
    "    PinballLoss(q=0.9, task_weights=[10,1,1], alias='pinball_loss'),\n",
    "    RMSE([10,1,1]),\n",
    "    MAE ([10,1,1]),\n",
    "    R2Score([10,1,1])\n",
    "],\n",
    "    lr=1e-4,\n",
    "    weight_decay=1e-4,\n",
    "    target_mean=ds.mean,\n",
    "    target_std=ds.std,\n",
    "    mpn_shared=True,\n",
    "    target_types=target_types,\n",
    "    # ignore_val=-10,\n",
    "    jitter=False,\n",
    "    normalize_head=True,\n",
    "    readout=\"gru\",\n",
    "    X_d_transform=None,\n",
    "    mean_dir=ds.per_mean_dir,\n",
    "    pinball_weight=0.2\n",
    ")\n",
    "print(\">>> Model instantiated\")"
   ]
  },
  {
   "cell_type": "markdown",
   "id": "704578f6",
   "metadata": {},
   "source": [
    "| **3 · Copy the *same* alias in the full-epoch retrain** | When you build `final_models`, you again set no alias, so it’s now fine—just keep it consistent. | Nothing else to change once fix #1 is applied. |\n",
    "\n",
    "After those tweaks:\n",
    "\n",
    "### What will happen\n",
    "\n",
    "1. **50 trials × 60 epochs**  \n",
    "   *Optuna + Median pruner + WandB-offline* explore the space quickly.\n",
    "\n",
    "2. **Top-3 refit × 300 epochs**  \n",
    "   You rebuild the dataset with the trial’s own `atom_messages`, then train full fidelity. Their fresh `PinballLoss` receives, e.g. `q = 0.87` → alias `pinball_q87`, matching the detection code.\n",
    "\n",
    "3. **Results**  \n",
    "   `final_models` holds `(rank, final_val_loss, model)` so you can immediately run `trainer.test(final_models[0][2], test_loader)` or save the checkpoint.\n",
    "\n",
    "Everything else—dataset caching, offline logging, SQLite storage—works exactly as intended.\n",
    "\n",
    "Launch the script; if you open another terminal you can watch progress live:\n",
    "\n",
    "```bash\n",
    "optuna-dashboard sqlite:///cmpnn_optuna.db\n",
    "wandb offline view\n"
   ]
  },
  {
   "cell_type": "code",
   "execution_count": 46,
   "id": "7dedb4ec",
   "metadata": {},
   "outputs": [
    {
     "data": {
      "text/plain": [
       "MultiCMPNNLitModel(\n",
       "  (encoder): CMPNNEncoder(\n",
       "    (lin_node): Sequential(\n",
       "      (0): Linear(in_features=133, out_features=1024, bias=True)\n",
       "      (1): LayerNorm((1024,), eps=1e-05, elementwise_affine=True)\n",
       "    )\n",
       "    (lin_edge): Sequential(\n",
       "      (0): Linear(in_features=12, out_features=1024, bias=True)\n",
       "      (1): LayerNorm((1024,), eps=1e-05, elementwise_affine=True)\n",
       "    )\n",
       "    (dropout_mp): Dropout(p=0.1, inplace=False)\n",
       "    (dropout_head): Dropout(p=0.1, inplace=False)\n",
       "    (lin_x): Sequential(\n",
       "      (0): Linear(in_features=133, out_features=1024, bias=True)\n",
       "      (1): LayerNorm((1024,), eps=1e-05, elementwise_affine=True)\n",
       "    )\n",
       "    (node_updates): ModuleList(\n",
       "      (0-2): 3 x Linear(in_features=2048, out_features=1024, bias=True)\n",
       "    )\n",
       "    (node_norms): ModuleList(\n",
       "      (0-2): 3 x LayerNorm((1024,), eps=1e-05, elementwise_affine=True)\n",
       "    )\n",
       "    (edge_updates): ModuleList(\n",
       "      (0-2): 3 x Linear(in_features=1024, out_features=1024, bias=True)\n",
       "    )\n",
       "    (batch_gru): BatchGRUBooster(\n",
       "      (gru): GRU(1024, 1024, batch_first=True, bidirectional=True)\n",
       "    )\n",
       "    (booster_proj): Sequential(\n",
       "      (0): Linear(in_features=2048, out_features=1024, bias=True)\n",
       "      (1): LayerNorm((1024,), eps=1e-05, elementwise_affine=True)\n",
       "    )\n",
       "    (final_update): Sequential(\n",
       "      (0): Linear(in_features=3072, out_features=1024, bias=True)\n",
       "      (1): LayerNorm((1024,), eps=1e-05, elementwise_affine=True)\n",
       "    )\n",
       "    (readout_gru): GRU(1024, 1024, batch_first=True, bidirectional=True)\n",
       "    (graph_pred): Linear(in_features=2048, out_features=3, bias=True)\n",
       "    (graph_norm): BatchNorm1d(2048, eps=1e-05, momentum=0.1, affine=True, track_running_stats=True)\n",
       "  )\n",
       "  (head): RegressionHead(net=MLP(input_dim=4096, output_dim=3, hidden_dim=2048, n_layers=2, dropout=0.1), use_residual=True)\n",
       "  (metrics): ModuleDict(\n",
       "    (mse): MSE(alias=mse, task_weights=[10.0, 1.0, 1.0])\n",
       "    (pinball_q90): PinballLoss(alias=pinball_q90, task_weights=[10.0, 1.0, 1.0])\n",
       "    (rmse): RMSE(alias=rmse, task_weights=[10.0, 1.0, 1.0])\n",
       "    (mae): MAE(alias=mae, task_weights=[10.0, 1.0, 1.0])\n",
       "    (r2): R2Score()\n",
       "  )\n",
       "  (criterion): MSE(alias=mse, task_weights=[10.0, 1.0, 1.0])\n",
       ")"
      ]
     },
     "execution_count": 46,
     "metadata": {},
     "output_type": "execute_result"
    }
   ],
   "source": [
    "model"
   ]
  },
  {
   "cell_type": "code",
   "execution_count": 47,
   "id": "384b27d3",
   "metadata": {},
   "outputs": [
    {
     "name": "stdout",
     "output_type": "stream",
     "text": [
      "tensor([-2.6576e+00,  4.3149e+00,  3.8700e-04])\n",
      "tensor([3.2817, 0.8044, 1.0247])\n"
     ]
    }
   ],
   "source": [
    "print(model.t_mean)\n",
    "print(model.t_std)"
   ]
  },
  {
   "cell_type": "code",
   "execution_count": 48,
   "id": "7d47bf51",
   "metadata": {},
   "outputs": [
    {
     "data": {
      "text/plain": [
       "RegressionHead(net=MLP(input_dim=4096, output_dim=3, hidden_dim=2048, n_layers=2, dropout=0.1), use_residual=True)"
      ]
     },
     "execution_count": 48,
     "metadata": {},
     "output_type": "execute_result"
    }
   ],
   "source": [
    "model.head"
   ]
  },
  {
   "cell_type": "code",
   "execution_count": 49,
   "id": "34d0c88e",
   "metadata": {},
   "outputs": [
    {
     "name": "stdout",
     "output_type": "stream",
     "text": [
      "torch.Size([128, 3])\n"
     ]
    }
   ],
   "source": [
    "for batch in train_loader:\n",
    "    print(batch.y.shape)\n",
    "    break"
   ]
  },
  {
   "cell_type": "code",
   "execution_count": 50,
   "id": "12e45259",
   "metadata": {},
   "outputs": [],
   "source": [
    "def reset_model_weights(model):\n",
    "    for module in model.modules():\n",
    "        if hasattr(module, 'reset_parameters'):\n",
    "            module.reset_parameters()\n",
    "\n",
    "reset_model_weights(model)"
   ]
  },
  {
   "cell_type": "code",
   "execution_count": 51,
   "id": "d9ffdcad",
   "metadata": {},
   "outputs": [
    {
     "name": "stderr",
     "output_type": "stream",
     "text": [
      "GPU available: True (cuda), used: True\n",
      "TPU available: False, using: 0 TPU cores\n",
      "HPU available: False, using: 0 HPUs\n",
      "LOCAL_RANK: 0 - CUDA_VISIBLE_DEVICES: [0]\n",
      "\n",
      "  | Name      | Type           | Params | Mode \n",
      "-----------------------------------------------------\n",
      "0 | encoder   | CMPNNEncoder   | 40.2 M | train\n",
      "1 | head      | RegressionHead | 12.6 M | train\n",
      "2 | metrics   | ModuleDict     | 0      | train\n",
      "3 | criterion | MSE            | 0      | train\n",
      "-----------------------------------------------------\n",
      "52.8 M    Trainable params\n",
      "0         Non-trainable params\n",
      "52.8 M    Total params\n",
      "211.198   Total estimated model params size (MB)\n",
      "51        Modules in train mode\n",
      "0         Modules in eval mode\n",
      "/home/calvin/miniforge3/envs/dmpnn_rocm/lib/python3.10/site-packages/pytorch_lightning/core/saving.py:363: Skipping 'metrics' parameter because it is not possible to safely dump to YAML.\n"
     ]
    },
    {
     "data": {
      "application/vnd.jupyter.widget-view+json": {
       "model_id": "520a28c83e3e42098333242f5d4ec2a9",
       "version_major": 2,
       "version_minor": 0
      },
      "text/plain": [
       "Sanity Checking: |          | 0/? [00:00<?, ?it/s]"
      ]
     },
     "metadata": {},
     "output_type": "display_data"
    },
    {
     "name": "stderr",
     "output_type": "stream",
     "text": [
      "/home/calvin/miniforge3/envs/dmpnn_rocm/lib/python3.10/site-packages/pytorch_lightning/trainer/connectors/data_connector.py:425: The 'val_dataloader' does not have many workers which may be a bottleneck. Consider increasing the value of the `num_workers` argument` to `num_workers=19` in the `DataLoader` to improve performance.\n",
      "/home/calvin/miniforge3/envs/dmpnn_rocm/lib/python3.10/site-packages/pytorch_lightning/trainer/connectors/data_connector.py:425: The 'train_dataloader' does not have many workers which may be a bottleneck. Consider increasing the value of the `num_workers` argument` to `num_workers=19` in the `DataLoader` to improve performance.\n"
     ]
    },
    {
     "data": {
      "application/vnd.jupyter.widget-view+json": {
       "model_id": "066f610b7d354a228f133d66cf05e82b",
       "version_major": 2,
       "version_minor": 0
      },
      "text/plain": [
       "Training: |          | 0/? [00:00<?, ?it/s]"
      ]
     },
     "metadata": {},
     "output_type": "display_data"
    },
    {
     "data": {
      "application/vnd.jupyter.widget-view+json": {
       "model_id": "91d8d516207d45c38733b85691f7d63e",
       "version_major": 2,
       "version_minor": 0
      },
      "text/plain": [
       "Validation: |          | 0/? [00:00<?, ?it/s]"
      ]
     },
     "metadata": {},
     "output_type": "display_data"
    },
    {
     "name": "stderr",
     "output_type": "stream",
     "text": [
      "Metric val_loss improved. New best score: 0.637\n"
     ]
    },
    {
     "data": {
      "application/vnd.jupyter.widget-view+json": {
       "model_id": "a7e4fded921e47aaa66bf0b9dde36d6a",
       "version_major": 2,
       "version_minor": 0
      },
      "text/plain": [
       "Validation: |          | 0/? [00:00<?, ?it/s]"
      ]
     },
     "metadata": {},
     "output_type": "display_data"
    },
    {
     "name": "stderr",
     "output_type": "stream",
     "text": [
      "Metric val_loss improved by 0.089 >= min_delta = 0.0. New best score: 0.547\n"
     ]
    },
    {
     "data": {
      "application/vnd.jupyter.widget-view+json": {
       "model_id": "c8917817644a455b850ddfd5930bc5a2",
       "version_major": 2,
       "version_minor": 0
      },
      "text/plain": [
       "Validation: |          | 0/? [00:00<?, ?it/s]"
      ]
     },
     "metadata": {},
     "output_type": "display_data"
    },
    {
     "data": {
      "application/vnd.jupyter.widget-view+json": {
       "model_id": "55add4ea1f4d48e4b0b2e25a56094590",
       "version_major": 2,
       "version_minor": 0
      },
      "text/plain": [
       "Validation: |          | 0/? [00:00<?, ?it/s]"
      ]
     },
     "metadata": {},
     "output_type": "display_data"
    },
    {
     "name": "stderr",
     "output_type": "stream",
     "text": [
      "Metric val_loss improved by 0.120 >= min_delta = 0.0. New best score: 0.427\n"
     ]
    },
    {
     "data": {
      "application/vnd.jupyter.widget-view+json": {
       "model_id": "42a478b7a3af448c9a0128c1f71b76f7",
       "version_major": 2,
       "version_minor": 0
      },
      "text/plain": [
       "Validation: |          | 0/? [00:00<?, ?it/s]"
      ]
     },
     "metadata": {},
     "output_type": "display_data"
    },
    {
     "name": "stderr",
     "output_type": "stream",
     "text": [
      "Metric val_loss improved by 0.038 >= min_delta = 0.0. New best score: 0.389\n"
     ]
    },
    {
     "data": {
      "application/vnd.jupyter.widget-view+json": {
       "model_id": "7c481ad9f51645a4ba60371b05442b9d",
       "version_major": 2,
       "version_minor": 0
      },
      "text/plain": [
       "Validation: |          | 0/? [00:00<?, ?it/s]"
      ]
     },
     "metadata": {},
     "output_type": "display_data"
    },
    {
     "data": {
      "application/vnd.jupyter.widget-view+json": {
       "model_id": "470cd472169e493998cb3ac958596a14",
       "version_major": 2,
       "version_minor": 0
      },
      "text/plain": [
       "Validation: |          | 0/? [00:00<?, ?it/s]"
      ]
     },
     "metadata": {},
     "output_type": "display_data"
    },
    {
     "name": "stderr",
     "output_type": "stream",
     "text": [
      "Metric val_loss improved by 0.051 >= min_delta = 0.0. New best score: 0.339\n"
     ]
    },
    {
     "data": {
      "application/vnd.jupyter.widget-view+json": {
       "model_id": "59d1175f9ca0400ea8c85c7118ee1dff",
       "version_major": 2,
       "version_minor": 0
      },
      "text/plain": [
       "Validation: |          | 0/? [00:00<?, ?it/s]"
      ]
     },
     "metadata": {},
     "output_type": "display_data"
    },
    {
     "name": "stderr",
     "output_type": "stream",
     "text": [
      "Metric val_loss improved by 0.018 >= min_delta = 0.0. New best score: 0.320\n"
     ]
    },
    {
     "data": {
      "application/vnd.jupyter.widget-view+json": {
       "model_id": "8aebcdf0ac14402eaf447969d9471ed9",
       "version_major": 2,
       "version_minor": 0
      },
      "text/plain": [
       "Validation: |          | 0/? [00:00<?, ?it/s]"
      ]
     },
     "metadata": {},
     "output_type": "display_data"
    },
    {
     "name": "stderr",
     "output_type": "stream",
     "text": [
      "Metric val_loss improved by 0.037 >= min_delta = 0.0. New best score: 0.283\n"
     ]
    },
    {
     "data": {
      "application/vnd.jupyter.widget-view+json": {
       "model_id": "7a52bd76206543debb84872fca91cd4c",
       "version_major": 2,
       "version_minor": 0
      },
      "text/plain": [
       "Validation: |          | 0/? [00:00<?, ?it/s]"
      ]
     },
     "metadata": {},
     "output_type": "display_data"
    },
    {
     "data": {
      "application/vnd.jupyter.widget-view+json": {
       "model_id": "392fa77783b34f1199c7e1f8b3a31a52",
       "version_major": 2,
       "version_minor": 0
      },
      "text/plain": [
       "Validation: |          | 0/? [00:00<?, ?it/s]"
      ]
     },
     "metadata": {},
     "output_type": "display_data"
    },
    {
     "name": "stderr",
     "output_type": "stream",
     "text": [
      "Metric val_loss improved by 0.033 >= min_delta = 0.0. New best score: 0.250\n"
     ]
    },
    {
     "data": {
      "application/vnd.jupyter.widget-view+json": {
       "model_id": "e0f09e288b664d83834d04f62f639136",
       "version_major": 2,
       "version_minor": 0
      },
      "text/plain": [
       "Validation: |          | 0/? [00:00<?, ?it/s]"
      ]
     },
     "metadata": {},
     "output_type": "display_data"
    },
    {
     "data": {
      "application/vnd.jupyter.widget-view+json": {
       "model_id": "cc1d48ea44d94ee3ae54bc3cf2049284",
       "version_major": 2,
       "version_minor": 0
      },
      "text/plain": [
       "Validation: |          | 0/? [00:00<?, ?it/s]"
      ]
     },
     "metadata": {},
     "output_type": "display_data"
    },
    {
     "name": "stderr",
     "output_type": "stream",
     "text": [
      "Metric val_loss improved by 0.000 >= min_delta = 0.0. New best score: 0.249\n"
     ]
    },
    {
     "data": {
      "application/vnd.jupyter.widget-view+json": {
       "model_id": "6a1f6c67245e4156b3c87ad52500b2bb",
       "version_major": 2,
       "version_minor": 0
      },
      "text/plain": [
       "Validation: |          | 0/? [00:00<?, ?it/s]"
      ]
     },
     "metadata": {},
     "output_type": "display_data"
    },
    {
     "name": "stderr",
     "output_type": "stream",
     "text": [
      "Metric val_loss improved by 0.026 >= min_delta = 0.0. New best score: 0.224\n"
     ]
    },
    {
     "data": {
      "application/vnd.jupyter.widget-view+json": {
       "model_id": "6c01fd4efa0b4acaa2fa2eb7adf47552",
       "version_major": 2,
       "version_minor": 0
      },
      "text/plain": [
       "Validation: |          | 0/? [00:00<?, ?it/s]"
      ]
     },
     "metadata": {},
     "output_type": "display_data"
    },
    {
     "data": {
      "application/vnd.jupyter.widget-view+json": {
       "model_id": "e2398604b1174942b27a61c8a83b6073",
       "version_major": 2,
       "version_minor": 0
      },
      "text/plain": [
       "Validation: |          | 0/? [00:00<?, ?it/s]"
      ]
     },
     "metadata": {},
     "output_type": "display_data"
    },
    {
     "name": "stderr",
     "output_type": "stream",
     "text": [
      "Metric val_loss improved by 0.000 >= min_delta = 0.0. New best score: 0.224\n"
     ]
    },
    {
     "data": {
      "application/vnd.jupyter.widget-view+json": {
       "model_id": "67693bb49c154a669742206e7b487e52",
       "version_major": 2,
       "version_minor": 0
      },
      "text/plain": [
       "Validation: |          | 0/? [00:00<?, ?it/s]"
      ]
     },
     "metadata": {},
     "output_type": "display_data"
    },
    {
     "data": {
      "application/vnd.jupyter.widget-view+json": {
       "model_id": "bb253e50a5914bb78c60712bd0f1c4b0",
       "version_major": 2,
       "version_minor": 0
      },
      "text/plain": [
       "Validation: |          | 0/? [00:00<?, ?it/s]"
      ]
     },
     "metadata": {},
     "output_type": "display_data"
    },
    {
     "data": {
      "application/vnd.jupyter.widget-view+json": {
       "model_id": "8641e16e8bbd4c6eb8a9d53ef66bd7d8",
       "version_major": 2,
       "version_minor": 0
      },
      "text/plain": [
       "Validation: |          | 0/? [00:00<?, ?it/s]"
      ]
     },
     "metadata": {},
     "output_type": "display_data"
    },
    {
     "data": {
      "application/vnd.jupyter.widget-view+json": {
       "model_id": "343ab1c40f1f44a4abd5a69730c48fad",
       "version_major": 2,
       "version_minor": 0
      },
      "text/plain": [
       "Validation: |          | 0/? [00:00<?, ?it/s]"
      ]
     },
     "metadata": {},
     "output_type": "display_data"
    },
    {
     "data": {
      "application/vnd.jupyter.widget-view+json": {
       "model_id": "e2d0b4fe9b66434c87764dc7219570b0",
       "version_major": 2,
       "version_minor": 0
      },
      "text/plain": [
       "Validation: |          | 0/? [00:00<?, ?it/s]"
      ]
     },
     "metadata": {},
     "output_type": "display_data"
    },
    {
     "name": "stderr",
     "output_type": "stream",
     "text": [
      "Metric val_loss improved by 0.009 >= min_delta = 0.0. New best score: 0.215\n"
     ]
    },
    {
     "data": {
      "application/vnd.jupyter.widget-view+json": {
       "model_id": "cc6e2811f5fe4eeaa182a94f101dcfb4",
       "version_major": 2,
       "version_minor": 0
      },
      "text/plain": [
       "Validation: |          | 0/? [00:00<?, ?it/s]"
      ]
     },
     "metadata": {},
     "output_type": "display_data"
    },
    {
     "data": {
      "application/vnd.jupyter.widget-view+json": {
       "model_id": "ca87e03805c147c7aafb8813ffb99def",
       "version_major": 2,
       "version_minor": 0
      },
      "text/plain": [
       "Validation: |          | 0/? [00:00<?, ?it/s]"
      ]
     },
     "metadata": {},
     "output_type": "display_data"
    },
    {
     "data": {
      "application/vnd.jupyter.widget-view+json": {
       "model_id": "f0dc3f2426364a04be798394fe49e375",
       "version_major": 2,
       "version_minor": 0
      },
      "text/plain": [
       "Validation: |          | 0/? [00:00<?, ?it/s]"
      ]
     },
     "metadata": {},
     "output_type": "display_data"
    },
    {
     "data": {
      "application/vnd.jupyter.widget-view+json": {
       "model_id": "75c90be3d4274d719bfb403a1d4d810c",
       "version_major": 2,
       "version_minor": 0
      },
      "text/plain": [
       "Validation: |          | 0/? [00:00<?, ?it/s]"
      ]
     },
     "metadata": {},
     "output_type": "display_data"
    },
    {
     "data": {
      "application/vnd.jupyter.widget-view+json": {
       "model_id": "bff5802f822e404083df5a81e00cee80",
       "version_major": 2,
       "version_minor": 0
      },
      "text/plain": [
       "Validation: |          | 0/? [00:00<?, ?it/s]"
      ]
     },
     "metadata": {},
     "output_type": "display_data"
    },
    {
     "data": {
      "application/vnd.jupyter.widget-view+json": {
       "model_id": "8d2a6a91c45b450a8276bd9e728318dd",
       "version_major": 2,
       "version_minor": 0
      },
      "text/plain": [
       "Validation: |          | 0/? [00:00<?, ?it/s]"
      ]
     },
     "metadata": {},
     "output_type": "display_data"
    },
    {
     "name": "stderr",
     "output_type": "stream",
     "text": [
      "Metric val_loss improved by 0.000 >= min_delta = 0.0. New best score: 0.214\n"
     ]
    },
    {
     "data": {
      "application/vnd.jupyter.widget-view+json": {
       "model_id": "09263359adf6445dbff4955869eb07a5",
       "version_major": 2,
       "version_minor": 0
      },
      "text/plain": [
       "Validation: |          | 0/? [00:00<?, ?it/s]"
      ]
     },
     "metadata": {},
     "output_type": "display_data"
    },
    {
     "data": {
      "application/vnd.jupyter.widget-view+json": {
       "model_id": "cd6f8d8b37f84c1cb275dc272c4b3ddc",
       "version_major": 2,
       "version_minor": 0
      },
      "text/plain": [
       "Validation: |          | 0/? [00:00<?, ?it/s]"
      ]
     },
     "metadata": {},
     "output_type": "display_data"
    },
    {
     "name": "stderr",
     "output_type": "stream",
     "text": [
      "Metric val_loss improved by 0.009 >= min_delta = 0.0. New best score: 0.206\n"
     ]
    },
    {
     "data": {
      "application/vnd.jupyter.widget-view+json": {
       "model_id": "e538a99f8e774dea9d483c694eb3770a",
       "version_major": 2,
       "version_minor": 0
      },
      "text/plain": [
       "Validation: |          | 0/? [00:00<?, ?it/s]"
      ]
     },
     "metadata": {},
     "output_type": "display_data"
    },
    {
     "data": {
      "application/vnd.jupyter.widget-view+json": {
       "model_id": "0daf56d7a6644c1cb539b1967113241f",
       "version_major": 2,
       "version_minor": 0
      },
      "text/plain": [
       "Validation: |          | 0/? [00:00<?, ?it/s]"
      ]
     },
     "metadata": {},
     "output_type": "display_data"
    },
    {
     "data": {
      "application/vnd.jupyter.widget-view+json": {
       "model_id": "7ad33fda04444795a17036a757f6bf86",
       "version_major": 2,
       "version_minor": 0
      },
      "text/plain": [
       "Validation: |          | 0/? [00:00<?, ?it/s]"
      ]
     },
     "metadata": {},
     "output_type": "display_data"
    },
    {
     "name": "stderr",
     "output_type": "stream",
     "text": [
      "Metric val_loss improved by 0.004 >= min_delta = 0.0. New best score: 0.201\n"
     ]
    },
    {
     "data": {
      "application/vnd.jupyter.widget-view+json": {
       "model_id": "90bad90cd38341eda9c8fe5706ddab77",
       "version_major": 2,
       "version_minor": 0
      },
      "text/plain": [
       "Validation: |          | 0/? [00:00<?, ?it/s]"
      ]
     },
     "metadata": {},
     "output_type": "display_data"
    },
    {
     "data": {
      "application/vnd.jupyter.widget-view+json": {
       "model_id": "682995b05194469a96102b7463a6620b",
       "version_major": 2,
       "version_minor": 0
      },
      "text/plain": [
       "Validation: |          | 0/? [00:00<?, ?it/s]"
      ]
     },
     "metadata": {},
     "output_type": "display_data"
    },
    {
     "data": {
      "application/vnd.jupyter.widget-view+json": {
       "model_id": "6e881534a0154c2e8dd4030010461dff",
       "version_major": 2,
       "version_minor": 0
      },
      "text/plain": [
       "Validation: |          | 0/? [00:00<?, ?it/s]"
      ]
     },
     "metadata": {},
     "output_type": "display_data"
    },
    {
     "data": {
      "application/vnd.jupyter.widget-view+json": {
       "model_id": "2ba9602d28524bdba0d65313d0086225",
       "version_major": 2,
       "version_minor": 0
      },
      "text/plain": [
       "Validation: |          | 0/? [00:00<?, ?it/s]"
      ]
     },
     "metadata": {},
     "output_type": "display_data"
    },
    {
     "name": "stderr",
     "output_type": "stream",
     "text": [
      "Metric val_loss improved by 0.000 >= min_delta = 0.0. New best score: 0.201\n"
     ]
    },
    {
     "data": {
      "application/vnd.jupyter.widget-view+json": {
       "model_id": "c3c9af5cc18d42f89d6a8c255cd2b6a1",
       "version_major": 2,
       "version_minor": 0
      },
      "text/plain": [
       "Validation: |          | 0/? [00:00<?, ?it/s]"
      ]
     },
     "metadata": {},
     "output_type": "display_data"
    },
    {
     "data": {
      "application/vnd.jupyter.widget-view+json": {
       "model_id": "4ddaf4998d934427aa47e9e929ba0a01",
       "version_major": 2,
       "version_minor": 0
      },
      "text/plain": [
       "Validation: |          | 0/? [00:00<?, ?it/s]"
      ]
     },
     "metadata": {},
     "output_type": "display_data"
    },
    {
     "data": {
      "application/vnd.jupyter.widget-view+json": {
       "model_id": "ec5cc261d49a46e68c4a4e0512d9eade",
       "version_major": 2,
       "version_minor": 0
      },
      "text/plain": [
       "Validation: |          | 0/? [00:00<?, ?it/s]"
      ]
     },
     "metadata": {},
     "output_type": "display_data"
    },
    {
     "data": {
      "application/vnd.jupyter.widget-view+json": {
       "model_id": "b6b5d02e81e14bb09055a0effe0e4d1e",
       "version_major": 2,
       "version_minor": 0
      },
      "text/plain": [
       "Validation: |          | 0/? [00:00<?, ?it/s]"
      ]
     },
     "metadata": {},
     "output_type": "display_data"
    },
    {
     "data": {
      "application/vnd.jupyter.widget-view+json": {
       "model_id": "22e2ed239d7445a4847a288c92fe482d",
       "version_major": 2,
       "version_minor": 0
      },
      "text/plain": [
       "Validation: |          | 0/? [00:00<?, ?it/s]"
      ]
     },
     "metadata": {},
     "output_type": "display_data"
    },
    {
     "name": "stderr",
     "output_type": "stream",
     "text": [
      "Metric val_loss improved by 0.008 >= min_delta = 0.0. New best score: 0.193\n"
     ]
    },
    {
     "data": {
      "application/vnd.jupyter.widget-view+json": {
       "model_id": "383300497e6c479dbf929742cc3d9a45",
       "version_major": 2,
       "version_minor": 0
      },
      "text/plain": [
       "Validation: |          | 0/? [00:00<?, ?it/s]"
      ]
     },
     "metadata": {},
     "output_type": "display_data"
    },
    {
     "data": {
      "application/vnd.jupyter.widget-view+json": {
       "model_id": "78ac6a8fcc214698930d49a1f8562c1d",
       "version_major": 2,
       "version_minor": 0
      },
      "text/plain": [
       "Validation: |          | 0/? [00:00<?, ?it/s]"
      ]
     },
     "metadata": {},
     "output_type": "display_data"
    },
    {
     "data": {
      "application/vnd.jupyter.widget-view+json": {
       "model_id": "2e8f22d52c044d0484ed6aab127a50bd",
       "version_major": 2,
       "version_minor": 0
      },
      "text/plain": [
       "Validation: |          | 0/? [00:00<?, ?it/s]"
      ]
     },
     "metadata": {},
     "output_type": "display_data"
    },
    {
     "data": {
      "application/vnd.jupyter.widget-view+json": {
       "model_id": "65314db0cd604957a186f538b487bd1f",
       "version_major": 2,
       "version_minor": 0
      },
      "text/plain": [
       "Validation: |          | 0/? [00:00<?, ?it/s]"
      ]
     },
     "metadata": {},
     "output_type": "display_data"
    },
    {
     "data": {
      "application/vnd.jupyter.widget-view+json": {
       "model_id": "9a418cc18892419ea02aa5dddb75be41",
       "version_major": 2,
       "version_minor": 0
      },
      "text/plain": [
       "Validation: |          | 0/? [00:00<?, ?it/s]"
      ]
     },
     "metadata": {},
     "output_type": "display_data"
    },
    {
     "data": {
      "application/vnd.jupyter.widget-view+json": {
       "model_id": "f70358da2b244189badfaebcf4e4fabd",
       "version_major": 2,
       "version_minor": 0
      },
      "text/plain": [
       "Validation: |          | 0/? [00:00<?, ?it/s]"
      ]
     },
     "metadata": {},
     "output_type": "display_data"
    },
    {
     "data": {
      "application/vnd.jupyter.widget-view+json": {
       "model_id": "d67be4617c164e42a724c1e9db6b6b5d",
       "version_major": 2,
       "version_minor": 0
      },
      "text/plain": [
       "Validation: |          | 0/? [00:00<?, ?it/s]"
      ]
     },
     "metadata": {},
     "output_type": "display_data"
    },
    {
     "data": {
      "application/vnd.jupyter.widget-view+json": {
       "model_id": "62bd9e0d7d094a358f8a6a44addadca8",
       "version_major": 2,
       "version_minor": 0
      },
      "text/plain": [
       "Validation: |          | 0/? [00:00<?, ?it/s]"
      ]
     },
     "metadata": {},
     "output_type": "display_data"
    },
    {
     "data": {
      "application/vnd.jupyter.widget-view+json": {
       "model_id": "d8f9836319224ee2bacbd78a86b16654",
       "version_major": 2,
       "version_minor": 0
      },
      "text/plain": [
       "Validation: |          | 0/? [00:00<?, ?it/s]"
      ]
     },
     "metadata": {},
     "output_type": "display_data"
    },
    {
     "data": {
      "application/vnd.jupyter.widget-view+json": {
       "model_id": "b583ea12c37344a0b80d8f1cc554add8",
       "version_major": 2,
       "version_minor": 0
      },
      "text/plain": [
       "Validation: |          | 0/? [00:00<?, ?it/s]"
      ]
     },
     "metadata": {},
     "output_type": "display_data"
    },
    {
     "name": "stderr",
     "output_type": "stream",
     "text": [
      "Monitored metric val_loss did not improve in the last 10 records. Best score: 0.193. Signaling Trainer to stop.\n"
     ]
    },
    {
     "name": "stdout",
     "output_type": "stream",
     "text": [
      ">> on_fit_end triggered\n",
      ">> on_fit_end triggered\n",
      "Saving loss curve to tb_logs/cmpnn/version_201/images\n"
     ]
    }
   ],
   "source": [
    "from pytorch_lightning.callbacks import EarlyStopping, ModelCheckpoint, LearningRateMonitor\n",
    "from pytorch_lightning.loggers import TensorBoardLogger\n",
    "import pytorch_lightning as pl\n",
    "\n",
    "\n",
    "logger = TensorBoardLogger(\"tb_logs\", name=\"cmpnn\")\n",
    "# class DebugExitCallback(pl.Callback):\n",
    "#     def on_train_end(self, trainer, pl_module):\n",
    "#         print(\"[Callback] on_train_end\")\n",
    "\n",
    "#     def on_fit_end(self, trainer, pl_module):\n",
    "#         print(\"[Callback] on_fit_end\")\n",
    "\n",
    "early_stopping = EarlyStopping(\n",
    "    monitor=\"val_loss\",\n",
    "    patience=10,\n",
    "    mode=\"min\",\n",
    "    verbose=True,\n",
    ")\n",
    "\n",
    "\n",
    "trainer = Trainer(\n",
    "    max_epochs=300,\n",
    "    accelerator=\"gpu\",\n",
    "    devices=1,\n",
    "    logger=logger,\n",
    "    # Allow for early stopping\n",
    "    callbacks=[\n",
    "    # EarlyStopping(\"val_loss\", patience=10),\n",
    "    early_stopping,\n",
    "    ModelCheckpoint(monitor=\"val_loss\", mode=\"min\"),\n",
    "    LearningRateMonitor(logging_interval=\"epoch\"),\n",
    "    # DebugExitCallback(),\n",
    "    ],\n",
    "    #gradient_clip_val=1.0,\n",
    "    enable_progress_bar=True,\n",
    "    log_every_n_steps=1,\n",
    ")\n",
    "trainer.fit(\n",
    "    model,\n",
    "    train_loader,\n",
    "    val_loader,\n",
    ")"
   ]
  },
  {
   "cell_type": "code",
   "execution_count": 33,
   "id": "4f8c3871",
   "metadata": {},
   "outputs": [
    {
     "name": "stderr",
     "output_type": "stream",
     "text": [
      "LOCAL_RANK: 0 - CUDA_VISIBLE_DEVICES: [0]\n",
      "/home/calvin/miniforge3/envs/dmpnn_rocm/lib/python3.10/site-packages/pytorch_lightning/trainer/connectors/data_connector.py:425: The 'test_dataloader' does not have many workers which may be a bottleneck. Consider increasing the value of the `num_workers` argument` to `num_workers=19` in the `DataLoader` to improve performance.\n"
     ]
    },
    {
     "data": {
      "application/vnd.jupyter.widget-view+json": {
       "model_id": "9d98fc317076485aad662bef08f77227",
       "version_major": 2,
       "version_minor": 0
      },
      "text/plain": [
       "Testing: |          | 0/? [00:00<?, ?it/s]"
      ]
     },
     "metadata": {},
     "output_type": "display_data"
    },
    {
     "data": {
      "text/html": [
       "<pre style=\"white-space:pre;overflow-x:auto;line-height:normal;font-family:Menlo,'DejaVu Sans Mono',consolas,'Courier New',monospace\">┏━━━━━━━━━━━━━━━━━━━━━━━━━━━┳━━━━━━━━━━━━━━━━━━━━━━━━━━━┓\n",
       "┃<span style=\"font-weight: bold\">        Test metric        </span>┃<span style=\"font-weight: bold\">       DataLoader 0        </span>┃\n",
       "┡━━━━━━━━━━━━━━━━━━━━━━━━━━━╇━━━━━━━━━━━━━━━━━━━━━━━━━━━┩\n",
       "│<span style=\"color: #008080; text-decoration-color: #008080\">         test_loss         </span>│<span style=\"color: #800080; text-decoration-color: #800080\">    0.30995413661003113    </span>│\n",
       "│<span style=\"color: #008080; text-decoration-color: #008080\">      test_loss_mean       </span>│<span style=\"color: #800080; text-decoration-color: #800080\">    0.3410220444202423     </span>│\n",
       "│<span style=\"color: #008080; text-decoration-color: #008080\">     test_loss_pinball     </span>│<span style=\"color: #800080; text-decoration-color: #800080\">    0.1856825202703476     </span>│\n",
       "│<span style=\"color: #008080; text-decoration-color: #008080\">         test_mae          </span>│<span style=\"color: #800080; text-decoration-color: #800080\">    0.42252835631370544    </span>│\n",
       "│<span style=\"color: #008080; text-decoration-color: #008080\">          test_r2          </span>│<span style=\"color: #800080; text-decoration-color: #800080\">    0.4832363724708557     </span>│\n",
       "│<span style=\"color: #008080; text-decoration-color: #008080\">         test_rmse         </span>│<span style=\"color: #800080; text-decoration-color: #800080\">    0.42252835631370544    </span>│\n",
       "└───────────────────────────┴───────────────────────────┘\n",
       "</pre>\n"
      ],
      "text/plain": [
       "┏━━━━━━━━━━━━━━━━━━━━━━━━━━━┳━━━━━━━━━━━━━━━━━━━━━━━━━━━┓\n",
       "┃\u001b[1m \u001b[0m\u001b[1m       Test metric       \u001b[0m\u001b[1m \u001b[0m┃\u001b[1m \u001b[0m\u001b[1m      DataLoader 0       \u001b[0m\u001b[1m \u001b[0m┃\n",
       "┡━━━━━━━━━━━━━━━━━━━━━━━━━━━╇━━━━━━━━━━━━━━━━━━━━━━━━━━━┩\n",
       "│\u001b[36m \u001b[0m\u001b[36m        test_loss        \u001b[0m\u001b[36m \u001b[0m│\u001b[35m \u001b[0m\u001b[35m   0.30995413661003113   \u001b[0m\u001b[35m \u001b[0m│\n",
       "│\u001b[36m \u001b[0m\u001b[36m     test_loss_mean      \u001b[0m\u001b[36m \u001b[0m│\u001b[35m \u001b[0m\u001b[35m   0.3410220444202423    \u001b[0m\u001b[35m \u001b[0m│\n",
       "│\u001b[36m \u001b[0m\u001b[36m    test_loss_pinball    \u001b[0m\u001b[36m \u001b[0m│\u001b[35m \u001b[0m\u001b[35m   0.1856825202703476    \u001b[0m\u001b[35m \u001b[0m│\n",
       "│\u001b[36m \u001b[0m\u001b[36m        test_mae         \u001b[0m\u001b[36m \u001b[0m│\u001b[35m \u001b[0m\u001b[35m   0.42252835631370544   \u001b[0m\u001b[35m \u001b[0m│\n",
       "│\u001b[36m \u001b[0m\u001b[36m         test_r2         \u001b[0m\u001b[36m \u001b[0m│\u001b[35m \u001b[0m\u001b[35m   0.4832363724708557    \u001b[0m\u001b[35m \u001b[0m│\n",
       "│\u001b[36m \u001b[0m\u001b[36m        test_rmse        \u001b[0m\u001b[36m \u001b[0m│\u001b[35m \u001b[0m\u001b[35m   0.42252835631370544   \u001b[0m\u001b[35m \u001b[0m│\n",
       "└───────────────────────────┴───────────────────────────┘\n"
      ]
     },
     "metadata": {},
     "output_type": "display_data"
    },
    {
     "data": {
      "text/plain": [
       "[{'test_loss': 0.30995413661003113,\n",
       "  'test_loss_mean': 0.3410220444202423,\n",
       "  'test_loss_pinball': 0.1856825202703476,\n",
       "  'test_rmse': 0.42252835631370544,\n",
       "  'test_mae': 0.42252835631370544,\n",
       "  'test_r2': 0.4832363724708557}]"
      ]
     },
     "execution_count": 33,
     "metadata": {},
     "output_type": "execute_result"
    }
   ],
   "source": [
    "trainer.test(model, test_loader)"
   ]
  },
  {
   "cell_type": "code",
   "execution_count": 34,
   "id": "c260c12b",
   "metadata": {},
   "outputs": [
    {
     "name": "stdout",
     "output_type": "stream",
     "text": [
      "pred shape: torch.Size([64, 3])\n",
      "true shape: torch.Size([3])\n"
     ]
    }
   ],
   "source": [
    "with torch.no_grad():\n",
    "    y_hat = model(batch)          # expect (N, 3)\n",
    "    print(\"pred shape:\", y_hat.shape)\n",
    "    print(\"true shape:\", batch.y.view(-1,2,3)[0,0].shape)"
   ]
  },
  {
   "cell_type": "code",
   "execution_count": 35,
   "id": "ad127c1b",
   "metadata": {},
   "outputs": [
    {
     "name": "stdout",
     "output_type": "stream",
     "text": [
      "true batch shape: torch.Size([64, 3])\n",
      "match? False\n"
     ]
    }
   ],
   "source": [
    "y_true = batch.y.view(-1, 2, 3)[:, 0, :]   # shape (64, 3)\n",
    "print(\"true batch shape:\", y_true.shape)\n",
    "print(\"match?\", torch.allclose(y_hat, y_true))"
   ]
  },
  {
   "cell_type": "code",
   "execution_count": 36,
   "id": "eaa6eb83",
   "metadata": {},
   "outputs": [
    {
     "name": "stderr",
     "output_type": "stream",
     "text": [
      "LOCAL_RANK: 0 - CUDA_VISIBLE_DEVICES: [0]\n",
      "/home/calvin/miniforge3/envs/dmpnn_rocm/lib/python3.10/site-packages/pytorch_lightning/trainer/connectors/data_connector.py:425: The 'predict_dataloader' does not have many workers which may be a bottleneck. Consider increasing the value of the `num_workers` argument` to `num_workers=19` in the `DataLoader` to improve performance.\n"
     ]
    },
    {
     "data": {
      "application/vnd.jupyter.widget-view+json": {
       "model_id": "b4d542b78be845e2b6a486786a6779a3",
       "version_major": 2,
       "version_minor": 0
      },
      "text/plain": [
       "Predicting: |          | 0/? [00:00<?, ?it/s]"
      ]
     },
     "metadata": {},
     "output_type": "display_data"
    }
   ],
   "source": [
    "pred = trainer.predict(model, test_loader)"
   ]
  },
  {
   "cell_type": "code",
   "execution_count": 37,
   "id": "60939ad9",
   "metadata": {},
   "outputs": [],
   "source": [
    "torch.concat(pred, dim=0).shape\n",
    "pred = torch.concat(pred, dim=0)"
   ]
  },
  {
   "cell_type": "code",
   "execution_count": 38,
   "id": "6f970520",
   "metadata": {},
   "outputs": [],
   "source": [
    "true_y = torch.concat([batch.y.view(-1, 2, 3)[:, 0, :] for batch in test_loader], dim=0)"
   ]
  },
  {
   "cell_type": "code",
   "execution_count": 39,
   "id": "a9853d8d",
   "metadata": {},
   "outputs": [
    {
     "data": {
      "text/plain": [
       "tensor([[ 5.3450e-01, -7.3945e-02,  5.9178e-01],\n",
       "        [ 1.3084e+00, -1.3129e+00, -3.0016e+00],\n",
       "        [ 6.5688e-01, -3.6395e-01,  1.9614e+00],\n",
       "        [-5.3618e-01,  9.0058e-01,  5.6086e-01],\n",
       "        [ 8.4574e-01, -8.5083e-01,  1.2701e+00],\n",
       "        [-7.7971e-01,  5.0548e-01,  2.0318e-01],\n",
       "        [-3.2969e-02, -2.8177e-01, -9.0958e-01],\n",
       "        [-2.2276e-01,  3.6100e-01, -2.3880e-01],\n",
       "        [ 2.6607e-01, -4.3514e-01,  1.3037e+00],\n",
       "        [-1.2870e+00,  1.4470e+00, -5.1398e-01],\n",
       "        [ 1.0790e-01,  2.9668e-01, -2.2074e-01],\n",
       "        [ 2.7385e-01,  9.4002e-02, -5.3698e-01],\n",
       "        [ 4.9655e-01, -8.4548e-01,  1.9530e-01],\n",
       "        [ 1.0941e-01, -3.1588e-02,  6.7996e-01],\n",
       "        [-4.4086e-01,  2.5348e-01, -3.3301e-01],\n",
       "        [-6.1662e-01,  6.2995e-01,  1.2648e+00],\n",
       "        [ 6.4911e-01, -6.2117e-01,  2.1818e+00],\n",
       "        [-6.6268e-01,  3.9265e-01, -2.1672e-01],\n",
       "        [ 1.2814e+00, -1.0423e+00, -1.5465e+00],\n",
       "        [ 6.6364e-01, -8.3023e-01, -6.9741e-01],\n",
       "        [ 4.9513e-02,  3.2152e-01,  1.2349e+00],\n",
       "        [ 9.5694e-01, -8.6511e-01, -1.9222e+00],\n",
       "        [ 1.0462e-01,  7.4889e-01,  8.2160e-01],\n",
       "        [-7.0139e-02, -7.7184e-03,  3.4569e-01],\n",
       "        [ 7.2946e-01, -1.6013e-01, -2.5907e-01],\n",
       "        [-2.7304e-01,  1.7594e-02, -7.3695e-01],\n",
       "        [-1.0516e+00,  1.6115e+00,  5.9003e-01],\n",
       "        [ 2.0418e-02,  2.2326e-01, -5.3167e-01],\n",
       "        [-1.3580e+00,  1.2532e+00,  2.2845e-01],\n",
       "        [ 6.3797e-01, -7.0944e-01,  2.0282e+00],\n",
       "        [-2.4121e-01,  1.8609e-01, -3.6844e-01],\n",
       "        [-2.9929e-01, -4.8088e-01, -8.0399e-01],\n",
       "        [-6.6078e-02,  2.3312e-01, -3.4875e-01],\n",
       "        [ 4.8218e-01, -4.3629e-01, -8.8310e-01],\n",
       "        [ 2.1117e+00, -2.1587e+00, -2.9039e-01],\n",
       "        [ 6.2404e-01, -5.6435e-01, -1.3568e+00],\n",
       "        [-1.1339e+00,  1.4032e+00,  4.7335e-01],\n",
       "        [-4.1176e-01,  2.8537e-01, -1.0699e-01],\n",
       "        [ 2.1782e+00, -2.2534e+00,  2.4044e+00],\n",
       "        [-3.5421e-02, -7.6755e-02, -3.9307e-01],\n",
       "        [ 4.2790e-01, -7.3197e-01, -1.7609e+00],\n",
       "        [ 2.6047e+00, -2.5331e+00, -5.0255e-01],\n",
       "        [-1.7248e-01,  6.4513e-01,  1.4335e+00],\n",
       "        [-4.5512e-01,  4.7020e-01, -1.1553e-02],\n",
       "        [-1.0430e+00,  4.2103e-01, -2.9806e-01],\n",
       "        [-1.6678e+00,  1.5653e+00,  9.3694e-01],\n",
       "        [-4.6579e-02,  2.6000e-01,  7.2239e-01],\n",
       "        [-6.5400e-01,  7.8617e-01,  4.1008e-01],\n",
       "        [-1.0520e+00,  7.3956e-01,  1.7899e-01],\n",
       "        [ 1.2910e+00, -1.4643e+00,  3.0670e+00],\n",
       "        [ 3.7209e-01, -6.3495e-01, -1.2258e+00],\n",
       "        [-9.4407e-01,  6.3991e-01, -1.3101e-01],\n",
       "        [ 6.3025e-01, -1.2359e+00, -1.5574e+00],\n",
       "        [ 7.7651e-01, -5.7936e-01, -7.1684e-01],\n",
       "        [-1.1949e+00,  9.8517e-01,  3.7952e-01],\n",
       "        [-8.4597e-01,  6.1446e-01,  4.5177e-01],\n",
       "        [ 1.2947e+00, -1.2847e+00, -3.0758e+00],\n",
       "        [ 2.7589e-01,  1.0413e-01, -5.2956e-01],\n",
       "        [ 4.0572e-01, -4.4190e-01,  1.6014e+00],\n",
       "        [ 6.9889e-02, -1.4741e-01,  3.8252e-01],\n",
       "        [ 5.8179e-01,  5.8172e-02,  1.8586e+00],\n",
       "        [ 4.1875e-01, -2.8933e-01, -5.7404e-01],\n",
       "        [-4.7897e-01,  1.4261e-01, -3.7974e-01],\n",
       "        [-7.3378e-01,  3.7575e-01, -2.2280e-01],\n",
       "        [-1.1536e+00,  8.3698e-01,  8.7287e-02],\n",
       "        [ 2.6176e-01, -1.8785e-01,  1.7366e-01],\n",
       "        [-7.4363e-01,  3.2508e-01, -1.4476e-01],\n",
       "        [-8.0585e-01,  7.8193e-01, -2.8722e-01],\n",
       "        [-1.7762e-01, -6.9457e-02, -5.7990e-01],\n",
       "        [-7.8051e-01,  5.9405e-01, -6.0160e-02],\n",
       "        [-2.4414e-01,  4.1003e-02, -2.0656e-01],\n",
       "        [ 1.6928e-02, -1.7870e-01,  1.7561e+00],\n",
       "        [-8.1618e-01,  5.2908e-01, -1.8744e-01],\n",
       "        [-8.3274e-01,  8.3194e-01, -4.8640e-02],\n",
       "        [ 7.5800e-01, -7.7297e-01,  1.6907e+00],\n",
       "        [-3.0484e-01,  4.2204e-01,  9.6263e-01],\n",
       "        [ 4.9614e-01, -8.1356e-01, -1.1226e+00],\n",
       "        [-8.3802e-01,  5.7043e-01,  1.0478e-01],\n",
       "        [-7.2770e-01,  7.4797e-01, -1.4712e-02],\n",
       "        [ 1.9265e-01, -1.1169e-03, -5.5210e-01],\n",
       "        [-7.6073e-01,  1.3397e+00,  1.4829e-01],\n",
       "        [ 4.0048e-01, -1.1016e+00, -6.1969e-01],\n",
       "        [-1.1421e+00,  7.7723e-01,  5.7626e-01],\n",
       "        [-4.9430e-01, -1.5197e-01, -6.8139e-01],\n",
       "        [ 7.6213e-01, -1.2861e+00, -7.3482e-01],\n",
       "        [ 1.4616e-01,  1.1107e-01, -4.9709e-01],\n",
       "        [-7.5549e-01,  1.1011e+00,  1.1960e+00],\n",
       "        [-4.5634e-01, -1.5414e-02, -7.4829e-01],\n",
       "        [ 4.1452e-01, -8.4311e-01,  1.4221e+00],\n",
       "        [ 1.9986e-01, -2.6557e-01, -8.5045e-01],\n",
       "        [-5.3029e-01,  8.2456e-01,  1.4364e+00],\n",
       "        [-9.8965e-01,  9.0467e-01,  5.4382e-01],\n",
       "        [ 3.3066e-01, -5.3426e-01, -5.0332e-01],\n",
       "        [-1.1042e+00,  8.7082e-01,  2.7803e-01],\n",
       "        [ 3.5913e-01, -7.0391e-01, -7.4692e-01],\n",
       "        [ 2.9262e-01, -5.4565e-01, -5.7116e-01],\n",
       "        [ 5.9018e-01, -5.8656e-01,  6.2790e-02],\n",
       "        [-6.5973e-01,  4.6042e-01, -1.2644e-01],\n",
       "        [-1.3154e+00,  1.5933e+00,  9.0882e-01],\n",
       "        [ 2.3497e+00, -2.1002e+00, -1.3444e-01],\n",
       "        [-1.0560e+00,  1.3958e+00,  1.0582e+00],\n",
       "        [ 4.6737e-01, -7.0297e-01, -1.1258e+00],\n",
       "        [-7.6694e-01,  6.0492e-01,  1.3025e-01],\n",
       "        [ 4.9212e-01, -3.6022e-01,  1.9296e+00],\n",
       "        [-9.0638e-01,  9.4429e-01,  1.1884e-01],\n",
       "        [ 8.8212e-02, -5.3560e-01, -2.2951e-01],\n",
       "        [ 3.1240e-01, -4.6299e-01, -8.8227e-01],\n",
       "        [-5.0304e-01,  8.4279e-01,  1.5514e+00],\n",
       "        [-8.7990e-01,  5.4923e-01, -1.0369e-01],\n",
       "        [-3.8420e-01,  3.5735e-01, -2.7815e-01],\n",
       "        [-4.7504e-01,  4.9753e-01,  9.6572e-01],\n",
       "        [-3.5359e-01, -6.6424e-02, -5.4087e-01],\n",
       "        [-1.0958e+00,  6.9910e-01,  4.8801e-02],\n",
       "        [ 1.6858e-01, -5.4674e-01, -5.8040e-01],\n",
       "        [ 2.7835e-01, -1.6614e-01, -5.6116e-01],\n",
       "        [-6.0277e-02, -1.1302e-01, -6.5773e-01],\n",
       "        [ 2.5164e+00, -2.3168e+00, -3.3840e-01],\n",
       "        [-1.0356e+00,  5.9722e-01,  1.6895e-01],\n",
       "        [-1.2951e+00,  1.4187e+00,  1.0255e+00],\n",
       "        [ 2.2614e-01, -6.1785e-01, -6.3510e-01],\n",
       "        [ 1.8646e-01, -5.4616e-01, -7.3096e-01],\n",
       "        [ 1.5382e+00, -1.1709e+00,  7.9305e-01],\n",
       "        [-6.3606e-01,  4.1572e-01, -4.7816e-01],\n",
       "        [ 4.4916e-01, -6.6343e-01, -6.0559e-01],\n",
       "        [-1.2132e+00,  1.6195e+00,  3.2746e-01],\n",
       "        [-4.3165e-01,  4.9375e-01, -1.5469e-01],\n",
       "        [ 2.3780e-01, -2.8138e-01,  1.8681e+00],\n",
       "        [ 1.0739e+00, -9.9068e-01,  1.3342e-02],\n",
       "        [ 4.8442e-01,  1.7579e-01, -1.9677e-01],\n",
       "        [-6.0902e-01,  5.6181e-01,  4.9118e-01],\n",
       "        [-2.5713e-01, -2.3651e-01, -7.1376e-01],\n",
       "        [-6.0683e-01,  4.3553e-01, -5.0621e-02],\n",
       "        [-1.3396e+00,  1.5230e+00,  4.0514e-01],\n",
       "        [-3.7618e-01,  4.6481e-01, -3.9101e-01],\n",
       "        [ 2.6633e+00, -2.3387e+00, -2.3586e-01],\n",
       "        [ 4.4677e-01, -6.8290e-01,  1.3931e+00],\n",
       "        [-1.2834e-01,  7.4433e-01,  4.3267e-02],\n",
       "        [ 5.0598e-01, -5.8069e-01, -1.1298e+00],\n",
       "        [ 4.4872e-01, -2.0770e-01, -7.0478e-01],\n",
       "        [-1.9292e+00,  1.9454e+00,  1.1862e+00],\n",
       "        [-2.1925e-01,  6.7663e-01,  9.2888e-02],\n",
       "        [-3.7864e-01, -2.2282e-01,  9.8609e-01],\n",
       "        [ 1.5311e-01, -5.7181e-01, -1.3752e+00],\n",
       "        [-1.3844e+00,  1.1080e+00,  4.0918e-01],\n",
       "        [ 2.6242e-01, -5.8574e-01, -9.9400e-01],\n",
       "        [ 1.8607e+00, -1.4915e+00, -5.6098e-01],\n",
       "        [ 5.9583e-01, -6.0929e-01, -8.6929e-01],\n",
       "        [ 8.5481e-01, -8.5759e-01, -1.9364e+00],\n",
       "        [-1.8831e-01, -2.2012e-01, -2.6934e-01],\n",
       "        [-2.1200e-03,  3.1789e-01, -3.5611e-01],\n",
       "        [ 7.1790e-01, -4.0501e-01, -4.9210e-01],\n",
       "        [ 6.3393e-01, -5.7680e-01, -7.9204e-01],\n",
       "        [-1.0368e-01,  1.0993e-01, -4.8067e-01],\n",
       "        [ 6.2438e-01, -3.2491e-01, -8.1127e-01],\n",
       "        [-4.5962e-01,  2.9652e-01, -2.3792e-01],\n",
       "        [-8.1175e-01,  1.1199e+00,  3.9488e-01],\n",
       "        [-6.2349e-01,  5.5167e-01, -7.9755e-02],\n",
       "        [ 5.9972e-01,  8.0339e-02,  1.4119e+00],\n",
       "        [-7.4217e-01,  1.1011e+00, -8.8136e-03],\n",
       "        [-1.8530e-01,  2.9559e-01, -3.3171e-01],\n",
       "        [-8.0859e-01,  5.8539e-01,  6.2725e-01],\n",
       "        [-4.2408e-02,  4.9233e-02, -4.1513e-01],\n",
       "        [-4.6763e-01,  2.3043e-01, -7.7698e-01],\n",
       "        [ 6.1731e-01, -3.4164e-01, -8.9861e-01],\n",
       "        [-1.5899e+00,  2.0380e+00,  2.9134e-01],\n",
       "        [ 3.9007e-01, -8.8152e-01, -1.6525e+00],\n",
       "        [ 1.7737e-01, -7.8043e-01, -9.6717e-01],\n",
       "        [-8.3937e-01,  7.9709e-01,  1.2134e-01],\n",
       "        [ 7.9275e-01, -6.0760e-01, -9.8679e-01],\n",
       "        [ 2.2494e+00, -2.0599e+00, -1.4421e-01]])"
      ]
     },
     "execution_count": 39,
     "metadata": {},
     "output_type": "execute_result"
    }
   ],
   "source": [
    "true_y"
   ]
  },
  {
   "cell_type": "code",
   "execution_count": 40,
   "id": "f3068f07",
   "metadata": {},
   "outputs": [
    {
     "data": {
      "image/png": "[encoded data removed]",
      "text/plain": [
       "<Figure size 1000x1500 with 3 Axes>"
      ]
     },
     "metadata": {},
     "output_type": "display_data"
    }
   ],
   "source": [
    "# Plot the predictions vs true values - also put r2 score on the plot\n",
    "\n",
    "import matplotlib.pyplot as plt\n",
    "def plot_predictions_vs_true(predictions, true_values, task_names):\n",
    "    num_tasks = predictions.shape[1]\n",
    "    fig, axes = plt.subplots(num_tasks, 1, figsize=(10, 5 * num_tasks))\n",
    "    \n",
    "    for i in range(num_tasks):\n",
    "        ax = axes[i] if num_tasks > 1 else axes\n",
    "        ax.scatter(true_values[:, i].cpu(), predictions[:, i].cpu(), alpha=0.5)\n",
    "        ax.plot([true_values[:, i].min(), true_values[:, i].max()],\n",
    "                [true_values[:, i].min(), true_values[:, i].max()], 'r--')\n",
    "        r2 = R2Score()(predictions[:, i], true_values[:, i])\n",
    "        ax.text(0.05, 0.95, f'R² = {r2:.2f}', transform=ax.transAxes, fontsize=12,\n",
    "                verticalalignment='top', bbox=dict(facecolor='white', alpha=0.5))\n",
    "        ax.set_xlabel('True Values')\n",
    "        ax.set_ylabel('Predictions')\n",
    "        ax.set_title(f'Predictions vs True Values for {task_names[i]}')\n",
    "    \n",
    "    plt.tight_layout()\n",
    "    plt.show()\n",
    "\n",
    "task_names = ['A_log10', 'n', 'Ea_yj']\n",
    "plot_predictions_vs_true(pred, true_y, task_names)\n",
    "# Save the predictions and true values to a CSV file"
   ]
  },
  {
   "cell_type": "code",
   "execution_count": 41,
   "id": "4d6680bc",
   "metadata": {},
   "outputs": [
    {
     "name": "stderr",
     "output_type": "stream",
     "text": [
      "LOCAL_RANK: 0 - CUDA_VISIBLE_DEVICES: [0]\n"
     ]
    },
    {
     "data": {
      "application/vnd.jupyter.widget-view+json": {
       "model_id": "25edc5df94c04b028b5863fbfad4f741",
       "version_major": 2,
       "version_minor": 0
      },
      "text/plain": [
       "Predicting: |          | 0/? [00:00<?, ?it/s]"
      ]
     },
     "metadata": {},
     "output_type": "display_data"
    }
   ],
   "source": [
    "pred_batches = trainer.predict(model, dataloaders=test_loader)\n",
    "y_scaled = torch.cat(pred_batches, dim=0)          # shape (N, 3)\n",
    "\n",
    "y_unscaled = model.inverse_transform(y_scaled)  # shape (N, 3)"
   ]
  },
  {
   "cell_type": "code",
   "execution_count": 42,
   "id": "7f57f5b4",
   "metadata": {},
   "outputs": [
    {
     "name": "stdout",
     "output_type": "stream",
     "text": [
      "Overall  MSE 3.399e+10   MAE 1.313e+04   R² -1.929\n",
      "   A:   MSE 1.02e+11   MAE 3.939e+04   R² -6.873\n",
      "  y₂:   MSE 0.231   MAE 0.3594   R² 0.5219\n",
      "  y₃:   MSE 0.4084   MAE 0.4276   R² 0.5655\n"
     ]
    }
   ],
   "source": [
    "import torch\n",
    "from torchmetrics.functional import mean_squared_error as mse_f\n",
    "from torchmetrics.functional import mean_absolute_error as mae_f\n",
    "from torchmetrics.functional import r2_score as r2_f\n",
    "\n",
    "with torch.no_grad():\n",
    "    # ── inverse-transform + A column back-transform ───────────────\n",
    "    y_pred_unscaled  = model.inverse_transform(y_scaled.clone())\n",
    "    y_true_unscaled  = model.inverse_transform(true_y.clone())\n",
    "\n",
    "    # column 0 is log10(A) → exponentiate both preds & truth\n",
    "    for tensor in (y_pred_unscaled, y_true_unscaled):\n",
    "        tensor[:, 0] = torch.pow(10.0, tensor[:, 0])\n",
    "\n",
    "    # ── overall metrics (all tasks at once) ───────────────────────\n",
    "    mse_all = mse_f(y_pred_unscaled, y_true_unscaled)\n",
    "    mae_all = mae_f(y_pred_unscaled, y_true_unscaled)\n",
    "    r2_all  = r2_f (y_pred_unscaled, y_true_unscaled)\n",
    "    print(f\"Overall  MSE {mse_all:.4g}   MAE {mae_all:.4g}   R² {r2_all:.4g}\")\n",
    "\n",
    "    # ── per-task breakdown ────────────────────────────────────────\n",
    "    task_names = [\"A\", \"y₂\", \"y₃\"]\n",
    "    for i, name in enumerate(task_names):\n",
    "        mse = mse_f(y_pred_unscaled[:, i], y_true_unscaled[:, i])\n",
    "        mae = mae_f(y_pred_unscaled[:, i], y_true_unscaled[:, i])\n",
    "        r2  = r2_f (y_pred_unscaled[:, i], y_true_unscaled[:, i])\n",
    "        print(f\"{name:>4}:   MSE {mse:.4g}   MAE {mae:.4g}   R² {r2:.4g}\")\n"
   ]
  },
  {
   "cell_type": "code",
   "execution_count": 43,
   "id": "4d769d4f",
   "metadata": {},
   "outputs": [
    {
     "data": {
      "image/png": "[encoded data removed]",
      "text/plain": [
       "<Figure size 600x600 with 1 Axes>"
      ]
     },
     "metadata": {},
     "output_type": "display_data"
    },
    {
     "data": {
      "image/png": "[encoded data removed]",
      "text/plain": [
       "<Figure size 400x600 with 1 Axes>"
      ]
     },
     "metadata": {},
     "output_type": "display_data"
    }
   ],
   "source": [
    "import numpy as np\n",
    "import matplotlib.pyplot as plt\n",
    "import torch\n",
    "\n",
    "# ------------- extract the first column (A) ----------------------\n",
    "A_pred = y_pred_unscaled[:, 0].cpu().numpy()   # shape (N,)\n",
    "A_true = y_true_unscaled[:, 0].cpu().numpy()   # shape (N,)\n",
    "\n",
    "# ------------- scatter on log–log axes ---------------------------\n",
    "fig, ax = plt.subplots(figsize=(6, 6))\n",
    "ax.scatter(A_true, A_pred, s=18, alpha=0.6)\n",
    "\n",
    "lo, hi = A_true.min(), A_true.max()\n",
    "lo = min(lo, A_pred.min())\n",
    "hi = max(hi, A_pred.max())\n",
    "ax.plot([lo, hi], [lo, hi], ls='--')           # identity line\n",
    "\n",
    "ax.set_xscale('log'); ax.set_yscale('log')\n",
    "ax.set_xlabel(r'True $A$'); ax.set_ylabel(r'Predicted $A$')\n",
    "ax.set_title('Predicted vs True A (log–log)')\n",
    "plt.tight_layout(); plt.show()\n",
    "\n",
    "# ------------- optional violin plot of distributions -------------\n",
    "fig, ax = plt.subplots(figsize=(4, 6))\n",
    "ax.violinplot([np.log10(A_true), np.log10(A_pred)],\n",
    "              positions=[1, 2], showmeans=True)\n",
    "ax.set_xticks([1, 2], ['log10(A) true', 'log10(A) pred'])\n",
    "ax.set_ylabel('log10(A)')\n",
    "plt.tight_layout(); plt.show()\n"
   ]
  },
  {
   "cell_type": "code",
   "execution_count": 44,
   "id": "7d1698d2",
   "metadata": {},
   "outputs": [
    {
     "data": {
      "image/png": "[encoded data removed]",
      "text/plain": [
       "<Figure size 1500x400 with 3 Axes>"
      ]
     },
     "metadata": {},
     "output_type": "display_data"
    }
   ],
   "source": [
    "import numpy as np\n",
    "import matplotlib.pyplot as plt\n",
    "from sklearn.linear_model import LinearRegression\n",
    "\n",
    "# A_true, A_pred already exist as 1-D NumPy arrays\n",
    "logA_true = np.log10(A_true)\n",
    "logA_pred = np.log10(A_pred)\n",
    "\n",
    "abs_resid = np.abs(logA_pred - logA_true)\n",
    "sgn_resid = logA_pred - logA_true\n",
    "\n",
    "fig, axs = plt.subplots(1, 3, figsize=(15, 4))\n",
    "\n",
    "# ── Plot 1: |residual| vs true ─────────────────────────────────\n",
    "axs[0].scatter(logA_true, abs_resid, s=15, alpha=0.6)\n",
    "axs[0].set_xlabel(r'$\\log_{10}A_{\\mathrm{true}}$')\n",
    "axs[0].set_ylabel(r'|residual|')\n",
    "axs[0].set_title('|Residual| vs true')\n",
    "\n",
    "# ── Plot 2: signed residual vs true ────────────────────────────\n",
    "axs[1].scatter(logA_true, sgn_resid, s=15, alpha=0.6)\n",
    "axs[1].axhline(0, ls='--', color='k')\n",
    "axs[1].set_xlabel(r'$\\log_{10}A_{\\mathrm{true}}$')\n",
    "axs[1].set_ylabel(r'residual')\n",
    "axs[1].set_title('Signed residual vs true')\n",
    "\n",
    "# ── Plot 3: log–log scatter + regression line ─────────────────\n",
    "axs[2].scatter(A_true, A_pred, s=15, alpha=0.6)\n",
    "reg = LinearRegression().fit(logA_true.reshape(-1,1), logA_pred)\n",
    "slope, intercept = reg.coef_[0], reg.intercept_\n",
    "x_line = np.linspace(logA_true.min(), logA_true.max(), 100)\n",
    "axs[2].plot(10**x_line, 10**(intercept + slope*x_line), '--', label=f'y = {slope:.3f}x + {intercept:.3f}')\n",
    "lo, hi = A_true.min(), A_true.max()\n",
    "axs[2].plot([lo, hi], [lo, hi], ':', color='grey')        # identity\n",
    "axs[2].set_xscale('log'); axs[2].set_yscale('log')\n",
    "axs[2].set_xlabel('True A'); axs[2].set_ylabel('Pred A')\n",
    "axs[2].legend()\n",
    "axs[2].set_title('Regression in log–log space')\n",
    "\n",
    "plt.tight_layout()\n",
    "plt.show()\n"
   ]
  },
  {
   "cell_type": "markdown",
   "id": "f70d155c",
   "metadata": {},
   "source": [
    "| Panel                              | What you see                                                                                                                                                              | Interpretation                                                                                                                       |\n",
    "| ---------------------------------- | ------------------------------------------------------------------------------------------------------------------------------------------------------------------------- | ------------------------------------------------------------------------------------------------------------------------------------ |\n",
    "| **1 • \\|Residual\\| vs log₁₀ A**    | Errors are low (≤1 log-unit) through most of the bulk ($-6\\le\\log_{10}A\\le0$). They flare for the very smallest and very largest A values.                                | Model captures the mid-range but under-fits the extremes—typical when the loss is dominated by the dense centre of the distribution. |\n",
    "| **2 • Signed residual vs log₁₀ A** | Points trend downward as A increases: negative residuals (under-prediction) for big A, positive (over-prediction) for tiny A.                                             | Systematic bias: the network compresses the dynamic range, pulling extremes toward the mean.                                         |\n",
    "| **3 • Log–log regression**         | Best-fit line: **Pred ≈ 0.71 × True − 1.42** (dashed blue). The slope < 1 and negative intercept confirm attenuation + downward shift compared with the ideal grey $y=x$. | Same story numerically—about 30 % “flattening” of the true spread plus an overall under-prediction by \\~1.4 log-units.               |\n"
   ]
  },
  {
   "cell_type": "code",
   "execution_count": null,
   "id": "fe397044",
   "metadata": {},
   "outputs": [],
   "source": []
  }
 ],
 "metadata": {
  "kernelspec": {
   "display_name": "dmpnn_rocm",
   "language": "python",
   "name": "python3"
  },
  "language_info": {
   "codemirror_mode": {
    "name": "ipython",
    "version": 3
   },
   "file_extension": ".py",
   "mimetype": "text/x-python",
   "name": "python",
   "nbconvert_exporter": "python",
   "pygments_lexer": "ipython3",
   "version": "3.10.16"
  }
 },
 "nbformat": 4,
 "nbformat_minor": 5
}
