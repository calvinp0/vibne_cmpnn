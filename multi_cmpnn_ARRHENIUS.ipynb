{
 "cells": [
  {
   "cell_type": "code",
   "execution_count": 1,
   "id": "87dba866",
   "metadata": {},
   "outputs": [],
   "source": [
    "%load_ext autoreload\n",
    "%autoreload 2\n",
    "\n",
    "import os\n",
    "\n",
    "import pandas as pd\n",
    "from pytorch_lightning import Trainer\n",
    "from pl_module import CMPNNLitModel, MultiCMPNNLitModel\n",
    "from dataset import CMPNNDataset, MultiCMPNNDataset, MultiCMPNNDatasetSDF, CMPNNDataModule\n",
    "from preprocessing import scaffold_split_indices, random_split_indices\n",
    "from torch_geometric.loader import DataLoader\n",
    "from torch_geometric.data import Batch\n",
    "from torch.utils.data import Subset\n",
    "from global_feat import CompositeGlobalFeaturizer, MorganBinaryFeaturizer, RDKit2DNormalizedFeaturizer"
   ]
  },
  {
   "cell_type": "code",
   "execution_count": 2,
   "id": "85e817a8",
   "metadata": {},
   "outputs": [],
   "source": [
    "sdf_path = '/home/calvin/code/chemprop_phd_customised/habnet/data/processed/sdf_data'\n",
    "target_data = '/home/calvin/code/chemprop_phd_customised/habnet/data/processed/target_data/kinetics_summary.csv'\n",
    "assert os.path.exists(sdf_path), f\"SDF path does not exist: {sdf_path}\"\n",
    "assert os.path.exists(target_data), f\"Target data file does not exist: {target_data}\""
   ]
  },
  {
   "cell_type": "code",
   "execution_count": 3,
   "id": "49047e96",
   "metadata": {},
   "outputs": [],
   "source": [
    "out_csv   = '/home/calvin/code/chemprop_phd_customised/habnet/data/processed/target_data/temp_target_kinetic_data.csv'\n"
   ]
  },
  {
   "cell_type": "code",
   "execution_count": 4,
   "id": "54f444e5",
   "metadata": {},
   "outputs": [],
   "source": [
    "root = \".\"\n",
    "sdf_dir = \"/home/calvin/code/chemprop_phd_customised/habnet/data/processed/sdf_data/\"\n",
    "targets = out_csv\n",
    "target_cols  = ['A_log10','n', 'Ea_yj']\n",
    "target_types = {'A_log10': 'continuous', 'n': 'continuous', 'Ea_yj': 'continuous'}"
   ]
  },
  {
   "cell_type": "code",
   "execution_count": 5,
   "id": "ccddc10a",
   "metadata": {},
   "outputs": [
    {
     "name": "stderr",
     "output_type": "stream",
     "text": [
      "Processing...\n",
      "/home/calvin/code/vibe_cmpnn/dataset.py:600: UserWarning: No target row for reaction 'rmg_rxn_1130' – skipped\n",
      "  warnings.warn(f\"No target row for reaction '{rxn}' – skipped\")\n",
      "/home/calvin/code/vibe_cmpnn/dataset.py:600: UserWarning: No target row for reaction 'rmg_rxn_1141' – skipped\n",
      "  warnings.warn(f\"No target row for reaction '{rxn}' – skipped\")\n",
      "/home/calvin/code/vibe_cmpnn/dataset.py:600: UserWarning: No target row for reaction 'rmg_rxn_1162' – skipped\n",
      "  warnings.warn(f\"No target row for reaction '{rxn}' – skipped\")\n",
      "/home/calvin/code/vibe_cmpnn/dataset.py:600: UserWarning: No target row for reaction 'rmg_rxn_1337' – skipped\n",
      "  warnings.warn(f\"No target row for reaction '{rxn}' – skipped\")\n",
      "/home/calvin/code/vibe_cmpnn/dataset.py:600: UserWarning: No target row for reaction 'rmg_rxn_14' – skipped\n",
      "  warnings.warn(f\"No target row for reaction '{rxn}' – skipped\")\n",
      "/home/calvin/code/vibe_cmpnn/dataset.py:600: UserWarning: No target row for reaction 'rmg_rxn_1454' – skipped\n",
      "  warnings.warn(f\"No target row for reaction '{rxn}' – skipped\")\n",
      "/home/calvin/code/vibe_cmpnn/dataset.py:600: UserWarning: No target row for reaction 'rmg_rxn_1492' – skipped\n",
      "  warnings.warn(f\"No target row for reaction '{rxn}' – skipped\")\n",
      "/home/calvin/code/vibe_cmpnn/dataset.py:600: UserWarning: No target row for reaction 'rmg_rxn_1496' – skipped\n",
      "  warnings.warn(f\"No target row for reaction '{rxn}' – skipped\")\n",
      "/home/calvin/code/vibe_cmpnn/dataset.py:600: UserWarning: No target row for reaction 'rmg_rxn_15' – skipped\n",
      "  warnings.warn(f\"No target row for reaction '{rxn}' – skipped\")\n",
      "/home/calvin/code/vibe_cmpnn/dataset.py:600: UserWarning: No target row for reaction 'rmg_rxn_151' – skipped\n",
      "  warnings.warn(f\"No target row for reaction '{rxn}' – skipped\")\n",
      "/home/calvin/code/vibe_cmpnn/dataset.py:600: UserWarning: No target row for reaction 'rmg_rxn_1532' – skipped\n",
      "  warnings.warn(f\"No target row for reaction '{rxn}' – skipped\")\n",
      "/home/calvin/code/vibe_cmpnn/dataset.py:600: UserWarning: No target row for reaction 'rmg_rxn_15371' – skipped\n",
      "  warnings.warn(f\"No target row for reaction '{rxn}' – skipped\")\n",
      "/home/calvin/code/vibe_cmpnn/dataset.py:600: UserWarning: No target row for reaction 'rmg_rxn_15397' – skipped\n",
      "  warnings.warn(f\"No target row for reaction '{rxn}' – skipped\")\n",
      "/home/calvin/code/vibe_cmpnn/dataset.py:600: UserWarning: No target row for reaction 'rmg_rxn_15418' – skipped\n",
      "  warnings.warn(f\"No target row for reaction '{rxn}' – skipped\")\n",
      "/home/calvin/code/vibe_cmpnn/dataset.py:600: UserWarning: No target row for reaction 'rmg_rxn_15565' – skipped\n",
      "  warnings.warn(f\"No target row for reaction '{rxn}' – skipped\")\n",
      "/home/calvin/code/vibe_cmpnn/dataset.py:600: UserWarning: No target row for reaction 'rmg_rxn_15591' – skipped\n",
      "  warnings.warn(f\"No target row for reaction '{rxn}' – skipped\")\n",
      "/home/calvin/code/vibe_cmpnn/dataset.py:600: UserWarning: No target row for reaction 'rmg_rxn_15612' – skipped\n",
      "  warnings.warn(f\"No target row for reaction '{rxn}' – skipped\")\n",
      "/home/calvin/code/vibe_cmpnn/dataset.py:600: UserWarning: No target row for reaction 'rmg_rxn_16491' – skipped\n",
      "  warnings.warn(f\"No target row for reaction '{rxn}' – skipped\")\n",
      "/home/calvin/code/vibe_cmpnn/dataset.py:600: UserWarning: No target row for reaction 'rmg_rxn_16513' – skipped\n",
      "  warnings.warn(f\"No target row for reaction '{rxn}' – skipped\")\n",
      "/home/calvin/code/vibe_cmpnn/dataset.py:600: UserWarning: No target row for reaction 'rmg_rxn_16522' – skipped\n",
      "  warnings.warn(f\"No target row for reaction '{rxn}' – skipped\")\n",
      "/home/calvin/code/vibe_cmpnn/dataset.py:600: UserWarning: No target row for reaction 'rmg_rxn_16785' – skipped\n",
      "  warnings.warn(f\"No target row for reaction '{rxn}' – skipped\")\n",
      "/home/calvin/code/vibe_cmpnn/dataset.py:600: UserWarning: No target row for reaction 'rmg_rxn_16791' – skipped\n",
      "  warnings.warn(f\"No target row for reaction '{rxn}' – skipped\")\n",
      "/home/calvin/code/vibe_cmpnn/dataset.py:600: UserWarning: No target row for reaction 'rmg_rxn_169' – skipped\n",
      "  warnings.warn(f\"No target row for reaction '{rxn}' – skipped\")\n",
      "/home/calvin/code/vibe_cmpnn/dataset.py:600: UserWarning: No target row for reaction 'rmg_rxn_188' – skipped\n",
      "  warnings.warn(f\"No target row for reaction '{rxn}' – skipped\")\n",
      "/home/calvin/code/vibe_cmpnn/dataset.py:600: UserWarning: No target row for reaction 'rmg_rxn_207' – skipped\n",
      "  warnings.warn(f\"No target row for reaction '{rxn}' – skipped\")\n",
      "/home/calvin/code/vibe_cmpnn/dataset.py:600: UserWarning: No target row for reaction 'rmg_rxn_21' – skipped\n",
      "  warnings.warn(f\"No target row for reaction '{rxn}' – skipped\")\n",
      "/home/calvin/code/vibe_cmpnn/dataset.py:600: UserWarning: No target row for reaction 'rmg_rxn_227' – skipped\n",
      "  warnings.warn(f\"No target row for reaction '{rxn}' – skipped\")\n",
      "/home/calvin/code/vibe_cmpnn/dataset.py:600: UserWarning: No target row for reaction 'rmg_rxn_248' – skipped\n",
      "  warnings.warn(f\"No target row for reaction '{rxn}' – skipped\")\n",
      "/home/calvin/code/vibe_cmpnn/dataset.py:600: UserWarning: No target row for reaction 'rmg_rxn_270' – skipped\n",
      "  warnings.warn(f\"No target row for reaction '{rxn}' – skipped\")\n",
      "/home/calvin/code/vibe_cmpnn/dataset.py:600: UserWarning: No target row for reaction 'rmg_rxn_28' – skipped\n",
      "  warnings.warn(f\"No target row for reaction '{rxn}' – skipped\")\n",
      "/home/calvin/code/vibe_cmpnn/dataset.py:600: UserWarning: No target row for reaction 'rmg_rxn_293' – skipped\n",
      "  warnings.warn(f\"No target row for reaction '{rxn}' – skipped\")\n",
      "/home/calvin/code/vibe_cmpnn/dataset.py:600: UserWarning: No target row for reaction 'rmg_rxn_3' – skipped\n",
      "  warnings.warn(f\"No target row for reaction '{rxn}' – skipped\")\n",
      "/home/calvin/code/vibe_cmpnn/dataset.py:600: UserWarning: No target row for reaction 'rmg_rxn_36' – skipped\n",
      "  warnings.warn(f\"No target row for reaction '{rxn}' – skipped\")\n",
      "/home/calvin/code/vibe_cmpnn/dataset.py:600: UserWarning: No target row for reaction 'rmg_rxn_364' – skipped\n",
      "  warnings.warn(f\"No target row for reaction '{rxn}' – skipped\")\n",
      "/home/calvin/code/vibe_cmpnn/dataset.py:600: UserWarning: No target row for reaction 'rmg_rxn_370' – skipped\n",
      "  warnings.warn(f\"No target row for reaction '{rxn}' – skipped\")\n",
      "/home/calvin/code/vibe_cmpnn/dataset.py:600: UserWarning: No target row for reaction 'rmg_rxn_371' – skipped\n",
      "  warnings.warn(f\"No target row for reaction '{rxn}' – skipped\")\n",
      "/home/calvin/code/vibe_cmpnn/dataset.py:600: UserWarning: No target row for reaction 'rmg_rxn_374' – skipped\n",
      "  warnings.warn(f\"No target row for reaction '{rxn}' – skipped\")\n",
      "/home/calvin/code/vibe_cmpnn/dataset.py:600: UserWarning: No target row for reaction 'rmg_rxn_376' – skipped\n",
      "  warnings.warn(f\"No target row for reaction '{rxn}' – skipped\")\n",
      "/home/calvin/code/vibe_cmpnn/dataset.py:600: UserWarning: No target row for reaction 'rmg_rxn_377' – skipped\n",
      "  warnings.warn(f\"No target row for reaction '{rxn}' – skipped\")\n",
      "/home/calvin/code/vibe_cmpnn/dataset.py:600: UserWarning: No target row for reaction 'rmg_rxn_379' – skipped\n",
      "  warnings.warn(f\"No target row for reaction '{rxn}' – skipped\")\n",
      "/home/calvin/code/vibe_cmpnn/dataset.py:600: UserWarning: No target row for reaction 'rmg_rxn_381' – skipped\n",
      "  warnings.warn(f\"No target row for reaction '{rxn}' – skipped\")\n",
      "/home/calvin/code/vibe_cmpnn/dataset.py:600: UserWarning: No target row for reaction 'rmg_rxn_382' – skipped\n",
      "  warnings.warn(f\"No target row for reaction '{rxn}' – skipped\")\n",
      "/home/calvin/code/vibe_cmpnn/dataset.py:600: UserWarning: No target row for reaction 'rmg_rxn_383' – skipped\n",
      "  warnings.warn(f\"No target row for reaction '{rxn}' – skipped\")\n",
      "/home/calvin/code/vibe_cmpnn/dataset.py:600: UserWarning: No target row for reaction 'rmg_rxn_384' – skipped\n",
      "  warnings.warn(f\"No target row for reaction '{rxn}' – skipped\")\n",
      "/home/calvin/code/vibe_cmpnn/dataset.py:600: UserWarning: No target row for reaction 'rmg_rxn_387' – skipped\n",
      "  warnings.warn(f\"No target row for reaction '{rxn}' – skipped\")\n",
      "/home/calvin/code/vibe_cmpnn/dataset.py:600: UserWarning: No target row for reaction 'rmg_rxn_388' – skipped\n",
      "  warnings.warn(f\"No target row for reaction '{rxn}' – skipped\")\n",
      "/home/calvin/code/vibe_cmpnn/dataset.py:600: UserWarning: No target row for reaction 'rmg_rxn_390' – skipped\n",
      "  warnings.warn(f\"No target row for reaction '{rxn}' – skipped\")\n",
      "/home/calvin/code/vibe_cmpnn/dataset.py:600: UserWarning: No target row for reaction 'rmg_rxn_391' – skipped\n",
      "  warnings.warn(f\"No target row for reaction '{rxn}' – skipped\")\n",
      "/home/calvin/code/vibe_cmpnn/dataset.py:600: UserWarning: No target row for reaction 'rmg_rxn_392' – skipped\n",
      "  warnings.warn(f\"No target row for reaction '{rxn}' – skipped\")\n",
      "/home/calvin/code/vibe_cmpnn/dataset.py:600: UserWarning: No target row for reaction 'rmg_rxn_394' – skipped\n",
      "  warnings.warn(f\"No target row for reaction '{rxn}' – skipped\")\n",
      "/home/calvin/code/vibe_cmpnn/dataset.py:600: UserWarning: No target row for reaction 'rmg_rxn_395' – skipped\n",
      "  warnings.warn(f\"No target row for reaction '{rxn}' – skipped\")\n",
      "/home/calvin/code/vibe_cmpnn/dataset.py:600: UserWarning: No target row for reaction 'rmg_rxn_396' – skipped\n",
      "  warnings.warn(f\"No target row for reaction '{rxn}' – skipped\")\n",
      "/home/calvin/code/vibe_cmpnn/dataset.py:600: UserWarning: No target row for reaction 'rmg_rxn_4' – skipped\n",
      "  warnings.warn(f\"No target row for reaction '{rxn}' – skipped\")\n",
      "/home/calvin/code/vibe_cmpnn/dataset.py:600: UserWarning: No target row for reaction 'rmg_rxn_498' – skipped\n",
      "  warnings.warn(f\"No target row for reaction '{rxn}' – skipped\")\n",
      "/home/calvin/code/vibe_cmpnn/dataset.py:600: UserWarning: No target row for reaction 'rmg_rxn_499' – skipped\n",
      "  warnings.warn(f\"No target row for reaction '{rxn}' – skipped\")\n",
      "/home/calvin/code/vibe_cmpnn/dataset.py:600: UserWarning: No target row for reaction 'rmg_rxn_500' – skipped\n",
      "  warnings.warn(f\"No target row for reaction '{rxn}' – skipped\")\n",
      "/home/calvin/code/vibe_cmpnn/dataset.py:600: UserWarning: No target row for reaction 'rmg_rxn_501' – skipped\n",
      "  warnings.warn(f\"No target row for reaction '{rxn}' – skipped\")\n",
      "/home/calvin/code/vibe_cmpnn/dataset.py:600: UserWarning: No target row for reaction 'rmg_rxn_504' – skipped\n",
      "  warnings.warn(f\"No target row for reaction '{rxn}' – skipped\")\n",
      "/home/calvin/code/vibe_cmpnn/dataset.py:600: UserWarning: No target row for reaction 'rmg_rxn_505' – skipped\n",
      "  warnings.warn(f\"No target row for reaction '{rxn}' – skipped\")\n",
      "/home/calvin/code/vibe_cmpnn/dataset.py:600: UserWarning: No target row for reaction 'rmg_rxn_506' – skipped\n",
      "  warnings.warn(f\"No target row for reaction '{rxn}' – skipped\")\n",
      "/home/calvin/code/vibe_cmpnn/dataset.py:600: UserWarning: No target row for reaction 'rmg_rxn_507' – skipped\n",
      "  warnings.warn(f\"No target row for reaction '{rxn}' – skipped\")\n",
      "/home/calvin/code/vibe_cmpnn/dataset.py:600: UserWarning: No target row for reaction 'rmg_rxn_508' – skipped\n",
      "  warnings.warn(f\"No target row for reaction '{rxn}' – skipped\")\n",
      "/home/calvin/code/vibe_cmpnn/dataset.py:600: UserWarning: No target row for reaction 'rmg_rxn_509' – skipped\n",
      "  warnings.warn(f\"No target row for reaction '{rxn}' – skipped\")\n",
      "/home/calvin/code/vibe_cmpnn/dataset.py:600: UserWarning: No target row for reaction 'rmg_rxn_511' – skipped\n",
      "  warnings.warn(f\"No target row for reaction '{rxn}' – skipped\")\n",
      "/home/calvin/code/vibe_cmpnn/dataset.py:600: UserWarning: No target row for reaction 'rmg_rxn_512' – skipped\n",
      "  warnings.warn(f\"No target row for reaction '{rxn}' – skipped\")\n",
      "/home/calvin/code/vibe_cmpnn/dataset.py:600: UserWarning: No target row for reaction 'rmg_rxn_513' – skipped\n",
      "  warnings.warn(f\"No target row for reaction '{rxn}' – skipped\")\n",
      "/home/calvin/code/vibe_cmpnn/dataset.py:600: UserWarning: No target row for reaction 'rmg_rxn_53' – skipped\n",
      "  warnings.warn(f\"No target row for reaction '{rxn}' – skipped\")\n",
      "/home/calvin/code/vibe_cmpnn/dataset.py:600: UserWarning: No target row for reaction 'rmg_rxn_55' – skipped\n",
      "  warnings.warn(f\"No target row for reaction '{rxn}' – skipped\")\n",
      "/home/calvin/code/vibe_cmpnn/dataset.py:600: UserWarning: No target row for reaction 'rmg_rxn_550' – skipped\n",
      "  warnings.warn(f\"No target row for reaction '{rxn}' – skipped\")\n",
      "/home/calvin/code/vibe_cmpnn/dataset.py:600: UserWarning: No target row for reaction 'rmg_rxn_6' – skipped\n",
      "  warnings.warn(f\"No target row for reaction '{rxn}' – skipped\")\n",
      "/home/calvin/code/vibe_cmpnn/dataset.py:600: UserWarning: No target row for reaction 'rmg_rxn_642' – skipped\n",
      "  warnings.warn(f\"No target row for reaction '{rxn}' – skipped\")\n",
      "/home/calvin/code/vibe_cmpnn/dataset.py:600: UserWarning: No target row for reaction 'rmg_rxn_648' – skipped\n",
      "  warnings.warn(f\"No target row for reaction '{rxn}' – skipped\")\n",
      "/home/calvin/code/vibe_cmpnn/dataset.py:600: UserWarning: No target row for reaction 'rmg_rxn_652' – skipped\n",
      "  warnings.warn(f\"No target row for reaction '{rxn}' – skipped\")\n",
      "/home/calvin/code/vibe_cmpnn/dataset.py:600: UserWarning: No target row for reaction 'rmg_rxn_678' – skipped\n",
      "  warnings.warn(f\"No target row for reaction '{rxn}' – skipped\")\n",
      "/home/calvin/code/vibe_cmpnn/dataset.py:600: UserWarning: No target row for reaction 'rmg_rxn_688' – skipped\n",
      "  warnings.warn(f\"No target row for reaction '{rxn}' – skipped\")\n",
      "/home/calvin/code/vibe_cmpnn/dataset.py:600: UserWarning: No target row for reaction 'rmg_rxn_76' – skipped\n",
      "  warnings.warn(f\"No target row for reaction '{rxn}' – skipped\")\n",
      "/home/calvin/code/vibe_cmpnn/dataset.py:600: UserWarning: No target row for reaction 'rmg_rxn_760' – skipped\n",
      "  warnings.warn(f\"No target row for reaction '{rxn}' – skipped\")\n",
      "/home/calvin/code/vibe_cmpnn/dataset.py:600: UserWarning: No target row for reaction 'rmg_rxn_89' – skipped\n",
      "  warnings.warn(f\"No target row for reaction '{rxn}' – skipped\")\n",
      "/home/calvin/code/vibe_cmpnn/dataset.py:600: UserWarning: No target row for reaction 'rxn_1222' – skipped\n",
      "  warnings.warn(f\"No target row for reaction '{rxn}' – skipped\")\n",
      "/home/calvin/code/vibe_cmpnn/dataset.py:600: UserWarning: No target row for reaction 'rxn_131' – skipped\n",
      "  warnings.warn(f\"No target row for reaction '{rxn}' – skipped\")\n",
      "/home/calvin/code/vibe_cmpnn/dataset.py:600: UserWarning: No target row for reaction 'rxn_132' – skipped\n",
      "  warnings.warn(f\"No target row for reaction '{rxn}' – skipped\")\n",
      "/home/calvin/code/vibe_cmpnn/dataset.py:600: UserWarning: No target row for reaction 'rxn_133' – skipped\n",
      "  warnings.warn(f\"No target row for reaction '{rxn}' – skipped\")\n",
      "/home/calvin/code/vibe_cmpnn/dataset.py:600: UserWarning: No target row for reaction 'rxn_135' – skipped\n",
      "  warnings.warn(f\"No target row for reaction '{rxn}' – skipped\")\n",
      "/home/calvin/code/vibe_cmpnn/dataset.py:600: UserWarning: No target row for reaction 'rxn_139' – skipped\n",
      "  warnings.warn(f\"No target row for reaction '{rxn}' – skipped\")\n",
      "/home/calvin/code/vibe_cmpnn/dataset.py:600: UserWarning: No target row for reaction 'rxn_143' – skipped\n",
      "  warnings.warn(f\"No target row for reaction '{rxn}' – skipped\")\n",
      "/home/calvin/code/vibe_cmpnn/dataset.py:600: UserWarning: No target row for reaction 'rxn_144' – skipped\n",
      "  warnings.warn(f\"No target row for reaction '{rxn}' – skipped\")\n",
      "/home/calvin/code/vibe_cmpnn/dataset.py:600: UserWarning: No target row for reaction 'rxn_147' – skipped\n",
      "  warnings.warn(f\"No target row for reaction '{rxn}' – skipped\")\n",
      "/home/calvin/code/vibe_cmpnn/dataset.py:600: UserWarning: No target row for reaction 'rxn_149' – skipped\n",
      "  warnings.warn(f\"No target row for reaction '{rxn}' – skipped\")\n",
      "/home/calvin/code/vibe_cmpnn/dataset.py:600: UserWarning: No target row for reaction 'rxn_151' – skipped\n",
      "  warnings.warn(f\"No target row for reaction '{rxn}' – skipped\")\n",
      "/home/calvin/code/vibe_cmpnn/dataset.py:600: UserWarning: No target row for reaction 'rxn_153' – skipped\n",
      "  warnings.warn(f\"No target row for reaction '{rxn}' – skipped\")\n",
      "/home/calvin/code/vibe_cmpnn/dataset.py:600: UserWarning: No target row for reaction 'rxn_155' – skipped\n",
      "  warnings.warn(f\"No target row for reaction '{rxn}' – skipped\")\n",
      "/home/calvin/code/vibe_cmpnn/dataset.py:600: UserWarning: No target row for reaction 'rxn_161' – skipped\n",
      "  warnings.warn(f\"No target row for reaction '{rxn}' – skipped\")\n",
      "/home/calvin/code/vibe_cmpnn/dataset.py:600: UserWarning: No target row for reaction 'rxn_166' – skipped\n",
      "  warnings.warn(f\"No target row for reaction '{rxn}' – skipped\")\n",
      "/home/calvin/code/vibe_cmpnn/dataset.py:600: UserWarning: No target row for reaction 'rxn_168' – skipped\n",
      "  warnings.warn(f\"No target row for reaction '{rxn}' – skipped\")\n",
      "/home/calvin/code/vibe_cmpnn/dataset.py:600: UserWarning: No target row for reaction 'rxn_170' – skipped\n",
      "  warnings.warn(f\"No target row for reaction '{rxn}' – skipped\")\n",
      "/home/calvin/code/vibe_cmpnn/dataset.py:600: UserWarning: No target row for reaction 'rxn_193' – skipped\n",
      "  warnings.warn(f\"No target row for reaction '{rxn}' – skipped\")\n",
      "/home/calvin/code/vibe_cmpnn/dataset.py:600: UserWarning: No target row for reaction 'rxn_225' – skipped\n",
      "  warnings.warn(f\"No target row for reaction '{rxn}' – skipped\")\n",
      "/home/calvin/code/vibe_cmpnn/dataset.py:600: UserWarning: No target row for reaction 'rxn_230' – skipped\n",
      "  warnings.warn(f\"No target row for reaction '{rxn}' – skipped\")\n",
      "/home/calvin/code/vibe_cmpnn/dataset.py:600: UserWarning: No target row for reaction 'rxn_233' – skipped\n",
      "  warnings.warn(f\"No target row for reaction '{rxn}' – skipped\")\n",
      "/home/calvin/code/vibe_cmpnn/dataset.py:600: UserWarning: No target row for reaction 'rxn_264' – skipped\n",
      "  warnings.warn(f\"No target row for reaction '{rxn}' – skipped\")\n",
      "/home/calvin/code/vibe_cmpnn/dataset.py:600: UserWarning: No target row for reaction 'rxn_265' – skipped\n",
      "  warnings.warn(f\"No target row for reaction '{rxn}' – skipped\")\n",
      "/home/calvin/code/vibe_cmpnn/dataset.py:600: UserWarning: No target row for reaction 'rxn_266' – skipped\n",
      "  warnings.warn(f\"No target row for reaction '{rxn}' – skipped\")\n",
      "/home/calvin/code/vibe_cmpnn/dataset.py:600: UserWarning: No target row for reaction 'rxn_342' – skipped\n",
      "  warnings.warn(f\"No target row for reaction '{rxn}' – skipped\")\n",
      "/home/calvin/code/vibe_cmpnn/dataset.py:600: UserWarning: No target row for reaction 'rxn_42' – skipped\n",
      "  warnings.warn(f\"No target row for reaction '{rxn}' – skipped\")\n",
      "/home/calvin/code/vibe_cmpnn/dataset.py:600: UserWarning: No target row for reaction 'rxn_52' – skipped\n",
      "  warnings.warn(f\"No target row for reaction '{rxn}' – skipped\")\n",
      "/home/calvin/code/vibe_cmpnn/dataset.py:600: UserWarning: No target row for reaction 'rxn_673' – skipped\n",
      "  warnings.warn(f\"No target row for reaction '{rxn}' – skipped\")\n",
      "/home/calvin/code/vibe_cmpnn/dataset.py:600: UserWarning: No target row for reaction 'rxn_683' – skipped\n",
      "  warnings.warn(f\"No target row for reaction '{rxn}' – skipped\")\n",
      "/home/calvin/code/vibe_cmpnn/dataset.py:600: UserWarning: No target row for reaction 'rxn_691' – skipped\n",
      "  warnings.warn(f\"No target row for reaction '{rxn}' – skipped\")\n",
      "/home/calvin/code/vibe_cmpnn/dataset.py:600: UserWarning: No target row for reaction 'rxn_776' – skipped\n",
      "  warnings.warn(f\"No target row for reaction '{rxn}' – skipped\")\n",
      "/home/calvin/code/vibe_cmpnn/dataset.py:600: UserWarning: No target row for reaction 'rxn_781' – skipped\n",
      "  warnings.warn(f\"No target row for reaction '{rxn}' – skipped\")\n",
      "/home/calvin/code/vibe_cmpnn/dataset.py:600: UserWarning: No target row for reaction 'rxn_92' – skipped\n",
      "  warnings.warn(f\"No target row for reaction '{rxn}' – skipped\")\n",
      "Done!\n"
     ]
    }
   ],
   "source": [
    "\n",
    "ds = MultiCMPNNDatasetSDF(\n",
    "    root,\n",
    "    sdf_files=sdf_dir,\n",
    "    target_df=targets,\n",
    "    target_cols=target_cols,\n",
    "    target_types=target_types,\n",
    "    atom_messages=True,\n",
    "    keep_hs=True,\n",
    "    sanitize=False,\n",
    "    force_reload=True,\n",
    "    prune_value=-10,\n",
    "    atom_extra_feats=\"/home/calvin/code/chemprop_phd_customised/habnet/data/preprocessing/all_sdf_features.csv\",\n",
    "    rbf_num_centers=16,\n",
    "    # global_featurizer= CompositeGlobalFeaturizer(\n",
    "    #     featurizers=[\n",
    "    #         MorganBinaryFeaturizer(radius=2, length=2048),\n",
    "    #         RDKit2DNormalizedFeaturizer(),\n",
    "    #     ]\n",
    "    # ),\n",
    "    # pre_transform=PeriodicToSinCosGaussianJitter(target_cols, target_types, radians = False, ignore_val=-10, max_jitter_deg = 10)\n",
    ")"
   ]
  },
  {
   "cell_type": "code",
   "execution_count": 6,
   "id": "cbb4cc9c",
   "metadata": {},
   "outputs": [
    {
     "data": {
      "text/plain": [
       "(Data(x=[7, 133], edge_index=[2, 14], edge_attr=[14, 12], y=[3], name='r1h', reaction='kfir_rxn_10218'),\n",
       " Data(x=[8, 133], edge_index=[2, 14], edge_attr=[14, 12], y=[3], name='r2h', reaction='kfir_rxn_10218'))"
      ]
     },
     "execution_count": 6,
     "metadata": {},
     "output_type": "execute_result"
    }
   ],
   "source": [
    "ds[0]"
   ]
  },
  {
   "cell_type": "code",
   "execution_count": 7,
   "id": "aa340326",
   "metadata": {},
   "outputs": [
    {
     "name": "stdout",
     "output_type": "stream",
     "text": [
      "train: 1359, val: 170, test: 170\n"
     ]
    }
   ],
   "source": [
    "train_idx, val_idx, test_idx = random_split_indices(ds, 0.1, 0.1)\n",
    "\n",
    "print(f\"train: {len(train_idx)}, val: {len(val_idx)}, test: {len(test_idx)}\")"
   ]
  },
  {
   "cell_type": "code",
   "execution_count": 8,
   "id": "5cb176cf",
   "metadata": {},
   "outputs": [],
   "source": [
    "ds.attach_atom_extra_features(train_idx)"
   ]
  },
  {
   "cell_type": "code",
   "execution_count": 9,
   "id": "a8f063db",
   "metadata": {},
   "outputs": [
    {
     "data": {
      "text/plain": [
       "tensor([[ 0.0000,  0.0000,  0.0000,  ...,  0.0000,  1.0000, -0.3179],\n",
       "        [ 0.0000,  0.0000,  0.0000,  ...,  0.0000,  0.0000,  0.0000],\n",
       "        [ 0.0000,  0.0000,  0.0000,  ...,  0.0000,  0.0000,  0.0000],\n",
       "        ...,\n",
       "        [ 1.0000,  0.0000,  0.0000,  ...,  0.0000,  0.0000,  0.0000],\n",
       "        [ 1.0000,  0.0000,  0.0000,  ...,  0.0000,  0.0000,  0.0000],\n",
       "        [ 1.0000,  0.0000,  0.0000,  ...,  0.0000,  0.0000,  0.0000]])"
      ]
     },
     "execution_count": 9,
     "metadata": {},
     "output_type": "execute_result"
    }
   ],
   "source": [
    "ds[0][0].x"
   ]
  },
  {
   "cell_type": "code",
   "execution_count": 10,
   "id": "160b3ae1",
   "metadata": {},
   "outputs": [],
   "source": [
    "ds.compute_normalization(train_idx)\n",
    "ds.apply_normalization()"
   ]
  },
  {
   "cell_type": "code",
   "execution_count": null,
   "id": "e5314225",
   "metadata": {},
   "outputs": [],
   "source": []
  },
  {
   "cell_type": "code",
   "execution_count": 11,
   "id": "3195f087",
   "metadata": {},
   "outputs": [
    {
     "data": {
      "text/plain": [
       "tensor([3.0472, 0.7595, 0.9967])"
      ]
     },
     "execution_count": 11,
     "metadata": {},
     "output_type": "execute_result"
    }
   ],
   "source": [
    "ds.std"
   ]
  },
  {
   "cell_type": "code",
   "execution_count": 12,
   "id": "3699bbe2",
   "metadata": {},
   "outputs": [],
   "source": [
    "train_ds = Subset(ds, train_idx)\n",
    "val_ds   = Subset(ds, val_idx)\n",
    "test_ds  = Subset(ds, test_idx)"
   ]
  },
  {
   "cell_type": "code",
   "execution_count": 13,
   "id": "d8bc4ffa",
   "metadata": {},
   "outputs": [],
   "source": [
    "from utils_paired import collate_pairs\n",
    "# Use pytorch pure data loader\n",
    "from torch.utils.data import DataLoader\n",
    "# 7) create dataloaders\n",
    "train_loader = DataLoader(train_ds, batch_size=64, shuffle=True, collate_fn=collate_pairs)\n",
    "val_loader = DataLoader(val_ds, batch_size=32, shuffle=False, collate_fn=collate_pairs)\n",
    "test_loader = DataLoader(test_ds, batch_size=32, shuffle=False, collate_fn=collate_pairs)"
   ]
  },
  {
   "cell_type": "code",
   "execution_count": 14,
   "id": "774c82ec",
   "metadata": {},
   "outputs": [
    {
     "name": "stdout",
     "output_type": "stream",
     "text": [
      "<class 'abc.DataBatch'> 8\n"
     ]
    },
    {
     "data": {
      "text/plain": [
       "tensor([[ 6.0873e-05, -7.8794e-01, -7.0759e-01],\n",
       "        [ 6.0873e-05, -7.8794e-01, -7.0759e-01],\n",
       "        [-7.3184e-01,  7.7587e-01,  5.4305e-01],\n",
       "        [-7.3184e-01,  7.7587e-01,  5.4305e-01],\n",
       "        [ 8.6991e-01, -6.3669e-01,  1.6171e+00],\n",
       "        [ 8.6991e-01, -6.3669e-01,  1.6171e+00],\n",
       "        [ 1.2772e+00, -1.2115e+00, -1.3935e-01],\n",
       "        [ 1.2772e+00, -1.2115e+00, -1.3935e-01]])"
      ]
     },
     "execution_count": 14,
     "metadata": {},
     "output_type": "execute_result"
    }
   ],
   "source": [
    "from utils_paired import collate_pairs\n",
    "# Use pytorch pure data loader\n",
    "from torch.utils.data import DataLoader\n",
    "# 7) create dataloaders\n",
    "train_loader = DataLoader(train_ds, batch_size=64, shuffle=True, collate_fn=collate_pairs)\n",
    "val_loader = DataLoader(val_ds, batch_size=32, shuffle=False, collate_fn=collate_pairs)\n",
    "test_loader = DataLoader(test_ds, batch_size=32, shuffle=False, collate_fn=collate_pairs)\n",
    "sample_pairs = [train_ds[i] for i in range(4)]   # 4 tuple-pairs\n",
    "batch        = collate_pairs(sample_pairs)       # now returns one Batch\n",
    "print(type(batch), batch.num_graphs)             # Batch 8\n",
    "\n",
    "batch.num_graphs\n",
    "batch.y"
   ]
  },
  {
   "cell_type": "code",
   "execution_count": 15,
   "id": "322a9b55",
   "metadata": {},
   "outputs": [],
   "source": [
    "from torchmetrics import MeanSquaredError, MeanAbsoluteError, R2Score\n",
    "# Check device\n",
    "import torch\n",
    "device = \"cuda\" if torch.cuda.is_available() else \"cpu\""
   ]
  },
  {
   "cell_type": "code",
   "execution_count": 16,
   "id": "c2c6a1e8",
   "metadata": {},
   "outputs": [
    {
     "data": {
      "text/plain": [
       "tensor([-2.7779,  4.3410, -0.0540])"
      ]
     },
     "execution_count": 16,
     "metadata": {},
     "output_type": "execute_result"
    }
   ],
   "source": [
    "ds.mean"
   ]
  },
  {
   "cell_type": "code",
   "execution_count": 17,
   "id": "b9198995",
   "metadata": {},
   "outputs": [
    {
     "data": {
      "text/plain": [
       "tensor([3.0472, 0.7595, 0.9967])"
      ]
     },
     "execution_count": 17,
     "metadata": {},
     "output_type": "execute_result"
    }
   ],
   "source": [
    "ds.std"
   ]
  },
  {
   "cell_type": "code",
   "execution_count": 18,
   "id": "ca9819d6",
   "metadata": {},
   "outputs": [
    {
     "name": "stdout",
     "output_type": "stream",
     "text": [
      ">>> Model class created\n",
      ">>> Model instantiated\n"
     ]
    }
   ],
   "source": [
    "from metrics import MSE, RMSE, R2Score, MAE, AngularError, SinCosMSELoss, AngularMSELoss, PinballLoss\n",
    "print(\">>> Model class created\")\n",
    "model = MultiCMPNNLitModel(\n",
    "    in_node_feats=ds.num_atom_features,\n",
    "    in_edge_feats=ds.num_bond_features,\n",
    "    # in_global_feats=ds.global_feature_dim,\n",
    "    hidden_dim=1024,\n",
    "    num_steps=3,\n",
    "    dropout_mp=0.1,\n",
    "    dropout_head=0.1,\n",
    "    n_tasks=3,\n",
    "    #metrics=[AngularError()],\n",
    "    metrics = [\n",
    "    MSE (task_weights=[10,1,1]),          # primary mean loss\n",
    "    PinballLoss(q=0.9, task_weights=[10,1,1]),\n",
    "    RMSE([10,1,1]),\n",
    "    MAE ([10,1,1]),\n",
    "    R2Score([10,1,1])\n",
    "],\n",
    "    lr=1e-4,\n",
    "    weight_decay=1e-4,\n",
    "    target_mean=ds.mean,\n",
    "    target_std=ds.std,\n",
    "    mpn_shared=True,\n",
    "    target_types=target_types,\n",
    "    # ignore_val=-10,\n",
    "    jitter=False,\n",
    "    normalize_head=True,\n",
    "    readout=\"gru\",\n",
    "    X_d_transform=None,\n",
    "    mean_dir=ds.per_mean_dir,\n",
    "    pinball_weight=0.2\n",
    ")\n",
    "print(\">>> Model instantiated\")"
   ]
  },
  {
   "cell_type": "markdown",
   "id": "704578f6",
   "metadata": {},
   "source": [
    "| **3 · Copy the *same* alias in the full-epoch retrain** | When you build `final_models`, you again set no alias, so it’s now fine—just keep it consistent. | Nothing else to change once fix #1 is applied. |\n",
    "\n",
    "After those tweaks:\n",
    "\n",
    "### What will happen\n",
    "\n",
    "1. **50 trials × 60 epochs**  \n",
    "   *Optuna + Median pruner + WandB-offline* explore the space quickly.\n",
    "\n",
    "2. **Top-3 refit × 300 epochs**  \n",
    "   You rebuild the dataset with the trial’s own `atom_messages`, then train full fidelity. Their fresh `PinballLoss` receives, e.g. `q = 0.87` → alias `pinball_q87`, matching the detection code.\n",
    "\n",
    "3. **Results**  \n",
    "   `final_models` holds `(rank, final_val_loss, model)` so you can immediately run `trainer.test(final_models[0][2], test_loader)` or save the checkpoint.\n",
    "\n",
    "Everything else—dataset caching, offline logging, SQLite storage—works exactly as intended.\n",
    "\n",
    "Launch the script; if you open another terminal you can watch progress live:\n",
    "\n",
    "```bash\n",
    "optuna-dashboard sqlite:///cmpnn_optuna.db\n",
    "wandb offline view\n"
   ]
  },
  {
   "cell_type": "code",
   "execution_count": 19,
   "id": "7dedb4ec",
   "metadata": {},
   "outputs": [
    {
     "data": {
      "text/plain": [
       "MultiCMPNNLitModel(\n",
       "  (encoder): CMPNNEncoder(\n",
       "    (lin_node): Sequential(\n",
       "      (0): Linear(in_features=159, out_features=1024, bias=True)\n",
       "      (1): LayerNorm((1024,), eps=1e-05, elementwise_affine=True)\n",
       "    )\n",
       "    (lin_edge): Sequential(\n",
       "      (0): Linear(in_features=12, out_features=1024, bias=True)\n",
       "      (1): LayerNorm((1024,), eps=1e-05, elementwise_affine=True)\n",
       "    )\n",
       "    (dropout_mp): Dropout(p=0.1, inplace=False)\n",
       "    (dropout_head): Dropout(p=0.1, inplace=False)\n",
       "    (lin_x): Sequential(\n",
       "      (0): Linear(in_features=159, out_features=1024, bias=True)\n",
       "      (1): LayerNorm((1024,), eps=1e-05, elementwise_affine=True)\n",
       "    )\n",
       "    (node_updates): ModuleList(\n",
       "      (0-2): 3 x Linear(in_features=2048, out_features=1024, bias=True)\n",
       "    )\n",
       "    (node_norms): ModuleList(\n",
       "      (0-2): 3 x LayerNorm((1024,), eps=1e-05, elementwise_affine=True)\n",
       "    )\n",
       "    (edge_updates): ModuleList(\n",
       "      (0-2): 3 x Linear(in_features=1024, out_features=1024, bias=True)\n",
       "    )\n",
       "    (batch_gru): BatchGRUBooster(\n",
       "      (gru): GRU(1024, 1024, batch_first=True, bidirectional=True)\n",
       "    )\n",
       "    (booster_proj): Sequential(\n",
       "      (0): Linear(in_features=2048, out_features=1024, bias=True)\n",
       "      (1): LayerNorm((1024,), eps=1e-05, elementwise_affine=True)\n",
       "    )\n",
       "    (final_update): Sequential(\n",
       "      (0): Linear(in_features=3072, out_features=1024, bias=True)\n",
       "      (1): LayerNorm((1024,), eps=1e-05, elementwise_affine=True)\n",
       "    )\n",
       "    (readout_gru): GRU(1024, 1024, batch_first=True, bidirectional=True)\n",
       "    (graph_pred): Linear(in_features=2048, out_features=3, bias=True)\n",
       "    (graph_norm): BatchNorm1d(2048, eps=1e-05, momentum=0.1, affine=True, track_running_stats=True)\n",
       "  )\n",
       "  (head): RegressionHead(net=MLP(input_dim=4096, output_dim=3, hidden_dim=2048, n_layers=2, dropout=0.1), use_residual=True)\n",
       "  (metrics): ModuleDict(\n",
       "    (mse): MSE(alias=mse, task_weights=[10.0, 1.0, 1.0])\n",
       "    (pinball_q90): PinballLoss(alias=pinball_q90, task_weights=[10.0, 1.0, 1.0])\n",
       "    (rmse): RMSE(alias=rmse, task_weights=[10.0, 1.0, 1.0])\n",
       "    (mae): MAE(alias=mae, task_weights=[10.0, 1.0, 1.0])\n",
       "    (r2): R2Score()\n",
       "  )\n",
       "  (criterion): MSE(alias=mse, task_weights=[10.0, 1.0, 1.0])\n",
       ")"
      ]
     },
     "execution_count": 19,
     "metadata": {},
     "output_type": "execute_result"
    }
   ],
   "source": [
    "model"
   ]
  },
  {
   "cell_type": "code",
   "execution_count": 20,
   "id": "384b27d3",
   "metadata": {},
   "outputs": [
    {
     "name": "stdout",
     "output_type": "stream",
     "text": [
      "tensor([-2.7779,  4.3410, -0.0540])\n",
      "tensor([3.0472, 0.7595, 0.9967])\n"
     ]
    }
   ],
   "source": [
    "print(model.t_mean)\n",
    "print(model.t_std)"
   ]
  },
  {
   "cell_type": "code",
   "execution_count": 21,
   "id": "7d47bf51",
   "metadata": {},
   "outputs": [
    {
     "data": {
      "text/plain": [
       "RegressionHead(net=MLP(input_dim=4096, output_dim=3, hidden_dim=2048, n_layers=2, dropout=0.1), use_residual=True)"
      ]
     },
     "execution_count": 21,
     "metadata": {},
     "output_type": "execute_result"
    }
   ],
   "source": [
    "model.head"
   ]
  },
  {
   "cell_type": "code",
   "execution_count": 22,
   "id": "34d0c88e",
   "metadata": {},
   "outputs": [
    {
     "name": "stdout",
     "output_type": "stream",
     "text": [
      "torch.Size([128, 3])\n"
     ]
    }
   ],
   "source": [
    "for batch in train_loader:\n",
    "    print(batch.y.shape)\n",
    "    break"
   ]
  },
  {
   "cell_type": "code",
   "execution_count": 23,
   "id": "12e45259",
   "metadata": {},
   "outputs": [],
   "source": [
    "def reset_model_weights(model):\n",
    "    for module in model.modules():\n",
    "        if hasattr(module, 'reset_parameters'):\n",
    "            module.reset_parameters()\n",
    "\n",
    "reset_model_weights(model)"
   ]
  },
  {
   "cell_type": "code",
   "execution_count": 24,
   "id": "d9ffdcad",
   "metadata": {},
   "outputs": [
    {
     "name": "stderr",
     "output_type": "stream",
     "text": [
      "GPU available: True (cuda), used: True\n",
      "TPU available: False, using: 0 TPU cores\n",
      "HPU available: False, using: 0 HPUs\n",
      "You are using a CUDA device ('AMD Radeon RX 6600') that has Tensor Cores. To properly utilize them, you should set `torch.set_float32_matmul_precision('medium' | 'high')` which will trade-off precision for performance. For more details, read https://pytorch.org/docs/stable/generated/torch.set_float32_matmul_precision.html#torch.set_float32_matmul_precision\n",
      "LOCAL_RANK: 0 - CUDA_VISIBLE_DEVICES: [0]\n"
     ]
    },
    {
     "name": "stderr",
     "output_type": "stream",
     "text": [
      "\n",
      "  | Name      | Type           | Params | Mode \n",
      "-----------------------------------------------------\n",
      "0 | encoder   | CMPNNEncoder   | 40.2 M | train\n",
      "1 | head      | RegressionHead | 12.6 M | train\n",
      "2 | metrics   | ModuleDict     | 0      | train\n",
      "3 | criterion | MSE            | 0      | train\n",
      "-----------------------------------------------------\n",
      "52.9 M    Trainable params\n",
      "0         Non-trainable params\n",
      "52.9 M    Total params\n",
      "211.411   Total estimated model params size (MB)\n",
      "51        Modules in train mode\n",
      "0         Modules in eval mode\n",
      "/home/calvin/miniforge3/envs/dmpnn_rocm/lib/python3.10/site-packages/pytorch_lightning/core/saving.py:363: Skipping 'metrics' parameter because it is not possible to safely dump to YAML.\n"
     ]
    },
    {
     "data": {
      "application/vnd.jupyter.widget-view+json": {
       "model_id": "f7c7a25a8efe472f850776edbd374ea9",
       "version_major": 2,
       "version_minor": 0
      },
      "text/plain": [
       "Sanity Checking: |          | 0/? [00:00<?, ?it/s]"
      ]
     },
     "metadata": {},
     "output_type": "display_data"
    },
    {
     "name": "stderr",
     "output_type": "stream",
     "text": [
      "/home/calvin/miniforge3/envs/dmpnn_rocm/lib/python3.10/site-packages/pytorch_lightning/trainer/connectors/data_connector.py:425: The 'val_dataloader' does not have many workers which may be a bottleneck. Consider increasing the value of the `num_workers` argument` to `num_workers=19` in the `DataLoader` to improve performance.\n",
      "/home/calvin/miniforge3/envs/dmpnn_rocm/lib/python3.10/site-packages/torch/nn/modules/linear.py:125: UserWarning: Attempting to use hipBLASLt on an unsupported architecture! Overriding blas backend to hipblas (Triggered internally at /pytorch/aten/src/ATen/Context.cpp:310.)\n",
      "  return F.linear(input, self.weight, self.bias)\n",
      "/home/calvin/miniforge3/envs/dmpnn_rocm/lib/python3.10/site-packages/pytorch_lightning/trainer/connectors/data_connector.py:425: The 'train_dataloader' does not have many workers which may be a bottleneck. Consider increasing the value of the `num_workers` argument` to `num_workers=19` in the `DataLoader` to improve performance.\n"
     ]
    },
    {
     "data": {
      "application/vnd.jupyter.widget-view+json": {
       "model_id": "073f99a720f64a929c18ffb32729e784",
       "version_major": 2,
       "version_minor": 0
      },
      "text/plain": [
       "Training: |          | 0/? [00:00<?, ?it/s]"
      ]
     },
     "metadata": {},
     "output_type": "display_data"
    },
    {
     "data": {
      "application/vnd.jupyter.widget-view+json": {
       "model_id": "a31c53d0a4c347f99c6c676879be2379",
       "version_major": 2,
       "version_minor": 0
      },
      "text/plain": [
       "Validation: |          | 0/? [00:00<?, ?it/s]"
      ]
     },
     "metadata": {},
     "output_type": "display_data"
    },
    {
     "name": "stderr",
     "output_type": "stream",
     "text": [
      "Metric val_loss improved. New best score: 0.691\n"
     ]
    },
    {
     "data": {
      "application/vnd.jupyter.widget-view+json": {
       "model_id": "af44ba581f2e4a04b064257bb6e32187",
       "version_major": 2,
       "version_minor": 0
      },
      "text/plain": [
       "Validation: |          | 0/? [00:00<?, ?it/s]"
      ]
     },
     "metadata": {},
     "output_type": "display_data"
    },
    {
     "name": "stderr",
     "output_type": "stream",
     "text": [
      "Metric val_loss improved by 0.122 >= min_delta = 0.0. New best score: 0.569\n"
     ]
    },
    {
     "data": {
      "application/vnd.jupyter.widget-view+json": {
       "model_id": "52763e3e7d3a4d598adb109e1a637a7a",
       "version_major": 2,
       "version_minor": 0
      },
      "text/plain": [
       "Validation: |          | 0/? [00:00<?, ?it/s]"
      ]
     },
     "metadata": {},
     "output_type": "display_data"
    },
    {
     "name": "stderr",
     "output_type": "stream",
     "text": [
      "Metric val_loss improved by 0.049 >= min_delta = 0.0. New best score: 0.520\n"
     ]
    },
    {
     "data": {
      "application/vnd.jupyter.widget-view+json": {
       "model_id": "b15038332df54a12bcff20328fdba278",
       "version_major": 2,
       "version_minor": 0
      },
      "text/plain": [
       "Validation: |          | 0/? [00:00<?, ?it/s]"
      ]
     },
     "metadata": {},
     "output_type": "display_data"
    },
    {
     "name": "stderr",
     "output_type": "stream",
     "text": [
      "Metric val_loss improved by 0.080 >= min_delta = 0.0. New best score: 0.441\n"
     ]
    },
    {
     "data": {
      "application/vnd.jupyter.widget-view+json": {
       "model_id": "9ef96125dde74e49909a3f4b212575ef",
       "version_major": 2,
       "version_minor": 0
      },
      "text/plain": [
       "Validation: |          | 0/? [00:00<?, ?it/s]"
      ]
     },
     "metadata": {},
     "output_type": "display_data"
    },
    {
     "name": "stderr",
     "output_type": "stream",
     "text": [
      "Metric val_loss improved by 0.028 >= min_delta = 0.0. New best score: 0.412\n"
     ]
    },
    {
     "data": {
      "application/vnd.jupyter.widget-view+json": {
       "model_id": "8428c48af37744909222ae3de7d04c35",
       "version_major": 2,
       "version_minor": 0
      },
      "text/plain": [
       "Validation: |          | 0/? [00:00<?, ?it/s]"
      ]
     },
     "metadata": {},
     "output_type": "display_data"
    },
    {
     "data": {
      "application/vnd.jupyter.widget-view+json": {
       "model_id": "3cfbff169ff4453bb96055fe432a2508",
       "version_major": 2,
       "version_minor": 0
      },
      "text/plain": [
       "Validation: |          | 0/? [00:00<?, ?it/s]"
      ]
     },
     "metadata": {},
     "output_type": "display_data"
    },
    {
     "name": "stderr",
     "output_type": "stream",
     "text": [
      "Metric val_loss improved by 0.040 >= min_delta = 0.0. New best score: 0.372\n"
     ]
    },
    {
     "data": {
      "application/vnd.jupyter.widget-view+json": {
       "model_id": "ee4c71239df64e6ca55b92f2c5abdeba",
       "version_major": 2,
       "version_minor": 0
      },
      "text/plain": [
       "Validation: |          | 0/? [00:00<?, ?it/s]"
      ]
     },
     "metadata": {},
     "output_type": "display_data"
    },
    {
     "name": "stderr",
     "output_type": "stream",
     "text": [
      "Metric val_loss improved by 0.043 >= min_delta = 0.0. New best score: 0.329\n"
     ]
    },
    {
     "data": {
      "application/vnd.jupyter.widget-view+json": {
       "model_id": "e4aeee2429f343559c9aa606f6afb105",
       "version_major": 2,
       "version_minor": 0
      },
      "text/plain": [
       "Validation: |          | 0/? [00:00<?, ?it/s]"
      ]
     },
     "metadata": {},
     "output_type": "display_data"
    },
    {
     "name": "stderr",
     "output_type": "stream",
     "text": [
      "Metric val_loss improved by 0.008 >= min_delta = 0.0. New best score: 0.321\n"
     ]
    },
    {
     "data": {
      "application/vnd.jupyter.widget-view+json": {
       "model_id": "a91c4ec464114aaa958bef1485e0d0d9",
       "version_major": 2,
       "version_minor": 0
      },
      "text/plain": [
       "Validation: |          | 0/? [00:00<?, ?it/s]"
      ]
     },
     "metadata": {},
     "output_type": "display_data"
    },
    {
     "name": "stderr",
     "output_type": "stream",
     "text": [
      "Metric val_loss improved by 0.002 >= min_delta = 0.0. New best score: 0.318\n"
     ]
    },
    {
     "data": {
      "application/vnd.jupyter.widget-view+json": {
       "model_id": "2711c365641e44d29d03931dc0601e70",
       "version_major": 2,
       "version_minor": 0
      },
      "text/plain": [
       "Validation: |          | 0/? [00:00<?, ?it/s]"
      ]
     },
     "metadata": {},
     "output_type": "display_data"
    },
    {
     "name": "stderr",
     "output_type": "stream",
     "text": [
      "Metric val_loss improved by 0.038 >= min_delta = 0.0. New best score: 0.280\n"
     ]
    },
    {
     "data": {
      "application/vnd.jupyter.widget-view+json": {
       "model_id": "dbf8ac6d8916485d911d3fe44d3738b4",
       "version_major": 2,
       "version_minor": 0
      },
      "text/plain": [
       "Validation: |          | 0/? [00:00<?, ?it/s]"
      ]
     },
     "metadata": {},
     "output_type": "display_data"
    },
    {
     "name": "stderr",
     "output_type": "stream",
     "text": [
      "Metric val_loss improved by 0.009 >= min_delta = 0.0. New best score: 0.271\n"
     ]
    },
    {
     "data": {
      "application/vnd.jupyter.widget-view+json": {
       "model_id": "b281d060e4eb4366b2a934fca47290db",
       "version_major": 2,
       "version_minor": 0
      },
      "text/plain": [
       "Validation: |          | 0/? [00:00<?, ?it/s]"
      ]
     },
     "metadata": {},
     "output_type": "display_data"
    },
    {
     "name": "stderr",
     "output_type": "stream",
     "text": [
      "Metric val_loss improved by 0.045 >= min_delta = 0.0. New best score: 0.226\n"
     ]
    },
    {
     "data": {
      "application/vnd.jupyter.widget-view+json": {
       "model_id": "3f426db2030b4fe5bc2e8b0952393282",
       "version_major": 2,
       "version_minor": 0
      },
      "text/plain": [
       "Validation: |          | 0/? [00:00<?, ?it/s]"
      ]
     },
     "metadata": {},
     "output_type": "display_data"
    },
    {
     "name": "stderr",
     "output_type": "stream",
     "text": [
      "Metric val_loss improved by 0.007 >= min_delta = 0.0. New best score: 0.219\n"
     ]
    },
    {
     "data": {
      "application/vnd.jupyter.widget-view+json": {
       "model_id": "01d5127f55c94800a4dbf81fecd23101",
       "version_major": 2,
       "version_minor": 0
      },
      "text/plain": [
       "Validation: |          | 0/? [00:00<?, ?it/s]"
      ]
     },
     "metadata": {},
     "output_type": "display_data"
    },
    {
     "data": {
      "application/vnd.jupyter.widget-view+json": {
       "model_id": "abf29b59b07f47e9a6595bad7cfd5769",
       "version_major": 2,
       "version_minor": 0
      },
      "text/plain": [
       "Validation: |          | 0/? [00:00<?, ?it/s]"
      ]
     },
     "metadata": {},
     "output_type": "display_data"
    },
    {
     "data": {
      "application/vnd.jupyter.widget-view+json": {
       "model_id": "ebfdcf697ae2462a9d87df4749120c4d",
       "version_major": 2,
       "version_minor": 0
      },
      "text/plain": [
       "Validation: |          | 0/? [00:00<?, ?it/s]"
      ]
     },
     "metadata": {},
     "output_type": "display_data"
    },
    {
     "data": {
      "application/vnd.jupyter.widget-view+json": {
       "model_id": "2e5321f60d824a168a74ce14d6f0d618",
       "version_major": 2,
       "version_minor": 0
      },
      "text/plain": [
       "Validation: |          | 0/? [00:00<?, ?it/s]"
      ]
     },
     "metadata": {},
     "output_type": "display_data"
    },
    {
     "name": "stderr",
     "output_type": "stream",
     "text": [
      "Metric val_loss improved by 0.001 >= min_delta = 0.0. New best score: 0.218\n"
     ]
    },
    {
     "data": {
      "application/vnd.jupyter.widget-view+json": {
       "model_id": "e3e9595c8c0840d784fb929866613e3d",
       "version_major": 2,
       "version_minor": 0
      },
      "text/plain": [
       "Validation: |          | 0/? [00:00<?, ?it/s]"
      ]
     },
     "metadata": {},
     "output_type": "display_data"
    },
    {
     "name": "stderr",
     "output_type": "stream",
     "text": [
      "Metric val_loss improved by 0.011 >= min_delta = 0.0. New best score: 0.207\n"
     ]
    },
    {
     "data": {
      "application/vnd.jupyter.widget-view+json": {
       "model_id": "579b67c3bc81412abddced23d320f1be",
       "version_major": 2,
       "version_minor": 0
      },
      "text/plain": [
       "Validation: |          | 0/? [00:00<?, ?it/s]"
      ]
     },
     "metadata": {},
     "output_type": "display_data"
    },
    {
     "name": "stderr",
     "output_type": "stream",
     "text": [
      "Metric val_loss improved by 0.019 >= min_delta = 0.0. New best score: 0.188\n"
     ]
    },
    {
     "data": {
      "application/vnd.jupyter.widget-view+json": {
       "model_id": "db99c2624abb415f901cd35c4eefda18",
       "version_major": 2,
       "version_minor": 0
      },
      "text/plain": [
       "Validation: |          | 0/? [00:00<?, ?it/s]"
      ]
     },
     "metadata": {},
     "output_type": "display_data"
    },
    {
     "data": {
      "application/vnd.jupyter.widget-view+json": {
       "model_id": "3a7edc5f0aeb4723936b992470e01055",
       "version_major": 2,
       "version_minor": 0
      },
      "text/plain": [
       "Validation: |          | 0/? [00:00<?, ?it/s]"
      ]
     },
     "metadata": {},
     "output_type": "display_data"
    },
    {
     "data": {
      "application/vnd.jupyter.widget-view+json": {
       "model_id": "999552fbb74740a0adda3126e86cb264",
       "version_major": 2,
       "version_minor": 0
      },
      "text/plain": [
       "Validation: |          | 0/? [00:00<?, ?it/s]"
      ]
     },
     "metadata": {},
     "output_type": "display_data"
    },
    {
     "data": {
      "application/vnd.jupyter.widget-view+json": {
       "model_id": "1a7ccf2eb36f421a90587e399bc172a0",
       "version_major": 2,
       "version_minor": 0
      },
      "text/plain": [
       "Validation: |          | 0/? [00:00<?, ?it/s]"
      ]
     },
     "metadata": {},
     "output_type": "display_data"
    },
    {
     "data": {
      "application/vnd.jupyter.widget-view+json": {
       "model_id": "99b1b8251f8c4f1fbbe5fd2f42c87bd9",
       "version_major": 2,
       "version_minor": 0
      },
      "text/plain": [
       "Validation: |          | 0/? [00:00<?, ?it/s]"
      ]
     },
     "metadata": {},
     "output_type": "display_data"
    },
    {
     "name": "stderr",
     "output_type": "stream",
     "text": [
      "Metric val_loss improved by 0.021 >= min_delta = 0.0. New best score: 0.166\n"
     ]
    },
    {
     "data": {
      "application/vnd.jupyter.widget-view+json": {
       "model_id": "089957c3f3a2432291e14351dc3315e7",
       "version_major": 2,
       "version_minor": 0
      },
      "text/plain": [
       "Validation: |          | 0/? [00:00<?, ?it/s]"
      ]
     },
     "metadata": {},
     "output_type": "display_data"
    },
    {
     "data": {
      "application/vnd.jupyter.widget-view+json": {
       "model_id": "1c4628dc7a564f188cddbb5330300d40",
       "version_major": 2,
       "version_minor": 0
      },
      "text/plain": [
       "Validation: |          | 0/? [00:00<?, ?it/s]"
      ]
     },
     "metadata": {},
     "output_type": "display_data"
    },
    {
     "data": {
      "application/vnd.jupyter.widget-view+json": {
       "model_id": "1ae7c3cffb9a448ead1439a48c8bcfc0",
       "version_major": 2,
       "version_minor": 0
      },
      "text/plain": [
       "Validation: |          | 0/? [00:00<?, ?it/s]"
      ]
     },
     "metadata": {},
     "output_type": "display_data"
    },
    {
     "data": {
      "application/vnd.jupyter.widget-view+json": {
       "model_id": "a06268c736fe4caf8742d4def3141f54",
       "version_major": 2,
       "version_minor": 0
      },
      "text/plain": [
       "Validation: |          | 0/? [00:00<?, ?it/s]"
      ]
     },
     "metadata": {},
     "output_type": "display_data"
    },
    {
     "name": "stderr",
     "output_type": "stream",
     "text": [
      "Metric val_loss improved by 0.001 >= min_delta = 0.0. New best score: 0.165\n"
     ]
    },
    {
     "data": {
      "application/vnd.jupyter.widget-view+json": {
       "model_id": "54d66ee625c94088adc45eb0f1e87889",
       "version_major": 2,
       "version_minor": 0
      },
      "text/plain": [
       "Validation: |          | 0/? [00:00<?, ?it/s]"
      ]
     },
     "metadata": {},
     "output_type": "display_data"
    },
    {
     "data": {
      "application/vnd.jupyter.widget-view+json": {
       "model_id": "ece4b579bf144d3b88040cc53a0f1a5e",
       "version_major": 2,
       "version_minor": 0
      },
      "text/plain": [
       "Validation: |          | 0/? [00:00<?, ?it/s]"
      ]
     },
     "metadata": {},
     "output_type": "display_data"
    },
    {
     "name": "stderr",
     "output_type": "stream",
     "text": [
      "Metric val_loss improved by 0.005 >= min_delta = 0.0. New best score: 0.160\n"
     ]
    },
    {
     "data": {
      "application/vnd.jupyter.widget-view+json": {
       "model_id": "991e94672ffb4766a9bb104062b8f28c",
       "version_major": 2,
       "version_minor": 0
      },
      "text/plain": [
       "Validation: |          | 0/? [00:00<?, ?it/s]"
      ]
     },
     "metadata": {},
     "output_type": "display_data"
    },
    {
     "name": "stderr",
     "output_type": "stream",
     "text": [
      "Metric val_loss improved by 0.014 >= min_delta = 0.0. New best score: 0.145\n"
     ]
    },
    {
     "data": {
      "application/vnd.jupyter.widget-view+json": {
       "model_id": "58bee2b1e4294f76a74dddb16846537c",
       "version_major": 2,
       "version_minor": 0
      },
      "text/plain": [
       "Validation: |          | 0/? [00:00<?, ?it/s]"
      ]
     },
     "metadata": {},
     "output_type": "display_data"
    },
    {
     "data": {
      "application/vnd.jupyter.widget-view+json": {
       "model_id": "6bb20505f6094d7b9e8b5064ce8bddfe",
       "version_major": 2,
       "version_minor": 0
      },
      "text/plain": [
       "Validation: |          | 0/? [00:00<?, ?it/s]"
      ]
     },
     "metadata": {},
     "output_type": "display_data"
    },
    {
     "data": {
      "application/vnd.jupyter.widget-view+json": {
       "model_id": "7f8f154d0773421eb72fe7f700292be6",
       "version_major": 2,
       "version_minor": 0
      },
      "text/plain": [
       "Validation: |          | 0/? [00:00<?, ?it/s]"
      ]
     },
     "metadata": {},
     "output_type": "display_data"
    },
    {
     "data": {
      "application/vnd.jupyter.widget-view+json": {
       "model_id": "db772b52e4e44bf88cf30c0b701af96f",
       "version_major": 2,
       "version_minor": 0
      },
      "text/plain": [
       "Validation: |          | 0/? [00:00<?, ?it/s]"
      ]
     },
     "metadata": {},
     "output_type": "display_data"
    },
    {
     "name": "stderr",
     "output_type": "stream",
     "text": [
      "Metric val_loss improved by 0.021 >= min_delta = 0.0. New best score: 0.125\n"
     ]
    },
    {
     "data": {
      "application/vnd.jupyter.widget-view+json": {
       "model_id": "1a58665fd2514084ab5ead7ac90b4d07",
       "version_major": 2,
       "version_minor": 0
      },
      "text/plain": [
       "Validation: |          | 0/? [00:00<?, ?it/s]"
      ]
     },
     "metadata": {},
     "output_type": "display_data"
    },
    {
     "data": {
      "application/vnd.jupyter.widget-view+json": {
       "model_id": "5a9b114e303141f6ab300fdbbd4fadec",
       "version_major": 2,
       "version_minor": 0
      },
      "text/plain": [
       "Validation: |          | 0/? [00:00<?, ?it/s]"
      ]
     },
     "metadata": {},
     "output_type": "display_data"
    },
    {
     "data": {
      "application/vnd.jupyter.widget-view+json": {
       "model_id": "e54b81c96cb1469fa5ec2e0eed8047a8",
       "version_major": 2,
       "version_minor": 0
      },
      "text/plain": [
       "Validation: |          | 0/? [00:00<?, ?it/s]"
      ]
     },
     "metadata": {},
     "output_type": "display_data"
    },
    {
     "data": {
      "application/vnd.jupyter.widget-view+json": {
       "model_id": "f8500c19913e4d5c8709ddb6adca1271",
       "version_major": 2,
       "version_minor": 0
      },
      "text/plain": [
       "Validation: |          | 0/? [00:00<?, ?it/s]"
      ]
     },
     "metadata": {},
     "output_type": "display_data"
    },
    {
     "data": {
      "application/vnd.jupyter.widget-view+json": {
       "model_id": "08a38f794ed74bd59169db6015bf9e93",
       "version_major": 2,
       "version_minor": 0
      },
      "text/plain": [
       "Validation: |          | 0/? [00:00<?, ?it/s]"
      ]
     },
     "metadata": {},
     "output_type": "display_data"
    },
    {
     "name": "stderr",
     "output_type": "stream",
     "text": [
      "Metric val_loss improved by 0.002 >= min_delta = 0.0. New best score: 0.123\n"
     ]
    },
    {
     "data": {
      "application/vnd.jupyter.widget-view+json": {
       "model_id": "36b20928a22f4619ae0af599bec00b32",
       "version_major": 2,
       "version_minor": 0
      },
      "text/plain": [
       "Validation: |          | 0/? [00:00<?, ?it/s]"
      ]
     },
     "metadata": {},
     "output_type": "display_data"
    },
    {
     "data": {
      "application/vnd.jupyter.widget-view+json": {
       "model_id": "f451fda93c314e17a364dc10732cc11e",
       "version_major": 2,
       "version_minor": 0
      },
      "text/plain": [
       "Validation: |          | 0/? [00:00<?, ?it/s]"
      ]
     },
     "metadata": {},
     "output_type": "display_data"
    },
    {
     "data": {
      "application/vnd.jupyter.widget-view+json": {
       "model_id": "c805562c24284714bcc39aed5f9bf1bf",
       "version_major": 2,
       "version_minor": 0
      },
      "text/plain": [
       "Validation: |          | 0/? [00:00<?, ?it/s]"
      ]
     },
     "metadata": {},
     "output_type": "display_data"
    },
    {
     "data": {
      "application/vnd.jupyter.widget-view+json": {
       "model_id": "ed11158717bd46d9aba5dcf42f96b21b",
       "version_major": 2,
       "version_minor": 0
      },
      "text/plain": [
       "Validation: |          | 0/? [00:00<?, ?it/s]"
      ]
     },
     "metadata": {},
     "output_type": "display_data"
    },
    {
     "name": "stderr",
     "output_type": "stream",
     "text": [
      "Metric val_loss improved by 0.003 >= min_delta = 0.0. New best score: 0.120\n"
     ]
    },
    {
     "data": {
      "application/vnd.jupyter.widget-view+json": {
       "model_id": "1595b1ec5603430abbd2a7bbed1546ab",
       "version_major": 2,
       "version_minor": 0
      },
      "text/plain": [
       "Validation: |          | 0/? [00:00<?, ?it/s]"
      ]
     },
     "metadata": {},
     "output_type": "display_data"
    },
    {
     "data": {
      "application/vnd.jupyter.widget-view+json": {
       "model_id": "046a02113ca844039d7528610b58d2ae",
       "version_major": 2,
       "version_minor": 0
      },
      "text/plain": [
       "Validation: |          | 0/? [00:00<?, ?it/s]"
      ]
     },
     "metadata": {},
     "output_type": "display_data"
    },
    {
     "data": {
      "application/vnd.jupyter.widget-view+json": {
       "model_id": "e2668eb3c70846768990990406d2851a",
       "version_major": 2,
       "version_minor": 0
      },
      "text/plain": [
       "Validation: |          | 0/? [00:00<?, ?it/s]"
      ]
     },
     "metadata": {},
     "output_type": "display_data"
    },
    {
     "data": {
      "application/vnd.jupyter.widget-view+json": {
       "model_id": "9b0dba437caf42ee991b60f141d9846f",
       "version_major": 2,
       "version_minor": 0
      },
      "text/plain": [
       "Validation: |          | 0/? [00:00<?, ?it/s]"
      ]
     },
     "metadata": {},
     "output_type": "display_data"
    },
    {
     "data": {
      "application/vnd.jupyter.widget-view+json": {
       "model_id": "9954cc57e6c74689b6c14cbe5bd7cfa8",
       "version_major": 2,
       "version_minor": 0
      },
      "text/plain": [
       "Validation: |          | 0/? [00:00<?, ?it/s]"
      ]
     },
     "metadata": {},
     "output_type": "display_data"
    },
    {
     "data": {
      "application/vnd.jupyter.widget-view+json": {
       "model_id": "7e68209414b74e8586e5f9ed6047dab5",
       "version_major": 2,
       "version_minor": 0
      },
      "text/plain": [
       "Validation: |          | 0/? [00:00<?, ?it/s]"
      ]
     },
     "metadata": {},
     "output_type": "display_data"
    },
    {
     "name": "stderr",
     "output_type": "stream",
     "text": [
      "Metric val_loss improved by 0.003 >= min_delta = 0.0. New best score: 0.117\n"
     ]
    },
    {
     "data": {
      "application/vnd.jupyter.widget-view+json": {
       "model_id": "c983ae18881145c0a58a057d0ce322c3",
       "version_major": 2,
       "version_minor": 0
      },
      "text/plain": [
       "Validation: |          | 0/? [00:00<?, ?it/s]"
      ]
     },
     "metadata": {},
     "output_type": "display_data"
    },
    {
     "data": {
      "application/vnd.jupyter.widget-view+json": {
       "model_id": "d68b8d4b1978445090868cd09b1af339",
       "version_major": 2,
       "version_minor": 0
      },
      "text/plain": [
       "Validation: |          | 0/? [00:00<?, ?it/s]"
      ]
     },
     "metadata": {},
     "output_type": "display_data"
    },
    {
     "data": {
      "application/vnd.jupyter.widget-view+json": {
       "model_id": "c1a81230ed9440589c1d1e29cb6a88e3",
       "version_major": 2,
       "version_minor": 0
      },
      "text/plain": [
       "Validation: |          | 0/? [00:00<?, ?it/s]"
      ]
     },
     "metadata": {},
     "output_type": "display_data"
    },
    {
     "name": "stderr",
     "output_type": "stream",
     "text": [
      "Metric val_loss improved by 0.005 >= min_delta = 0.0. New best score: 0.112\n"
     ]
    },
    {
     "data": {
      "application/vnd.jupyter.widget-view+json": {
       "model_id": "562e43173bc74c51ad6fe73218f4df51",
       "version_major": 2,
       "version_minor": 0
      },
      "text/plain": [
       "Validation: |          | 0/? [00:00<?, ?it/s]"
      ]
     },
     "metadata": {},
     "output_type": "display_data"
    },
    {
     "data": {
      "application/vnd.jupyter.widget-view+json": {
       "model_id": "66e644dbe8a2410eab4016f018d6ab88",
       "version_major": 2,
       "version_minor": 0
      },
      "text/plain": [
       "Validation: |          | 0/? [00:00<?, ?it/s]"
      ]
     },
     "metadata": {},
     "output_type": "display_data"
    },
    {
     "data": {
      "application/vnd.jupyter.widget-view+json": {
       "model_id": "e1a48dc8ce4d43af9c1786513b3bfcd3",
       "version_major": 2,
       "version_minor": 0
      },
      "text/plain": [
       "Validation: |          | 0/? [00:00<?, ?it/s]"
      ]
     },
     "metadata": {},
     "output_type": "display_data"
    },
    {
     "data": {
      "application/vnd.jupyter.widget-view+json": {
       "model_id": "7ebfd3e646164707ab8c0ab786dc67ff",
       "version_major": 2,
       "version_minor": 0
      },
      "text/plain": [
       "Validation: |          | 0/? [00:00<?, ?it/s]"
      ]
     },
     "metadata": {},
     "output_type": "display_data"
    },
    {
     "name": "stderr",
     "output_type": "stream",
     "text": [
      "Metric val_loss improved by 0.005 >= min_delta = 0.0. New best score: 0.107\n"
     ]
    },
    {
     "data": {
      "application/vnd.jupyter.widget-view+json": {
       "model_id": "f88ffdbdf2f14ba4875413f28810c019",
       "version_major": 2,
       "version_minor": 0
      },
      "text/plain": [
       "Validation: |          | 0/? [00:00<?, ?it/s]"
      ]
     },
     "metadata": {},
     "output_type": "display_data"
    },
    {
     "data": {
      "application/vnd.jupyter.widget-view+json": {
       "model_id": "4df6fac1fb6b48898701f40d1740cdcd",
       "version_major": 2,
       "version_minor": 0
      },
      "text/plain": [
       "Validation: |          | 0/? [00:00<?, ?it/s]"
      ]
     },
     "metadata": {},
     "output_type": "display_data"
    },
    {
     "data": {
      "application/vnd.jupyter.widget-view+json": {
       "model_id": "b1ebed2881094b5cb547844066e60f65",
       "version_major": 2,
       "version_minor": 0
      },
      "text/plain": [
       "Validation: |          | 0/? [00:00<?, ?it/s]"
      ]
     },
     "metadata": {},
     "output_type": "display_data"
    },
    {
     "data": {
      "application/vnd.jupyter.widget-view+json": {
       "model_id": "4e3fc6b22bcc48b4ae0ec84000a54c7b",
       "version_major": 2,
       "version_minor": 0
      },
      "text/plain": [
       "Validation: |          | 0/? [00:00<?, ?it/s]"
      ]
     },
     "metadata": {},
     "output_type": "display_data"
    },
    {
     "data": {
      "application/vnd.jupyter.widget-view+json": {
       "model_id": "ee4696dd27d34ce58df691c0167204e8",
       "version_major": 2,
       "version_minor": 0
      },
      "text/plain": [
       "Validation: |          | 0/? [00:00<?, ?it/s]"
      ]
     },
     "metadata": {},
     "output_type": "display_data"
    },
    {
     "data": {
      "application/vnd.jupyter.widget-view+json": {
       "model_id": "54ef846d51aa457a9524ff478b47bfce",
       "version_major": 2,
       "version_minor": 0
      },
      "text/plain": [
       "Validation: |          | 0/? [00:00<?, ?it/s]"
      ]
     },
     "metadata": {},
     "output_type": "display_data"
    },
    {
     "data": {
      "application/vnd.jupyter.widget-view+json": {
       "model_id": "404dabbb6f8c423aa5242076b57866e4",
       "version_major": 2,
       "version_minor": 0
      },
      "text/plain": [
       "Validation: |          | 0/? [00:00<?, ?it/s]"
      ]
     },
     "metadata": {},
     "output_type": "display_data"
    },
    {
     "data": {
      "application/vnd.jupyter.widget-view+json": {
       "model_id": "e155e7ee393146b7999058a2de39bdbb",
       "version_major": 2,
       "version_minor": 0
      },
      "text/plain": [
       "Validation: |          | 0/? [00:00<?, ?it/s]"
      ]
     },
     "metadata": {},
     "output_type": "display_data"
    },
    {
     "data": {
      "application/vnd.jupyter.widget-view+json": {
       "model_id": "b8cd102f4c1f4a39a6d8878e7be72b33",
       "version_major": 2,
       "version_minor": 0
      },
      "text/plain": [
       "Validation: |          | 0/? [00:00<?, ?it/s]"
      ]
     },
     "metadata": {},
     "output_type": "display_data"
    },
    {
     "data": {
      "application/vnd.jupyter.widget-view+json": {
       "model_id": "072a055df28b4c4bbe94706b51b33f34",
       "version_major": 2,
       "version_minor": 0
      },
      "text/plain": [
       "Validation: |          | 0/? [00:00<?, ?it/s]"
      ]
     },
     "metadata": {},
     "output_type": "display_data"
    },
    {
     "name": "stderr",
     "output_type": "stream",
     "text": [
      "Monitored metric val_loss did not improve in the last 10 records. Best score: 0.107. Signaling Trainer to stop.\n"
     ]
    }
   ],
   "source": [
    "from pytorch_lightning.callbacks import EarlyStopping, ModelCheckpoint, LearningRateMonitor\n",
    "from pytorch_lightning.loggers import TensorBoardLogger\n",
    "import pytorch_lightning as pl\n",
    "\n",
    "\n",
    "logger = TensorBoardLogger(\"tb_logs\", name=\"cmpnn\")\n",
    "# class DebugExitCallback(pl.Callback):\n",
    "#     def on_train_end(self, trainer, pl_module):\n",
    "#         print(\"[Callback] on_train_end\")\n",
    "\n",
    "#     def on_fit_end(self, trainer, pl_module):\n",
    "#         print(\"[Callback] on_fit_end\")\n",
    "\n",
    "early_stopping = EarlyStopping(\n",
    "    monitor=\"val_loss\",\n",
    "    patience=10,\n",
    "    mode=\"min\",\n",
    "    verbose=True,\n",
    ")\n",
    "\n",
    "\n",
    "trainer = Trainer(\n",
    "    max_epochs=300,\n",
    "    accelerator=\"gpu\",\n",
    "    devices=1,\n",
    "    logger=logger,\n",
    "    # Allow for early stopping\n",
    "    callbacks=[\n",
    "    # EarlyStopping(\"val_loss\", patience=10),\n",
    "    early_stopping,\n",
    "    ModelCheckpoint(monitor=\"val_loss\", mode=\"min\"),\n",
    "    LearningRateMonitor(logging_interval=\"epoch\"),\n",
    "    # DebugExitCallback(),\n",
    "    ],\n",
    "    #gradient_clip_val=1.0,\n",
    "    enable_progress_bar=True,\n",
    "    log_every_n_steps=1,\n",
    ")\n",
    "trainer.fit(\n",
    "    model,\n",
    "    train_loader,\n",
    "    val_loader,\n",
    ")"
   ]
  },
  {
   "cell_type": "code",
   "execution_count": 25,
   "id": "4f8c3871",
   "metadata": {},
   "outputs": [
    {
     "name": "stderr",
     "output_type": "stream",
     "text": [
      "LOCAL_RANK: 0 - CUDA_VISIBLE_DEVICES: [0]\n"
     ]
    },
    {
     "name": "stderr",
     "output_type": "stream",
     "text": [
      "/home/calvin/miniforge3/envs/dmpnn_rocm/lib/python3.10/site-packages/pytorch_lightning/trainer/connectors/data_connector.py:425: The 'test_dataloader' does not have many workers which may be a bottleneck. Consider increasing the value of the `num_workers` argument` to `num_workers=19` in the `DataLoader` to improve performance.\n"
     ]
    },
    {
     "data": {
      "application/vnd.jupyter.widget-view+json": {
       "model_id": "8b9231938fda40ada15fd22c6a810180",
       "version_major": 2,
       "version_minor": 0
      },
      "text/plain": [
       "Testing: |          | 0/? [00:00<?, ?it/s]"
      ]
     },
     "metadata": {},
     "output_type": "display_data"
    },
    {
     "data": {
      "text/html": [
       "<pre style=\"white-space:pre;overflow-x:auto;line-height:normal;font-family:Menlo,'DejaVu Sans Mono',consolas,'Courier New',monospace\">┏━━━━━━━━━━━━━━━━━━━━━━━━━━━┳━━━━━━━━━━━━━━━━━━━━━━━━━━━┓\n",
       "┃<span style=\"font-weight: bold\">        Test metric        </span>┃<span style=\"font-weight: bold\">       DataLoader 0        </span>┃\n",
       "┡━━━━━━━━━━━━━━━━━━━━━━━━━━━╇━━━━━━━━━━━━━━━━━━━━━━━━━━━┩\n",
       "│<span style=\"color: #008080; text-decoration-color: #008080\">         test_loss         </span>│<span style=\"color: #800080; text-decoration-color: #800080\">    0.1508529931306839     </span>│\n",
       "│<span style=\"color: #008080; text-decoration-color: #008080\">      test_loss_mean       </span>│<span style=\"color: #800080; text-decoration-color: #800080\">    0.16330330073833466    </span>│\n",
       "│<span style=\"color: #008080; text-decoration-color: #008080\">     test_loss_pinball     </span>│<span style=\"color: #800080; text-decoration-color: #800080\">    0.10105172544717789    </span>│\n",
       "│<span style=\"color: #008080; text-decoration-color: #008080\">         test_mae          </span>│<span style=\"color: #800080; text-decoration-color: #800080\">    0.23430584371089935    </span>│\n",
       "│<span style=\"color: #008080; text-decoration-color: #008080\">          test_r2          </span>│<span style=\"color: #800080; text-decoration-color: #800080\">    0.7660015225410461     </span>│\n",
       "│<span style=\"color: #008080; text-decoration-color: #008080\">         test_rmse         </span>│<span style=\"color: #800080; text-decoration-color: #800080\">    0.23430584371089935    </span>│\n",
       "└───────────────────────────┴───────────────────────────┘\n",
       "</pre>\n"
      ],
      "text/plain": [
       "┏━━━━━━━━━━━━━━━━━━━━━━━━━━━┳━━━━━━━━━━━━━━━━━━━━━━━━━━━┓\n",
       "┃\u001b[1m \u001b[0m\u001b[1m       Test metric       \u001b[0m\u001b[1m \u001b[0m┃\u001b[1m \u001b[0m\u001b[1m      DataLoader 0       \u001b[0m\u001b[1m \u001b[0m┃\n",
       "┡━━━━━━━━━━━━━━━━━━━━━━━━━━━╇━━━━━━━━━━━━━━━━━━━━━━━━━━━┩\n",
       "│\u001b[36m \u001b[0m\u001b[36m        test_loss        \u001b[0m\u001b[36m \u001b[0m│\u001b[35m \u001b[0m\u001b[35m   0.1508529931306839    \u001b[0m\u001b[35m \u001b[0m│\n",
       "│\u001b[36m \u001b[0m\u001b[36m     test_loss_mean      \u001b[0m\u001b[36m \u001b[0m│\u001b[35m \u001b[0m\u001b[35m   0.16330330073833466   \u001b[0m\u001b[35m \u001b[0m│\n",
       "│\u001b[36m \u001b[0m\u001b[36m    test_loss_pinball    \u001b[0m\u001b[36m \u001b[0m│\u001b[35m \u001b[0m\u001b[35m   0.10105172544717789   \u001b[0m\u001b[35m \u001b[0m│\n",
       "│\u001b[36m \u001b[0m\u001b[36m        test_mae         \u001b[0m\u001b[36m \u001b[0m│\u001b[35m \u001b[0m\u001b[35m   0.23430584371089935   \u001b[0m\u001b[35m \u001b[0m│\n",
       "│\u001b[36m \u001b[0m\u001b[36m         test_r2         \u001b[0m\u001b[36m \u001b[0m│\u001b[35m \u001b[0m\u001b[35m   0.7660015225410461    \u001b[0m\u001b[35m \u001b[0m│\n",
       "│\u001b[36m \u001b[0m\u001b[36m        test_rmse        \u001b[0m\u001b[36m \u001b[0m│\u001b[35m \u001b[0m\u001b[35m   0.23430584371089935   \u001b[0m\u001b[35m \u001b[0m│\n",
       "└───────────────────────────┴───────────────────────────┘\n"
      ]
     },
     "metadata": {},
     "output_type": "display_data"
    },
    {
     "data": {
      "text/plain": [
       "[{'test_loss': 0.1508529931306839,\n",
       "  'test_loss_mean': 0.16330330073833466,\n",
       "  'test_loss_pinball': 0.10105172544717789,\n",
       "  'test_rmse': 0.23430584371089935,\n",
       "  'test_mae': 0.23430584371089935,\n",
       "  'test_r2': 0.7660015225410461}]"
      ]
     },
     "execution_count": 25,
     "metadata": {},
     "output_type": "execute_result"
    }
   ],
   "source": [
    "trainer.test(model, test_loader)"
   ]
  },
  {
   "cell_type": "code",
   "execution_count": 37,
   "id": "c260c12b",
   "metadata": {},
   "outputs": [
    {
     "name": "stdout",
     "output_type": "stream",
     "text": [
      "pred shape: torch.Size([64, 3])\n",
      "true shape: torch.Size([3])\n"
     ]
    }
   ],
   "source": [
    "with torch.no_grad():\n",
    "    y_hat = model(batch)          # expect (N, 3)\n",
    "    print(\"pred shape:\", y_hat.shape)\n",
    "    print(\"true shape:\", batch.y.view(-1,2,3)[0,0].shape)"
   ]
  },
  {
   "cell_type": "code",
   "execution_count": 38,
   "id": "ad127c1b",
   "metadata": {},
   "outputs": [
    {
     "name": "stdout",
     "output_type": "stream",
     "text": [
      "true batch shape: torch.Size([64, 3])\n",
      "match? False\n"
     ]
    }
   ],
   "source": [
    "y_true = batch.y.view(-1, 2, 3)[:, 0, :]   # shape (64, 3)\n",
    "print(\"true batch shape:\", y_true.shape)\n",
    "print(\"match?\", torch.allclose(y_hat, y_true))"
   ]
  },
  {
   "cell_type": "code",
   "execution_count": 39,
   "id": "eaa6eb83",
   "metadata": {},
   "outputs": [
    {
     "name": "stderr",
     "output_type": "stream",
     "text": [
      "LOCAL_RANK: 0 - CUDA_VISIBLE_DEVICES: [0]\n",
      "/home/calvin/miniforge3/envs/dmpnn_rocm/lib/python3.10/site-packages/pytorch_lightning/trainer/connectors/data_connector.py:425: The 'predict_dataloader' does not have many workers which may be a bottleneck. Consider increasing the value of the `num_workers` argument` to `num_workers=19` in the `DataLoader` to improve performance.\n"
     ]
    },
    {
     "data": {
      "application/vnd.jupyter.widget-view+json": {
       "model_id": "be978287925d44a4a8bff5bac2b0e47d",
       "version_major": 2,
       "version_minor": 0
      },
      "text/plain": [
       "Predicting: |          | 0/? [00:00<?, ?it/s]"
      ]
     },
     "metadata": {},
     "output_type": "display_data"
    }
   ],
   "source": [
    "pred = trainer.predict(model, test_loader)"
   ]
  },
  {
   "cell_type": "code",
   "execution_count": 40,
   "id": "60939ad9",
   "metadata": {},
   "outputs": [],
   "source": [
    "torch.concat(pred, dim=0).shape\n",
    "pred = torch.concat(pred, dim=0)"
   ]
  },
  {
   "cell_type": "code",
   "execution_count": 41,
   "id": "6f970520",
   "metadata": {},
   "outputs": [],
   "source": [
    "true_y = torch.concat([batch.y.view(-1, 2, 3)[:, 0, :] for batch in test_loader], dim=0)"
   ]
  },
  {
   "cell_type": "code",
   "execution_count": 42,
   "id": "a9853d8d",
   "metadata": {},
   "outputs": [
    {
     "data": {
      "text/plain": [
       "tensor([[ 1.1878e-01,  4.0481e-01, -9.7520e-01],\n",
       "        [ 1.1633e+00, -9.7564e-01,  1.6900e+00],\n",
       "        [ 5.1559e-01, -3.7777e-01, -1.4407e+00],\n",
       "        [-5.6092e-01,  1.0168e+00,  8.0642e-01],\n",
       "        [ 7.9393e-01, -9.1140e-01, -2.0525e+00],\n",
       "        [-7.8932e-01,  8.1395e-01,  5.2672e-01],\n",
       "        [-1.9638e-01,  2.5579e-03,  8.8811e-01],\n",
       "        [ 7.7711e-03, -2.2434e-02,  4.5598e-01],\n",
       "        [ 3.4854e-01, -6.4384e-01, -1.5976e+00],\n",
       "        [-1.3449e+00,  1.5987e+00, -3.0118e-01],\n",
       "        [ 8.9226e-02,  7.8402e-02, -1.4659e-02],\n",
       "        [ 3.6415e-01, -7.0138e-02,  8.8148e-01],\n",
       "        [ 6.5537e-01, -7.2386e-01,  2.2273e+00],\n",
       "        [ 1.1890e-01,  1.4247e-01, -1.0045e+00],\n",
       "        [-7.9621e-01,  2.8614e-01,  4.2165e-01],\n",
       "        [-9.6335e-01,  6.6764e-01, -5.6094e-01],\n",
       "        [ 9.5520e-01, -8.9752e-01, -2.0687e+00],\n",
       "        [-4.8282e-01,  6.3282e-01,  1.2399e-01],\n",
       "        [ 1.1794e+00, -1.0228e+00,  6.2600e-01],\n",
       "        [ 5.1302e-01, -5.8997e-01, -1.9261e+00],\n",
       "        [-3.5692e-01,  2.9704e-01, -9.4884e-01],\n",
       "        [ 8.6885e-01, -3.2604e-01,  2.0007e+00],\n",
       "        [ 2.1480e-01,  1.2551e-01, -9.7064e-01],\n",
       "        [-1.2396e-01,  1.4200e-01,  7.7683e-02],\n",
       "        [ 1.1337e-02,  3.9172e-01,  1.4155e+00],\n",
       "        [ 1.6884e-02,  3.1537e-01,  1.0147e-01],\n",
       "        [-9.8987e-01,  1.5739e+00,  1.3607e+00],\n",
       "        [ 2.1564e-01, -3.8511e-02,  3.0399e-01],\n",
       "        [-1.5201e+00,  1.3084e+00,  7.3474e-01],\n",
       "        [ 7.8922e-01, -7.8836e-01, -1.8920e+00],\n",
       "        [-1.5418e-01,  2.1506e-02,  1.5058e-01],\n",
       "        [-1.1774e-01, -3.2188e-01,  9.4023e-01],\n",
       "        [-6.9414e-02,  9.2333e-02, -5.7147e-01],\n",
       "        [ 9.4798e-01, -5.0594e-01,  1.5292e+00],\n",
       "        [ 2.1254e+00, -2.0545e+00,  7.7180e-01],\n",
       "        [ 6.7143e-01, -6.2270e-01, -1.2842e-01],\n",
       "        [-1.2011e+00,  1.3126e+00, -7.2323e-02],\n",
       "        [-2.7820e-01,  4.5076e-01, -4.8826e-01],\n",
       "        [ 3.0173e+00, -2.7865e+00, -9.8975e-01],\n",
       "        [-9.3984e-02, -4.1932e-01, -1.3579e+00],\n",
       "        [ 4.4205e-01, -7.3021e-01,  4.4444e-02],\n",
       "        [ 2.1999e+00, -2.1548e+00,  1.9225e+00],\n",
       "        [-3.1636e-01,  3.1510e-01, -9.4748e-03],\n",
       "        [-3.4817e-01,  5.3187e-01,  1.5515e-01],\n",
       "        [-8.0756e-01,  5.6541e-01, -2.6324e-01],\n",
       "        [-1.5092e+00,  1.2489e+00,  6.0528e-02],\n",
       "        [-2.4688e-01,  3.3530e-01, -9.4330e-01],\n",
       "        [-8.6089e-01,  7.5604e-01, -5.1517e-01],\n",
       "        [-1.1935e+00,  8.3926e-01, -1.0070e-01],\n",
       "        [ 1.4922e+00, -1.7332e+00, -2.0129e-01],\n",
       "        [ 3.1530e-01, -1.3137e-01,  5.6211e-01],\n",
       "        [-1.0575e+00,  5.4824e-01,  2.2929e-03],\n",
       "        [ 4.2514e-01, -5.9488e-01, -4.4889e-01],\n",
       "        [ 8.2041e-01, -5.3945e-01,  1.9117e+00],\n",
       "        [-1.0345e+00,  1.0456e+00, -1.7353e-01],\n",
       "        [-9.3508e-01,  9.7831e-01,  1.4743e-01],\n",
       "        [ 1.2910e+00, -1.1094e+00,  1.3456e+00],\n",
       "        [ 2.7954e-01,  4.4828e-01, -3.9549e-01],\n",
       "        [ 1.9444e-01, -9.0365e-01, -1.8118e+00],\n",
       "        [ 2.8247e-01, -7.2048e-02,  1.0935e+00],\n",
       "        [ 7.8005e-01, -1.7621e-01, -9.9000e-01],\n",
       "        [ 3.4869e-01, -4.2049e-01,  5.8431e-01],\n",
       "        [-8.4229e-01,  3.4309e-01,  3.8093e-01],\n",
       "        [-7.5469e-01,  4.9446e-01, -8.6400e-02],\n",
       "        [-1.0258e+00,  8.8639e-01,  6.0817e-01],\n",
       "        [ 3.8988e-01, -7.2878e-02,  1.7077e+00],\n",
       "        [-2.2234e-01,  3.9429e-01,  4.3350e-01],\n",
       "        [-6.0853e-01,  7.0478e-01,  4.9778e-02],\n",
       "        [-7.4906e-02,  5.5596e-02,  6.8567e-01],\n",
       "        [-6.8793e-01,  5.6920e-01, -9.6997e-02],\n",
       "        [ 1.7722e-01,  1.3859e-01,  1.8979e+00],\n",
       "        [-2.3765e-01, -3.6376e-01, -1.2880e+00],\n",
       "        [-1.1000e+00,  7.1603e-01, -2.9424e-02],\n",
       "        [-6.5617e-01,  9.5974e-01,  6.7496e-01],\n",
       "        [ 9.3994e-01, -7.8546e-01, -1.9043e+00],\n",
       "        [-4.5731e-01,  3.3240e-01, -9.0392e-01],\n",
       "        [ 3.6609e-01, -1.4751e-01,  7.2244e-01],\n",
       "        [-8.6868e-01,  6.1131e-01, -2.2864e-01],\n",
       "        [-7.6257e-01,  7.8480e-01, -6.0376e-01],\n",
       "        [ 3.8115e-01, -2.4745e-01,  3.6636e-01],\n",
       "        [-4.8814e-01,  8.9123e-01,  2.7863e-01],\n",
       "        [ 7.3747e-01, -1.0583e+00, -2.2313e+00],\n",
       "        [-8.9283e-01,  9.2104e-01, -6.7954e-02],\n",
       "        [-4.9128e-01,  3.2924e-01,  3.9475e-01],\n",
       "        [ 1.0345e+00, -1.6238e+00,  9.3192e-01],\n",
       "        [ 5.7625e-02, -1.5004e-01, -2.5092e-01],\n",
       "        [-1.2973e+00,  1.1451e+00, -4.0762e-01],\n",
       "        [-4.4071e-01,  1.1601e-01, -3.5678e-01],\n",
       "        [ 7.4772e-01, -8.8512e-01, -1.9338e+00],\n",
       "        [ 2.1118e-01, -3.6701e-01,  6.1952e-01],\n",
       "        [-4.3877e-01,  7.0120e-01, -2.9667e-01],\n",
       "        [-1.0671e+00,  9.1728e-01, -3.2672e-01],\n",
       "        [ 2.7861e-01,  1.1038e-02,  2.5053e+00],\n",
       "        [-1.0705e+00,  7.5072e-01, -4.8796e-01],\n",
       "        [ 1.7476e-01, -2.5148e-01,  2.0542e+00],\n",
       "        [ 5.5120e-01, -8.2594e-02,  1.2698e+00],\n",
       "        [ 2.9884e-01, -6.1700e-01,  9.3116e-02],\n",
       "        [-5.3130e-01,  5.6528e-01, -3.4687e-04],\n",
       "        [-1.8294e+00,  1.3654e+00, -2.6365e-01],\n",
       "        [ 1.9579e+00, -2.1074e+00,  6.9955e-02],\n",
       "        [-8.6409e-01,  1.3884e+00, -3.4018e-01],\n",
       "        [ 5.9746e-01, -2.8758e-01,  7.3482e-01],\n",
       "        [-7.3362e-01,  3.9659e-01, -7.2118e-01],\n",
       "        [ 2.7473e-01, -6.2019e-01, -1.4473e+00],\n",
       "        [-7.1835e-01,  7.9004e-01, -6.7951e-02],\n",
       "        [ 1.4499e-01, -2.2133e-01, -1.5619e+00],\n",
       "        [ 1.8264e-01,  2.3060e-02,  5.4395e-01],\n",
       "        [-6.8629e-01,  4.1365e-01, -7.5667e-01],\n",
       "        [-7.2281e-01,  6.2188e-01,  3.2035e-01],\n",
       "        [ 1.5795e-02,  2.6448e-01,  4.3897e-01],\n",
       "        [-3.7536e-01,  3.1146e-01, -1.1424e-01],\n",
       "        [-5.1745e-01,  2.0956e-01, -6.0413e-02],\n",
       "        [-7.0435e-01,  7.0572e-01, -3.9073e-01],\n",
       "        [ 9.5844e-02, -8.7190e-02,  1.9842e+00],\n",
       "        [ 4.0733e-01,  2.9736e-02,  1.0315e+00],\n",
       "        [-1.1708e-01,  1.5004e-01,  2.5192e-01],\n",
       "        [ 2.4229e+00, -2.1767e+00,  2.1671e+00],\n",
       "        [-1.0137e+00,  6.1151e-01, -4.8853e-01],\n",
       "        [-1.2846e+00,  1.3150e+00, -3.0275e-01],\n",
       "        [ 4.5617e-02, -4.6197e-01, -1.3141e+00],\n",
       "        [ 4.2996e-01, -9.1668e-01, -5.2285e-01],\n",
       "        [ 1.4056e+00, -1.1113e+00, -4.7697e-01],\n",
       "        [-6.1259e-01,  5.4817e-01, -3.9465e-01],\n",
       "        [ 4.2525e-01, -4.1266e-01,  2.0443e+00],\n",
       "        [-7.3076e-01,  1.2024e+00,  2.1919e-02],\n",
       "        [-5.1917e-01,  6.4128e-01, -1.8399e-01],\n",
       "        [ 3.9162e-01, -5.0405e-01, -1.9427e-01],\n",
       "        [ 1.8158e+00, -1.2794e+00, -1.9195e+00],\n",
       "        [ 3.1471e-01,  3.9655e-01,  1.0150e+00],\n",
       "        [-7.0634e-01,  2.8052e-01,  1.3040e-02],\n",
       "        [-4.5101e-01, -4.9084e-02,  3.3764e-01],\n",
       "        [-6.6227e-01,  5.8754e-01,  7.8811e-01],\n",
       "        [-1.3201e+00,  1.4475e+00,  3.0469e-01],\n",
       "        [-1.1521e-01,  2.9108e-01,  5.6551e-01],\n",
       "        [ 2.0972e+00, -2.3355e+00, -1.5853e-01],\n",
       "        [ 5.5433e-01, -8.2149e-01, -2.0164e+00],\n",
       "        [ 1.2588e-01,  4.0798e-01, -2.8440e-01],\n",
       "        [ 5.7475e-01, -5.8262e-01,  8.9477e-01],\n",
       "        [ 5.9220e-01, -3.2479e-01,  8.5198e-01],\n",
       "        [-1.6240e+00,  1.6535e+00,  6.5577e-02],\n",
       "        [-2.2937e-01,  7.6192e-01,  3.5185e-02],\n",
       "        [-1.5604e-01, -3.8140e-01,  1.7504e+00],\n",
       "        [-1.5994e-01,  9.4189e-02,  1.2364e+00],\n",
       "        [-1.1931e+00,  1.0559e+00,  1.9789e+00],\n",
       "        [ 4.2013e-02,  2.4258e-02,  1.4721e-01],\n",
       "        [ 1.0249e+00, -1.5570e+00, -1.0358e+00],\n",
       "        [ 4.0111e-01, -6.4538e-01,  8.5229e-01],\n",
       "        [ 9.4946e-01, -8.5180e-01,  8.6280e-01],\n",
       "        [-1.5175e-01,  1.4046e-01,  8.1546e-01],\n",
       "        [ 1.0133e-01,  2.5301e-01,  7.1956e-01],\n",
       "        [ 7.2232e-01, -1.4385e-01,  2.4225e+00],\n",
       "        [ 5.6766e-01, -5.9530e-01,  5.0032e-01],\n",
       "        [-1.2950e-01,  4.0388e-02, -2.6903e-01],\n",
       "        [ 4.8618e-01, -4.3687e-01,  3.8105e-01],\n",
       "        [-3.3696e-01,  6.1086e-01,  9.1257e-02],\n",
       "        [-5.8385e-01,  6.3685e-01, -5.7805e-01],\n",
       "        [-6.5892e-01,  6.6358e-01,  1.5657e-01],\n",
       "        [ 8.9445e-01, -3.3115e-01, -1.2296e+00],\n",
       "        [-6.6239e-01,  7.1367e-01,  3.6509e-02],\n",
       "        [-9.9818e-01,  4.1072e-01,  8.3611e-01],\n",
       "        [-8.8290e-01,  6.8489e-01, -6.9573e-01],\n",
       "        [-7.6244e-02, -1.6710e-01, -2.5540e-02],\n",
       "        [-8.7576e-01,  7.4006e-01,  6.3853e-01],\n",
       "        [ 7.1780e-01, -5.0677e-01,  7.2214e-01],\n",
       "        [-1.4642e+00,  1.4523e+00, -5.0474e-01],\n",
       "        [ 9.3639e-01, -9.2855e-01,  2.0463e+00],\n",
       "        [ 3.9937e-01, -2.6820e-01,  2.1795e+00],\n",
       "        [-9.3772e-01,  9.7839e-01,  1.3165e-02],\n",
       "        [ 7.0884e-01, -6.1271e-01,  6.8753e-01],\n",
       "        [ 1.8042e+00, -1.8649e+00, -8.5718e-02]])"
      ]
     },
     "execution_count": 42,
     "metadata": {},
     "output_type": "execute_result"
    }
   ],
   "source": [
    "true_y"
   ]
  },
  {
   "cell_type": "code",
   "execution_count": 43,
   "id": "f3068f07",
   "metadata": {},
   "outputs": [
    {
     "data": {
      "image/png": "[encoded data removed]",
      "text/plain": [
       "<Figure size 1000x1500 with 3 Axes>"
      ]
     },
     "metadata": {},
     "output_type": "display_data"
    }
   ],
   "source": [
    "# Plot the predictions vs true values - also put r2 score on the plot\n",
    "\n",
    "import matplotlib.pyplot as plt\n",
    "def plot_predictions_vs_true(predictions, true_values, task_names):\n",
    "    num_tasks = predictions.shape[1]\n",
    "    fig, axes = plt.subplots(num_tasks, 1, figsize=(10, 5 * num_tasks))\n",
    "    \n",
    "    for i in range(num_tasks):\n",
    "        ax = axes[i] if num_tasks > 1 else axes\n",
    "        ax.scatter(true_values[:, i].cpu(), predictions[:, i].cpu(), alpha=0.5)\n",
    "        ax.plot([true_values[:, i].min(), true_values[:, i].max()],\n",
    "                [true_values[:, i].min(), true_values[:, i].max()], 'r--')\n",
    "        r2 = R2Score()(predictions[:, i], true_values[:, i])\n",
    "        ax.text(0.05, 0.95, f'R² = {r2:.2f}', transform=ax.transAxes, fontsize=12,\n",
    "                verticalalignment='top', bbox=dict(facecolor='white', alpha=0.5))\n",
    "        ax.set_xlabel('True Values')\n",
    "        ax.set_ylabel('Predictions')\n",
    "        ax.set_title(f'Predictions vs True Values for {task_names[i]}')\n",
    "    \n",
    "    plt.tight_layout()\n",
    "    plt.show()\n",
    "\n",
    "task_names = ['A_log10', 'n', 'Ea_yj']\n",
    "plot_predictions_vs_true(pred, true_y, task_names)\n",
    "# Save the predictions and true values to a CSV file"
   ]
  },
  {
   "cell_type": "code",
   "execution_count": 44,
   "id": "4d6680bc",
   "metadata": {},
   "outputs": [
    {
     "name": "stderr",
     "output_type": "stream",
     "text": [
      "LOCAL_RANK: 0 - CUDA_VISIBLE_DEVICES: [0]\n"
     ]
    },
    {
     "data": {
      "application/vnd.jupyter.widget-view+json": {
       "model_id": "46ad6b4c8b7a4781b9fbaafe2f882207",
       "version_major": 2,
       "version_minor": 0
      },
      "text/plain": [
       "Predicting: |          | 0/? [00:00<?, ?it/s]"
      ]
     },
     "metadata": {},
     "output_type": "display_data"
    }
   ],
   "source": [
    "pred_batches = trainer.predict(model, dataloaders=test_loader)\n",
    "y_scaled = torch.cat(pred_batches, dim=0)          # shape (N, 3)\n",
    "\n",
    "y_unscaled = model.inverse_transform(y_scaled)  # shape (N, 3)"
   ]
  },
  {
   "cell_type": "code",
   "execution_count": 45,
   "id": "7f57f5b4",
   "metadata": {},
   "outputs": [
    {
     "name": "stdout",
     "output_type": "stream",
     "text": [
      "Overall  MSE 4.261e+10   MAE 9801   R² -0.2129\n",
      "   A:   MSE 1.278e+11   MAE 2.94e+04   R² -2.215\n",
      "  y₂:   MSE 0.1309   MAE 0.2061   R² 0.6712\n",
      "  y₃:   MSE 0.09568   MAE 0.1815   R² 0.9049\n"
     ]
    }
   ],
   "source": [
    "import torch\n",
    "from torchmetrics.functional import mean_squared_error as mse_f\n",
    "from torchmetrics.functional import mean_absolute_error as mae_f\n",
    "from torchmetrics.functional import r2_score as r2_f\n",
    "\n",
    "with torch.no_grad():\n",
    "    # ── inverse-transform + A column back-transform ───────────────\n",
    "    y_pred_unscaled  = model.inverse_transform(y_scaled.clone())\n",
    "    y_true_unscaled  = model.inverse_transform(true_y.clone())\n",
    "\n",
    "    # column 0 is log10(A) → exponentiate both preds & truth\n",
    "    for tensor in (y_pred_unscaled, y_true_unscaled):\n",
    "        tensor[:, 0] = torch.pow(10.0, tensor[:, 0])\n",
    "\n",
    "    # ── overall metrics (all tasks at once) ───────────────────────\n",
    "    mse_all = mse_f(y_pred_unscaled, y_true_unscaled)\n",
    "    mae_all = mae_f(y_pred_unscaled, y_true_unscaled)\n",
    "    r2_all  = r2_f (y_pred_unscaled, y_true_unscaled)\n",
    "    print(f\"Overall  MSE {mse_all:.4g}   MAE {mae_all:.4g}   R² {r2_all:.4g}\")\n",
    "\n",
    "    # ── per-task breakdown ────────────────────────────────────────\n",
    "    task_names = [\"A\", \"y₂\", \"y₃\"]\n",
    "    for i, name in enumerate(task_names):\n",
    "        mse = mse_f(y_pred_unscaled[:, i], y_true_unscaled[:, i])\n",
    "        mae = mae_f(y_pred_unscaled[:, i], y_true_unscaled[:, i])\n",
    "        r2  = r2_f (y_pred_unscaled[:, i], y_true_unscaled[:, i])\n",
    "        print(f\"{name:>4}:   MSE {mse:.4g}   MAE {mae:.4g}   R² {r2:.4g}\")\n"
   ]
  },
  {
   "cell_type": "code",
   "execution_count": 46,
   "id": "4d769d4f",
   "metadata": {},
   "outputs": [
    {
     "data": {
      "image/png": "[encoded data removed]",
      "text/plain": [
       "<Figure size 600x600 with 1 Axes>"
      ]
     },
     "metadata": {},
     "output_type": "display_data"
    },
    {
     "data": {
      "image/png": "[encoded data removed]",
      "text/plain": [
       "<Figure size 400x600 with 1 Axes>"
      ]
     },
     "metadata": {},
     "output_type": "display_data"
    }
   ],
   "source": [
    "import numpy as np\n",
    "import matplotlib.pyplot as plt\n",
    "import torch\n",
    "\n",
    "# ------------- extract the first column (A) ----------------------\n",
    "A_pred = y_pred_unscaled[:, 0].cpu().numpy()   # shape (N,)\n",
    "A_true = y_true_unscaled[:, 0].cpu().numpy()   # shape (N,)\n",
    "\n",
    "# ------------- scatter on log–log axes ---------------------------\n",
    "fig, ax = plt.subplots(figsize=(6, 6))\n",
    "ax.scatter(A_true, A_pred, s=18, alpha=0.6)\n",
    "\n",
    "lo, hi = A_true.min(), A_true.max()\n",
    "lo = min(lo, A_pred.min())\n",
    "hi = max(hi, A_pred.max())\n",
    "ax.plot([lo, hi], [lo, hi], ls='--')           # identity line\n",
    "\n",
    "ax.set_xscale('log'); ax.set_yscale('log')\n",
    "ax.set_xlabel(r'True $A$'); ax.set_ylabel(r'Predicted $A$')\n",
    "ax.set_title('Predicted vs True A (log–log)')\n",
    "plt.tight_layout(); plt.show()\n",
    "\n",
    "# ------------- optional violin plot of distributions -------------\n",
    "fig, ax = plt.subplots(figsize=(4, 6))\n",
    "ax.violinplot([np.log10(A_true), np.log10(A_pred)],\n",
    "              positions=[1, 2], showmeans=True)\n",
    "ax.set_xticks([1, 2], ['log10(A) true', 'log10(A) pred'])\n",
    "ax.set_ylabel('log10(A)')\n",
    "plt.tight_layout(); plt.show()\n"
   ]
  },
  {
   "cell_type": "code",
   "execution_count": 47,
   "id": "7d1698d2",
   "metadata": {},
   "outputs": [
    {
     "data": {
      "image/png": "[encoded data removed]",
      "text/plain": [
       "<Figure size 1500x400 with 3 Axes>"
      ]
     },
     "metadata": {},
     "output_type": "display_data"
    }
   ],
   "source": [
    "import numpy as np\n",
    "import matplotlib.pyplot as plt\n",
    "from sklearn.linear_model import LinearRegression\n",
    "\n",
    "# A_true, A_pred already exist as 1-D NumPy arrays\n",
    "logA_true = np.log10(A_true)\n",
    "logA_pred = np.log10(A_pred)\n",
    "\n",
    "abs_resid = np.abs(logA_pred - logA_true)\n",
    "sgn_resid = logA_pred - logA_true\n",
    "\n",
    "fig, axs = plt.subplots(1, 3, figsize=(15, 4))\n",
    "\n",
    "# ── Plot 1: |residual| vs true ─────────────────────────────────\n",
    "axs[0].scatter(logA_true, abs_resid, s=15, alpha=0.6)\n",
    "axs[0].set_xlabel(r'$\\log_{10}A_{\\mathrm{true}}$')\n",
    "axs[0].set_ylabel(r'|residual|')\n",
    "axs[0].set_title('|Residual| vs true')\n",
    "\n",
    "# ── Plot 2: signed residual vs true ────────────────────────────\n",
    "axs[1].scatter(logA_true, sgn_resid, s=15, alpha=0.6)\n",
    "axs[1].axhline(0, ls='--', color='k')\n",
    "axs[1].set_xlabel(r'$\\log_{10}A_{\\mathrm{true}}$')\n",
    "axs[1].set_ylabel(r'residual')\n",
    "axs[1].set_title('Signed residual vs true')\n",
    "\n",
    "# ── Plot 3: log–log scatter + regression line ─────────────────\n",
    "axs[2].scatter(A_true, A_pred, s=15, alpha=0.6)\n",
    "reg = LinearRegression().fit(logA_true.reshape(-1,1), logA_pred)\n",
    "slope, intercept = reg.coef_[0], reg.intercept_\n",
    "x_line = np.linspace(logA_true.min(), logA_true.max(), 100)\n",
    "axs[2].plot(10**x_line, 10**(intercept + slope*x_line), '--', label=f'y = {slope:.3f}x + {intercept:.3f}')\n",
    "lo, hi = A_true.min(), A_true.max()\n",
    "axs[2].plot([lo, hi], [lo, hi], ':', color='grey')        # identity\n",
    "axs[2].set_xscale('log'); axs[2].set_yscale('log')\n",
    "axs[2].set_xlabel('True A'); axs[2].set_ylabel('Pred A')\n",
    "axs[2].legend()\n",
    "axs[2].set_title('Regression in log–log space')\n",
    "\n",
    "plt.tight_layout()\n",
    "plt.show()\n"
   ]
  },
  {
   "cell_type": "markdown",
   "id": "f70d155c",
   "metadata": {},
   "source": [
    "| Panel                              | What you see                                                                                                                                                              | Interpretation                                                                                                                       |\n",
    "| ---------------------------------- | ------------------------------------------------------------------------------------------------------------------------------------------------------------------------- | ------------------------------------------------------------------------------------------------------------------------------------ |\n",
    "| **1 • \\|Residual\\| vs log₁₀ A**    | Errors are low (≤1 log-unit) through most of the bulk ($-6\\le\\log_{10}A\\le0$). They flare for the very smallest and very largest A values.                                | Model captures the mid-range but under-fits the extremes—typical when the loss is dominated by the dense centre of the distribution. |\n",
    "| **2 • Signed residual vs log₁₀ A** | Points trend downward as A increases: negative residuals (under-prediction) for big A, positive (over-prediction) for tiny A.                                             | Systematic bias: the network compresses the dynamic range, pulling extremes toward the mean.                                         |\n",
    "| **3 • Log–log regression**         | Best-fit line: **Pred ≈ 0.71 × True − 1.42** (dashed blue). The slope < 1 and negative intercept confirm attenuation + downward shift compared with the ideal grey $y=x$. | Same story numerically—about 30 % “flattening” of the true spread plus an overall under-prediction by \\~1.4 log-units.               |\n"
   ]
  },
  {
   "cell_type": "code",
   "execution_count": null,
   "id": "fe397044",
   "metadata": {},
   "outputs": [],
   "source": []
  },
  {
   "cell_type": "code",
   "execution_count": null,
   "id": "c7b6313b",
   "metadata": {},
   "outputs": [],
   "source": []
  }
 ],
 "metadata": {
  "kernelspec": {
   "display_name": "dmpnn_rocm",
   "language": "python",
   "name": "python3"
  },
  "language_info": {
   "codemirror_mode": {
    "name": "ipython",
    "version": 3
   },
   "file_extension": ".py",
   "mimetype": "text/x-python",
   "name": "python",
   "nbconvert_exporter": "python",
   "pygments_lexer": "ipython3",
   "version": "3.10.16"
  }
 },
 "nbformat": 4,
 "nbformat_minor": 5
}
