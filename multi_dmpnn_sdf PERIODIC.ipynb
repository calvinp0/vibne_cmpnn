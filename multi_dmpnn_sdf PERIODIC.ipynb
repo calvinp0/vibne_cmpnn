{
 "cells": [
  {
   "cell_type": "code",
   "execution_count": 1,
   "id": "179d2a17",
   "metadata": {},
   "outputs": [],
   "source": [
    "%load_ext autoreload\n",
    "%autoreload 2\n",
    "\n",
    "import os\n",
    "\n",
    "import pandas as pd\n",
    "from pytorch_lightning import Trainer\n",
    "from pl_module import CMPNNLitModel, MultiCMPNNLitModel\n",
    "from dataset import CMPNNDataset, MultiCMPNNDataset, MultiCMPNNDatasetSDF, CMPNNDataModule\n",
    "from preprocessing import scaffold_split_indices, random_split_indices\n",
    "from torch_geometric.loader import DataLoader\n",
    "from torch_geometric.data import Batch\n",
    "from torch.utils.data import Subset\n",
    "from global_feat import CompositeGlobalFeaturizer, MorganBinaryFeaturizer, RDKit2DNormalizedFeaturizer"
   ]
  },
  {
   "cell_type": "code",
   "execution_count": 2,
   "id": "ad42a992",
   "metadata": {},
   "outputs": [
    {
     "data": {
      "text/plain": [
       "Index(['rxn', 'r1_radius', 'r2_radius', 'alpha_angle', 'psi_1_dihedral',\n",
       "       'psi_2_dihedral'],\n",
       "      dtype='object')"
      ]
     },
     "execution_count": 2,
     "metadata": {},
     "output_type": "execute_result"
    }
   ],
   "source": [
    "pd.read_csv(\"/home/calvin/code/chemprop_phd_customised/habnet/data/processed/target_data/target_data.csv\").columns"
   ]
  },
  {
   "cell_type": "code",
   "execution_count": 3,
   "id": "6c417af3",
   "metadata": {},
   "outputs": [],
   "source": [
    "root = \".\"\n",
    "sdf_dir = \"/home/calvin/code/chemprop_phd_customised/habnet/data/processed/sdf_data/\"\n",
    "targets = \"/home/calvin/code/chemprop_phd_customised/habnet/data/processed/target_data/target_data.csv\"\n",
    "target_cols  = [\"psi_1_dihedral\"]\n",
    "target_types = {\"psi_1_dihedral\": \"periodic\"}\n",
    "\n"
   ]
  },
  {
   "cell_type": "code",
   "execution_count": null,
   "id": "87204db6",
   "metadata": {},
   "outputs": [],
   "source": []
  },
  {
   "cell_type": "code",
   "execution_count": 4,
   "id": "e50344df",
   "metadata": {},
   "outputs": [
    {
     "name": "stderr",
     "output_type": "stream",
     "text": [
      "Processing...\n",
      "/home/calvin/code/vibe_cmpnn/dataset.py:514: UserWarning: No target row for reaction 'rxn_288' – skipped\n",
      "  warnings.warn(f\"No target row for reaction '{rxn}' – skipped\")\n",
      "/home/calvin/code/vibe_cmpnn/dataset.py:514: UserWarning: No target row for reaction 'rxn_635' – skipped\n",
      "  warnings.warn(f\"No target row for reaction '{rxn}' – skipped\")\n",
      "/home/calvin/code/vibe_cmpnn/dataset.py:514: UserWarning: No target row for reaction 'rxn_785' – skipped\n",
      "  warnings.warn(f\"No target row for reaction '{rxn}' – skipped\")\n",
      "Done!\n"
     ]
    }
   ],
   "source": [
    "\n",
    "ds = MultiCMPNNDatasetSDF(\n",
    "    root,\n",
    "    sdf_files=sdf_dir,\n",
    "    target_df=targets,\n",
    "    target_cols=target_cols,\n",
    "    target_types=target_types,\n",
    "    atom_messages=True,\n",
    "    keep_hs=True,\n",
    "    sanitize=False,\n",
    "    force_reload=True,\n",
    "    prune_value=-10,\n",
    "    global_featurizer= CompositeGlobalFeaturizer(\n",
    "        featurizers=[\n",
    "            MorganBinaryFeaturizer(radius=2, length=2048),\n",
    "            RDKit2DNormalizedFeaturizer(),\n",
    "        ]\n",
    "    ),\n",
    "    # pre_transform=PeriodicToSinCosGaussianJitter(target_cols, target_types, radians = False, ignore_val=-10, max_jitter_deg = 10)\n",
    ")"
   ]
  },
  {
   "cell_type": "code",
   "execution_count": 5,
   "id": "5f710430",
   "metadata": {},
   "outputs": [
    {
     "data": {
      "text/plain": [
       "2248"
      ]
     },
     "execution_count": 5,
     "metadata": {},
     "output_type": "execute_result"
    }
   ],
   "source": [
    "ds.global_feature_dim"
   ]
  },
  {
   "cell_type": "code",
   "execution_count": 6,
   "id": "7ff055ac",
   "metadata": {},
   "outputs": [],
   "source": [
    "# from my_transformer import PeriodicToSinCos, PeriodicToSinCosGaussianJitter\n",
    "# dm = CMPNNDataModule(\n",
    "#     root=root,\n",
    "#     sdf_files=sdf_dir,\n",
    "#     target_df=targets,\n",
    "#     target_cols=target_cols,\n",
    "#     target_types=target_types,\n",
    "#     atom_messages=True,\n",
    "#     keep_hs=True,\n",
    "#     sanitize=False,\n",
    "#     force_reload=True,\n",
    "#     train_transform=PeriodicToSinCosGaussianJitter(target_cols, target_types, radians = False, ignore_val=-10, max_jitter_deg = 10),\n",
    "#     val_transform=PeriodicToSinCos(target_cols, target_types, radians = False, ignore_value=-10),\n",
    "#     test_transform=PeriodicToSinCos(target_cols, target_types, radians = False, ignore_value=-10),\n",
    "#     batch_size=64,\n",
    "#     splitter=lambda dataset: random_split_indices(dataset, 0.1, 0.1),\n",
    "#     input_type=(\"r1h\", \"r2h\"),\n",
    "#     prune_value=-10\n",
    "# )"
   ]
  },
  {
   "cell_type": "code",
   "execution_count": 7,
   "id": "4cc49110",
   "metadata": {},
   "outputs": [],
   "source": [
    "# dm.setup()"
   ]
  },
  {
   "cell_type": "code",
   "execution_count": 8,
   "id": "878a88b0",
   "metadata": {},
   "outputs": [
    {
     "name": "stdout",
     "output_type": "stream",
     "text": [
      "train: 1356, val: 170, test: 170\n"
     ]
    }
   ],
   "source": [
    "train_idx, val_idx, test_idx = random_split_indices(ds, 0.1, 0.1)\n",
    "\n",
    "print(f\"train: {len(train_idx)}, val: {len(val_idx)}, test: {len(test_idx)}\")"
   ]
  },
  {
   "cell_type": "code",
   "execution_count": 9,
   "id": "b8c6ba11",
   "metadata": {},
   "outputs": [
    {
     "data": {
      "text/plain": [
       "(tensor([]), tensor([]), tensor([-0.0850]))"
      ]
     },
     "execution_count": 9,
     "metadata": {},
     "output_type": "execute_result"
    }
   ],
   "source": [
    "ds.compute_normalization(train_idx)\n"
   ]
  },
  {
   "cell_type": "code",
   "execution_count": 10,
   "id": "41867257",
   "metadata": {},
   "outputs": [],
   "source": [
    "ds.apply_normalization()"
   ]
  },
  {
   "cell_type": "code",
   "execution_count": 11,
   "id": "f332a116",
   "metadata": {},
   "outputs": [],
   "source": [
    "train_ds = Subset(ds, train_idx)\n",
    "val_ds   = Subset(ds, val_idx)\n",
    "test_ds  = Subset(ds, test_idx)"
   ]
  },
  {
   "cell_type": "code",
   "execution_count": null,
   "id": "bf57ed95",
   "metadata": {},
   "outputs": [],
   "source": []
  },
  {
   "cell_type": "code",
   "execution_count": 12,
   "id": "ced2dc64",
   "metadata": {},
   "outputs": [],
   "source": [
    "from utils_paired import collate_pairs\n",
    "# Use pytorch pure data loader\n",
    "from torch.utils.data import DataLoader\n",
    "# 7) create dataloaders\n",
    "train_loader = DataLoader(train_ds, batch_size=64, shuffle=True, collate_fn=collate_pairs)\n",
    "val_loader = DataLoader(val_ds, batch_size=32, shuffle=False, collate_fn=collate_pairs)\n",
    "test_loader = DataLoader(test_ds, batch_size=32, shuffle=False, collate_fn=collate_pairs)"
   ]
  },
  {
   "cell_type": "code",
   "execution_count": 13,
   "id": "223a1849",
   "metadata": {},
   "outputs": [],
   "source": [
    "# train_full_ds = dm.train_dataset.dataset "
   ]
  },
  {
   "cell_type": "code",
   "execution_count": 14,
   "id": "69c9fe97",
   "metadata": {},
   "outputs": [],
   "source": [
    "# dm.mean_dir"
   ]
  },
  {
   "cell_type": "code",
   "execution_count": 15,
   "id": "e5c930a9",
   "metadata": {},
   "outputs": [],
   "source": [
    "# train_full_ds.mean"
   ]
  },
  {
   "cell_type": "code",
   "execution_count": 16,
   "id": "96790440",
   "metadata": {},
   "outputs": [],
   "source": [
    "# print(f\"mean: {train_full_ds.mean}, std: {train_full_ds.std}\")"
   ]
  },
  {
   "cell_type": "code",
   "execution_count": 17,
   "id": "a92589f6",
   "metadata": {},
   "outputs": [],
   "source": [
    "# train_full_ds[0][0].y\n",
    "\n",
    "# # Need to find a -10 in the y\n",
    "# for i in range(len(train_full_ds)):\n",
    "#     if (train_full_ds[i][0].y == -10).any():  # Check if any element in y equals -10\n",
    "#         print(i)\n",
    "#         break"
   ]
  },
  {
   "cell_type": "code",
   "execution_count": 18,
   "id": "39975e8a",
   "metadata": {},
   "outputs": [],
   "source": [
    "# train_full_ds"
   ]
  },
  {
   "cell_type": "code",
   "execution_count": 19,
   "id": "ac0d27c2",
   "metadata": {},
   "outputs": [],
   "source": [
    "# # pull one item *from* the train_dataset, not from train_dataset.dataset\n",
    "# g1, g2 = dm.test_dataset[0]\n",
    "# print(\"Transformed y for periodic head:\", g1.y)\n",
    "# # should be a 1×(C + 2P) Tensor, where the last 2P entries are sin/cos pairs\n"
   ]
  },
  {
   "cell_type": "code",
   "execution_count": 20,
   "id": "4e9111e9",
   "metadata": {},
   "outputs": [],
   "source": [
    "# from transformers import PeriodicToSinCos\n",
    "# ds.transform = PeriodicToSinCos(\n",
    "#     cont_idx = ds.cont_idx,\n",
    "#     per_idx = ds.per_idx,\n",
    "#     radians = False\n",
    "# )"
   ]
  },
  {
   "cell_type": "code",
   "execution_count": 21,
   "id": "2640005d",
   "metadata": {},
   "outputs": [
    {
     "name": "stdout",
     "output_type": "stream",
     "text": [
      "<class 'abc.DataBatch'> 8\n"
     ]
    },
    {
     "data": {
      "text/plain": [
       "tensor([[ 0.9131, -0.4077],\n",
       "        [ 0.9131, -0.4077],\n",
       "        [ 0.5224,  0.8527],\n",
       "        [ 0.5224,  0.8527],\n",
       "        [-0.1589,  0.9873],\n",
       "        [-0.1589,  0.9873],\n",
       "        [ 0.0844,  0.9964],\n",
       "        [ 0.0844,  0.9964]])"
      ]
     },
     "execution_count": 21,
     "metadata": {},
     "output_type": "execute_result"
    }
   ],
   "source": [
    "from utils_paired import collate_pairs\n",
    "# Use pytorch pure data loader\n",
    "from torch.utils.data import DataLoader\n",
    "# 7) create dataloaders\n",
    "train_loader = DataLoader(train_ds, batch_size=64, shuffle=True, collate_fn=collate_pairs)\n",
    "val_loader = DataLoader(val_ds, batch_size=32, shuffle=False, collate_fn=collate_pairs)\n",
    "test_loader = DataLoader(test_ds, batch_size=32, shuffle=False, collate_fn=collate_pairs)\n",
    "sample_pairs = [train_ds[i] for i in range(4)]   # 4 tuple-pairs\n",
    "batch        = collate_pairs(sample_pairs)       # now returns one Batch\n",
    "print(type(batch), batch.num_graphs)             # Batch 8\n",
    "\n",
    "batch.num_graphs\n",
    "batch.y"
   ]
  },
  {
   "cell_type": "code",
   "execution_count": 22,
   "id": "e229b42b",
   "metadata": {},
   "outputs": [
    {
     "name": "stdout",
     "output_type": "stream",
     "text": [
      "tensor([-0.4202, -0.9074])\n"
     ]
    }
   ],
   "source": [
    "for batch in train_loader:\n",
    "    print(batch.y[0])\n",
    "    break"
   ]
  },
  {
   "cell_type": "markdown",
   "id": "4ea72406",
   "metadata": {},
   "source": [
    "tensor([-0.4656,  0.8850])"
   ]
  },
  {
   "cell_type": "code",
   "execution_count": 23,
   "id": "a0521383",
   "metadata": {},
   "outputs": [],
   "source": [
    "# from sklearn.preprocessing import StandardScaler\n",
    "# from my_transformer import ScaleTransform\n",
    "# import numpy as np\n",
    "# X_d_train = np.stack([\n",
    "#     np.concatenate([\n",
    "#         ds.pairs[i][0].global_features.numpy().squeeze(),\n",
    "#         ds.pairs[i][1].global_features.numpy().squeeze()\n",
    "#     ])\n",
    "#     for i in train_idx\n",
    "# ])\n",
    "# scaler = StandardScaler().fit(X_d_train)\n",
    "# X_d_transform = ScaleTransform.from_standard_scaler(scaler)"
   ]
  },
  {
   "cell_type": "code",
   "execution_count": 24,
   "id": "1d0fdc1f",
   "metadata": {},
   "outputs": [],
   "source": [
    "# X_d_transform"
   ]
  },
  {
   "cell_type": "code",
   "execution_count": 25,
   "id": "593441a0",
   "metadata": {},
   "outputs": [],
   "source": [
    "# # Pull out *all* targets from your full dataset\n",
    "# import torch\n",
    "# import math\n",
    "# full_ds = dm.train_dataset.dataset  # the underlying MultiCMPNNDatasetSDF\n",
    "# angles = full_ds.raw_y.squeeze(1)  # shape (N, 1)\n",
    "\n",
    "# print(\"Angle range:\", angles.min().item(), \"to\", angles.max().item())\n",
    "# print(\"Std dev:\", angles.std().item())\n"
   ]
  },
  {
   "cell_type": "code",
   "execution_count": 26,
   "id": "ee77bfa9",
   "metadata": {},
   "outputs": [
    {
     "data": {
      "text/plain": [
       "2"
      ]
     },
     "execution_count": 26,
     "metadata": {},
     "output_type": "execute_result"
    }
   ],
   "source": [
    "ds.num_targets"
   ]
  },
  {
   "cell_type": "code",
   "execution_count": 27,
   "id": "a5ff288a",
   "metadata": {},
   "outputs": [
    {
     "data": {
      "text/plain": [
       "tensor([])"
      ]
     },
     "execution_count": 27,
     "metadata": {},
     "output_type": "execute_result"
    }
   ],
   "source": [
    "ds.mean"
   ]
  },
  {
   "cell_type": "code",
   "execution_count": 28,
   "id": "8538f0de",
   "metadata": {},
   "outputs": [
    {
     "data": {
      "text/plain": [
       "2248"
      ]
     },
     "execution_count": 28,
     "metadata": {},
     "output_type": "execute_result"
    }
   ],
   "source": [
    "ds.global_feature_dim"
   ]
  },
  {
   "cell_type": "code",
   "execution_count": 29,
   "id": "764b69a2",
   "metadata": {},
   "outputs": [],
   "source": [
    "from torchmetrics import MeanSquaredError, MeanAbsoluteError, R2Score\n",
    "# Check device\n",
    "import torch\n",
    "device = \"cuda\" if torch.cuda.is_available() else \"cpu\""
   ]
  },
  {
   "cell_type": "code",
   "execution_count": 159,
   "id": "96287a90",
   "metadata": {},
   "outputs": [
    {
     "name": "stdout",
     "output_type": "stream",
     "text": [
      ">>> Model class created\n",
      ">>> Model instantiated\n"
     ]
    }
   ],
   "source": [
    "from metrics import MSE, RMSE, R2Score, MAE, AngularError, SinCosMSELoss, AngularMSELoss\n",
    "print(\">>> Model class created\")\n",
    "model = MultiCMPNNLitModel(\n",
    "    in_node_feats=ds.num_atom_features,\n",
    "    in_edge_feats=ds.num_bond_features,\n",
    "    in_global_feats=ds.global_feature_dim,\n",
    "    hidden_dim=1024,\n",
    "    num_steps=3,\n",
    "    dropout_mp=0.4,\n",
    "    dropout_head=0.4,\n",
    "    n_tasks=2,\n",
    "    metrics=[AngularError()],\n",
    "    #metrics=[MSE(), RMSE(), MAE()],\n",
    "    lr=1e-4,\n",
    "    weight_decay=1e-4,\n",
    "    target_mean=ds.mean,\n",
    "    target_std=ds.std,\n",
    "    mpn_shared=True,\n",
    "    target_types=target_types,\n",
    "    # ignore_val=-10,\n",
    "    jitter=False,\n",
    "    normalize_head=True,\n",
    "    readout=\"sum\",\n",
    "    X_d_transform=None,\n",
    "    mean_dir=ds.per_mean_dir,\n",
    ")\n",
    "print(\">>> Model instantiated\")"
   ]
  },
  {
   "cell_type": "code",
   "execution_count": 160,
   "id": "6d487998",
   "metadata": {},
   "outputs": [
    {
     "name": "stdout",
     "output_type": "stream",
     "text": [
      "tensor([[0.0000, 0.0100, 0.0000,  ..., 0.0769, 0.1750, 0.1938]])\n",
      "tensor([[0.0000, 0.1000, 0.0000,  ..., 0.2619, 0.0833, 0.0824]])\n"
     ]
    }
   ],
   "source": [
    "gfs = torch.stack([ds.pairs[i][0].global_features for i in range(100)])\n",
    "print(gfs.mean(dim=0))\n",
    "print(gfs.std(dim=0))\n"
   ]
  },
  {
   "cell_type": "code",
   "execution_count": 161,
   "id": "d9410abf",
   "metadata": {},
   "outputs": [],
   "source": [
    "def reset_model_weights(model):\n",
    "    for module in model.modules():\n",
    "        if hasattr(module, 'reset_parameters'):\n",
    "            module.reset_parameters()\n",
    "\n",
    "reset_model_weights(model)"
   ]
  },
  {
   "cell_type": "code",
   "execution_count": 162,
   "id": "19890be8",
   "metadata": {},
   "outputs": [],
   "source": [
    "# clear cuda cache\n",
    "torch.cuda.empty_cache()\n",
    "# Check device"
   ]
  },
  {
   "cell_type": "code",
   "execution_count": 163,
   "id": "30117511",
   "metadata": {},
   "outputs": [
    {
     "name": "stderr",
     "output_type": "stream",
     "text": [
      "GPU available: True (cuda), used: True\n",
      "TPU available: False, using: 0 TPU cores\n",
      "HPU available: False, using: 0 HPUs\n",
      "LOCAL_RANK: 0 - CUDA_VISIBLE_DEVICES: [0]\n",
      "\n",
      "  | Name      | Type         | Params | Mode \n",
      "---------------------------------------------------\n",
      "0 | encoder   | CMPNNEncoder | 12.9 M | train\n",
      "1 | head      | PeriodicHead | 32.1 M | train\n",
      "2 | metrics   | ModuleDict   | 1      | train\n",
      "3 | criterion | AngularError | 1      | train\n",
      "---------------------------------------------------\n",
      "45.0 M    Trainable params\n",
      "0         Non-trainable params\n",
      "45.0 M    Total params\n",
      "180.162   Total estimated model params size (MB)\n",
      "41        Modules in train mode\n",
      "0         Modules in eval mode\n",
      "/home/calvin/miniforge3/envs/dmpnn_rocm/lib/python3.10/site-packages/pytorch_lightning/core/saving.py:363: Skipping 'metrics' parameter because it is not possible to safely dump to YAML.\n"
     ]
    },
    {
     "data": {
      "application/vnd.jupyter.widget-view+json": {
       "model_id": "80b53f81678841279f25c922fb3d552c",
       "version_major": 2,
       "version_minor": 0
      },
      "text/plain": [
       "Sanity Checking: |          | 0/? [00:00<?, ?it/s]"
      ]
     },
     "metadata": {},
     "output_type": "display_data"
    },
    {
     "name": "stderr",
     "output_type": "stream",
     "text": [
      "/home/calvin/miniforge3/envs/dmpnn_rocm/lib/python3.10/site-packages/pytorch_lightning/trainer/connectors/data_connector.py:425: The 'val_dataloader' does not have many workers which may be a bottleneck. Consider increasing the value of the `num_workers` argument` to `num_workers=19` in the `DataLoader` to improve performance.\n",
      "/home/calvin/miniforge3/envs/dmpnn_rocm/lib/python3.10/site-packages/pytorch_lightning/trainer/connectors/data_connector.py:425: The 'train_dataloader' does not have many workers which may be a bottleneck. Consider increasing the value of the `num_workers` argument` to `num_workers=19` in the `DataLoader` to improve performance.\n"
     ]
    },
    {
     "data": {
      "application/vnd.jupyter.widget-view+json": {
       "model_id": "87096dd132a34cac8043fb87243bfe2b",
       "version_major": 2,
       "version_minor": 0
      },
      "text/plain": [
       "Training: |          | 0/? [00:00<?, ?it/s]"
      ]
     },
     "metadata": {},
     "output_type": "display_data"
    },
    {
     "data": {
      "application/vnd.jupyter.widget-view+json": {
       "model_id": "9e8d0e4ce4264a7d8612be94ac61ed07",
       "version_major": 2,
       "version_minor": 0
      },
      "text/plain": [
       "Validation: |          | 0/? [00:00<?, ?it/s]"
      ]
     },
     "metadata": {},
     "output_type": "display_data"
    },
    {
     "data": {
      "application/vnd.jupyter.widget-view+json": {
       "model_id": "d77a17f30df444949668e9d65d648095",
       "version_major": 2,
       "version_minor": 0
      },
      "text/plain": [
       "Validation: |          | 0/? [00:00<?, ?it/s]"
      ]
     },
     "metadata": {},
     "output_type": "display_data"
    },
    {
     "data": {
      "application/vnd.jupyter.widget-view+json": {
       "model_id": "7cd1ed0550b24a41970c5b0728c49925",
       "version_major": 2,
       "version_minor": 0
      },
      "text/plain": [
       "Validation: |          | 0/? [00:00<?, ?it/s]"
      ]
     },
     "metadata": {},
     "output_type": "display_data"
    },
    {
     "data": {
      "application/vnd.jupyter.widget-view+json": {
       "model_id": "e99d181294354f45b0ef5bc2b06cd26e",
       "version_major": 2,
       "version_minor": 0
      },
      "text/plain": [
       "Validation: |          | 0/? [00:00<?, ?it/s]"
      ]
     },
     "metadata": {},
     "output_type": "display_data"
    },
    {
     "data": {
      "application/vnd.jupyter.widget-view+json": {
       "model_id": "225058088500401ead85d98479463826",
       "version_major": 2,
       "version_minor": 0
      },
      "text/plain": [
       "Validation: |          | 0/? [00:00<?, ?it/s]"
      ]
     },
     "metadata": {},
     "output_type": "display_data"
    },
    {
     "data": {
      "application/vnd.jupyter.widget-view+json": {
       "model_id": "2f7a544864744d71b084f20f7d177505",
       "version_major": 2,
       "version_minor": 0
      },
      "text/plain": [
       "Validation: |          | 0/? [00:00<?, ?it/s]"
      ]
     },
     "metadata": {},
     "output_type": "display_data"
    },
    {
     "data": {
      "application/vnd.jupyter.widget-view+json": {
       "model_id": "1ca6e5743c2e4f338ae33a3fb642a841",
       "version_major": 2,
       "version_minor": 0
      },
      "text/plain": [
       "Validation: |          | 0/? [00:00<?, ?it/s]"
      ]
     },
     "metadata": {},
     "output_type": "display_data"
    },
    {
     "data": {
      "application/vnd.jupyter.widget-view+json": {
       "model_id": "45d25cb3c04a45efbd15d9149f431c10",
       "version_major": 2,
       "version_minor": 0
      },
      "text/plain": [
       "Validation: |          | 0/? [00:00<?, ?it/s]"
      ]
     },
     "metadata": {},
     "output_type": "display_data"
    },
    {
     "data": {
      "application/vnd.jupyter.widget-view+json": {
       "model_id": "d9f640c4841c416bb79824b271737301",
       "version_major": 2,
       "version_minor": 0
      },
      "text/plain": [
       "Validation: |          | 0/? [00:00<?, ?it/s]"
      ]
     },
     "metadata": {},
     "output_type": "display_data"
    },
    {
     "data": {
      "application/vnd.jupyter.widget-view+json": {
       "model_id": "1a427232f1504378a1d4001fdbab536d",
       "version_major": 2,
       "version_minor": 0
      },
      "text/plain": [
       "Validation: |          | 0/? [00:00<?, ?it/s]"
      ]
     },
     "metadata": {},
     "output_type": "display_data"
    },
    {
     "data": {
      "application/vnd.jupyter.widget-view+json": {
       "model_id": "b9891f95899943d9a28cdf9164d00b1c",
       "version_major": 2,
       "version_minor": 0
      },
      "text/plain": [
       "Validation: |          | 0/? [00:00<?, ?it/s]"
      ]
     },
     "metadata": {},
     "output_type": "display_data"
    },
    {
     "data": {
      "application/vnd.jupyter.widget-view+json": {
       "model_id": "7820d874f7dc4b759db9c68cd74ae44c",
       "version_major": 2,
       "version_minor": 0
      },
      "text/plain": [
       "Validation: |          | 0/? [00:00<?, ?it/s]"
      ]
     },
     "metadata": {},
     "output_type": "display_data"
    },
    {
     "data": {
      "application/vnd.jupyter.widget-view+json": {
       "model_id": "f506e6dd2d86442e97f4c8e10a74427d",
       "version_major": 2,
       "version_minor": 0
      },
      "text/plain": [
       "Validation: |          | 0/? [00:00<?, ?it/s]"
      ]
     },
     "metadata": {},
     "output_type": "display_data"
    },
    {
     "data": {
      "application/vnd.jupyter.widget-view+json": {
       "model_id": "d807de44c2834915b7c357fb0aaee918",
       "version_major": 2,
       "version_minor": 0
      },
      "text/plain": [
       "Validation: |          | 0/? [00:00<?, ?it/s]"
      ]
     },
     "metadata": {},
     "output_type": "display_data"
    },
    {
     "data": {
      "application/vnd.jupyter.widget-view+json": {
       "model_id": "c2d53e2610ac44fabbf6b252586da89d",
       "version_major": 2,
       "version_minor": 0
      },
      "text/plain": [
       "Validation: |          | 0/? [00:00<?, ?it/s]"
      ]
     },
     "metadata": {},
     "output_type": "display_data"
    },
    {
     "data": {
      "application/vnd.jupyter.widget-view+json": {
       "model_id": "37c4818199fc42feb49c4df4fd104421",
       "version_major": 2,
       "version_minor": 0
      },
      "text/plain": [
       "Validation: |          | 0/? [00:00<?, ?it/s]"
      ]
     },
     "metadata": {},
     "output_type": "display_data"
    },
    {
     "data": {
      "application/vnd.jupyter.widget-view+json": {
       "model_id": "8e8baf0e672a409eba19eb67e6437d93",
       "version_major": 2,
       "version_minor": 0
      },
      "text/plain": [
       "Validation: |          | 0/? [00:00<?, ?it/s]"
      ]
     },
     "metadata": {},
     "output_type": "display_data"
    },
    {
     "data": {
      "application/vnd.jupyter.widget-view+json": {
       "model_id": "5524f0b6c92c40e4a549da4c8ad4af75",
       "version_major": 2,
       "version_minor": 0
      },
      "text/plain": [
       "Validation: |          | 0/? [00:00<?, ?it/s]"
      ]
     },
     "metadata": {},
     "output_type": "display_data"
    },
    {
     "data": {
      "application/vnd.jupyter.widget-view+json": {
       "model_id": "13ac392eb91e47148cd916fe5c7c7fc4",
       "version_major": 2,
       "version_minor": 0
      },
      "text/plain": [
       "Validation: |          | 0/? [00:00<?, ?it/s]"
      ]
     },
     "metadata": {},
     "output_type": "display_data"
    },
    {
     "data": {
      "application/vnd.jupyter.widget-view+json": {
       "model_id": "4c67d3e18f5945bf98299f12f9a946d6",
       "version_major": 2,
       "version_minor": 0
      },
      "text/plain": [
       "Validation: |          | 0/? [00:00<?, ?it/s]"
      ]
     },
     "metadata": {},
     "output_type": "display_data"
    },
    {
     "data": {
      "application/vnd.jupyter.widget-view+json": {
       "model_id": "9af398eca6e94aac8de5aeaddad584f9",
       "version_major": 2,
       "version_minor": 0
      },
      "text/plain": [
       "Validation: |          | 0/? [00:00<?, ?it/s]"
      ]
     },
     "metadata": {},
     "output_type": "display_data"
    },
    {
     "data": {
      "application/vnd.jupyter.widget-view+json": {
       "model_id": "b1241f550f544e9f990c969031be00f0",
       "version_major": 2,
       "version_minor": 0
      },
      "text/plain": [
       "Validation: |          | 0/? [00:00<?, ?it/s]"
      ]
     },
     "metadata": {},
     "output_type": "display_data"
    },
    {
     "data": {
      "application/vnd.jupyter.widget-view+json": {
       "model_id": "8248671c34954d6ba5d38b29a7ee8de9",
       "version_major": 2,
       "version_minor": 0
      },
      "text/plain": [
       "Validation: |          | 0/? [00:00<?, ?it/s]"
      ]
     },
     "metadata": {},
     "output_type": "display_data"
    },
    {
     "data": {
      "application/vnd.jupyter.widget-view+json": {
       "model_id": "4dbd03358bfa4de4b38e6fa4334a765c",
       "version_major": 2,
       "version_minor": 0
      },
      "text/plain": [
       "Validation: |          | 0/? [00:00<?, ?it/s]"
      ]
     },
     "metadata": {},
     "output_type": "display_data"
    },
    {
     "data": {
      "application/vnd.jupyter.widget-view+json": {
       "model_id": "b563e5b14e4349ee86b7e63a7183159a",
       "version_major": 2,
       "version_minor": 0
      },
      "text/plain": [
       "Validation: |          | 0/? [00:00<?, ?it/s]"
      ]
     },
     "metadata": {},
     "output_type": "display_data"
    },
    {
     "data": {
      "application/vnd.jupyter.widget-view+json": {
       "model_id": "d7e7653121b146249bc1ab4c0d42df14",
       "version_major": 2,
       "version_minor": 0
      },
      "text/plain": [
       "Validation: |          | 0/? [00:00<?, ?it/s]"
      ]
     },
     "metadata": {},
     "output_type": "display_data"
    },
    {
     "data": {
      "application/vnd.jupyter.widget-view+json": {
       "model_id": "08987639860a4f6cb47b9a2e9fcc1626",
       "version_major": 2,
       "version_minor": 0
      },
      "text/plain": [
       "Validation: |          | 0/? [00:00<?, ?it/s]"
      ]
     },
     "metadata": {},
     "output_type": "display_data"
    },
    {
     "data": {
      "application/vnd.jupyter.widget-view+json": {
       "model_id": "1c92e063e10a46b69f046af98ebca61a",
       "version_major": 2,
       "version_minor": 0
      },
      "text/plain": [
       "Validation: |          | 0/? [00:00<?, ?it/s]"
      ]
     },
     "metadata": {},
     "output_type": "display_data"
    },
    {
     "data": {
      "application/vnd.jupyter.widget-view+json": {
       "model_id": "4ff29c1ab42a4ad4a6ebba97e6f0163f",
       "version_major": 2,
       "version_minor": 0
      },
      "text/plain": [
       "Validation: |          | 0/? [00:00<?, ?it/s]"
      ]
     },
     "metadata": {},
     "output_type": "display_data"
    },
    {
     "data": {
      "application/vnd.jupyter.widget-view+json": {
       "model_id": "c0fc0b8170604f619684247a9ff7fbfb",
       "version_major": 2,
       "version_minor": 0
      },
      "text/plain": [
       "Validation: |          | 0/? [00:00<?, ?it/s]"
      ]
     },
     "metadata": {},
     "output_type": "display_data"
    },
    {
     "data": {
      "application/vnd.jupyter.widget-view+json": {
       "model_id": "cf28f3b363eb4fde8386aee6fad0c504",
       "version_major": 2,
       "version_minor": 0
      },
      "text/plain": [
       "Validation: |          | 0/? [00:00<?, ?it/s]"
      ]
     },
     "metadata": {},
     "output_type": "display_data"
    },
    {
     "data": {
      "application/vnd.jupyter.widget-view+json": {
       "model_id": "5fadae56da5c42e39bdab859f6742aa5",
       "version_major": 2,
       "version_minor": 0
      },
      "text/plain": [
       "Validation: |          | 0/? [00:00<?, ?it/s]"
      ]
     },
     "metadata": {},
     "output_type": "display_data"
    },
    {
     "data": {
      "application/vnd.jupyter.widget-view+json": {
       "model_id": "73e2123a4aa749329ba4573375696303",
       "version_major": 2,
       "version_minor": 0
      },
      "text/plain": [
       "Validation: |          | 0/? [00:00<?, ?it/s]"
      ]
     },
     "metadata": {},
     "output_type": "display_data"
    },
    {
     "data": {
      "application/vnd.jupyter.widget-view+json": {
       "model_id": "db18b9b754f24e1ca9da964cb0b8db8a",
       "version_major": 2,
       "version_minor": 0
      },
      "text/plain": [
       "Validation: |          | 0/? [00:00<?, ?it/s]"
      ]
     },
     "metadata": {},
     "output_type": "display_data"
    },
    {
     "data": {
      "application/vnd.jupyter.widget-view+json": {
       "model_id": "014b3a3af4ab4136a84c47cb0db6952f",
       "version_major": 2,
       "version_minor": 0
      },
      "text/plain": [
       "Validation: |          | 0/? [00:00<?, ?it/s]"
      ]
     },
     "metadata": {},
     "output_type": "display_data"
    },
    {
     "data": {
      "application/vnd.jupyter.widget-view+json": {
       "model_id": "8831920f76b44dd1ada06b001a04ea79",
       "version_major": 2,
       "version_minor": 0
      },
      "text/plain": [
       "Validation: |          | 0/? [00:00<?, ?it/s]"
      ]
     },
     "metadata": {},
     "output_type": "display_data"
    },
    {
     "data": {
      "application/vnd.jupyter.widget-view+json": {
       "model_id": "ed1927dccab742b19b57a8bad0b12e9c",
       "version_major": 2,
       "version_minor": 0
      },
      "text/plain": [
       "Validation: |          | 0/? [00:00<?, ?it/s]"
      ]
     },
     "metadata": {},
     "output_type": "display_data"
    },
    {
     "data": {
      "application/vnd.jupyter.widget-view+json": {
       "model_id": "42f77f863eaf4bc291eb516889264f6f",
       "version_major": 2,
       "version_minor": 0
      },
      "text/plain": [
       "Validation: |          | 0/? [00:00<?, ?it/s]"
      ]
     },
     "metadata": {},
     "output_type": "display_data"
    },
    {
     "data": {
      "application/vnd.jupyter.widget-view+json": {
       "model_id": "8c4ace30b351419db598705f2ce6b1c6",
       "version_major": 2,
       "version_minor": 0
      },
      "text/plain": [
       "Validation: |          | 0/? [00:00<?, ?it/s]"
      ]
     },
     "metadata": {},
     "output_type": "display_data"
    },
    {
     "data": {
      "application/vnd.jupyter.widget-view+json": {
       "model_id": "8a0b51923d074b9b869644660a853a01",
       "version_major": 2,
       "version_minor": 0
      },
      "text/plain": [
       "Validation: |          | 0/? [00:00<?, ?it/s]"
      ]
     },
     "metadata": {},
     "output_type": "display_data"
    },
    {
     "data": {
      "application/vnd.jupyter.widget-view+json": {
       "model_id": "0db1d438e2fd4676811ac5c4076f71f5",
       "version_major": 2,
       "version_minor": 0
      },
      "text/plain": [
       "Validation: |          | 0/? [00:00<?, ?it/s]"
      ]
     },
     "metadata": {},
     "output_type": "display_data"
    },
    {
     "data": {
      "application/vnd.jupyter.widget-view+json": {
       "model_id": "cea01c2c103d444296b85dcd2b66a814",
       "version_major": 2,
       "version_minor": 0
      },
      "text/plain": [
       "Validation: |          | 0/? [00:00<?, ?it/s]"
      ]
     },
     "metadata": {},
     "output_type": "display_data"
    },
    {
     "data": {
      "application/vnd.jupyter.widget-view+json": {
       "model_id": "f27423575cd3487090560b29ca597d48",
       "version_major": 2,
       "version_minor": 0
      },
      "text/plain": [
       "Validation: |          | 0/? [00:00<?, ?it/s]"
      ]
     },
     "metadata": {},
     "output_type": "display_data"
    },
    {
     "data": {
      "application/vnd.jupyter.widget-view+json": {
       "model_id": "3014a77cbbfd4d62865002919dd42f4d",
       "version_major": 2,
       "version_minor": 0
      },
      "text/plain": [
       "Validation: |          | 0/? [00:00<?, ?it/s]"
      ]
     },
     "metadata": {},
     "output_type": "display_data"
    },
    {
     "data": {
      "application/vnd.jupyter.widget-view+json": {
       "model_id": "c01935c217a6481d9744b2babcebb785",
       "version_major": 2,
       "version_minor": 0
      },
      "text/plain": [
       "Validation: |          | 0/? [00:00<?, ?it/s]"
      ]
     },
     "metadata": {},
     "output_type": "display_data"
    },
    {
     "data": {
      "application/vnd.jupyter.widget-view+json": {
       "model_id": "ce7f411a81b74967aafae6990048c385",
       "version_major": 2,
       "version_minor": 0
      },
      "text/plain": [
       "Validation: |          | 0/? [00:00<?, ?it/s]"
      ]
     },
     "metadata": {},
     "output_type": "display_data"
    },
    {
     "data": {
      "application/vnd.jupyter.widget-view+json": {
       "model_id": "060c89b494df467cb2e8a6e7e0b090a6",
       "version_major": 2,
       "version_minor": 0
      },
      "text/plain": [
       "Validation: |          | 0/? [00:00<?, ?it/s]"
      ]
     },
     "metadata": {},
     "output_type": "display_data"
    },
    {
     "data": {
      "application/vnd.jupyter.widget-view+json": {
       "model_id": "126ae51794154fa7b81d8f0b747b492a",
       "version_major": 2,
       "version_minor": 0
      },
      "text/plain": [
       "Validation: |          | 0/? [00:00<?, ?it/s]"
      ]
     },
     "metadata": {},
     "output_type": "display_data"
    },
    {
     "data": {
      "application/vnd.jupyter.widget-view+json": {
       "model_id": "3405d5dbf7ab427ea4e9c16d72708d27",
       "version_major": 2,
       "version_minor": 0
      },
      "text/plain": [
       "Validation: |          | 0/? [00:00<?, ?it/s]"
      ]
     },
     "metadata": {},
     "output_type": "display_data"
    },
    {
     "data": {
      "application/vnd.jupyter.widget-view+json": {
       "model_id": "8054c58b019645d6908e49fc3ce939b5",
       "version_major": 2,
       "version_minor": 0
      },
      "text/plain": [
       "Validation: |          | 0/? [00:00<?, ?it/s]"
      ]
     },
     "metadata": {},
     "output_type": "display_data"
    },
    {
     "data": {
      "application/vnd.jupyter.widget-view+json": {
       "model_id": "3a1d0d7eb6924a4c97eeee9387d9968b",
       "version_major": 2,
       "version_minor": 0
      },
      "text/plain": [
       "Validation: |          | 0/? [00:00<?, ?it/s]"
      ]
     },
     "metadata": {},
     "output_type": "display_data"
    },
    {
     "data": {
      "application/vnd.jupyter.widget-view+json": {
       "model_id": "67936d88c1ac4b74b6f0176860564cd7",
       "version_major": 2,
       "version_minor": 0
      },
      "text/plain": [
       "Validation: |          | 0/? [00:00<?, ?it/s]"
      ]
     },
     "metadata": {},
     "output_type": "display_data"
    },
    {
     "data": {
      "application/vnd.jupyter.widget-view+json": {
       "model_id": "7eb893e5fea148c4aaabcbc779bbe2a7",
       "version_major": 2,
       "version_minor": 0
      },
      "text/plain": [
       "Validation: |          | 0/? [00:00<?, ?it/s]"
      ]
     },
     "metadata": {},
     "output_type": "display_data"
    },
    {
     "data": {
      "application/vnd.jupyter.widget-view+json": {
       "model_id": "692ce98f0b8148f6ad15483d928398c7",
       "version_major": 2,
       "version_minor": 0
      },
      "text/plain": [
       "Validation: |          | 0/? [00:00<?, ?it/s]"
      ]
     },
     "metadata": {},
     "output_type": "display_data"
    },
    {
     "data": {
      "application/vnd.jupyter.widget-view+json": {
       "model_id": "3a644fcb6d8f49c8a57593a72cbea7b0",
       "version_major": 2,
       "version_minor": 0
      },
      "text/plain": [
       "Validation: |          | 0/? [00:00<?, ?it/s]"
      ]
     },
     "metadata": {},
     "output_type": "display_data"
    },
    {
     "data": {
      "application/vnd.jupyter.widget-view+json": {
       "model_id": "2a1bfbc7ade144328d9de90891fa1491",
       "version_major": 2,
       "version_minor": 0
      },
      "text/plain": [
       "Validation: |          | 0/? [00:00<?, ?it/s]"
      ]
     },
     "metadata": {},
     "output_type": "display_data"
    },
    {
     "data": {
      "application/vnd.jupyter.widget-view+json": {
       "model_id": "73dfcce773104a61890b724d9b98d0bd",
       "version_major": 2,
       "version_minor": 0
      },
      "text/plain": [
       "Validation: |          | 0/? [00:00<?, ?it/s]"
      ]
     },
     "metadata": {},
     "output_type": "display_data"
    },
    {
     "data": {
      "application/vnd.jupyter.widget-view+json": {
       "model_id": "22e5f1378eac4e35a83ab940c81e6d93",
       "version_major": 2,
       "version_minor": 0
      },
      "text/plain": [
       "Validation: |          | 0/? [00:00<?, ?it/s]"
      ]
     },
     "metadata": {},
     "output_type": "display_data"
    },
    {
     "data": {
      "application/vnd.jupyter.widget-view+json": {
       "model_id": "ff602b4ed3d74dd693fcba06edd0ecc7",
       "version_major": 2,
       "version_minor": 0
      },
      "text/plain": [
       "Validation: |          | 0/? [00:00<?, ?it/s]"
      ]
     },
     "metadata": {},
     "output_type": "display_data"
    },
    {
     "data": {
      "application/vnd.jupyter.widget-view+json": {
       "model_id": "df7dd52ae34842ae9e17a2d9af25caf1",
       "version_major": 2,
       "version_minor": 0
      },
      "text/plain": [
       "Validation: |          | 0/? [00:00<?, ?it/s]"
      ]
     },
     "metadata": {},
     "output_type": "display_data"
    },
    {
     "data": {
      "application/vnd.jupyter.widget-view+json": {
       "model_id": "8b2a289d1cce409fb420e0ce7edbb05b",
       "version_major": 2,
       "version_minor": 0
      },
      "text/plain": [
       "Validation: |          | 0/? [00:00<?, ?it/s]"
      ]
     },
     "metadata": {},
     "output_type": "display_data"
    },
    {
     "data": {
      "application/vnd.jupyter.widget-view+json": {
       "model_id": "6dc216a8f04c4fef8ca3b2363172018c",
       "version_major": 2,
       "version_minor": 0
      },
      "text/plain": [
       "Validation: |          | 0/? [00:00<?, ?it/s]"
      ]
     },
     "metadata": {},
     "output_type": "display_data"
    },
    {
     "data": {
      "application/vnd.jupyter.widget-view+json": {
       "model_id": "c3b276ab31f84090a27144db6a5820ef",
       "version_major": 2,
       "version_minor": 0
      },
      "text/plain": [
       "Validation: |          | 0/? [00:00<?, ?it/s]"
      ]
     },
     "metadata": {},
     "output_type": "display_data"
    },
    {
     "data": {
      "application/vnd.jupyter.widget-view+json": {
       "model_id": "06111eb3edb847c1a54bb9bf0e00a2f9",
       "version_major": 2,
       "version_minor": 0
      },
      "text/plain": [
       "Validation: |          | 0/? [00:00<?, ?it/s]"
      ]
     },
     "metadata": {},
     "output_type": "display_data"
    },
    {
     "data": {
      "application/vnd.jupyter.widget-view+json": {
       "model_id": "7a34595aaee4452dba676d0d552d5d73",
       "version_major": 2,
       "version_minor": 0
      },
      "text/plain": [
       "Validation: |          | 0/? [00:00<?, ?it/s]"
      ]
     },
     "metadata": {},
     "output_type": "display_data"
    },
    {
     "data": {
      "application/vnd.jupyter.widget-view+json": {
       "model_id": "e78495f4557f468c90dcc78d2e213152",
       "version_major": 2,
       "version_minor": 0
      },
      "text/plain": [
       "Validation: |          | 0/? [00:00<?, ?it/s]"
      ]
     },
     "metadata": {},
     "output_type": "display_data"
    },
    {
     "data": {
      "application/vnd.jupyter.widget-view+json": {
       "model_id": "bad033c2346a45baaedc4db2162eb471",
       "version_major": 2,
       "version_minor": 0
      },
      "text/plain": [
       "Validation: |          | 0/? [00:00<?, ?it/s]"
      ]
     },
     "metadata": {},
     "output_type": "display_data"
    },
    {
     "data": {
      "application/vnd.jupyter.widget-view+json": {
       "model_id": "a9383fb37e5f439da0708a1c40714e81",
       "version_major": 2,
       "version_minor": 0
      },
      "text/plain": [
       "Validation: |          | 0/? [00:00<?, ?it/s]"
      ]
     },
     "metadata": {},
     "output_type": "display_data"
    },
    {
     "data": {
      "application/vnd.jupyter.widget-view+json": {
       "model_id": "a706bdded8fc4618a4b11c9998b71580",
       "version_major": 2,
       "version_minor": 0
      },
      "text/plain": [
       "Validation: |          | 0/? [00:00<?, ?it/s]"
      ]
     },
     "metadata": {},
     "output_type": "display_data"
    },
    {
     "data": {
      "application/vnd.jupyter.widget-view+json": {
       "model_id": "ef4ee9fe34044b798e0faf3eb086457b",
       "version_major": 2,
       "version_minor": 0
      },
      "text/plain": [
       "Validation: |          | 0/? [00:00<?, ?it/s]"
      ]
     },
     "metadata": {},
     "output_type": "display_data"
    },
    {
     "data": {
      "application/vnd.jupyter.widget-view+json": {
       "model_id": "db57f9d924a747f592267d78a31b4ea0",
       "version_major": 2,
       "version_minor": 0
      },
      "text/plain": [
       "Validation: |          | 0/? [00:00<?, ?it/s]"
      ]
     },
     "metadata": {},
     "output_type": "display_data"
    },
    {
     "data": {
      "application/vnd.jupyter.widget-view+json": {
       "model_id": "1c26b19d67a34b9094cae5d61082c524",
       "version_major": 2,
       "version_minor": 0
      },
      "text/plain": [
       "Validation: |          | 0/? [00:00<?, ?it/s]"
      ]
     },
     "metadata": {},
     "output_type": "display_data"
    },
    {
     "data": {
      "application/vnd.jupyter.widget-view+json": {
       "model_id": "a4c2b523be414183af8c85eecabfde17",
       "version_major": 2,
       "version_minor": 0
      },
      "text/plain": [
       "Validation: |          | 0/? [00:00<?, ?it/s]"
      ]
     },
     "metadata": {},
     "output_type": "display_data"
    },
    {
     "data": {
      "application/vnd.jupyter.widget-view+json": {
       "model_id": "0c9e12f02ce04b9eada2222be3256790",
       "version_major": 2,
       "version_minor": 0
      },
      "text/plain": [
       "Validation: |          | 0/? [00:00<?, ?it/s]"
      ]
     },
     "metadata": {},
     "output_type": "display_data"
    },
    {
     "data": {
      "application/vnd.jupyter.widget-view+json": {
       "model_id": "39ba83e93c274c1b9e898775483c73e6",
       "version_major": 2,
       "version_minor": 0
      },
      "text/plain": [
       "Validation: |          | 0/? [00:00<?, ?it/s]"
      ]
     },
     "metadata": {},
     "output_type": "display_data"
    },
    {
     "data": {
      "application/vnd.jupyter.widget-view+json": {
       "model_id": "d8200e225efc435cad22b6f53f511213",
       "version_major": 2,
       "version_minor": 0
      },
      "text/plain": [
       "Validation: |          | 0/? [00:00<?, ?it/s]"
      ]
     },
     "metadata": {},
     "output_type": "display_data"
    },
    {
     "data": {
      "application/vnd.jupyter.widget-view+json": {
       "model_id": "4ef90ac16edc492f8c730d5abcc1306c",
       "version_major": 2,
       "version_minor": 0
      },
      "text/plain": [
       "Validation: |          | 0/? [00:00<?, ?it/s]"
      ]
     },
     "metadata": {},
     "output_type": "display_data"
    },
    {
     "data": {
      "application/vnd.jupyter.widget-view+json": {
       "model_id": "a63274f74d234f3cb27a60ab3637b0ce",
       "version_major": 2,
       "version_minor": 0
      },
      "text/plain": [
       "Validation: |          | 0/? [00:00<?, ?it/s]"
      ]
     },
     "metadata": {},
     "output_type": "display_data"
    },
    {
     "data": {
      "application/vnd.jupyter.widget-view+json": {
       "model_id": "ab915fccf2484b948c34b3a0f3ee0a0f",
       "version_major": 2,
       "version_minor": 0
      },
      "text/plain": [
       "Validation: |          | 0/? [00:00<?, ?it/s]"
      ]
     },
     "metadata": {},
     "output_type": "display_data"
    },
    {
     "data": {
      "application/vnd.jupyter.widget-view+json": {
       "model_id": "c3091a6029f54e7b8a56f49e4151aa2e",
       "version_major": 2,
       "version_minor": 0
      },
      "text/plain": [
       "Validation: |          | 0/? [00:00<?, ?it/s]"
      ]
     },
     "metadata": {},
     "output_type": "display_data"
    },
    {
     "data": {
      "application/vnd.jupyter.widget-view+json": {
       "model_id": "a7f58d14621b4806bb6d72db6639b896",
       "version_major": 2,
       "version_minor": 0
      },
      "text/plain": [
       "Validation: |          | 0/? [00:00<?, ?it/s]"
      ]
     },
     "metadata": {},
     "output_type": "display_data"
    },
    {
     "data": {
      "application/vnd.jupyter.widget-view+json": {
       "model_id": "b8567afd03b244e69e6dd4850505914e",
       "version_major": 2,
       "version_minor": 0
      },
      "text/plain": [
       "Validation: |          | 0/? [00:00<?, ?it/s]"
      ]
     },
     "metadata": {},
     "output_type": "display_data"
    },
    {
     "data": {
      "application/vnd.jupyter.widget-view+json": {
       "model_id": "6efcfa797c874d4f98a65e0c51ed01b0",
       "version_major": 2,
       "version_minor": 0
      },
      "text/plain": [
       "Validation: |          | 0/? [00:00<?, ?it/s]"
      ]
     },
     "metadata": {},
     "output_type": "display_data"
    },
    {
     "data": {
      "application/vnd.jupyter.widget-view+json": {
       "model_id": "c6cb1858de87400bb2686153bb543e91",
       "version_major": 2,
       "version_minor": 0
      },
      "text/plain": [
       "Validation: |          | 0/? [00:00<?, ?it/s]"
      ]
     },
     "metadata": {},
     "output_type": "display_data"
    },
    {
     "data": {
      "application/vnd.jupyter.widget-view+json": {
       "model_id": "004456f2450a4e188bd4551396d05f52",
       "version_major": 2,
       "version_minor": 0
      },
      "text/plain": [
       "Validation: |          | 0/? [00:00<?, ?it/s]"
      ]
     },
     "metadata": {},
     "output_type": "display_data"
    },
    {
     "data": {
      "application/vnd.jupyter.widget-view+json": {
       "model_id": "b8169bcff57c4aa88293108a2284d155",
       "version_major": 2,
       "version_minor": 0
      },
      "text/plain": [
       "Validation: |          | 0/? [00:00<?, ?it/s]"
      ]
     },
     "metadata": {},
     "output_type": "display_data"
    },
    {
     "data": {
      "application/vnd.jupyter.widget-view+json": {
       "model_id": "286d5405bd4b4a268473270595997a37",
       "version_major": 2,
       "version_minor": 0
      },
      "text/plain": [
       "Validation: |          | 0/? [00:00<?, ?it/s]"
      ]
     },
     "metadata": {},
     "output_type": "display_data"
    },
    {
     "data": {
      "application/vnd.jupyter.widget-view+json": {
       "model_id": "c34a3ddc23c04ac58d6a6150bdc7b5c6",
       "version_major": 2,
       "version_minor": 0
      },
      "text/plain": [
       "Validation: |          | 0/? [00:00<?, ?it/s]"
      ]
     },
     "metadata": {},
     "output_type": "display_data"
    },
    {
     "data": {
      "application/vnd.jupyter.widget-view+json": {
       "model_id": "ace0133c61de45f88f11a94f476bf494",
       "version_major": 2,
       "version_minor": 0
      },
      "text/plain": [
       "Validation: |          | 0/? [00:00<?, ?it/s]"
      ]
     },
     "metadata": {},
     "output_type": "display_data"
    },
    {
     "data": {
      "application/vnd.jupyter.widget-view+json": {
       "model_id": "9200e739f2f249f6ab3811278702dc1a",
       "version_major": 2,
       "version_minor": 0
      },
      "text/plain": [
       "Validation: |          | 0/? [00:00<?, ?it/s]"
      ]
     },
     "metadata": {},
     "output_type": "display_data"
    },
    {
     "data": {
      "application/vnd.jupyter.widget-view+json": {
       "model_id": "235b4dc84f4245f780a731577cfd3679",
       "version_major": 2,
       "version_minor": 0
      },
      "text/plain": [
       "Validation: |          | 0/? [00:00<?, ?it/s]"
      ]
     },
     "metadata": {},
     "output_type": "display_data"
    },
    {
     "data": {
      "application/vnd.jupyter.widget-view+json": {
       "model_id": "43d8ab893099423bb705a1b131516d6b",
       "version_major": 2,
       "version_minor": 0
      },
      "text/plain": [
       "Validation: |          | 0/? [00:00<?, ?it/s]"
      ]
     },
     "metadata": {},
     "output_type": "display_data"
    },
    {
     "data": {
      "application/vnd.jupyter.widget-view+json": {
       "model_id": "df787217e691400e9ec05bb09c120d2f",
       "version_major": 2,
       "version_minor": 0
      },
      "text/plain": [
       "Validation: |          | 0/? [00:00<?, ?it/s]"
      ]
     },
     "metadata": {},
     "output_type": "display_data"
    },
    {
     "data": {
      "application/vnd.jupyter.widget-view+json": {
       "model_id": "1bd933d6e6744f2a940f4ceef8cb90c4",
       "version_major": 2,
       "version_minor": 0
      },
      "text/plain": [
       "Validation: |          | 0/? [00:00<?, ?it/s]"
      ]
     },
     "metadata": {},
     "output_type": "display_data"
    },
    {
     "data": {
      "application/vnd.jupyter.widget-view+json": {
       "model_id": "e6cb7f7736fd4a2ca3d0a3fb3a56d12d",
       "version_major": 2,
       "version_minor": 0
      },
      "text/plain": [
       "Validation: |          | 0/? [00:00<?, ?it/s]"
      ]
     },
     "metadata": {},
     "output_type": "display_data"
    },
    {
     "data": {
      "application/vnd.jupyter.widget-view+json": {
       "model_id": "16c645aff3244b9e83a33b8f0684844a",
       "version_major": 2,
       "version_minor": 0
      },
      "text/plain": [
       "Validation: |          | 0/? [00:00<?, ?it/s]"
      ]
     },
     "metadata": {},
     "output_type": "display_data"
    },
    {
     "data": {
      "application/vnd.jupyter.widget-view+json": {
       "model_id": "709d26e60a0946738f020d558a7dd49c",
       "version_major": 2,
       "version_minor": 0
      },
      "text/plain": [
       "Validation: |          | 0/? [00:00<?, ?it/s]"
      ]
     },
     "metadata": {},
     "output_type": "display_data"
    },
    {
     "data": {
      "application/vnd.jupyter.widget-view+json": {
       "model_id": "15c31731e2484b9a9500e799cbba212f",
       "version_major": 2,
       "version_minor": 0
      },
      "text/plain": [
       "Validation: |          | 0/? [00:00<?, ?it/s]"
      ]
     },
     "metadata": {},
     "output_type": "display_data"
    },
    {
     "data": {
      "application/vnd.jupyter.widget-view+json": {
       "model_id": "087e1d71eb084d8e80983066388d586a",
       "version_major": 2,
       "version_minor": 0
      },
      "text/plain": [
       "Validation: |          | 0/? [00:00<?, ?it/s]"
      ]
     },
     "metadata": {},
     "output_type": "display_data"
    },
    {
     "data": {
      "application/vnd.jupyter.widget-view+json": {
       "model_id": "b8322bad3e734567a0b4855a972ad124",
       "version_major": 2,
       "version_minor": 0
      },
      "text/plain": [
       "Validation: |          | 0/? [00:00<?, ?it/s]"
      ]
     },
     "metadata": {},
     "output_type": "display_data"
    },
    {
     "data": {
      "application/vnd.jupyter.widget-view+json": {
       "model_id": "ed3ba5ef55de42a59becfc9db2483e44",
       "version_major": 2,
       "version_minor": 0
      },
      "text/plain": [
       "Validation: |          | 0/? [00:00<?, ?it/s]"
      ]
     },
     "metadata": {},
     "output_type": "display_data"
    },
    {
     "data": {
      "application/vnd.jupyter.widget-view+json": {
       "model_id": "eed3d69803f8446a970c1b875f995bcf",
       "version_major": 2,
       "version_minor": 0
      },
      "text/plain": [
       "Validation: |          | 0/? [00:00<?, ?it/s]"
      ]
     },
     "metadata": {},
     "output_type": "display_data"
    },
    {
     "data": {
      "application/vnd.jupyter.widget-view+json": {
       "model_id": "7e85efd247204d6aa9f4dbad96ddc206",
       "version_major": 2,
       "version_minor": 0
      },
      "text/plain": [
       "Validation: |          | 0/? [00:00<?, ?it/s]"
      ]
     },
     "metadata": {},
     "output_type": "display_data"
    },
    {
     "data": {
      "application/vnd.jupyter.widget-view+json": {
       "model_id": "fa7158c054ff4da3bf1af5674a3634c1",
       "version_major": 2,
       "version_minor": 0
      },
      "text/plain": [
       "Validation: |          | 0/? [00:00<?, ?it/s]"
      ]
     },
     "metadata": {},
     "output_type": "display_data"
    },
    {
     "data": {
      "application/vnd.jupyter.widget-view+json": {
       "model_id": "4ea88f96c6af4005a3696cbc52799313",
       "version_major": 2,
       "version_minor": 0
      },
      "text/plain": [
       "Validation: |          | 0/? [00:00<?, ?it/s]"
      ]
     },
     "metadata": {},
     "output_type": "display_data"
    },
    {
     "data": {
      "application/vnd.jupyter.widget-view+json": {
       "model_id": "04e4bb2a77ff4213b89d7d333317a5ff",
       "version_major": 2,
       "version_minor": 0
      },
      "text/plain": [
       "Validation: |          | 0/? [00:00<?, ?it/s]"
      ]
     },
     "metadata": {},
     "output_type": "display_data"
    },
    {
     "data": {
      "application/vnd.jupyter.widget-view+json": {
       "model_id": "b3f8ef1ee88c4828b209c9ffc5060ff0",
       "version_major": 2,
       "version_minor": 0
      },
      "text/plain": [
       "Validation: |          | 0/? [00:00<?, ?it/s]"
      ]
     },
     "metadata": {},
     "output_type": "display_data"
    },
    {
     "data": {
      "application/vnd.jupyter.widget-view+json": {
       "model_id": "3f0251e5e0674044a95d49ffb31a57e3",
       "version_major": 2,
       "version_minor": 0
      },
      "text/plain": [
       "Validation: |          | 0/? [00:00<?, ?it/s]"
      ]
     },
     "metadata": {},
     "output_type": "display_data"
    },
    {
     "data": {
      "application/vnd.jupyter.widget-view+json": {
       "model_id": "8e3d5f37c0c544ed96c94b7d02437726",
       "version_major": 2,
       "version_minor": 0
      },
      "text/plain": [
       "Validation: |          | 0/? [00:00<?, ?it/s]"
      ]
     },
     "metadata": {},
     "output_type": "display_data"
    },
    {
     "data": {
      "application/vnd.jupyter.widget-view+json": {
       "model_id": "b4a58fdc4c254926ab2a2c3f0ae544a0",
       "version_major": 2,
       "version_minor": 0
      },
      "text/plain": [
       "Validation: |          | 0/? [00:00<?, ?it/s]"
      ]
     },
     "metadata": {},
     "output_type": "display_data"
    },
    {
     "data": {
      "application/vnd.jupyter.widget-view+json": {
       "model_id": "035d1a3be7434a70953c58d6857a1cd4",
       "version_major": 2,
       "version_minor": 0
      },
      "text/plain": [
       "Validation: |          | 0/? [00:00<?, ?it/s]"
      ]
     },
     "metadata": {},
     "output_type": "display_data"
    },
    {
     "data": {
      "application/vnd.jupyter.widget-view+json": {
       "model_id": "00275d4e3e4a45ecb0802ec3d19fe705",
       "version_major": 2,
       "version_minor": 0
      },
      "text/plain": [
       "Validation: |          | 0/? [00:00<?, ?it/s]"
      ]
     },
     "metadata": {},
     "output_type": "display_data"
    },
    {
     "data": {
      "application/vnd.jupyter.widget-view+json": {
       "model_id": "27ab0b02f775449a8a4385068a1c7ee7",
       "version_major": 2,
       "version_minor": 0
      },
      "text/plain": [
       "Validation: |          | 0/? [00:00<?, ?it/s]"
      ]
     },
     "metadata": {},
     "output_type": "display_data"
    },
    {
     "data": {
      "application/vnd.jupyter.widget-view+json": {
       "model_id": "f621fe39093545ef9628ee5cb944fede",
       "version_major": 2,
       "version_minor": 0
      },
      "text/plain": [
       "Validation: |          | 0/? [00:00<?, ?it/s]"
      ]
     },
     "metadata": {},
     "output_type": "display_data"
    },
    {
     "data": {
      "application/vnd.jupyter.widget-view+json": {
       "model_id": "372e4a7976f34d4b876fd326db9aa8b7",
       "version_major": 2,
       "version_minor": 0
      },
      "text/plain": [
       "Validation: |          | 0/? [00:00<?, ?it/s]"
      ]
     },
     "metadata": {},
     "output_type": "display_data"
    },
    {
     "data": {
      "application/vnd.jupyter.widget-view+json": {
       "model_id": "3997d666eafc498c9684562aae618105",
       "version_major": 2,
       "version_minor": 0
      },
      "text/plain": [
       "Validation: |          | 0/? [00:00<?, ?it/s]"
      ]
     },
     "metadata": {},
     "output_type": "display_data"
    },
    {
     "data": {
      "application/vnd.jupyter.widget-view+json": {
       "model_id": "994612a639c6469cbeccc0ea14a9edf5",
       "version_major": 2,
       "version_minor": 0
      },
      "text/plain": [
       "Validation: |          | 0/? [00:00<?, ?it/s]"
      ]
     },
     "metadata": {},
     "output_type": "display_data"
    },
    {
     "data": {
      "application/vnd.jupyter.widget-view+json": {
       "model_id": "22d113eac4194b78a46985d0f1198ec4",
       "version_major": 2,
       "version_minor": 0
      },
      "text/plain": [
       "Validation: |          | 0/? [00:00<?, ?it/s]"
      ]
     },
     "metadata": {},
     "output_type": "display_data"
    },
    {
     "data": {
      "application/vnd.jupyter.widget-view+json": {
       "model_id": "ea8802f98af548e5874b1828f421ee73",
       "version_major": 2,
       "version_minor": 0
      },
      "text/plain": [
       "Validation: |          | 0/? [00:00<?, ?it/s]"
      ]
     },
     "metadata": {},
     "output_type": "display_data"
    },
    {
     "data": {
      "application/vnd.jupyter.widget-view+json": {
       "model_id": "d442a53c9991421fa2d02f78545a66b8",
       "version_major": 2,
       "version_minor": 0
      },
      "text/plain": [
       "Validation: |          | 0/? [00:00<?, ?it/s]"
      ]
     },
     "metadata": {},
     "output_type": "display_data"
    },
    {
     "data": {
      "application/vnd.jupyter.widget-view+json": {
       "model_id": "74eb2c0ebd42435b98d3eec503f5d6af",
       "version_major": 2,
       "version_minor": 0
      },
      "text/plain": [
       "Validation: |          | 0/? [00:00<?, ?it/s]"
      ]
     },
     "metadata": {},
     "output_type": "display_data"
    },
    {
     "data": {
      "application/vnd.jupyter.widget-view+json": {
       "model_id": "4d85826b92674e4e8c233ddc9603e90f",
       "version_major": 2,
       "version_minor": 0
      },
      "text/plain": [
       "Validation: |          | 0/? [00:00<?, ?it/s]"
      ]
     },
     "metadata": {},
     "output_type": "display_data"
    },
    {
     "data": {
      "application/vnd.jupyter.widget-view+json": {
       "model_id": "311d33d2b91442539dcc4a8d7ecb5a97",
       "version_major": 2,
       "version_minor": 0
      },
      "text/plain": [
       "Validation: |          | 0/? [00:00<?, ?it/s]"
      ]
     },
     "metadata": {},
     "output_type": "display_data"
    },
    {
     "data": {
      "application/vnd.jupyter.widget-view+json": {
       "model_id": "9d4df144a69d4b80815b77f3dccbb70a",
       "version_major": 2,
       "version_minor": 0
      },
      "text/plain": [
       "Validation: |          | 0/? [00:00<?, ?it/s]"
      ]
     },
     "metadata": {},
     "output_type": "display_data"
    },
    {
     "data": {
      "application/vnd.jupyter.widget-view+json": {
       "model_id": "d27d77592b774880bc63245f7a1d9e12",
       "version_major": 2,
       "version_minor": 0
      },
      "text/plain": [
       "Validation: |          | 0/? [00:00<?, ?it/s]"
      ]
     },
     "metadata": {},
     "output_type": "display_data"
    },
    {
     "data": {
      "application/vnd.jupyter.widget-view+json": {
       "model_id": "33bb0d20eb0d4f3d8a17f8ae271b621b",
       "version_major": 2,
       "version_minor": 0
      },
      "text/plain": [
       "Validation: |          | 0/? [00:00<?, ?it/s]"
      ]
     },
     "metadata": {},
     "output_type": "display_data"
    },
    {
     "data": {
      "application/vnd.jupyter.widget-view+json": {
       "model_id": "6e39e19e39274dc3903c8ceabf48a6e3",
       "version_major": 2,
       "version_minor": 0
      },
      "text/plain": [
       "Validation: |          | 0/? [00:00<?, ?it/s]"
      ]
     },
     "metadata": {},
     "output_type": "display_data"
    },
    {
     "data": {
      "application/vnd.jupyter.widget-view+json": {
       "model_id": "3c5a736476df46558a352dfaeaf81bcc",
       "version_major": 2,
       "version_minor": 0
      },
      "text/plain": [
       "Validation: |          | 0/? [00:00<?, ?it/s]"
      ]
     },
     "metadata": {},
     "output_type": "display_data"
    },
    {
     "data": {
      "application/vnd.jupyter.widget-view+json": {
       "model_id": "f1a74e8d75bd4e689afcf1568a780f8a",
       "version_major": 2,
       "version_minor": 0
      },
      "text/plain": [
       "Validation: |          | 0/? [00:00<?, ?it/s]"
      ]
     },
     "metadata": {},
     "output_type": "display_data"
    },
    {
     "data": {
      "application/vnd.jupyter.widget-view+json": {
       "model_id": "b63389ce21b143759970590f7259d6ba",
       "version_major": 2,
       "version_minor": 0
      },
      "text/plain": [
       "Validation: |          | 0/? [00:00<?, ?it/s]"
      ]
     },
     "metadata": {},
     "output_type": "display_data"
    },
    {
     "data": {
      "application/vnd.jupyter.widget-view+json": {
       "model_id": "9a68db4feead4c8ebe7c769e1e4dfc43",
       "version_major": 2,
       "version_minor": 0
      },
      "text/plain": [
       "Validation: |          | 0/? [00:00<?, ?it/s]"
      ]
     },
     "metadata": {},
     "output_type": "display_data"
    },
    {
     "data": {
      "application/vnd.jupyter.widget-view+json": {
       "model_id": "78f719a54ba14ba3b42d2c2e0202354e",
       "version_major": 2,
       "version_minor": 0
      },
      "text/plain": [
       "Validation: |          | 0/? [00:00<?, ?it/s]"
      ]
     },
     "metadata": {},
     "output_type": "display_data"
    },
    {
     "data": {
      "application/vnd.jupyter.widget-view+json": {
       "model_id": "ac109ee068f047d2ae53c357a218b4fb",
       "version_major": 2,
       "version_minor": 0
      },
      "text/plain": [
       "Validation: |          | 0/? [00:00<?, ?it/s]"
      ]
     },
     "metadata": {},
     "output_type": "display_data"
    },
    {
     "data": {
      "application/vnd.jupyter.widget-view+json": {
       "model_id": "f6a88346c95d4e49acbb37a25b380899",
       "version_major": 2,
       "version_minor": 0
      },
      "text/plain": [
       "Validation: |          | 0/? [00:00<?, ?it/s]"
      ]
     },
     "metadata": {},
     "output_type": "display_data"
    },
    {
     "data": {
      "application/vnd.jupyter.widget-view+json": {
       "model_id": "6bc2eb8ac5a14c3880e2d045be1cdb28",
       "version_major": 2,
       "version_minor": 0
      },
      "text/plain": [
       "Validation: |          | 0/? [00:00<?, ?it/s]"
      ]
     },
     "metadata": {},
     "output_type": "display_data"
    },
    {
     "data": {
      "application/vnd.jupyter.widget-view+json": {
       "model_id": "cd110c185ce5465983e376a69700ca71",
       "version_major": 2,
       "version_minor": 0
      },
      "text/plain": [
       "Validation: |          | 0/? [00:00<?, ?it/s]"
      ]
     },
     "metadata": {},
     "output_type": "display_data"
    },
    {
     "data": {
      "application/vnd.jupyter.widget-view+json": {
       "model_id": "bf6dd76a9d0b49689ad8677d74599c5d",
       "version_major": 2,
       "version_minor": 0
      },
      "text/plain": [
       "Validation: |          | 0/? [00:00<?, ?it/s]"
      ]
     },
     "metadata": {},
     "output_type": "display_data"
    },
    {
     "data": {
      "application/vnd.jupyter.widget-view+json": {
       "model_id": "c1994cc42ba942459ac610b3e305734a",
       "version_major": 2,
       "version_minor": 0
      },
      "text/plain": [
       "Validation: |          | 0/? [00:00<?, ?it/s]"
      ]
     },
     "metadata": {},
     "output_type": "display_data"
    },
    {
     "data": {
      "application/vnd.jupyter.widget-view+json": {
       "model_id": "695a492012af4f5bbb9b6b5a0c77058d",
       "version_major": 2,
       "version_minor": 0
      },
      "text/plain": [
       "Validation: |          | 0/? [00:00<?, ?it/s]"
      ]
     },
     "metadata": {},
     "output_type": "display_data"
    },
    {
     "data": {
      "application/vnd.jupyter.widget-view+json": {
       "model_id": "37f3813308194fffb37120f5fab13c64",
       "version_major": 2,
       "version_minor": 0
      },
      "text/plain": [
       "Validation: |          | 0/? [00:00<?, ?it/s]"
      ]
     },
     "metadata": {},
     "output_type": "display_data"
    },
    {
     "data": {
      "application/vnd.jupyter.widget-view+json": {
       "model_id": "48eb3896893849e7bb18cd658a1a6c3f",
       "version_major": 2,
       "version_minor": 0
      },
      "text/plain": [
       "Validation: |          | 0/? [00:00<?, ?it/s]"
      ]
     },
     "metadata": {},
     "output_type": "display_data"
    },
    {
     "data": {
      "application/vnd.jupyter.widget-view+json": {
       "model_id": "e4517559356c4237a12aeb2eb33ea447",
       "version_major": 2,
       "version_minor": 0
      },
      "text/plain": [
       "Validation: |          | 0/? [00:00<?, ?it/s]"
      ]
     },
     "metadata": {},
     "output_type": "display_data"
    },
    {
     "data": {
      "application/vnd.jupyter.widget-view+json": {
       "model_id": "fd921a09522c41fbbf4237c9ff87291a",
       "version_major": 2,
       "version_minor": 0
      },
      "text/plain": [
       "Validation: |          | 0/? [00:00<?, ?it/s]"
      ]
     },
     "metadata": {},
     "output_type": "display_data"
    },
    {
     "data": {
      "application/vnd.jupyter.widget-view+json": {
       "model_id": "dd6a171c192345f281f8706725a3e276",
       "version_major": 2,
       "version_minor": 0
      },
      "text/plain": [
       "Validation: |          | 0/? [00:00<?, ?it/s]"
      ]
     },
     "metadata": {},
     "output_type": "display_data"
    },
    {
     "data": {
      "application/vnd.jupyter.widget-view+json": {
       "model_id": "c696b318ee2840e6be17fab277d2afe1",
       "version_major": 2,
       "version_minor": 0
      },
      "text/plain": [
       "Validation: |          | 0/? [00:00<?, ?it/s]"
      ]
     },
     "metadata": {},
     "output_type": "display_data"
    },
    {
     "data": {
      "application/vnd.jupyter.widget-view+json": {
       "model_id": "aebc870563dd4ae08761dbe1c4b61fa4",
       "version_major": 2,
       "version_minor": 0
      },
      "text/plain": [
       "Validation: |          | 0/? [00:00<?, ?it/s]"
      ]
     },
     "metadata": {},
     "output_type": "display_data"
    },
    {
     "data": {
      "application/vnd.jupyter.widget-view+json": {
       "model_id": "c0769358ee66449995ca0f2db85e533b",
       "version_major": 2,
       "version_minor": 0
      },
      "text/plain": [
       "Validation: |          | 0/? [00:00<?, ?it/s]"
      ]
     },
     "metadata": {},
     "output_type": "display_data"
    },
    {
     "data": {
      "application/vnd.jupyter.widget-view+json": {
       "model_id": "2367bd3633ef4c87ac72e9bebbfe546e",
       "version_major": 2,
       "version_minor": 0
      },
      "text/plain": [
       "Validation: |          | 0/? [00:00<?, ?it/s]"
      ]
     },
     "metadata": {},
     "output_type": "display_data"
    },
    {
     "data": {
      "application/vnd.jupyter.widget-view+json": {
       "model_id": "a651956793664066bca2532de0e9f124",
       "version_major": 2,
       "version_minor": 0
      },
      "text/plain": [
       "Validation: |          | 0/? [00:00<?, ?it/s]"
      ]
     },
     "metadata": {},
     "output_type": "display_data"
    },
    {
     "data": {
      "application/vnd.jupyter.widget-view+json": {
       "model_id": "5ccfa611b14040ec8a524b8a0d5f97c9",
       "version_major": 2,
       "version_minor": 0
      },
      "text/plain": [
       "Validation: |          | 0/? [00:00<?, ?it/s]"
      ]
     },
     "metadata": {},
     "output_type": "display_data"
    },
    {
     "data": {
      "application/vnd.jupyter.widget-view+json": {
       "model_id": "2b9c0c539a124e9980d139680cb91aa6",
       "version_major": 2,
       "version_minor": 0
      },
      "text/plain": [
       "Validation: |          | 0/? [00:00<?, ?it/s]"
      ]
     },
     "metadata": {},
     "output_type": "display_data"
    },
    {
     "data": {
      "application/vnd.jupyter.widget-view+json": {
       "model_id": "35c9a3ac79344af79954d4005d683405",
       "version_major": 2,
       "version_minor": 0
      },
      "text/plain": [
       "Validation: |          | 0/? [00:00<?, ?it/s]"
      ]
     },
     "metadata": {},
     "output_type": "display_data"
    },
    {
     "data": {
      "application/vnd.jupyter.widget-view+json": {
       "model_id": "c65473c345c64554ad2a403d2c376cd8",
       "version_major": 2,
       "version_minor": 0
      },
      "text/plain": [
       "Validation: |          | 0/? [00:00<?, ?it/s]"
      ]
     },
     "metadata": {},
     "output_type": "display_data"
    },
    {
     "data": {
      "application/vnd.jupyter.widget-view+json": {
       "model_id": "17ace2cb59ba4c2f92053785569354a5",
       "version_major": 2,
       "version_minor": 0
      },
      "text/plain": [
       "Validation: |          | 0/? [00:00<?, ?it/s]"
      ]
     },
     "metadata": {},
     "output_type": "display_data"
    },
    {
     "data": {
      "application/vnd.jupyter.widget-view+json": {
       "model_id": "666e07370a6b43ba917ac21f13e3f0df",
       "version_major": 2,
       "version_minor": 0
      },
      "text/plain": [
       "Validation: |          | 0/? [00:00<?, ?it/s]"
      ]
     },
     "metadata": {},
     "output_type": "display_data"
    },
    {
     "data": {
      "application/vnd.jupyter.widget-view+json": {
       "model_id": "c576266997a144549b0967b1d2b766c9",
       "version_major": 2,
       "version_minor": 0
      },
      "text/plain": [
       "Validation: |          | 0/? [00:00<?, ?it/s]"
      ]
     },
     "metadata": {},
     "output_type": "display_data"
    },
    {
     "data": {
      "application/vnd.jupyter.widget-view+json": {
       "model_id": "354a45dcf7084f04b398aaf19dc3aa8a",
       "version_major": 2,
       "version_minor": 0
      },
      "text/plain": [
       "Validation: |          | 0/? [00:00<?, ?it/s]"
      ]
     },
     "metadata": {},
     "output_type": "display_data"
    },
    {
     "data": {
      "application/vnd.jupyter.widget-view+json": {
       "model_id": "2f0917e615c94fa3985e87ef23223035",
       "version_major": 2,
       "version_minor": 0
      },
      "text/plain": [
       "Validation: |          | 0/? [00:00<?, ?it/s]"
      ]
     },
     "metadata": {},
     "output_type": "display_data"
    },
    {
     "data": {
      "application/vnd.jupyter.widget-view+json": {
       "model_id": "7b9d1540602f43b4a7dee4f07e69ddac",
       "version_major": 2,
       "version_minor": 0
      },
      "text/plain": [
       "Validation: |          | 0/? [00:00<?, ?it/s]"
      ]
     },
     "metadata": {},
     "output_type": "display_data"
    },
    {
     "data": {
      "application/vnd.jupyter.widget-view+json": {
       "model_id": "9615b8fa26c74a5c89a4a8f662a07cba",
       "version_major": 2,
       "version_minor": 0
      },
      "text/plain": [
       "Validation: |          | 0/? [00:00<?, ?it/s]"
      ]
     },
     "metadata": {},
     "output_type": "display_data"
    },
    {
     "data": {
      "application/vnd.jupyter.widget-view+json": {
       "model_id": "29d198b7874145049818529b7c3c9e66",
       "version_major": 2,
       "version_minor": 0
      },
      "text/plain": [
       "Validation: |          | 0/? [00:00<?, ?it/s]"
      ]
     },
     "metadata": {},
     "output_type": "display_data"
    },
    {
     "data": {
      "application/vnd.jupyter.widget-view+json": {
       "model_id": "28b558f53263421787ae346839e854b0",
       "version_major": 2,
       "version_minor": 0
      },
      "text/plain": [
       "Validation: |          | 0/? [00:00<?, ?it/s]"
      ]
     },
     "metadata": {},
     "output_type": "display_data"
    },
    {
     "data": {
      "application/vnd.jupyter.widget-view+json": {
       "model_id": "e890fd46b7604e4189bb0e284032ffc2",
       "version_major": 2,
       "version_minor": 0
      },
      "text/plain": [
       "Validation: |          | 0/? [00:00<?, ?it/s]"
      ]
     },
     "metadata": {},
     "output_type": "display_data"
    },
    {
     "data": {
      "application/vnd.jupyter.widget-view+json": {
       "model_id": "f77b70e277314461963937977cd3e587",
       "version_major": 2,
       "version_minor": 0
      },
      "text/plain": [
       "Validation: |          | 0/? [00:00<?, ?it/s]"
      ]
     },
     "metadata": {},
     "output_type": "display_data"
    },
    {
     "data": {
      "application/vnd.jupyter.widget-view+json": {
       "model_id": "22d15bb0362c45229b76b6dc24dd9469",
       "version_major": 2,
       "version_minor": 0
      },
      "text/plain": [
       "Validation: |          | 0/? [00:00<?, ?it/s]"
      ]
     },
     "metadata": {},
     "output_type": "display_data"
    },
    {
     "data": {
      "application/vnd.jupyter.widget-view+json": {
       "model_id": "893e01c9f73343ab8dd581f78aa39a48",
       "version_major": 2,
       "version_minor": 0
      },
      "text/plain": [
       "Validation: |          | 0/? [00:00<?, ?it/s]"
      ]
     },
     "metadata": {},
     "output_type": "display_data"
    },
    {
     "data": {
      "application/vnd.jupyter.widget-view+json": {
       "model_id": "3be56a0624b945e09e8a62914866beae",
       "version_major": 2,
       "version_minor": 0
      },
      "text/plain": [
       "Validation: |          | 0/? [00:00<?, ?it/s]"
      ]
     },
     "metadata": {},
     "output_type": "display_data"
    },
    {
     "data": {
      "application/vnd.jupyter.widget-view+json": {
       "model_id": "3f4f1205b3004722be6331644744267b",
       "version_major": 2,
       "version_minor": 0
      },
      "text/plain": [
       "Validation: |          | 0/? [00:00<?, ?it/s]"
      ]
     },
     "metadata": {},
     "output_type": "display_data"
    },
    {
     "data": {
      "application/vnd.jupyter.widget-view+json": {
       "model_id": "e98aa400878c45519e89e1b1ec49e0fb",
       "version_major": 2,
       "version_minor": 0
      },
      "text/plain": [
       "Validation: |          | 0/? [00:00<?, ?it/s]"
      ]
     },
     "metadata": {},
     "output_type": "display_data"
    },
    {
     "data": {
      "application/vnd.jupyter.widget-view+json": {
       "model_id": "07f3877e187148d1b95b510425d39209",
       "version_major": 2,
       "version_minor": 0
      },
      "text/plain": [
       "Validation: |          | 0/? [00:00<?, ?it/s]"
      ]
     },
     "metadata": {},
     "output_type": "display_data"
    },
    {
     "data": {
      "application/vnd.jupyter.widget-view+json": {
       "model_id": "98023b618ef345fb85e04131d4e673c4",
       "version_major": 2,
       "version_minor": 0
      },
      "text/plain": [
       "Validation: |          | 0/? [00:00<?, ?it/s]"
      ]
     },
     "metadata": {},
     "output_type": "display_data"
    },
    {
     "data": {
      "application/vnd.jupyter.widget-view+json": {
       "model_id": "1e2200ff24004b279319a706d0820d59",
       "version_major": 2,
       "version_minor": 0
      },
      "text/plain": [
       "Validation: |          | 0/? [00:00<?, ?it/s]"
      ]
     },
     "metadata": {},
     "output_type": "display_data"
    },
    {
     "data": {
      "application/vnd.jupyter.widget-view+json": {
       "model_id": "11c04b7bd6504731b5b0a18e57d3c9b6",
       "version_major": 2,
       "version_minor": 0
      },
      "text/plain": [
       "Validation: |          | 0/? [00:00<?, ?it/s]"
      ]
     },
     "metadata": {},
     "output_type": "display_data"
    },
    {
     "data": {
      "application/vnd.jupyter.widget-view+json": {
       "model_id": "58baa2a1ba6547e392308773940c07ae",
       "version_major": 2,
       "version_minor": 0
      },
      "text/plain": [
       "Validation: |          | 0/? [00:00<?, ?it/s]"
      ]
     },
     "metadata": {},
     "output_type": "display_data"
    },
    {
     "data": {
      "application/vnd.jupyter.widget-view+json": {
       "model_id": "4dbd338dd7a1483f979e9ab1d4ec658b",
       "version_major": 2,
       "version_minor": 0
      },
      "text/plain": [
       "Validation: |          | 0/? [00:00<?, ?it/s]"
      ]
     },
     "metadata": {},
     "output_type": "display_data"
    },
    {
     "data": {
      "application/vnd.jupyter.widget-view+json": {
       "model_id": "70e299627dc54fe9b91486f83ebe78d2",
       "version_major": 2,
       "version_minor": 0
      },
      "text/plain": [
       "Validation: |          | 0/? [00:00<?, ?it/s]"
      ]
     },
     "metadata": {},
     "output_type": "display_data"
    },
    {
     "data": {
      "application/vnd.jupyter.widget-view+json": {
       "model_id": "7a43972dbe0c44a3b5bfa00e60e2872f",
       "version_major": 2,
       "version_minor": 0
      },
      "text/plain": [
       "Validation: |          | 0/? [00:00<?, ?it/s]"
      ]
     },
     "metadata": {},
     "output_type": "display_data"
    },
    {
     "data": {
      "application/vnd.jupyter.widget-view+json": {
       "model_id": "7e2d95aa77d440638c747589dba49346",
       "version_major": 2,
       "version_minor": 0
      },
      "text/plain": [
       "Validation: |          | 0/? [00:00<?, ?it/s]"
      ]
     },
     "metadata": {},
     "output_type": "display_data"
    },
    {
     "data": {
      "application/vnd.jupyter.widget-view+json": {
       "model_id": "d051becc594f402eb77c64825c6825c2",
       "version_major": 2,
       "version_minor": 0
      },
      "text/plain": [
       "Validation: |          | 0/? [00:00<?, ?it/s]"
      ]
     },
     "metadata": {},
     "output_type": "display_data"
    },
    {
     "data": {
      "application/vnd.jupyter.widget-view+json": {
       "model_id": "a9d789c044b74ab0bffb5f99818b4f76",
       "version_major": 2,
       "version_minor": 0
      },
      "text/plain": [
       "Validation: |          | 0/? [00:00<?, ?it/s]"
      ]
     },
     "metadata": {},
     "output_type": "display_data"
    },
    {
     "data": {
      "application/vnd.jupyter.widget-view+json": {
       "model_id": "f5ef41c359084127a489409952a9617f",
       "version_major": 2,
       "version_minor": 0
      },
      "text/plain": [
       "Validation: |          | 0/? [00:00<?, ?it/s]"
      ]
     },
     "metadata": {},
     "output_type": "display_data"
    },
    {
     "data": {
      "application/vnd.jupyter.widget-view+json": {
       "model_id": "dffe918d560943cd90d91fc7daaa1eb6",
       "version_major": 2,
       "version_minor": 0
      },
      "text/plain": [
       "Validation: |          | 0/? [00:00<?, ?it/s]"
      ]
     },
     "metadata": {},
     "output_type": "display_data"
    },
    {
     "data": {
      "application/vnd.jupyter.widget-view+json": {
       "model_id": "4abf1460bfa546d49aaf3a56e0888d87",
       "version_major": 2,
       "version_minor": 0
      },
      "text/plain": [
       "Validation: |          | 0/? [00:00<?, ?it/s]"
      ]
     },
     "metadata": {},
     "output_type": "display_data"
    },
    {
     "data": {
      "application/vnd.jupyter.widget-view+json": {
       "model_id": "fbeecfd4f8fa43a7984efcdba7bc0b1f",
       "version_major": 2,
       "version_minor": 0
      },
      "text/plain": [
       "Validation: |          | 0/? [00:00<?, ?it/s]"
      ]
     },
     "metadata": {},
     "output_type": "display_data"
    },
    {
     "data": {
      "application/vnd.jupyter.widget-view+json": {
       "model_id": "00aaafeb8d76459fa831840728ab4d86",
       "version_major": 2,
       "version_minor": 0
      },
      "text/plain": [
       "Validation: |          | 0/? [00:00<?, ?it/s]"
      ]
     },
     "metadata": {},
     "output_type": "display_data"
    },
    {
     "data": {
      "application/vnd.jupyter.widget-view+json": {
       "model_id": "c625f86cd68946d980f90428eb289f73",
       "version_major": 2,
       "version_minor": 0
      },
      "text/plain": [
       "Validation: |          | 0/? [00:00<?, ?it/s]"
      ]
     },
     "metadata": {},
     "output_type": "display_data"
    },
    {
     "data": {
      "application/vnd.jupyter.widget-view+json": {
       "model_id": "16707a7cf7344a329b2ae6725a00b532",
       "version_major": 2,
       "version_minor": 0
      },
      "text/plain": [
       "Validation: |          | 0/? [00:00<?, ?it/s]"
      ]
     },
     "metadata": {},
     "output_type": "display_data"
    },
    {
     "data": {
      "application/vnd.jupyter.widget-view+json": {
       "model_id": "325f2f83ef484dfc8755f7fb85b7a3c7",
       "version_major": 2,
       "version_minor": 0
      },
      "text/plain": [
       "Validation: |          | 0/? [00:00<?, ?it/s]"
      ]
     },
     "metadata": {},
     "output_type": "display_data"
    },
    {
     "data": {
      "application/vnd.jupyter.widget-view+json": {
       "model_id": "1d06f8deafee4254bf9389851ba25015",
       "version_major": 2,
       "version_minor": 0
      },
      "text/plain": [
       "Validation: |          | 0/? [00:00<?, ?it/s]"
      ]
     },
     "metadata": {},
     "output_type": "display_data"
    },
    {
     "data": {
      "application/vnd.jupyter.widget-view+json": {
       "model_id": "1b97914292ed484cad58e1380c591089",
       "version_major": 2,
       "version_minor": 0
      },
      "text/plain": [
       "Validation: |          | 0/? [00:00<?, ?it/s]"
      ]
     },
     "metadata": {},
     "output_type": "display_data"
    },
    {
     "data": {
      "application/vnd.jupyter.widget-view+json": {
       "model_id": "601f69812fd54e9780cf9fb2ef9d99a1",
       "version_major": 2,
       "version_minor": 0
      },
      "text/plain": [
       "Validation: |          | 0/? [00:00<?, ?it/s]"
      ]
     },
     "metadata": {},
     "output_type": "display_data"
    },
    {
     "data": {
      "application/vnd.jupyter.widget-view+json": {
       "model_id": "0d3106f5d6054b9096f9de2ba14749b9",
       "version_major": 2,
       "version_minor": 0
      },
      "text/plain": [
       "Validation: |          | 0/? [00:00<?, ?it/s]"
      ]
     },
     "metadata": {},
     "output_type": "display_data"
    },
    {
     "data": {
      "application/vnd.jupyter.widget-view+json": {
       "model_id": "4efceb0caf254998b1e68403070b412e",
       "version_major": 2,
       "version_minor": 0
      },
      "text/plain": [
       "Validation: |          | 0/? [00:00<?, ?it/s]"
      ]
     },
     "metadata": {},
     "output_type": "display_data"
    },
    {
     "data": {
      "application/vnd.jupyter.widget-view+json": {
       "model_id": "1e9fa9ccdceb42b3bace2067eb39da17",
       "version_major": 2,
       "version_minor": 0
      },
      "text/plain": [
       "Validation: |          | 0/? [00:00<?, ?it/s]"
      ]
     },
     "metadata": {},
     "output_type": "display_data"
    },
    {
     "data": {
      "application/vnd.jupyter.widget-view+json": {
       "model_id": "6a4ceb6d84b24259a4ec4f4c263ddf98",
       "version_major": 2,
       "version_minor": 0
      },
      "text/plain": [
       "Validation: |          | 0/? [00:00<?, ?it/s]"
      ]
     },
     "metadata": {},
     "output_type": "display_data"
    },
    {
     "data": {
      "application/vnd.jupyter.widget-view+json": {
       "model_id": "c5dc867cd296406b868d15e1f8831baa",
       "version_major": 2,
       "version_minor": 0
      },
      "text/plain": [
       "Validation: |          | 0/? [00:00<?, ?it/s]"
      ]
     },
     "metadata": {},
     "output_type": "display_data"
    },
    {
     "data": {
      "application/vnd.jupyter.widget-view+json": {
       "model_id": "5fe7c37ea3a046d0b52720dd9e17afd5",
       "version_major": 2,
       "version_minor": 0
      },
      "text/plain": [
       "Validation: |          | 0/? [00:00<?, ?it/s]"
      ]
     },
     "metadata": {},
     "output_type": "display_data"
    },
    {
     "data": {
      "application/vnd.jupyter.widget-view+json": {
       "model_id": "b380b0a12bc04763a4a7a800183ed9d6",
       "version_major": 2,
       "version_minor": 0
      },
      "text/plain": [
       "Validation: |          | 0/? [00:00<?, ?it/s]"
      ]
     },
     "metadata": {},
     "output_type": "display_data"
    },
    {
     "data": {
      "application/vnd.jupyter.widget-view+json": {
       "model_id": "8a77387ddb49425a99b40028d69f3283",
       "version_major": 2,
       "version_minor": 0
      },
      "text/plain": [
       "Validation: |          | 0/? [00:00<?, ?it/s]"
      ]
     },
     "metadata": {},
     "output_type": "display_data"
    },
    {
     "data": {
      "application/vnd.jupyter.widget-view+json": {
       "model_id": "8c48113facad490ba9de26a41d571293",
       "version_major": 2,
       "version_minor": 0
      },
      "text/plain": [
       "Validation: |          | 0/? [00:00<?, ?it/s]"
      ]
     },
     "metadata": {},
     "output_type": "display_data"
    },
    {
     "data": {
      "application/vnd.jupyter.widget-view+json": {
       "model_id": "9c9b8ede745e4b16af357b743ac447c9",
       "version_major": 2,
       "version_minor": 0
      },
      "text/plain": [
       "Validation: |          | 0/? [00:00<?, ?it/s]"
      ]
     },
     "metadata": {},
     "output_type": "display_data"
    },
    {
     "data": {
      "application/vnd.jupyter.widget-view+json": {
       "model_id": "e3b14f43547e4b09b364325b4f11d328",
       "version_major": 2,
       "version_minor": 0
      },
      "text/plain": [
       "Validation: |          | 0/? [00:00<?, ?it/s]"
      ]
     },
     "metadata": {},
     "output_type": "display_data"
    },
    {
     "data": {
      "application/vnd.jupyter.widget-view+json": {
       "model_id": "e19a552384054d73b65bc7fae7e8f317",
       "version_major": 2,
       "version_minor": 0
      },
      "text/plain": [
       "Validation: |          | 0/? [00:00<?, ?it/s]"
      ]
     },
     "metadata": {},
     "output_type": "display_data"
    },
    {
     "data": {
      "application/vnd.jupyter.widget-view+json": {
       "model_id": "79584616b4df4b2c9acf1593fc88cce7",
       "version_major": 2,
       "version_minor": 0
      },
      "text/plain": [
       "Validation: |          | 0/? [00:00<?, ?it/s]"
      ]
     },
     "metadata": {},
     "output_type": "display_data"
    },
    {
     "data": {
      "application/vnd.jupyter.widget-view+json": {
       "model_id": "37f9f64bcf194ddbaa9794d139aa6317",
       "version_major": 2,
       "version_minor": 0
      },
      "text/plain": [
       "Validation: |          | 0/? [00:00<?, ?it/s]"
      ]
     },
     "metadata": {},
     "output_type": "display_data"
    },
    {
     "data": {
      "application/vnd.jupyter.widget-view+json": {
       "model_id": "f0a45037a6a5496d8498300afc56ba9c",
       "version_major": 2,
       "version_minor": 0
      },
      "text/plain": [
       "Validation: |          | 0/? [00:00<?, ?it/s]"
      ]
     },
     "metadata": {},
     "output_type": "display_data"
    },
    {
     "data": {
      "application/vnd.jupyter.widget-view+json": {
       "model_id": "2a39a236e7104f47b364af3a7d2a0993",
       "version_major": 2,
       "version_minor": 0
      },
      "text/plain": [
       "Validation: |          | 0/? [00:00<?, ?it/s]"
      ]
     },
     "metadata": {},
     "output_type": "display_data"
    },
    {
     "data": {
      "application/vnd.jupyter.widget-view+json": {
       "model_id": "b32b7f4601e5468c9860229074d98f2b",
       "version_major": 2,
       "version_minor": 0
      },
      "text/plain": [
       "Validation: |          | 0/? [00:00<?, ?it/s]"
      ]
     },
     "metadata": {},
     "output_type": "display_data"
    },
    {
     "data": {
      "application/vnd.jupyter.widget-view+json": {
       "model_id": "6627620c584d4f2c8a901fbc88eddf9a",
       "version_major": 2,
       "version_minor": 0
      },
      "text/plain": [
       "Validation: |          | 0/? [00:00<?, ?it/s]"
      ]
     },
     "metadata": {},
     "output_type": "display_data"
    },
    {
     "data": {
      "application/vnd.jupyter.widget-view+json": {
       "model_id": "de57ae4d919d4c8fa980333da7c36cb0",
       "version_major": 2,
       "version_minor": 0
      },
      "text/plain": [
       "Validation: |          | 0/? [00:00<?, ?it/s]"
      ]
     },
     "metadata": {},
     "output_type": "display_data"
    },
    {
     "data": {
      "application/vnd.jupyter.widget-view+json": {
       "model_id": "802ac9bd719544d4bb93558a44ed832c",
       "version_major": 2,
       "version_minor": 0
      },
      "text/plain": [
       "Validation: |          | 0/? [00:00<?, ?it/s]"
      ]
     },
     "metadata": {},
     "output_type": "display_data"
    },
    {
     "data": {
      "application/vnd.jupyter.widget-view+json": {
       "model_id": "3b17735979a64fa69ceeeede653d250b",
       "version_major": 2,
       "version_minor": 0
      },
      "text/plain": [
       "Validation: |          | 0/? [00:00<?, ?it/s]"
      ]
     },
     "metadata": {},
     "output_type": "display_data"
    },
    {
     "data": {
      "application/vnd.jupyter.widget-view+json": {
       "model_id": "d80ea51b9ea543628a2f35661037bc54",
       "version_major": 2,
       "version_minor": 0
      },
      "text/plain": [
       "Validation: |          | 0/? [00:00<?, ?it/s]"
      ]
     },
     "metadata": {},
     "output_type": "display_data"
    },
    {
     "data": {
      "application/vnd.jupyter.widget-view+json": {
       "model_id": "4398e5721dc14114a5d3e8dd134b4bdd",
       "version_major": 2,
       "version_minor": 0
      },
      "text/plain": [
       "Validation: |          | 0/? [00:00<?, ?it/s]"
      ]
     },
     "metadata": {},
     "output_type": "display_data"
    },
    {
     "data": {
      "application/vnd.jupyter.widget-view+json": {
       "model_id": "cd3041d5928f45d7b915860fd7eed5cb",
       "version_major": 2,
       "version_minor": 0
      },
      "text/plain": [
       "Validation: |          | 0/? [00:00<?, ?it/s]"
      ]
     },
     "metadata": {},
     "output_type": "display_data"
    },
    {
     "data": {
      "application/vnd.jupyter.widget-view+json": {
       "model_id": "edacf7fa430f4edb81d559b1ea3e22de",
       "version_major": 2,
       "version_minor": 0
      },
      "text/plain": [
       "Validation: |          | 0/? [00:00<?, ?it/s]"
      ]
     },
     "metadata": {},
     "output_type": "display_data"
    },
    {
     "data": {
      "application/vnd.jupyter.widget-view+json": {
       "model_id": "682ceef54daa404f8108b1e544126bee",
       "version_major": 2,
       "version_minor": 0
      },
      "text/plain": [
       "Validation: |          | 0/? [00:00<?, ?it/s]"
      ]
     },
     "metadata": {},
     "output_type": "display_data"
    },
    {
     "data": {
      "application/vnd.jupyter.widget-view+json": {
       "model_id": "da491d225f904ad5a6007ab4e300b4b9",
       "version_major": 2,
       "version_minor": 0
      },
      "text/plain": [
       "Validation: |          | 0/? [00:00<?, ?it/s]"
      ]
     },
     "metadata": {},
     "output_type": "display_data"
    },
    {
     "data": {
      "application/vnd.jupyter.widget-view+json": {
       "model_id": "30750dcb39ce4623b7887e13d9d23759",
       "version_major": 2,
       "version_minor": 0
      },
      "text/plain": [
       "Validation: |          | 0/? [00:00<?, ?it/s]"
      ]
     },
     "metadata": {},
     "output_type": "display_data"
    },
    {
     "data": {
      "application/vnd.jupyter.widget-view+json": {
       "model_id": "b05046491a6e4d31890d02bc1ba05a81",
       "version_major": 2,
       "version_minor": 0
      },
      "text/plain": [
       "Validation: |          | 0/? [00:00<?, ?it/s]"
      ]
     },
     "metadata": {},
     "output_type": "display_data"
    },
    {
     "data": {
      "application/vnd.jupyter.widget-view+json": {
       "model_id": "2b1d3f1d59c648899c41292c2402dabb",
       "version_major": 2,
       "version_minor": 0
      },
      "text/plain": [
       "Validation: |          | 0/? [00:00<?, ?it/s]"
      ]
     },
     "metadata": {},
     "output_type": "display_data"
    },
    {
     "data": {
      "application/vnd.jupyter.widget-view+json": {
       "model_id": "92978d95b5ed46faa8aeb3e4b998cdcb",
       "version_major": 2,
       "version_minor": 0
      },
      "text/plain": [
       "Validation: |          | 0/? [00:00<?, ?it/s]"
      ]
     },
     "metadata": {},
     "output_type": "display_data"
    },
    {
     "data": {
      "application/vnd.jupyter.widget-view+json": {
       "model_id": "b0d8a74558794b15bede6129c86af5d1",
       "version_major": 2,
       "version_minor": 0
      },
      "text/plain": [
       "Validation: |          | 0/? [00:00<?, ?it/s]"
      ]
     },
     "metadata": {},
     "output_type": "display_data"
    },
    {
     "data": {
      "application/vnd.jupyter.widget-view+json": {
       "model_id": "04471a3a4f9948bea331dc64eb42a034",
       "version_major": 2,
       "version_minor": 0
      },
      "text/plain": [
       "Validation: |          | 0/? [00:00<?, ?it/s]"
      ]
     },
     "metadata": {},
     "output_type": "display_data"
    },
    {
     "data": {
      "application/vnd.jupyter.widget-view+json": {
       "model_id": "5065876467484b8d8f64084484e4c107",
       "version_major": 2,
       "version_minor": 0
      },
      "text/plain": [
       "Validation: |          | 0/? [00:00<?, ?it/s]"
      ]
     },
     "metadata": {},
     "output_type": "display_data"
    },
    {
     "data": {
      "application/vnd.jupyter.widget-view+json": {
       "model_id": "1dcf06a9e1864d86b3fb90ba9170db78",
       "version_major": 2,
       "version_minor": 0
      },
      "text/plain": [
       "Validation: |          | 0/? [00:00<?, ?it/s]"
      ]
     },
     "metadata": {},
     "output_type": "display_data"
    },
    {
     "data": {
      "application/vnd.jupyter.widget-view+json": {
       "model_id": "dc948c51a8074fbc99387708a989641f",
       "version_major": 2,
       "version_minor": 0
      },
      "text/plain": [
       "Validation: |          | 0/? [00:00<?, ?it/s]"
      ]
     },
     "metadata": {},
     "output_type": "display_data"
    },
    {
     "data": {
      "application/vnd.jupyter.widget-view+json": {
       "model_id": "913528af7d8f4ade9580bae840926634",
       "version_major": 2,
       "version_minor": 0
      },
      "text/plain": [
       "Validation: |          | 0/? [00:00<?, ?it/s]"
      ]
     },
     "metadata": {},
     "output_type": "display_data"
    },
    {
     "data": {
      "application/vnd.jupyter.widget-view+json": {
       "model_id": "897659aca2f74a80849dc14e4e0fbea3",
       "version_major": 2,
       "version_minor": 0
      },
      "text/plain": [
       "Validation: |          | 0/? [00:00<?, ?it/s]"
      ]
     },
     "metadata": {},
     "output_type": "display_data"
    },
    {
     "data": {
      "application/vnd.jupyter.widget-view+json": {
       "model_id": "dbd36c9f869b4944b4cf0c3b1c2ca36a",
       "version_major": 2,
       "version_minor": 0
      },
      "text/plain": [
       "Validation: |          | 0/? [00:00<?, ?it/s]"
      ]
     },
     "metadata": {},
     "output_type": "display_data"
    },
    {
     "data": {
      "application/vnd.jupyter.widget-view+json": {
       "model_id": "5f3ca71a267f4fbe9b1b34b98fe50332",
       "version_major": 2,
       "version_minor": 0
      },
      "text/plain": [
       "Validation: |          | 0/? [00:00<?, ?it/s]"
      ]
     },
     "metadata": {},
     "output_type": "display_data"
    },
    {
     "data": {
      "application/vnd.jupyter.widget-view+json": {
       "model_id": "821ab806f8e94b6e9ba4d5b9f5b198c9",
       "version_major": 2,
       "version_minor": 0
      },
      "text/plain": [
       "Validation: |          | 0/? [00:00<?, ?it/s]"
      ]
     },
     "metadata": {},
     "output_type": "display_data"
    },
    {
     "data": {
      "application/vnd.jupyter.widget-view+json": {
       "model_id": "fcbcc67000424e0e983b1378f437cba4",
       "version_major": 2,
       "version_minor": 0
      },
      "text/plain": [
       "Validation: |          | 0/? [00:00<?, ?it/s]"
      ]
     },
     "metadata": {},
     "output_type": "display_data"
    },
    {
     "data": {
      "application/vnd.jupyter.widget-view+json": {
       "model_id": "5c3b04d6366c49e585ff41a3c5d118c1",
       "version_major": 2,
       "version_minor": 0
      },
      "text/plain": [
       "Validation: |          | 0/? [00:00<?, ?it/s]"
      ]
     },
     "metadata": {},
     "output_type": "display_data"
    },
    {
     "data": {
      "application/vnd.jupyter.widget-view+json": {
       "model_id": "401dcafabe004418adced89f90788a90",
       "version_major": 2,
       "version_minor": 0
      },
      "text/plain": [
       "Validation: |          | 0/? [00:00<?, ?it/s]"
      ]
     },
     "metadata": {},
     "output_type": "display_data"
    },
    {
     "data": {
      "application/vnd.jupyter.widget-view+json": {
       "model_id": "e09a3dbca73247ec99374491ec13fef3",
       "version_major": 2,
       "version_minor": 0
      },
      "text/plain": [
       "Validation: |          | 0/? [00:00<?, ?it/s]"
      ]
     },
     "metadata": {},
     "output_type": "display_data"
    },
    {
     "data": {
      "application/vnd.jupyter.widget-view+json": {
       "model_id": "8a85ba18a2e94326a1cb2335d3b3f57a",
       "version_major": 2,
       "version_minor": 0
      },
      "text/plain": [
       "Validation: |          | 0/? [00:00<?, ?it/s]"
      ]
     },
     "metadata": {},
     "output_type": "display_data"
    },
    {
     "data": {
      "application/vnd.jupyter.widget-view+json": {
       "model_id": "5382bec2cfce4740b149e15e60678fc7",
       "version_major": 2,
       "version_minor": 0
      },
      "text/plain": [
       "Validation: |          | 0/? [00:00<?, ?it/s]"
      ]
     },
     "metadata": {},
     "output_type": "display_data"
    },
    {
     "data": {
      "application/vnd.jupyter.widget-view+json": {
       "model_id": "aa9b8ec41e624076b59216ad2b4a8457",
       "version_major": 2,
       "version_minor": 0
      },
      "text/plain": [
       "Validation: |          | 0/? [00:00<?, ?it/s]"
      ]
     },
     "metadata": {},
     "output_type": "display_data"
    },
    {
     "data": {
      "application/vnd.jupyter.widget-view+json": {
       "model_id": "af6c040a913a4c9bbc1fea0ea6c8af10",
       "version_major": 2,
       "version_minor": 0
      },
      "text/plain": [
       "Validation: |          | 0/? [00:00<?, ?it/s]"
      ]
     },
     "metadata": {},
     "output_type": "display_data"
    },
    {
     "data": {
      "application/vnd.jupyter.widget-view+json": {
       "model_id": "e14ba0f4c0674a959ebe9354e8d2da37",
       "version_major": 2,
       "version_minor": 0
      },
      "text/plain": [
       "Validation: |          | 0/? [00:00<?, ?it/s]"
      ]
     },
     "metadata": {},
     "output_type": "display_data"
    },
    {
     "data": {
      "application/vnd.jupyter.widget-view+json": {
       "model_id": "1a51f2d1a1ae4a8a9ecd01bd2eb2c1dd",
       "version_major": 2,
       "version_minor": 0
      },
      "text/plain": [
       "Validation: |          | 0/? [00:00<?, ?it/s]"
      ]
     },
     "metadata": {},
     "output_type": "display_data"
    },
    {
     "data": {
      "application/vnd.jupyter.widget-view+json": {
       "model_id": "ce472ebd6b3643aabf4bcb74523edefb",
       "version_major": 2,
       "version_minor": 0
      },
      "text/plain": [
       "Validation: |          | 0/? [00:00<?, ?it/s]"
      ]
     },
     "metadata": {},
     "output_type": "display_data"
    },
    {
     "data": {
      "application/vnd.jupyter.widget-view+json": {
       "model_id": "c0069acc1eba4bc4bee7bcb78867fd2a",
       "version_major": 2,
       "version_minor": 0
      },
      "text/plain": [
       "Validation: |          | 0/? [00:00<?, ?it/s]"
      ]
     },
     "metadata": {},
     "output_type": "display_data"
    },
    {
     "data": {
      "application/vnd.jupyter.widget-view+json": {
       "model_id": "71eade7c6ad64a34a1e2f1c4bd413dc5",
       "version_major": 2,
       "version_minor": 0
      },
      "text/plain": [
       "Validation: |          | 0/? [00:00<?, ?it/s]"
      ]
     },
     "metadata": {},
     "output_type": "display_data"
    },
    {
     "data": {
      "application/vnd.jupyter.widget-view+json": {
       "model_id": "0545a09a64864829bbce7f4d8b77c9b9",
       "version_major": 2,
       "version_minor": 0
      },
      "text/plain": [
       "Validation: |          | 0/? [00:00<?, ?it/s]"
      ]
     },
     "metadata": {},
     "output_type": "display_data"
    },
    {
     "data": {
      "application/vnd.jupyter.widget-view+json": {
       "model_id": "aa400c9f55a84e5fbcc1e746ba731f54",
       "version_major": 2,
       "version_minor": 0
      },
      "text/plain": [
       "Validation: |          | 0/? [00:00<?, ?it/s]"
      ]
     },
     "metadata": {},
     "output_type": "display_data"
    },
    {
     "data": {
      "application/vnd.jupyter.widget-view+json": {
       "model_id": "b5fcddfa8c5941f5ace3bb87f99ebf2c",
       "version_major": 2,
       "version_minor": 0
      },
      "text/plain": [
       "Validation: |          | 0/? [00:00<?, ?it/s]"
      ]
     },
     "metadata": {},
     "output_type": "display_data"
    },
    {
     "data": {
      "application/vnd.jupyter.widget-view+json": {
       "model_id": "de3c6006941b4391bfdf9e1ac389f4a0",
       "version_major": 2,
       "version_minor": 0
      },
      "text/plain": [
       "Validation: |          | 0/? [00:00<?, ?it/s]"
      ]
     },
     "metadata": {},
     "output_type": "display_data"
    },
    {
     "data": {
      "application/vnd.jupyter.widget-view+json": {
       "model_id": "6651a63bc8a54340b46cb9494f4734c8",
       "version_major": 2,
       "version_minor": 0
      },
      "text/plain": [
       "Validation: |          | 0/? [00:00<?, ?it/s]"
      ]
     },
     "metadata": {},
     "output_type": "display_data"
    },
    {
     "data": {
      "application/vnd.jupyter.widget-view+json": {
       "model_id": "93e66e3deadb4613b60817a519b0019d",
       "version_major": 2,
       "version_minor": 0
      },
      "text/plain": [
       "Validation: |          | 0/? [00:00<?, ?it/s]"
      ]
     },
     "metadata": {},
     "output_type": "display_data"
    },
    {
     "data": {
      "application/vnd.jupyter.widget-view+json": {
       "model_id": "20554c55c1d741cfb38f858291f7f3a0",
       "version_major": 2,
       "version_minor": 0
      },
      "text/plain": [
       "Validation: |          | 0/? [00:00<?, ?it/s]"
      ]
     },
     "metadata": {},
     "output_type": "display_data"
    },
    {
     "data": {
      "application/vnd.jupyter.widget-view+json": {
       "model_id": "0c0ade922f164935801d3c069fe44248",
       "version_major": 2,
       "version_minor": 0
      },
      "text/plain": [
       "Validation: |          | 0/? [00:00<?, ?it/s]"
      ]
     },
     "metadata": {},
     "output_type": "display_data"
    },
    {
     "data": {
      "application/vnd.jupyter.widget-view+json": {
       "model_id": "088b1b53f3fc41e0a586ba6a509c9a24",
       "version_major": 2,
       "version_minor": 0
      },
      "text/plain": [
       "Validation: |          | 0/? [00:00<?, ?it/s]"
      ]
     },
     "metadata": {},
     "output_type": "display_data"
    },
    {
     "data": {
      "application/vnd.jupyter.widget-view+json": {
       "model_id": "5b10e7fdc6714d2e90f7cc691c95c599",
       "version_major": 2,
       "version_minor": 0
      },
      "text/plain": [
       "Validation: |          | 0/? [00:00<?, ?it/s]"
      ]
     },
     "metadata": {},
     "output_type": "display_data"
    },
    {
     "data": {
      "application/vnd.jupyter.widget-view+json": {
       "model_id": "dfd37242c3a84cd09c66e9783fb2b45a",
       "version_major": 2,
       "version_minor": 0
      },
      "text/plain": [
       "Validation: |          | 0/? [00:00<?, ?it/s]"
      ]
     },
     "metadata": {},
     "output_type": "display_data"
    },
    {
     "data": {
      "application/vnd.jupyter.widget-view+json": {
       "model_id": "05d3f150579e4460a8bb728a50841a5e",
       "version_major": 2,
       "version_minor": 0
      },
      "text/plain": [
       "Validation: |          | 0/? [00:00<?, ?it/s]"
      ]
     },
     "metadata": {},
     "output_type": "display_data"
    },
    {
     "data": {
      "application/vnd.jupyter.widget-view+json": {
       "model_id": "54cd9d34f6ed4b3fb2d7dec29ab53c07",
       "version_major": 2,
       "version_minor": 0
      },
      "text/plain": [
       "Validation: |          | 0/? [00:00<?, ?it/s]"
      ]
     },
     "metadata": {},
     "output_type": "display_data"
    },
    {
     "data": {
      "application/vnd.jupyter.widget-view+json": {
       "model_id": "3ce8e173113d45ed8c35d076f90682db",
       "version_major": 2,
       "version_minor": 0
      },
      "text/plain": [
       "Validation: |          | 0/? [00:00<?, ?it/s]"
      ]
     },
     "metadata": {},
     "output_type": "display_data"
    },
    {
     "data": {
      "application/vnd.jupyter.widget-view+json": {
       "model_id": "54cb91e6a2b8441a8e857764b1f48149",
       "version_major": 2,
       "version_minor": 0
      },
      "text/plain": [
       "Validation: |          | 0/? [00:00<?, ?it/s]"
      ]
     },
     "metadata": {},
     "output_type": "display_data"
    },
    {
     "data": {
      "application/vnd.jupyter.widget-view+json": {
       "model_id": "c9cf07b461ab457fbde0ab6124c40d3f",
       "version_major": 2,
       "version_minor": 0
      },
      "text/plain": [
       "Validation: |          | 0/? [00:00<?, ?it/s]"
      ]
     },
     "metadata": {},
     "output_type": "display_data"
    },
    {
     "data": {
      "application/vnd.jupyter.widget-view+json": {
       "model_id": "9583c8aa86b74414a300394ff9afc98e",
       "version_major": 2,
       "version_minor": 0
      },
      "text/plain": [
       "Validation: |          | 0/? [00:00<?, ?it/s]"
      ]
     },
     "metadata": {},
     "output_type": "display_data"
    },
    {
     "data": {
      "application/vnd.jupyter.widget-view+json": {
       "model_id": "245727039e6f40f5bb03c51c1def929c",
       "version_major": 2,
       "version_minor": 0
      },
      "text/plain": [
       "Validation: |          | 0/? [00:00<?, ?it/s]"
      ]
     },
     "metadata": {},
     "output_type": "display_data"
    },
    {
     "data": {
      "application/vnd.jupyter.widget-view+json": {
       "model_id": "f57f9b9d0671453a8b84ef2774bb73ae",
       "version_major": 2,
       "version_minor": 0
      },
      "text/plain": [
       "Validation: |          | 0/? [00:00<?, ?it/s]"
      ]
     },
     "metadata": {},
     "output_type": "display_data"
    },
    {
     "data": {
      "application/vnd.jupyter.widget-view+json": {
       "model_id": "8573b8f3603047e7b8cc80c5bb8a38f9",
       "version_major": 2,
       "version_minor": 0
      },
      "text/plain": [
       "Validation: |          | 0/? [00:00<?, ?it/s]"
      ]
     },
     "metadata": {},
     "output_type": "display_data"
    },
    {
     "data": {
      "application/vnd.jupyter.widget-view+json": {
       "model_id": "b1118536d92142368bc308b6eebec3c5",
       "version_major": 2,
       "version_minor": 0
      },
      "text/plain": [
       "Validation: |          | 0/? [00:00<?, ?it/s]"
      ]
     },
     "metadata": {},
     "output_type": "display_data"
    },
    {
     "data": {
      "application/vnd.jupyter.widget-view+json": {
       "model_id": "e1be6c3515024442a8d21605f1fdca01",
       "version_major": 2,
       "version_minor": 0
      },
      "text/plain": [
       "Validation: |          | 0/? [00:00<?, ?it/s]"
      ]
     },
     "metadata": {},
     "output_type": "display_data"
    },
    {
     "data": {
      "application/vnd.jupyter.widget-view+json": {
       "model_id": "00e50436352c44078573c11cf2d7af68",
       "version_major": 2,
       "version_minor": 0
      },
      "text/plain": [
       "Validation: |          | 0/? [00:00<?, ?it/s]"
      ]
     },
     "metadata": {},
     "output_type": "display_data"
    },
    {
     "data": {
      "application/vnd.jupyter.widget-view+json": {
       "model_id": "4914f460533f4fff8b071f8b6df13184",
       "version_major": 2,
       "version_minor": 0
      },
      "text/plain": [
       "Validation: |          | 0/? [00:00<?, ?it/s]"
      ]
     },
     "metadata": {},
     "output_type": "display_data"
    },
    {
     "data": {
      "application/vnd.jupyter.widget-view+json": {
       "model_id": "9c7d19d1a28e4f60a6296bd8cdbf6b00",
       "version_major": 2,
       "version_minor": 0
      },
      "text/plain": [
       "Validation: |          | 0/? [00:00<?, ?it/s]"
      ]
     },
     "metadata": {},
     "output_type": "display_data"
    },
    {
     "data": {
      "application/vnd.jupyter.widget-view+json": {
       "model_id": "6eb4625a5e924ed4b7db94685a6f2ddc",
       "version_major": 2,
       "version_minor": 0
      },
      "text/plain": [
       "Validation: |          | 0/? [00:00<?, ?it/s]"
      ]
     },
     "metadata": {},
     "output_type": "display_data"
    },
    {
     "data": {
      "application/vnd.jupyter.widget-view+json": {
       "model_id": "6a5ef9e2c51446fc8ec19f2174605503",
       "version_major": 2,
       "version_minor": 0
      },
      "text/plain": [
       "Validation: |          | 0/? [00:00<?, ?it/s]"
      ]
     },
     "metadata": {},
     "output_type": "display_data"
    },
    {
     "data": {
      "application/vnd.jupyter.widget-view+json": {
       "model_id": "c74b26b992654d59bb99ae34567d37e9",
       "version_major": 2,
       "version_minor": 0
      },
      "text/plain": [
       "Validation: |          | 0/? [00:00<?, ?it/s]"
      ]
     },
     "metadata": {},
     "output_type": "display_data"
    },
    {
     "data": {
      "application/vnd.jupyter.widget-view+json": {
       "model_id": "071cec8a83a34d7f83f7b6c5b1e99152",
       "version_major": 2,
       "version_minor": 0
      },
      "text/plain": [
       "Validation: |          | 0/? [00:00<?, ?it/s]"
      ]
     },
     "metadata": {},
     "output_type": "display_data"
    },
    {
     "data": {
      "application/vnd.jupyter.widget-view+json": {
       "model_id": "b133a90e4d044c0999a6329c8a184033",
       "version_major": 2,
       "version_minor": 0
      },
      "text/plain": [
       "Validation: |          | 0/? [00:00<?, ?it/s]"
      ]
     },
     "metadata": {},
     "output_type": "display_data"
    },
    {
     "data": {
      "application/vnd.jupyter.widget-view+json": {
       "model_id": "3f81965140494ce5a5ba375e5e419cd9",
       "version_major": 2,
       "version_minor": 0
      },
      "text/plain": [
       "Validation: |          | 0/? [00:00<?, ?it/s]"
      ]
     },
     "metadata": {},
     "output_type": "display_data"
    },
    {
     "data": {
      "application/vnd.jupyter.widget-view+json": {
       "model_id": "11b3e5c0fdb4448c8dd059e7e1114b8e",
       "version_major": 2,
       "version_minor": 0
      },
      "text/plain": [
       "Validation: |          | 0/? [00:00<?, ?it/s]"
      ]
     },
     "metadata": {},
     "output_type": "display_data"
    },
    {
     "data": {
      "application/vnd.jupyter.widget-view+json": {
       "model_id": "515409bb4a2c42a797c9bce2be7b1f8e",
       "version_major": 2,
       "version_minor": 0
      },
      "text/plain": [
       "Validation: |          | 0/? [00:00<?, ?it/s]"
      ]
     },
     "metadata": {},
     "output_type": "display_data"
    },
    {
     "data": {
      "application/vnd.jupyter.widget-view+json": {
       "model_id": "288d697e199e4f4488f26e0d11764dda",
       "version_major": 2,
       "version_minor": 0
      },
      "text/plain": [
       "Validation: |          | 0/? [00:00<?, ?it/s]"
      ]
     },
     "metadata": {},
     "output_type": "display_data"
    },
    {
     "data": {
      "application/vnd.jupyter.widget-view+json": {
       "model_id": "84b5bc71bfc146a5ae8ae6de0912ed5d",
       "version_major": 2,
       "version_minor": 0
      },
      "text/plain": [
       "Validation: |          | 0/? [00:00<?, ?it/s]"
      ]
     },
     "metadata": {},
     "output_type": "display_data"
    },
    {
     "data": {
      "application/vnd.jupyter.widget-view+json": {
       "model_id": "00058fa594f747c9b20c5afb9bb84b30",
       "version_major": 2,
       "version_minor": 0
      },
      "text/plain": [
       "Validation: |          | 0/? [00:00<?, ?it/s]"
      ]
     },
     "metadata": {},
     "output_type": "display_data"
    },
    {
     "data": {
      "application/vnd.jupyter.widget-view+json": {
       "model_id": "d839e33e746842a4a8dd1a22c131869c",
       "version_major": 2,
       "version_minor": 0
      },
      "text/plain": [
       "Validation: |          | 0/? [00:00<?, ?it/s]"
      ]
     },
     "metadata": {},
     "output_type": "display_data"
    },
    {
     "data": {
      "application/vnd.jupyter.widget-view+json": {
       "model_id": "7fc24a759c604e00910da16fa61d8894",
       "version_major": 2,
       "version_minor": 0
      },
      "text/plain": [
       "Validation: |          | 0/? [00:00<?, ?it/s]"
      ]
     },
     "metadata": {},
     "output_type": "display_data"
    },
    {
     "data": {
      "application/vnd.jupyter.widget-view+json": {
       "model_id": "f94ca61dfb854ae3a8920b0d86cc1d12",
       "version_major": 2,
       "version_minor": 0
      },
      "text/plain": [
       "Validation: |          | 0/? [00:00<?, ?it/s]"
      ]
     },
     "metadata": {},
     "output_type": "display_data"
    },
    {
     "data": {
      "application/vnd.jupyter.widget-view+json": {
       "model_id": "93a7289317ed4c0881559c367e3b3588",
       "version_major": 2,
       "version_minor": 0
      },
      "text/plain": [
       "Validation: |          | 0/? [00:00<?, ?it/s]"
      ]
     },
     "metadata": {},
     "output_type": "display_data"
    },
    {
     "data": {
      "application/vnd.jupyter.widget-view+json": {
       "model_id": "8534fbd3e35744c4860e858070f3ad5a",
       "version_major": 2,
       "version_minor": 0
      },
      "text/plain": [
       "Validation: |          | 0/? [00:00<?, ?it/s]"
      ]
     },
     "metadata": {},
     "output_type": "display_data"
    },
    {
     "data": {
      "application/vnd.jupyter.widget-view+json": {
       "model_id": "4da506cefab7419e83d616c028acb961",
       "version_major": 2,
       "version_minor": 0
      },
      "text/plain": [
       "Validation: |          | 0/? [00:00<?, ?it/s]"
      ]
     },
     "metadata": {},
     "output_type": "display_data"
    },
    {
     "data": {
      "application/vnd.jupyter.widget-view+json": {
       "model_id": "9f904fb585ff4036bc15976e8d7d4cef",
       "version_major": 2,
       "version_minor": 0
      },
      "text/plain": [
       "Validation: |          | 0/? [00:00<?, ?it/s]"
      ]
     },
     "metadata": {},
     "output_type": "display_data"
    },
    {
     "data": {
      "application/vnd.jupyter.widget-view+json": {
       "model_id": "2b5e5e56c755451ea0c388ee2fb2e1d2",
       "version_major": 2,
       "version_minor": 0
      },
      "text/plain": [
       "Validation: |          | 0/? [00:00<?, ?it/s]"
      ]
     },
     "metadata": {},
     "output_type": "display_data"
    },
    {
     "data": {
      "application/vnd.jupyter.widget-view+json": {
       "model_id": "f51d4abbfc644f58bcf54eb4b7509c1d",
       "version_major": 2,
       "version_minor": 0
      },
      "text/plain": [
       "Validation: |          | 0/? [00:00<?, ?it/s]"
      ]
     },
     "metadata": {},
     "output_type": "display_data"
    },
    {
     "data": {
      "application/vnd.jupyter.widget-view+json": {
       "model_id": "fdd702bd24ea4dac8a364a1619c74202",
       "version_major": 2,
       "version_minor": 0
      },
      "text/plain": [
       "Validation: |          | 0/? [00:00<?, ?it/s]"
      ]
     },
     "metadata": {},
     "output_type": "display_data"
    },
    {
     "data": {
      "application/vnd.jupyter.widget-view+json": {
       "model_id": "11450f9550e849b09ec68ce0b67dcd15",
       "version_major": 2,
       "version_minor": 0
      },
      "text/plain": [
       "Validation: |          | 0/? [00:00<?, ?it/s]"
      ]
     },
     "metadata": {},
     "output_type": "display_data"
    },
    {
     "data": {
      "application/vnd.jupyter.widget-view+json": {
       "model_id": "62a702b24ebe45e789fefb56b1e14718",
       "version_major": 2,
       "version_minor": 0
      },
      "text/plain": [
       "Validation: |          | 0/? [00:00<?, ?it/s]"
      ]
     },
     "metadata": {},
     "output_type": "display_data"
    },
    {
     "data": {
      "application/vnd.jupyter.widget-view+json": {
       "model_id": "534994806a3542f797527dc02a04cf6b",
       "version_major": 2,
       "version_minor": 0
      },
      "text/plain": [
       "Validation: |          | 0/? [00:00<?, ?it/s]"
      ]
     },
     "metadata": {},
     "output_type": "display_data"
    },
    {
     "data": {
      "application/vnd.jupyter.widget-view+json": {
       "model_id": "4680f740f27f40a09a1316185356ed57",
       "version_major": 2,
       "version_minor": 0
      },
      "text/plain": [
       "Validation: |          | 0/? [00:00<?, ?it/s]"
      ]
     },
     "metadata": {},
     "output_type": "display_data"
    },
    {
     "data": {
      "application/vnd.jupyter.widget-view+json": {
       "model_id": "201f8c5e435040aabab5ae1e77a42ca7",
       "version_major": 2,
       "version_minor": 0
      },
      "text/plain": [
       "Validation: |          | 0/? [00:00<?, ?it/s]"
      ]
     },
     "metadata": {},
     "output_type": "display_data"
    },
    {
     "data": {
      "application/vnd.jupyter.widget-view+json": {
       "model_id": "bfc799095152413b92ca2854cadb2e69",
       "version_major": 2,
       "version_minor": 0
      },
      "text/plain": [
       "Validation: |          | 0/? [00:00<?, ?it/s]"
      ]
     },
     "metadata": {},
     "output_type": "display_data"
    },
    {
     "data": {
      "application/vnd.jupyter.widget-view+json": {
       "model_id": "b72bea9bf5224a0c87f96b687322bb0e",
       "version_major": 2,
       "version_minor": 0
      },
      "text/plain": [
       "Validation: |          | 0/? [00:00<?, ?it/s]"
      ]
     },
     "metadata": {},
     "output_type": "display_data"
    },
    {
     "data": {
      "application/vnd.jupyter.widget-view+json": {
       "model_id": "b51f9c4b855748aab820ce8d69da9842",
       "version_major": 2,
       "version_minor": 0
      },
      "text/plain": [
       "Validation: |          | 0/? [00:00<?, ?it/s]"
      ]
     },
     "metadata": {},
     "output_type": "display_data"
    },
    {
     "data": {
      "application/vnd.jupyter.widget-view+json": {
       "model_id": "fc2162c656a049a88fffbdfcd30524dd",
       "version_major": 2,
       "version_minor": 0
      },
      "text/plain": [
       "Validation: |          | 0/? [00:00<?, ?it/s]"
      ]
     },
     "metadata": {},
     "output_type": "display_data"
    },
    {
     "name": "stderr",
     "output_type": "stream",
     "text": [
      "`Trainer.fit` stopped: `max_epochs=300` reached.\n"
     ]
    },
    {
     "name": "stdout",
     "output_type": "stream",
     "text": [
      "[Callback] on_train_end\n",
      ">> on_fit_end triggered\n",
      ">> on_fit_end triggered\n",
      "Saving loss curve to tb_logs/cmpnn/version_192/images\n",
      "[Callback] on_fit_end\n"
     ]
    }
   ],
   "source": [
    "from pytorch_lightning.callbacks import EarlyStopping, ModelCheckpoint, LearningRateMonitor\n",
    "from pytorch_lightning.loggers import TensorBoardLogger\n",
    "import pytorch_lightning as pl\n",
    "\n",
    "\n",
    "logger = TensorBoardLogger(\"tb_logs\", name=\"cmpnn\")\n",
    "class DebugExitCallback(pl.Callback):\n",
    "    def on_train_end(self, trainer, pl_module):\n",
    "        print(\"[Callback] on_train_end\")\n",
    "\n",
    "    def on_fit_end(self, trainer, pl_module):\n",
    "        print(\"[Callback] on_fit_end\")\n",
    "\n",
    "\n",
    "trainer = Trainer(\n",
    "    max_epochs=300,\n",
    "    accelerator=\"gpu\",\n",
    "    devices=1,\n",
    "    logger=logger,\n",
    "    # Allow for early stopping\n",
    "    callbacks=[\n",
    "    # EarlyStopping(\"val_loss\", patience=10),\n",
    "    ModelCheckpoint(monitor=\"val_loss\", mode=\"min\"),\n",
    "    LearningRateMonitor(logging_interval=\"epoch\"),\n",
    "    DebugExitCallback(),\n",
    "    ],\n",
    "    #gradient_clip_val=1.0,\n",
    "    enable_progress_bar=True,\n",
    "    log_every_n_steps=1,\n",
    ")\n",
    "trainer.fit(\n",
    "    model,\n",
    "    train_loader,\n",
    "    val_loader,\n",
    ")"
   ]
  },
  {
   "cell_type": "code",
   "execution_count": 164,
   "id": "c61aebff",
   "metadata": {},
   "outputs": [
    {
     "data": {
      "image/png": "[encoded data removed]",
      "text/plain": [
       "<Figure size 1000x500 with 1 Axes>"
      ]
     },
     "metadata": {},
     "output_type": "display_data"
    }
   ],
   "source": [
    "import matplotlib.pyplot as plt\n",
    "plt.figure(figsize=(10, 5))\n",
    "plt.plot(model.train_losses[1:], label=\"train\")\n",
    "plt.plot(model.val_losses[1:], label=\"val\")\n",
    "# plt.yscale(\"log\")\n",
    "plt.xlabel(\"epoch\")\n",
    "plt.ylabel(\"loss\")\n",
    "plt.legend()\n",
    "plt.show()"
   ]
  },
  {
   "cell_type": "code",
   "execution_count": 167,
   "id": "963f0a4d",
   "metadata": {},
   "outputs": [
    {
     "name": "stderr",
     "output_type": "stream",
     "text": [
      "LOCAL_RANK: 0 - CUDA_VISIBLE_DEVICES: [0]\n"
     ]
    },
    {
     "data": {
      "application/vnd.jupyter.widget-view+json": {
       "model_id": "773c3a3d3d2940d09399226f8374ca94",
       "version_major": 2,
       "version_minor": 0
      },
      "text/plain": [
       "Predicting: |          | 0/? [00:00<?, ?it/s]"
      ]
     },
     "metadata": {},
     "output_type": "display_data"
    }
   ],
   "source": [
    "pred_angles = torch.cat(trainer.predict(model, test_loader))\n",
    "import math"
   ]
  },
  {
   "cell_type": "code",
   "execution_count": 168,
   "id": "633bff39",
   "metadata": {},
   "outputs": [],
   "source": [
    "true_angles = []\n",
    "for i in range(len(test_ds)):\n",
    "    sin_cos = test_ds[i][0].y\n",
    "    sin_val = sin_cos[0][0]\n",
    "    cos_val = sin_cos[0][1]\n",
    "    angle = torch.atan2(sin_val, cos_val)\n",
    "    angle = (angle + ds.per_mean_dir) % (2 * math.pi)\n",
    "    angle = angle * 180 / math.pi\n",
    "    true_angles.append(angle)\n",
    "\n",
    "true_angles = torch.tensor(true_angles)"
   ]
  },
  {
   "cell_type": "code",
   "execution_count": 169,
   "id": "8dcdce74",
   "metadata": {},
   "outputs": [
    {
     "data": {
      "text/plain": [
       "Text(0, 0.5, 'Count')"
      ]
     },
     "execution_count": 169,
     "metadata": {},
     "output_type": "execute_result"
    },
    {
     "data": {
      "image/png": "[encoded data removed]",
      "text/plain": [
       "<Figure size 640x480 with 1 Axes>"
      ]
     },
     "metadata": {},
     "output_type": "display_data"
    }
   ],
   "source": [
    "plt.hist(true_angles.numpy(), bins=36)\n",
    "plt.title(\"Distribution of True Angles\")\n",
    "plt.xlabel(\"Angle (°)\")\n",
    "plt.ylabel(\"Count\")\n"
   ]
  },
  {
   "cell_type": "code",
   "execution_count": 146,
   "id": "da71828f",
   "metadata": {},
   "outputs": [
    {
     "ename": "TypeError",
     "evalue": "MultiCMPNNLitModel.forward() got an unexpected keyword argument 'return_raw'",
     "output_type": "error",
     "traceback": [
      "\u001b[0;31m---------------------------------------------------------------------------\u001b[0m",
      "\u001b[0;31mTypeError\u001b[0m                                 Traceback (most recent call last)",
      "Cell \u001b[0;32mIn[146], line 1\u001b[0m\n\u001b[0;32m----> 1\u001b[0m raw_out \u001b[38;5;241m=\u001b[39m \u001b[43mmodel\u001b[49m\u001b[43m(\u001b[49m\u001b[43mbatch\u001b[49m\u001b[43m,\u001b[49m\u001b[43m \u001b[49m\u001b[43mreturn_raw\u001b[49m\u001b[38;5;241;43m=\u001b[39;49m\u001b[38;5;28;43;01mTrue\u001b[39;49;00m\u001b[43m)\u001b[49m  \u001b[38;5;66;03m# Add hook if needed\u001b[39;00m\n\u001b[1;32m      2\u001b[0m plt\u001b[38;5;241m.\u001b[39mhist(raw_out\u001b[38;5;241m.\u001b[39mflatten()\u001b[38;5;241m.\u001b[39mcpu()\u001b[38;5;241m.\u001b[39mdetach()\u001b[38;5;241m.\u001b[39mnumpy(), bins\u001b[38;5;241m=\u001b[39m\u001b[38;5;241m100\u001b[39m)\n\u001b[1;32m      3\u001b[0m plt\u001b[38;5;241m.\u001b[39mtitle(\u001b[38;5;124m\"\u001b[39m\u001b[38;5;124mDistribution of Raw Output Before Normalization\u001b[39m\u001b[38;5;124m\"\u001b[39m)\n",
      "File \u001b[0;32m~/miniforge3/envs/dmpnn_rocm/lib/python3.10/site-packages/torch/nn/modules/module.py:1739\u001b[0m, in \u001b[0;36mModule._wrapped_call_impl\u001b[0;34m(self, *args, **kwargs)\u001b[0m\n\u001b[1;32m   1737\u001b[0m     \u001b[38;5;28;01mreturn\u001b[39;00m \u001b[38;5;28mself\u001b[39m\u001b[38;5;241m.\u001b[39m_compiled_call_impl(\u001b[38;5;241m*\u001b[39margs, \u001b[38;5;241m*\u001b[39m\u001b[38;5;241m*\u001b[39mkwargs)  \u001b[38;5;66;03m# type: ignore[misc]\u001b[39;00m\n\u001b[1;32m   1738\u001b[0m \u001b[38;5;28;01melse\u001b[39;00m:\n\u001b[0;32m-> 1739\u001b[0m     \u001b[38;5;28;01mreturn\u001b[39;00m \u001b[38;5;28;43mself\u001b[39;49m\u001b[38;5;241;43m.\u001b[39;49m\u001b[43m_call_impl\u001b[49m\u001b[43m(\u001b[49m\u001b[38;5;241;43m*\u001b[39;49m\u001b[43margs\u001b[49m\u001b[43m,\u001b[49m\u001b[43m \u001b[49m\u001b[38;5;241;43m*\u001b[39;49m\u001b[38;5;241;43m*\u001b[39;49m\u001b[43mkwargs\u001b[49m\u001b[43m)\u001b[49m\n",
      "File \u001b[0;32m~/miniforge3/envs/dmpnn_rocm/lib/python3.10/site-packages/torch/nn/modules/module.py:1750\u001b[0m, in \u001b[0;36mModule._call_impl\u001b[0;34m(self, *args, **kwargs)\u001b[0m\n\u001b[1;32m   1745\u001b[0m \u001b[38;5;66;03m# If we don't have any hooks, we want to skip the rest of the logic in\u001b[39;00m\n\u001b[1;32m   1746\u001b[0m \u001b[38;5;66;03m# this function, and just call forward.\u001b[39;00m\n\u001b[1;32m   1747\u001b[0m \u001b[38;5;28;01mif\u001b[39;00m \u001b[38;5;129;01mnot\u001b[39;00m (\u001b[38;5;28mself\u001b[39m\u001b[38;5;241m.\u001b[39m_backward_hooks \u001b[38;5;129;01mor\u001b[39;00m \u001b[38;5;28mself\u001b[39m\u001b[38;5;241m.\u001b[39m_backward_pre_hooks \u001b[38;5;129;01mor\u001b[39;00m \u001b[38;5;28mself\u001b[39m\u001b[38;5;241m.\u001b[39m_forward_hooks \u001b[38;5;129;01mor\u001b[39;00m \u001b[38;5;28mself\u001b[39m\u001b[38;5;241m.\u001b[39m_forward_pre_hooks\n\u001b[1;32m   1748\u001b[0m         \u001b[38;5;129;01mor\u001b[39;00m _global_backward_pre_hooks \u001b[38;5;129;01mor\u001b[39;00m _global_backward_hooks\n\u001b[1;32m   1749\u001b[0m         \u001b[38;5;129;01mor\u001b[39;00m _global_forward_hooks \u001b[38;5;129;01mor\u001b[39;00m _global_forward_pre_hooks):\n\u001b[0;32m-> 1750\u001b[0m     \u001b[38;5;28;01mreturn\u001b[39;00m \u001b[43mforward_call\u001b[49m\u001b[43m(\u001b[49m\u001b[38;5;241;43m*\u001b[39;49m\u001b[43margs\u001b[49m\u001b[43m,\u001b[49m\u001b[43m \u001b[49m\u001b[38;5;241;43m*\u001b[39;49m\u001b[38;5;241;43m*\u001b[39;49m\u001b[43mkwargs\u001b[49m\u001b[43m)\u001b[49m\n\u001b[1;32m   1752\u001b[0m result \u001b[38;5;241m=\u001b[39m \u001b[38;5;28;01mNone\u001b[39;00m\n\u001b[1;32m   1753\u001b[0m called_always_called_hooks \u001b[38;5;241m=\u001b[39m \u001b[38;5;28mset\u001b[39m()\n",
      "\u001b[0;31mTypeError\u001b[0m: MultiCMPNNLitModel.forward() got an unexpected keyword argument 'return_raw'"
     ]
    }
   ],
   "source": [
    "raw_out = model(batch, return_raw=True)  # Add hook if needed\n",
    "plt.hist(raw_out.flatten().cpu().detach().numpy(), bins=100)\n",
    "plt.title(\"Distribution of Raw Output Before Normalization\")\n"
   ]
  },
  {
   "cell_type": "code",
   "execution_count": 170,
   "id": "61af39fd",
   "metadata": {},
   "outputs": [
    {
     "data": {
      "text/plain": [
       "tensor([5.5762e+01, 1.0621e+02, 3.3611e+02, 9.9435e+00, 7.6458e+01, 3.5551e+02,\n",
       "        3.0686e+02, 3.5617e+02, 3.4645e+02, 6.8866e+00, 2.6152e+02, 5.4796e+01,\n",
       "        3.5337e+02, 4.5305e+01, 3.0160e+02, 3.2734e+02, 3.5928e+02, 7.0899e+00,\n",
       "        3.3929e+02, 3.2383e+02, 3.5692e+02, 1.6246e+02, 2.9962e+02, 2.6587e+02,\n",
       "        1.2665e+02, 3.7040e+00, 3.7770e+01, 3.4978e+02, 2.2925e+01, 2.6464e+00,\n",
       "        3.5339e+02, 3.0169e+01, 3.1723e+02, 3.5078e+02, 2.8485e+02, 2.9257e+01,\n",
       "        5.7100e+01, 6.6698e+00, 4.6615e+01, 3.4787e+02, 3.5272e+02, 2.9529e+02,\n",
       "        3.4047e+02, 7.1150e+01, 7.2396e+01, 3.5982e+02, 6.7266e+01, 4.2215e+01,\n",
       "        3.4472e+02, 3.4995e+02, 3.1285e+01, 6.1498e+01, 5.0817e+01, 2.0955e+02,\n",
       "        2.3825e+01, 5.8108e+01, 3.0739e+02, 1.1665e+02, 2.6277e+02, 2.8774e+02,\n",
       "        4.2436e-02, 7.7442e+01, 2.5709e+01, 1.8398e+02, 7.9612e+01, 3.5564e+02,\n",
       "        2.6841e+01, 1.4201e+01, 3.4710e+02, 1.8947e+02, 3.3477e+02, 6.1834e+01,\n",
       "        9.8648e-01, 6.3692e+01, 8.2859e+00, 3.5162e+02, 9.0678e+01, 2.9618e+01,\n",
       "        3.1646e+02, 3.1883e+00, 2.8689e+02, 6.9385e+01, 7.6647e+01, 2.3291e+01,\n",
       "        8.7483e+01, 7.5130e+01, 3.4741e+02, 3.7417e+01, 7.4808e+00, 3.5329e+02,\n",
       "        2.8263e+02, 1.0745e+01, 7.3393e+01, 8.2659e+01, 6.4363e+01, 2.7820e+02,\n",
       "        1.0844e+01, 7.6978e+01, 6.6080e+00, 2.8797e+02, 1.8254e+01, 6.8112e+01,\n",
       "        2.8347e+02, 2.0631e+01, 5.2299e+01, 4.9061e+00, 3.9995e+01, 3.5815e+02,\n",
       "        2.9432e+02, 4.5489e+00, 7.8446e+01, 2.2851e+01, 2.7962e+02, 1.2049e+00,\n",
       "        7.5168e+01, 1.7697e+01, 9.7991e+01, 6.2735e+01, 8.0979e+01, 3.5584e+02,\n",
       "        6.4899e+01, 3.2762e+01, 2.2925e+01, 3.3460e+02, 3.3431e+01, 3.4464e+02,\n",
       "        1.4315e+00, 1.6402e+01, 3.7457e+00, 3.5826e+02, 3.5795e+02, 7.5169e+01,\n",
       "        2.8832e+02, 2.6500e+02, 2.5207e+02, 5.0123e+00, 3.4777e+02, 2.8255e+02,\n",
       "        3.5687e+02, 6.7136e+01, 3.3657e+02, 3.3169e+02, 1.9538e+00, 4.7281e+01,\n",
       "        9.1975e+00, 2.0960e+01, 3.0769e+02, 3.8038e+01, 3.5732e+02, 1.2412e+02,\n",
       "        2.0960e+01, 8.6447e+01, 2.3881e+01, 3.4355e+02, 3.3452e+02, 2.7312e+02,\n",
       "        2.2925e+01, 7.1337e+00, 2.8951e+02, 3.4226e+02, 3.3004e+02, 2.1672e+01,\n",
       "        9.8682e+00, 3.5385e+02, 5.9955e+01, 3.1320e+02, 4.2219e+01, 6.0290e+01,\n",
       "        2.7999e+02, 3.5227e+02])"
      ]
     },
     "execution_count": 170,
     "metadata": {},
     "output_type": "execute_result"
    }
   ],
   "source": [
    "pred_angles"
   ]
  },
  {
   "cell_type": "code",
   "execution_count": 172,
   "id": "d4c2f5ca",
   "metadata": {},
   "outputs": [
    {
     "name": "stdout",
     "output_type": "stream",
     "text": [
      "Mean norm: 1.0 Min norm: 0.9999999403953552 Max norm: 1.0\n"
     ]
    }
   ],
   "source": [
    "sin_vals = torch.sin(pred_angles)\n",
    "cos_vals = torch.cos(pred_angles)\n",
    "sin_cos = torch.stack([sin_vals, cos_vals], dim=1)  # shape (N, 2)\n",
    "norms = torch.norm(sin_cos, dim=1)  # shape (N,)\n",
    "print(\"Mean norm:\", norms.mean().item(), \"Min norm:\", norms.min().item(), \"Max norm:\", norms.max().item())\n"
   ]
  },
  {
   "cell_type": "code",
   "execution_count": 148,
   "id": "83961b70",
   "metadata": {},
   "outputs": [
    {
     "data": {
      "image/png": "[encoded data removed]",
      "text/plain": [
       "<Figure size 1000x500 with 1 Axes>"
      ]
     },
     "metadata": {},
     "output_type": "display_data"
    }
   ],
   "source": [
    "# Plot the residuals between true_angles and pred_angles\n",
    "plt.figure(figsize=(10, 5))\n",
    "plt.scatter(true_angles, pred_angles, alpha=0.5)\n",
    "plt.xlabel(\"True Angles (degrees)\")\n",
    "plt.ylabel(\"Predicted Angles (degrees)\")\n",
    "plt.title(\"True vs Predicted Angles\")\n",
    "plt.plot([0, 360], [0, 360], 'r--')  # Diagonal line\n",
    "plt.xlim(0, 360)\n",
    "plt.ylim(0, 360)\n",
    "plt.gca().set_aspect('equal', adjustable='box')\n",
    "plt.grid()\n",
    "plt.show()\n"
   ]
  },
  {
   "cell_type": "code",
   "execution_count": 149,
   "id": "1587b2e8",
   "metadata": {},
   "outputs": [
    {
     "data": {
      "image/png": "[encoded data removed]",
      "text/plain": [
       "<Figure size 1000x500 with 1 Axes>"
      ]
     },
     "metadata": {},
     "output_type": "display_data"
    }
   ],
   "source": [
    "# Plot residuals histogram\n",
    "residual = (pred_angles - true_angles + 180) % 360 - 180\n",
    "plt.figure(figsize=(10, 5))\n",
    "plt.hist(residual.numpy(), bins=30, alpha=0.7, color='blue', edgecolor='black')\n",
    "plt.xlabel(\"Residuals (degrees)\")\n",
    "plt.ylabel(\"Frequency\")\n",
    "plt.title(\"Residuals Histogram\")\n",
    "plt.axvline(x=0, color='red', linestyle='dashed', linewidth=1)\n",
    "plt.grid()"
   ]
  },
  {
   "cell_type": "code",
   "execution_count": 150,
   "id": "1b01410c",
   "metadata": {},
   "outputs": [
    {
     "name": "stdout",
     "output_type": "stream",
     "text": [
      "MAE: 91.01 degrees\n",
      "RMSE: 106.06 degrees\n"
     ]
    }
   ],
   "source": [
    "mae = residual.abs().mean()\n",
    "rmse = torch.sqrt((residual ** 2).mean())\n",
    "print(f\"MAE: {mae.item():.2f} degrees\")\n",
    "print(f\"RMSE: {rmse.item():.2f} degrees\")"
   ]
  },
  {
   "cell_type": "code",
   "execution_count": 151,
   "id": "7e4e747b",
   "metadata": {},
   "outputs": [],
   "source": [
    "with torch.no_grad():\n",
    "    y_pred = model(batch)\n",
    "    y_true = batch.y.view(batch.num_graphs // 2, 2, -1)[:, 0, :]  # shape [N, 2]\n",
    "    # Recover from sin/cos\n",
    "    pred_angles = torch.atan2(y_pred[:, 0], y_pred[:, 1]) + ds.per_mean_dir\n",
    "    true_angles = torch.atan2(y_true[:, 0], y_true[:, 1]) + ds.per_mean_dir\n",
    "\n",
    "    # Convert to degrees and wrap\n",
    "    pred_angles_deg = (pred_angles * 180 / math.pi) % 360\n",
    "    true_angles_deg = (true_angles * 180 / math.pi) % 360\n",
    "\n",
    "    # Residual\n",
    "    residuals = (pred_angles_deg - true_angles_deg + 180) % 360 - 180\n"
   ]
  },
  {
   "cell_type": "code",
   "execution_count": 152,
   "id": "4b064f44",
   "metadata": {},
   "outputs": [
    {
     "data": {
      "text/plain": [
       "tensor([-2.7929e+00,  1.2247e+00, -3.1463e+00, -4.3624e-04,  2.8092e-04,\n",
       "         1.7913e+00, -8.7069e-02, -3.7322e-01, -3.1640e+00, -1.0731e+00,\n",
       "        -1.2155e+00,  2.4154e+00, -1.1389e+00, -8.9854e-06,  2.9397e+00,\n",
       "         2.8195e+00,  1.6914e-03, -2.8186e+00,  8.3105e-01, -7.0793e-01,\n",
       "         7.7469e-04, -3.0750e+00, -6.9754e-04,  1.0624e+00, -3.8576e-02,\n",
       "         2.5710e-01, -1.8546e+00, -3.4452e-01,  1.4357e+00, -2.1137e-01,\n",
       "        -1.5014e-04, -2.3995e+00,  3.2874e-01, -3.1410e+00, -1.0698e+00,\n",
       "        -6.2812e-01,  5.5333e-01, -7.7231e-01, -1.2226e+00, -2.3475e-01,\n",
       "        -8.2629e-04,  8.7196e-01, -7.2261e-01, -7.7493e-01,  2.0939e+00,\n",
       "         2.4088e+00,  1.5844e+00,  5.1751e-01, -1.5121e+00,  1.8522e+00,\n",
       "        -1.8395e+00, -2.5554e+00,  1.5642e+00,  1.2535e-02,  2.6926e+00,\n",
       "        -1.4682e+00,  1.0128e+00,  1.3406e+00, -1.0943e-01, -3.1420e+00,\n",
       "         8.1209e-02,  2.5671e-02, -9.6088e-01, -2.7137e-01])"
      ]
     },
     "execution_count": 152,
     "metadata": {},
     "output_type": "execute_result"
    }
   ],
   "source": [
    "true_angles"
   ]
  },
  {
   "cell_type": "code",
   "execution_count": null,
   "id": "c6324ee5",
   "metadata": {},
   "outputs": [
    {
     "ename": "RuntimeError",
     "evalue": "shape '[128, 2]' is invalid for input of size 128",
     "output_type": "error",
     "traceback": [
      "\u001b[0;31m---------------------------------------------------------------------------\u001b[0m",
      "\u001b[0;31mRuntimeError\u001b[0m                              Traceback (most recent call last)",
      "Cell \u001b[0;32mIn[158], line 3\u001b[0m\n\u001b[1;32m      1\u001b[0m \u001b[38;5;66;03m# constant baseline: always predict mean(sin), mean(cos)\u001b[39;00m\n\u001b[1;32m      2\u001b[0m \u001b[38;5;28;01mimport\u001b[39;00m\u001b[38;5;250m \u001b[39m\u001b[38;5;21;01mtorch\u001b[39;00m\n\u001b[0;32m----> 3\u001b[0m y \u001b[38;5;241m=\u001b[39m torch\u001b[38;5;241m.\u001b[39mcat([batch\u001b[38;5;241m.\u001b[39my\u001b[38;5;241m.\u001b[39mview(batch\u001b[38;5;241m.\u001b[39mnum_graphs,\u001b[38;5;241m2\u001b[39m) \u001b[38;5;28;01mfor\u001b[39;00m batch \u001b[38;5;129;01min\u001b[39;00m dm\u001b[38;5;241m.\u001b[39mtrain_dataloader()])\n\u001b[1;32m      4\u001b[0m μ \u001b[38;5;241m=\u001b[39m y\u001b[38;5;241m.\u001b[39mmean(dim\u001b[38;5;241m=\u001b[39m\u001b[38;5;241m0\u001b[39m)  \u001b[38;5;66;03m# shape [2]\u001b[39;00m\n\u001b[1;32m      5\u001b[0m mse \u001b[38;5;241m=\u001b[39m torch\u001b[38;5;241m.\u001b[39mnn\u001b[38;5;241m.\u001b[39mMSELoss()\n",
      "Cell \u001b[0;32mIn[158], line 3\u001b[0m, in \u001b[0;36m<listcomp>\u001b[0;34m(.0)\u001b[0m\n\u001b[1;32m      1\u001b[0m \u001b[38;5;66;03m# constant baseline: always predict mean(sin), mean(cos)\u001b[39;00m\n\u001b[1;32m      2\u001b[0m \u001b[38;5;28;01mimport\u001b[39;00m\u001b[38;5;250m \u001b[39m\u001b[38;5;21;01mtorch\u001b[39;00m\n\u001b[0;32m----> 3\u001b[0m y \u001b[38;5;241m=\u001b[39m torch\u001b[38;5;241m.\u001b[39mcat([\u001b[43mbatch\u001b[49m\u001b[38;5;241;43m.\u001b[39;49m\u001b[43my\u001b[49m\u001b[38;5;241;43m.\u001b[39;49m\u001b[43mview\u001b[49m\u001b[43m(\u001b[49m\u001b[43mbatch\u001b[49m\u001b[38;5;241;43m.\u001b[39;49m\u001b[43mnum_graphs\u001b[49m\u001b[43m,\u001b[49m\u001b[38;5;241;43m2\u001b[39;49m\u001b[43m)\u001b[49m \u001b[38;5;28;01mfor\u001b[39;00m batch \u001b[38;5;129;01min\u001b[39;00m dm\u001b[38;5;241m.\u001b[39mtrain_dataloader()])\n\u001b[1;32m      4\u001b[0m μ \u001b[38;5;241m=\u001b[39m y\u001b[38;5;241m.\u001b[39mmean(dim\u001b[38;5;241m=\u001b[39m\u001b[38;5;241m0\u001b[39m)  \u001b[38;5;66;03m# shape [2]\u001b[39;00m\n\u001b[1;32m      5\u001b[0m mse \u001b[38;5;241m=\u001b[39m torch\u001b[38;5;241m.\u001b[39mnn\u001b[38;5;241m.\u001b[39mMSELoss()\n",
      "\u001b[0;31mRuntimeError\u001b[0m: shape '[128, 2]' is invalid for input of size 128"
     ]
    }
   ],
   "source": [
    "# constant baseline: always predict mean(sin), mean(cos)\n",
    "import torch\n",
    "y = torch.cat([batch.y.view(batch.num_graphs,2) for batch in dm.train_dataloader()])\n",
    "μ = y.mean(dim=0)  # shape [2]\n",
    "mse = torch.nn.MSELoss()\n",
    "baseline = mse(torch.zeros_like(y)+μ, y).item()\n",
    "print(\"Baseline MSE:\", baseline)\n"
   ]
  },
  {
   "cell_type": "code",
   "execution_count": null,
   "id": "85e06ea7",
   "metadata": {},
   "outputs": [
    {
     "name": "stdout",
     "output_type": "stream",
     "text": [
      "NaNs in z_all!\n",
      "z1 max nan min nan\n",
      "z2 max nan min nan\n",
      "x[nmask1] NaNs tensor(False)\n",
      "x[nmask2] NaNs tensor(False)\n"
     ]
    },
    {
     "ename": "RuntimeError",
     "evalue": "Function 'PowBackward0' returned nan values in its 0th output.",
     "output_type": "error",
     "traceback": [
      "\u001b[0;31m---------------------------------------------------------------------------\u001b[0m",
      "\u001b[0;31mRuntimeError\u001b[0m                              Traceback (most recent call last)",
      "Cell \u001b[0;32mIn[122], line 26\u001b[0m\n\u001b[1;32m     24\u001b[0m sin, cos \u001b[38;5;241m=\u001b[39m pred[:,\u001b[38;5;241m0\u001b[39m], pred[:,\u001b[38;5;241m1\u001b[39m]\n\u001b[1;32m     25\u001b[0m penalty \u001b[38;5;241m=\u001b[39m ((sin\u001b[38;5;241m*\u001b[39m\u001b[38;5;241m*\u001b[39m\u001b[38;5;241m2\u001b[39m \u001b[38;5;241m+\u001b[39m cos\u001b[38;5;241m*\u001b[39m\u001b[38;5;241m*\u001b[39m\u001b[38;5;241m2\u001b[39m \u001b[38;5;241m-\u001b[39m \u001b[38;5;241m1\u001b[39m)\u001b[38;5;241m*\u001b[39m\u001b[38;5;241m*\u001b[39m\u001b[38;5;241m2\u001b[39m)\u001b[38;5;241m.\u001b[39mmean()\n\u001b[0;32m---> 26\u001b[0m \u001b[43m(\u001b[49m\u001b[43mloss\u001b[49m\u001b[43m \u001b[49m\u001b[38;5;241;43m+\u001b[39;49m\u001b[43m \u001b[49m\u001b[38;5;241;43m0.01\u001b[39;49m\u001b[38;5;241;43m*\u001b[39;49m\u001b[43mpenalty\u001b[49m\u001b[43m)\u001b[49m\u001b[38;5;241;43m.\u001b[39;49m\u001b[43mbackward\u001b[49m\u001b[43m(\u001b[49m\u001b[43m)\u001b[49m\n\u001b[1;32m     27\u001b[0m opt\u001b[38;5;241m.\u001b[39mstep()\n\u001b[1;32m     28\u001b[0m \u001b[38;5;28;01mif\u001b[39;00m step \u001b[38;5;241m%\u001b[39m \u001b[38;5;241m20\u001b[39m \u001b[38;5;241m==\u001b[39m \u001b[38;5;241m0\u001b[39m:\n",
      "File \u001b[0;32m~/miniforge3/envs/dmpnn_rocm/lib/python3.10/site-packages/torch/_tensor.py:626\u001b[0m, in \u001b[0;36mTensor.backward\u001b[0;34m(self, gradient, retain_graph, create_graph, inputs)\u001b[0m\n\u001b[1;32m    616\u001b[0m \u001b[38;5;28;01mif\u001b[39;00m has_torch_function_unary(\u001b[38;5;28mself\u001b[39m):\n\u001b[1;32m    617\u001b[0m     \u001b[38;5;28;01mreturn\u001b[39;00m handle_torch_function(\n\u001b[1;32m    618\u001b[0m         Tensor\u001b[38;5;241m.\u001b[39mbackward,\n\u001b[1;32m    619\u001b[0m         (\u001b[38;5;28mself\u001b[39m,),\n\u001b[0;32m   (...)\u001b[0m\n\u001b[1;32m    624\u001b[0m         inputs\u001b[38;5;241m=\u001b[39minputs,\n\u001b[1;32m    625\u001b[0m     )\n\u001b[0;32m--> 626\u001b[0m \u001b[43mtorch\u001b[49m\u001b[38;5;241;43m.\u001b[39;49m\u001b[43mautograd\u001b[49m\u001b[38;5;241;43m.\u001b[39;49m\u001b[43mbackward\u001b[49m\u001b[43m(\u001b[49m\n\u001b[1;32m    627\u001b[0m \u001b[43m    \u001b[49m\u001b[38;5;28;43mself\u001b[39;49m\u001b[43m,\u001b[49m\u001b[43m \u001b[49m\u001b[43mgradient\u001b[49m\u001b[43m,\u001b[49m\u001b[43m \u001b[49m\u001b[43mretain_graph\u001b[49m\u001b[43m,\u001b[49m\u001b[43m \u001b[49m\u001b[43mcreate_graph\u001b[49m\u001b[43m,\u001b[49m\u001b[43m \u001b[49m\u001b[43minputs\u001b[49m\u001b[38;5;241;43m=\u001b[39;49m\u001b[43minputs\u001b[49m\n\u001b[1;32m    628\u001b[0m \u001b[43m\u001b[49m\u001b[43m)\u001b[49m\n",
      "File \u001b[0;32m~/miniforge3/envs/dmpnn_rocm/lib/python3.10/site-packages/torch/autograd/__init__.py:347\u001b[0m, in \u001b[0;36mbackward\u001b[0;34m(tensors, grad_tensors, retain_graph, create_graph, grad_variables, inputs)\u001b[0m\n\u001b[1;32m    342\u001b[0m     retain_graph \u001b[38;5;241m=\u001b[39m create_graph\n\u001b[1;32m    344\u001b[0m \u001b[38;5;66;03m# The reason we repeat the same comment below is that\u001b[39;00m\n\u001b[1;32m    345\u001b[0m \u001b[38;5;66;03m# some Python versions print out the first line of a multi-line function\u001b[39;00m\n\u001b[1;32m    346\u001b[0m \u001b[38;5;66;03m# calls in the traceback and some print out the last line\u001b[39;00m\n\u001b[0;32m--> 347\u001b[0m \u001b[43m_engine_run_backward\u001b[49m\u001b[43m(\u001b[49m\n\u001b[1;32m    348\u001b[0m \u001b[43m    \u001b[49m\u001b[43mtensors\u001b[49m\u001b[43m,\u001b[49m\n\u001b[1;32m    349\u001b[0m \u001b[43m    \u001b[49m\u001b[43mgrad_tensors_\u001b[49m\u001b[43m,\u001b[49m\n\u001b[1;32m    350\u001b[0m \u001b[43m    \u001b[49m\u001b[43mretain_graph\u001b[49m\u001b[43m,\u001b[49m\n\u001b[1;32m    351\u001b[0m \u001b[43m    \u001b[49m\u001b[43mcreate_graph\u001b[49m\u001b[43m,\u001b[49m\n\u001b[1;32m    352\u001b[0m \u001b[43m    \u001b[49m\u001b[43minputs\u001b[49m\u001b[43m,\u001b[49m\n\u001b[1;32m    353\u001b[0m \u001b[43m    \u001b[49m\u001b[43mallow_unreachable\u001b[49m\u001b[38;5;241;43m=\u001b[39;49m\u001b[38;5;28;43;01mTrue\u001b[39;49;00m\u001b[43m,\u001b[49m\n\u001b[1;32m    354\u001b[0m \u001b[43m    \u001b[49m\u001b[43maccumulate_grad\u001b[49m\u001b[38;5;241;43m=\u001b[39;49m\u001b[38;5;28;43;01mTrue\u001b[39;49;00m\u001b[43m,\u001b[49m\n\u001b[1;32m    355\u001b[0m \u001b[43m\u001b[49m\u001b[43m)\u001b[49m\n",
      "File \u001b[0;32m~/miniforge3/envs/dmpnn_rocm/lib/python3.10/site-packages/torch/autograd/graph.py:823\u001b[0m, in \u001b[0;36m_engine_run_backward\u001b[0;34m(t_outputs, *args, **kwargs)\u001b[0m\n\u001b[1;32m    821\u001b[0m     unregister_hooks \u001b[38;5;241m=\u001b[39m _register_logging_hooks_on_whole_graph(t_outputs)\n\u001b[1;32m    822\u001b[0m \u001b[38;5;28;01mtry\u001b[39;00m:\n\u001b[0;32m--> 823\u001b[0m     \u001b[38;5;28;01mreturn\u001b[39;00m \u001b[43mVariable\u001b[49m\u001b[38;5;241;43m.\u001b[39;49m\u001b[43m_execution_engine\u001b[49m\u001b[38;5;241;43m.\u001b[39;49m\u001b[43mrun_backward\u001b[49m\u001b[43m(\u001b[49m\u001b[43m  \u001b[49m\u001b[38;5;66;43;03m# Calls into the C++ engine to run the backward pass\u001b[39;49;00m\n\u001b[1;32m    824\u001b[0m \u001b[43m        \u001b[49m\u001b[43mt_outputs\u001b[49m\u001b[43m,\u001b[49m\u001b[43m \u001b[49m\u001b[38;5;241;43m*\u001b[39;49m\u001b[43margs\u001b[49m\u001b[43m,\u001b[49m\u001b[43m \u001b[49m\u001b[38;5;241;43m*\u001b[39;49m\u001b[38;5;241;43m*\u001b[39;49m\u001b[43mkwargs\u001b[49m\n\u001b[1;32m    825\u001b[0m \u001b[43m    \u001b[49m\u001b[43m)\u001b[49m  \u001b[38;5;66;03m# Calls into the C++ engine to run the backward pass\u001b[39;00m\n\u001b[1;32m    826\u001b[0m \u001b[38;5;28;01mfinally\u001b[39;00m:\n\u001b[1;32m    827\u001b[0m     \u001b[38;5;28;01mif\u001b[39;00m attach_logging_hooks:\n",
      "\u001b[0;31mRuntimeError\u001b[0m: Function 'PowBackward0' returned nan values in its 0th output."
     ]
    }
   ],
   "source": [
    "batch = next(iter(dm.train_dataloader())).to(model.device)\n",
    "y_flat = batch.y.view(batch.num_graphs, -1)       # shape (2N, D)\n",
    "N      = batch.num_graphs // 2\n",
    "y_true = y_flat.view(N, 2, -1)[:, 0, :]           # shape (N, 2)\n",
    "with torch.no_grad():\n",
    "    z_all = model._encode_big_batch(batch)        # (2N, E)\n",
    "z_cat = torch.cat([z_all[0::2], z_all[1::2]], dim=1).detach()  # (N, 2E)\n",
    "# replace head & freeze encoders\n",
    "# model.head = RawPeriodicHead(z_cat.shape[1]).to(model.device)\n",
    "for enc in model.encoders:\n",
    "    for p in enc.parameters():\n",
    "        p.requires_grad = False\n",
    "\n",
    "# optimizer + loss\n",
    "opt = torch.optim.Adam(model.head.parameters(), lr=1e-2, weight_decay=1e-4)\n",
    "mse = torch.nn.MSELoss()\n",
    "\n",
    "# overfit loop\n",
    "for step in range(800):\n",
    "    opt.zero_grad()\n",
    "    pred = model.head(z_cat)  # (N,2)\n",
    "    loss = mse(pred, y_true)\n",
    "    # add a tiny unit‐circle penalty:\n",
    "    sin, cos = pred[:,0], pred[:,1]\n",
    "    penalty = ((sin**2 + cos**2 - 1)**2).mean()\n",
    "    (loss + 0.01*penalty).backward()\n",
    "    opt.step()\n",
    "    if step % 20 == 0:\n",
    "        print(f\"{step:03d} loss={loss.item():.4f}\")\n"
   ]
  },
  {
   "cell_type": "code",
   "execution_count": null,
   "id": "0b8a0bc7",
   "metadata": {},
   "outputs": [
    {
     "data": {
      "text/plain": [
       "1200"
      ]
     },
     "execution_count": 113,
     "metadata": {},
     "output_type": "execute_result"
    }
   ],
   "source": []
  },
  {
   "cell_type": "code",
   "execution_count": null,
   "id": "1774a052",
   "metadata": {},
   "outputs": [],
   "source": [
    "for enc in model.encoders:\n",
    "    for p in enc.parameters():\n",
    "        p.requires_grad = True\n",
    "# restore your normal head (with /norm)\n",
    "from model import PeriodicHead\n",
    "model.head = PeriodicHead(\n",
    "    input_dim=z_cat.size(1), hidden_dim=300, n_layers=1, dropout=0.1\n",
    ").to(model.device)\n"
   ]
  },
  {
   "cell_type": "code",
   "execution_count": null,
   "id": "b00f439d",
   "metadata": {},
   "outputs": [
    {
     "name": "stdout",
     "output_type": "stream",
     "text": [
      "Epoch 0 train=0.7404  val=0.7293\n",
      "Epoch 1 train=0.7244  val=0.7311\n",
      "Epoch 2 train=0.7244  val=0.7322\n",
      "Epoch 3 train=0.7189  val=0.7334\n",
      "Epoch 4 train=0.7391  val=0.7318\n",
      "Epoch 5 train=0.7200  val=0.7356\n",
      "Epoch 6 train=0.7206  val=0.7369\n",
      "Epoch 7 train=0.7270  val=0.7367\n",
      "Epoch 8 train=0.7242  val=0.7336\n",
      "Epoch 9 train=0.7178  val=0.7318\n",
      "Epoch 10 train=0.7206  val=0.7345\n",
      "Epoch 11 train=0.7358  val=0.7356\n",
      "Epoch 12 train=0.7224  val=0.7313\n",
      "Epoch 13 train=0.7216  val=0.7318\n",
      "Epoch 14 train=0.7162  val=0.7321\n",
      "Epoch 15 train=0.7135  val=0.7308\n",
      "Epoch 16 train=0.7195  val=0.7304\n",
      "Epoch 17 train=0.7246  val=0.7299\n",
      "Epoch 18 train=0.7239  val=0.7313\n",
      "Epoch 19 train=0.7356  val=0.7320\n",
      "Epoch 20 train=0.7278  val=0.7318\n",
      "Epoch 21 train=0.7212  val=0.7314\n",
      "Epoch 22 train=0.7231  val=0.7319\n",
      "Epoch 23 train=0.7057  val=0.7314\n"
     ]
    },
    {
     "ename": "KeyboardInterrupt",
     "evalue": "",
     "output_type": "error",
     "traceback": [
      "\u001b[0;31m---------------------------------------------------------------------------\u001b[0m",
      "\u001b[0;31mKeyboardInterrupt\u001b[0m                         Traceback (most recent call last)",
      "Cell \u001b[0;32mIn[117], line 19\u001b[0m\n\u001b[1;32m     17\u001b[0m sin, cos \u001b[38;5;241m=\u001b[39m pred[:,\u001b[38;5;241m0\u001b[39m], pred[:,\u001b[38;5;241m1\u001b[39m]\n\u001b[1;32m     18\u001b[0m loss \u001b[38;5;241m=\u001b[39m loss \u001b[38;5;241m+\u001b[39m \u001b[38;5;241m0.01\u001b[39m \u001b[38;5;241m*\u001b[39m ((sin\u001b[38;5;241m*\u001b[39m\u001b[38;5;241m*\u001b[39m\u001b[38;5;241m2\u001b[39m\u001b[38;5;241m+\u001b[39mcos\u001b[38;5;241m*\u001b[39m\u001b[38;5;241m*\u001b[39m\u001b[38;5;241m2\u001b[39m\u001b[38;5;241m-\u001b[39m\u001b[38;5;241m1\u001b[39m)\u001b[38;5;241m*\u001b[39m\u001b[38;5;241m*\u001b[39m\u001b[38;5;241m2\u001b[39m)\u001b[38;5;241m.\u001b[39mmean()\n\u001b[0;32m---> 19\u001b[0m \u001b[43mloss\u001b[49m\u001b[38;5;241;43m.\u001b[39;49m\u001b[43mbackward\u001b[49m\u001b[43m(\u001b[49m\u001b[43m)\u001b[49m\n\u001b[1;32m     20\u001b[0m opt\u001b[38;5;241m.\u001b[39mstep()\n\u001b[1;32m     21\u001b[0m total_train \u001b[38;5;241m+\u001b[39m\u001b[38;5;241m=\u001b[39m loss\u001b[38;5;241m.\u001b[39mitem()\n",
      "File \u001b[0;32m~/miniforge3/envs/dmpnn_rocm/lib/python3.10/site-packages/torch/_tensor.py:626\u001b[0m, in \u001b[0;36mTensor.backward\u001b[0;34m(self, gradient, retain_graph, create_graph, inputs)\u001b[0m\n\u001b[1;32m    616\u001b[0m \u001b[38;5;28;01mif\u001b[39;00m has_torch_function_unary(\u001b[38;5;28mself\u001b[39m):\n\u001b[1;32m    617\u001b[0m     \u001b[38;5;28;01mreturn\u001b[39;00m handle_torch_function(\n\u001b[1;32m    618\u001b[0m         Tensor\u001b[38;5;241m.\u001b[39mbackward,\n\u001b[1;32m    619\u001b[0m         (\u001b[38;5;28mself\u001b[39m,),\n\u001b[0;32m   (...)\u001b[0m\n\u001b[1;32m    624\u001b[0m         inputs\u001b[38;5;241m=\u001b[39minputs,\n\u001b[1;32m    625\u001b[0m     )\n\u001b[0;32m--> 626\u001b[0m \u001b[43mtorch\u001b[49m\u001b[38;5;241;43m.\u001b[39;49m\u001b[43mautograd\u001b[49m\u001b[38;5;241;43m.\u001b[39;49m\u001b[43mbackward\u001b[49m\u001b[43m(\u001b[49m\n\u001b[1;32m    627\u001b[0m \u001b[43m    \u001b[49m\u001b[38;5;28;43mself\u001b[39;49m\u001b[43m,\u001b[49m\u001b[43m \u001b[49m\u001b[43mgradient\u001b[49m\u001b[43m,\u001b[49m\u001b[43m \u001b[49m\u001b[43mretain_graph\u001b[49m\u001b[43m,\u001b[49m\u001b[43m \u001b[49m\u001b[43mcreate_graph\u001b[49m\u001b[43m,\u001b[49m\u001b[43m \u001b[49m\u001b[43minputs\u001b[49m\u001b[38;5;241;43m=\u001b[39;49m\u001b[43minputs\u001b[49m\n\u001b[1;32m    628\u001b[0m \u001b[43m\u001b[49m\u001b[43m)\u001b[49m\n",
      "File \u001b[0;32m~/miniforge3/envs/dmpnn_rocm/lib/python3.10/site-packages/torch/autograd/__init__.py:347\u001b[0m, in \u001b[0;36mbackward\u001b[0;34m(tensors, grad_tensors, retain_graph, create_graph, grad_variables, inputs)\u001b[0m\n\u001b[1;32m    342\u001b[0m     retain_graph \u001b[38;5;241m=\u001b[39m create_graph\n\u001b[1;32m    344\u001b[0m \u001b[38;5;66;03m# The reason we repeat the same comment below is that\u001b[39;00m\n\u001b[1;32m    345\u001b[0m \u001b[38;5;66;03m# some Python versions print out the first line of a multi-line function\u001b[39;00m\n\u001b[1;32m    346\u001b[0m \u001b[38;5;66;03m# calls in the traceback and some print out the last line\u001b[39;00m\n\u001b[0;32m--> 347\u001b[0m \u001b[43m_engine_run_backward\u001b[49m\u001b[43m(\u001b[49m\n\u001b[1;32m    348\u001b[0m \u001b[43m    \u001b[49m\u001b[43mtensors\u001b[49m\u001b[43m,\u001b[49m\n\u001b[1;32m    349\u001b[0m \u001b[43m    \u001b[49m\u001b[43mgrad_tensors_\u001b[49m\u001b[43m,\u001b[49m\n\u001b[1;32m    350\u001b[0m \u001b[43m    \u001b[49m\u001b[43mretain_graph\u001b[49m\u001b[43m,\u001b[49m\n\u001b[1;32m    351\u001b[0m \u001b[43m    \u001b[49m\u001b[43mcreate_graph\u001b[49m\u001b[43m,\u001b[49m\n\u001b[1;32m    352\u001b[0m \u001b[43m    \u001b[49m\u001b[43minputs\u001b[49m\u001b[43m,\u001b[49m\n\u001b[1;32m    353\u001b[0m \u001b[43m    \u001b[49m\u001b[43mallow_unreachable\u001b[49m\u001b[38;5;241;43m=\u001b[39;49m\u001b[38;5;28;43;01mTrue\u001b[39;49;00m\u001b[43m,\u001b[49m\n\u001b[1;32m    354\u001b[0m \u001b[43m    \u001b[49m\u001b[43maccumulate_grad\u001b[49m\u001b[38;5;241;43m=\u001b[39;49m\u001b[38;5;28;43;01mTrue\u001b[39;49;00m\u001b[43m,\u001b[49m\n\u001b[1;32m    355\u001b[0m \u001b[43m\u001b[49m\u001b[43m)\u001b[49m\n",
      "File \u001b[0;32m~/miniforge3/envs/dmpnn_rocm/lib/python3.10/site-packages/torch/autograd/graph.py:823\u001b[0m, in \u001b[0;36m_engine_run_backward\u001b[0;34m(t_outputs, *args, **kwargs)\u001b[0m\n\u001b[1;32m    821\u001b[0m     unregister_hooks \u001b[38;5;241m=\u001b[39m _register_logging_hooks_on_whole_graph(t_outputs)\n\u001b[1;32m    822\u001b[0m \u001b[38;5;28;01mtry\u001b[39;00m:\n\u001b[0;32m--> 823\u001b[0m     \u001b[38;5;28;01mreturn\u001b[39;00m \u001b[43mVariable\u001b[49m\u001b[38;5;241;43m.\u001b[39;49m\u001b[43m_execution_engine\u001b[49m\u001b[38;5;241;43m.\u001b[39;49m\u001b[43mrun_backward\u001b[49m\u001b[43m(\u001b[49m\u001b[43m  \u001b[49m\u001b[38;5;66;43;03m# Calls into the C++ engine to run the backward pass\u001b[39;49;00m\n\u001b[1;32m    824\u001b[0m \u001b[43m        \u001b[49m\u001b[43mt_outputs\u001b[49m\u001b[43m,\u001b[49m\u001b[43m \u001b[49m\u001b[38;5;241;43m*\u001b[39;49m\u001b[43margs\u001b[49m\u001b[43m,\u001b[49m\u001b[43m \u001b[49m\u001b[38;5;241;43m*\u001b[39;49m\u001b[38;5;241;43m*\u001b[39;49m\u001b[43mkwargs\u001b[49m\n\u001b[1;32m    825\u001b[0m \u001b[43m    \u001b[49m\u001b[43m)\u001b[49m  \u001b[38;5;66;03m# Calls into the C++ engine to run the backward pass\u001b[39;00m\n\u001b[1;32m    826\u001b[0m \u001b[38;5;28;01mfinally\u001b[39;00m:\n\u001b[1;32m    827\u001b[0m     \u001b[38;5;28;01mif\u001b[39;00m attach_logging_hooks:\n",
      "\u001b[0;31mKeyboardInterrupt\u001b[0m: "
     ]
    }
   ],
   "source": [
    "opt = torch.optim.Adam(model.parameters(), lr=1e-3, weight_decay=1e-5)\n",
    "scheduler = torch.optim.lr_scheduler.ReduceLROnPlateau(opt, 'min', factor=0.5, patience=5)\n",
    "\n",
    "for epoch in range(50):\n",
    "    # train loop\n",
    "    model.train()\n",
    "    total_train = 0.0\n",
    "    for batch in dm.train_dataloader():\n",
    "        batch = batch.to(model.device)\n",
    "        y_flat = batch.y.view(batch.num_graphs, -1)\n",
    "        N      = batch.num_graphs // 2\n",
    "        y_true = y_flat.view(N,2,-1)[:,0,:]\n",
    "        opt.zero_grad()\n",
    "        pred = model(batch)                # (N,2) normalized sin/cos\n",
    "        loss = F.mse_loss(pred, y_true)\n",
    "        # optional unit-circle penalty\n",
    "        sin, cos = pred[:,0], pred[:,1]\n",
    "        loss = loss + 0.01 * ((sin**2+cos**2-1)**2).mean()\n",
    "        loss.backward()\n",
    "        opt.step()\n",
    "        total_train += loss.item()\n",
    "    avg_train = total_train / len(dm.train_dataloader())\n",
    "\n",
    "    # val loop\n",
    "    model.eval()\n",
    "    total_val = 0.0\n",
    "    with torch.no_grad():\n",
    "        for batch in dm.val_dataloader():\n",
    "            batch = batch.to(model.device)\n",
    "            y_flat = batch.y.view(batch.num_graphs, -1)\n",
    "            N      = batch.num_graphs // 2\n",
    "            y_true = y_flat.view(N,2,-1)[:,0,:]\n",
    "            pred   = model(batch)\n",
    "            total_val += F.mse_loss(pred, y_true).item()\n",
    "    avg_val = total_val / len(dm.val_dataloader())\n",
    "\n",
    "    print(f\"Epoch {epoch} train={avg_train:.4f}  val={avg_val:.4f}\")\n",
    "    scheduler.step(avg_val)\n"
   ]
  },
  {
   "cell_type": "code",
   "execution_count": null,
   "id": "572d86fd",
   "metadata": {},
   "outputs": [
    {
     "name": "stdout",
     "output_type": "stream",
     "text": [
      "Epoch 0 avg train loss = 19.6981\n",
      "Epoch 0 avg val loss = 0.5258\n",
      "Epoch 1 avg train loss = 0.5246\n",
      "Epoch 1 avg val loss = 0.6662\n",
      "Epoch 2 avg train loss = 0.4998\n",
      "Epoch 2 avg val loss = 0.4847\n",
      "Epoch 3 avg train loss = 0.4845\n",
      "Epoch 3 avg val loss = 0.4767\n",
      "Epoch 4 avg train loss = 0.4806\n",
      "Epoch 4 avg val loss = 0.4799\n",
      "Epoch 5 avg train loss = 0.4992\n",
      "Epoch 5 avg val loss = 0.5063\n",
      "Epoch 6 avg train loss = 0.5035\n",
      "Epoch 6 avg val loss = 0.5656\n",
      "Epoch 7 avg train loss = 0.5213\n",
      "Epoch 7 avg val loss = 0.5230\n",
      "Epoch 8 avg train loss = 0.4986\n",
      "Epoch 8 avg val loss = 0.4816\n",
      "Epoch 9 avg train loss = 0.4743\n",
      "Epoch 9 avg val loss = 0.5053\n"
     ]
    }
   ],
   "source": [
    "\n",
    "model.train()\n",
    "model.normalize_head = False\n",
    "opt = torch.optim.Adam(model.parameters(), lr=1e-2, weight_decay=1e-4)\n",
    "mse = torch.nn.MSELoss()\n",
    "train_dl = dm.train_dataloader()\n",
    "val_dl = dm.val_dataloader()\n",
    "\n",
    "for epoch in range(10):\n",
    "    # Training loop\n",
    "    total_train_loss = 0.0\n",
    "    for batch in train_dl:\n",
    "        batch = batch.to(model.device)\n",
    "        opt.zero_grad()\n",
    "        y_pred = model(batch)                          # (N,2)\n",
    "        y_flat = batch.y.view(batch.num_graphs, -1)    # (2N,D)\n",
    "        N = batch.num_graphs // 2\n",
    "        y_true = y_flat.view(N, 2, -1)[:, 0, :]        # (N,2)\n",
    "        loss = mse(y_pred, y_true)\n",
    "        loss.backward()\n",
    "        opt.step()\n",
    "        total_train_loss += loss.item()\n",
    "    avg_train_loss = total_train_loss / len(train_dl)\n",
    "    print(f\"Epoch {epoch} avg train loss = {avg_train_loss:.4f}\")\n",
    "\n",
    "    # Validation loop\n",
    "    model.eval()\n",
    "    total_val_loss = 0.0\n",
    "    with torch.no_grad():\n",
    "        for batch in val_dl:\n",
    "            batch = batch.to(model.device)\n",
    "            y_pred = model(batch)                          # (N,2)\n",
    "            y_flat = batch.y.view(batch.num_graphs, -1)    # (2N,D)\n",
    "            N = batch.num_graphs // 2\n",
    "            y_true = y_flat.view(N, 2, -1)[:, 0, :]        # (N,2)\n",
    "            loss = mse(y_pred, y_true)\n",
    "            total_val_loss += loss.item()\n",
    "    avg_val_loss = total_val_loss / len(val_dl)\n",
    "    print(f\"Epoch {epoch} avg val loss = {avg_val_loss:.4f}\")\n",
    "    model.train()\n"
   ]
  },
  {
   "cell_type": "code",
   "execution_count": null,
   "id": "0a20a616",
   "metadata": {},
   "outputs": [
    {
     "name": "stdout",
     "output_type": "stream",
     "text": [
      "step 000  loss=0.530812\n",
      "step 020  loss=28.160769\n",
      "step 040  loss=4.992714\n",
      "step 060  loss=2.595320\n",
      "step 080  loss=15.864535\n"
     ]
    }
   ],
   "source": [
    "from torch import nn\n",
    "from model import PeriodicHead\n",
    "\n",
    "# grab one batch & move to device\n",
    "batch = next(iter(dm.train_dataloader())).to(model.device)\n",
    "y_flat = batch.y.view(batch.num_graphs, -1)\n",
    "N       = batch.num_graphs // 2\n",
    "y_true  = y_flat.view(N, 2, -1)[:, 0, :]  # (N,2)\n",
    "\n",
    "# 1) build a beefier head\n",
    "z_all = model._encode_big_batch(batch)      # (2N,E)\n",
    "z_cat = torch.cat([z_all[0::2], z_all[1::2]], dim=1)\n",
    "embed_dim  = z_cat.shape[1]\n",
    "\n",
    "model.head = PeriodicHead(\n",
    "    input_dim=embed_dim,\n",
    "    output_dim=2,\n",
    "    hidden_dim=6000,\n",
    "    n_layers=3,\n",
    "    dropout=0.1,\n",
    "    use_residual=True\n",
    ").to(model.device)\n",
    "# temporarily skip unit-circle divide during overfit\n",
    "model.head.normalize = False  \n",
    "\n",
    "# 2) freeze encoder, only train head\n",
    "for enc in model.encoders:\n",
    "    for p in enc.parameters():\n",
    "        p.requires_grad = False\n",
    "\n",
    "# 3) optimizer with a bolder LR & small weight decay\n",
    "opt = torch.optim.Adam(\n",
    "    list(model.head.parameters()), \n",
    "    lr=1e-2, \n",
    "    weight_decay=1e-4\n",
    ")\n",
    "criterion = nn.MSELoss()\n",
    "\n",
    "# 4) overfit test on that one batch\n",
    "for step in range(100):\n",
    "    opt.zero_grad()\n",
    "    ŷ = model(batch)   # raw sin/cos from new head\n",
    "    loss = criterion(ŷ, y_true)\n",
    "    loss.backward()\n",
    "    opt.step()\n",
    "    if step % 20 == 0:\n",
    "        print(f\"step {step:03d}  loss={loss.item():.6f}\")\n"
   ]
  },
  {
   "cell_type": "code",
   "execution_count": null,
   "id": "569242aa",
   "metadata": {},
   "outputs": [
    {
     "name": "stdout",
     "output_type": "stream",
     "text": [
      "step 000  loss=0.536796\n",
      "step 020  loss=0.521324\n",
      "step 040  loss=0.222786\n",
      "step 060  loss=0.125554\n",
      "step 080  loss=0.077855\n"
     ]
    }
   ],
   "source": [
    "import torch\n",
    "from torch import nn\n",
    "\n",
    "# 1) grab one batch\n",
    "batch = next(iter(dm.train_dataloader())).to(model.device)\n",
    "y_flat = batch.y.view(batch.num_graphs, -1)\n",
    "N       = batch.num_graphs // 2\n",
    "y_true  = y_flat.view(N, 2, -1)[:, 0, :].to(model.device)  # (N,2)\n",
    "\n",
    "# 2) compute z_cat once\n",
    "with torch.no_grad():\n",
    "    z_all = model._encode_big_batch(batch)\n",
    "z_cat = torch.cat([z_all[0::2], z_all[1::2]], dim=1).detach()  # (N, E*2)\n",
    "embed_dim = z_cat.shape[1]\n",
    "\n",
    "# 3) make a bare linear head\n",
    "plain_head = nn.Linear(embed_dim, 2).to(model.device)\n",
    "criterion = nn.MSELoss()\n",
    "opt = torch.optim.Adam(plain_head.parameters(), lr=1e-2)\n",
    "\n",
    "# 4) overfit loop\n",
    "for step in range(100):\n",
    "    opt.zero_grad()\n",
    "    y_pred = plain_head(z_cat)\n",
    "    loss   = criterion(y_pred, y_true)\n",
    "    loss.backward()\n",
    "    opt.step()\n",
    "    if step % 20 == 0:\n",
    "        print(f\"step {step:03d}  loss={loss.item():.6f}\")\n"
   ]
  },
  {
   "cell_type": "code",
   "execution_count": null,
   "id": "638e34b0",
   "metadata": {},
   "outputs": [
    {
     "name": "stdout",
     "output_type": "stream",
     "text": [
      "000  loss=0.805431\n",
      "020  loss=0.587020\n",
      "040  loss=0.590405\n",
      "060  loss=0.574097\n",
      "080  loss=0.557582\n"
     ]
    }
   ],
   "source": [
    "import torch\n",
    "from torch import nn\n",
    "\n",
    "# 1) grab one batch\n",
    "batch = next(iter(dm.train_dataloader())).to(model.device)\n",
    "y_flat = batch.y.view(batch.num_graphs, -1)\n",
    "N       = batch.num_graphs // 2\n",
    "y_true  = y_flat.view(N, 2, -1)[:, 0, :].to(model.device)  # (N,2)\n",
    "\n",
    "# 2) compute z_cat once\n",
    "with torch.no_grad():\n",
    "    z_all = model._encode_big_batch(batch)\n",
    "z_cat = torch.cat([z_all[0::2], z_all[1::2]], dim=1).detach()  # (N, E*2)\n",
    "embed_dim = z_cat.shape[1]\n",
    "\n",
    "# 3) define a tiny MLP head (no unit-circle divide)\n",
    "# class TinyHead(nn.Module):\n",
    "#     def __init__(self, dim):\n",
    "#         super().__init__()\n",
    "#         self.net = nn.Sequential(\n",
    "#             nn.Linear(dim, dim//2),\n",
    "#             nn.ReLU(),\n",
    "#             nn.Linear(dim//2, 2),\n",
    "#         )\n",
    "#     def forward(self, x):\n",
    "#         return self.net(x)  # raw sin/cos\n",
    "\n",
    "# head = TinyHead(embed_dim).to(model.device)\n",
    "class StablePeriodicHead(nn.Module):\n",
    "    def __init__(self, dim):\n",
    "        super().__init__()\n",
    "        self.net = nn.Sequential(\n",
    "            nn.Linear(dim, dim//2),\n",
    "            nn.ReLU(),\n",
    "            nn.Linear(dim//2, 2),\n",
    "        )\n",
    "    def forward(self, x):\n",
    "        out = self.net(x)\n",
    "        return out / (out.norm(dim=-1, keepdim=True) + 1e-8)\n",
    "\n",
    "head = StablePeriodicHead(embed_dim).to(model.device)\n",
    "# 4) overfit head\n",
    "opt = torch.optim.Adam(head.parameters(), lr=1e-2, weight_decay=1e-4)\n",
    "mse = nn.MSELoss()\n",
    "for i in range(100):\n",
    "    opt.zero_grad()\n",
    "    pred = head(z_cat)\n",
    "    loss = mse(pred, y_true)\n",
    "    loss.backward()\n",
    "    opt.step()\n",
    "    if i % 20 == 0:\n",
    "        print(f\"{i:03d}  loss={loss.item():.6f}\")\n"
   ]
  },
  {
   "cell_type": "code",
   "execution_count": null,
   "id": "edafde32",
   "metadata": {},
   "outputs": [
    {
     "name": "stdout",
     "output_type": "stream",
     "text": [
      "000  loss=0.463498\n",
      "020  loss=0.345534\n",
      "040  loss=0.217912\n",
      "060  loss=0.144752\n",
      "080  loss=0.058066\n"
     ]
    }
   ],
   "source": [
    "import torch\n",
    "from torch import nn\n",
    "import torch.nn.functional as F\n",
    "\n",
    "# 1) Tiny MLP head (no unit‐circle divide)\n",
    "class RawPeriodicHead(nn.Module):\n",
    "    def __init__(self, dim):\n",
    "        super().__init__()\n",
    "        self.net = nn.Sequential(\n",
    "            nn.Linear(dim, dim//2),\n",
    "            nn.ReLU(),\n",
    "            nn.Linear(dim//2, 2),\n",
    "        )\n",
    "    def forward(self, x):\n",
    "        return self.net(x)\n",
    "\n",
    "# 2) Overfit that head on one batch\n",
    "batch = next(iter(dm.train_dataloader())).to(model.device)\n",
    "y_flat = batch.y.view(batch.num_graphs, -1)\n",
    "N       = batch.num_graphs // 2\n",
    "y_true  = y_flat.view(N, 2, -1)[:,0,:].to(model.device)\n",
    "\n",
    "with torch.no_grad():\n",
    "    z_all = model._encode_big_batch(batch)\n",
    "z_cat = torch.cat([z_all[0::2], z_all[1::2]], dim=1).detach()\n",
    "\n",
    "head = RawPeriodicHead(z_cat.size(1)).to(model.device)\n",
    "opt  = torch.optim.Adam(head.parameters(), lr=1e-2, weight_decay=1e-4)\n",
    "mse  = nn.MSELoss()\n",
    "\n",
    "for i in range(100):\n",
    "    opt.zero_grad()\n",
    "    pred = head(z_cat)\n",
    "    loss = mse(pred, y_true)\n",
    "    loss.backward()\n",
    "    opt.step()\n",
    "    if i % 20 == 0:\n",
    "        print(f\"{i:03d}  loss={loss.item():.6f}\")\n"
   ]
  },
  {
   "cell_type": "code",
   "execution_count": null,
   "id": "b29795d0",
   "metadata": {},
   "outputs": [
    {
     "name": "stdout",
     "output_type": "stream",
     "text": [
      "train / val / test sizes: 1356 170 170\n"
     ]
    }
   ],
   "source": [
    "# right after dm.setup():\n",
    "print(\"train / val / test sizes:\", \n",
    "      len(dm.train_dataset), len(dm.val_dataset), len(dm.test_dataset))\n"
   ]
  },
  {
   "cell_type": "code",
   "execution_count": null,
   "id": "6cddd02a",
   "metadata": {},
   "outputs": [
    {
     "name": "stdout",
     "output_type": "stream",
     "text": [
      "Linear MSE on train: 0.2482360452413559\n"
     ]
    }
   ],
   "source": [
    "import numpy as np\n",
    "from sklearn.linear_model import LinearRegression\n",
    "from sklearn.metrics import mean_squared_error\n",
    "\n",
    "# 1) collect a matrix Z (N×E) and targets Y (N×2)\n",
    "Z_list, Y_list = [], []\n",
    "for batch in dm.train_dataloader():\n",
    "    batch = batch.to(model.device)\n",
    "    with torch.no_grad():\n",
    "        z_all = model._encode_big_batch(batch)   # (2N, E)\n",
    "    z1 = z_all[0::2].cpu().numpy()              # (N, E)\n",
    "    y_flat = batch.y.view(batch.num_graphs, -1) # (2N, 2)\n",
    "    N = batch.num_graphs // 2\n",
    "    y_true = y_flat.view(N, 2, -1)[:, 0, :].cpu().numpy()  # (N, 2)\n",
    "    Z_list.append(z1)\n",
    "    Y_list.append(y_true)\n",
    "Z = np.vstack(Z_list)\n",
    "Y = np.vstack(Y_list)\n",
    "\n",
    "# 2) fit a simple linear regressor\n",
    "lr = LinearRegression().fit(Z, Y)\n",
    "Y_pred = lr.predict(Z)\n",
    "print(\"Linear MSE on train:\", mean_squared_error(Y, Y_pred))\n"
   ]
  },
  {
   "cell_type": "code",
   "execution_count": null,
   "id": "60c4a10a",
   "metadata": {},
   "outputs": [
    {
     "name": "stdout",
     "output_type": "stream",
     "text": [
      "Encoder embed std per-dim: 0.11434251070022583\n",
      "Min / Max of embed norm: 3.6436684131622314 5.966187477111816\n"
     ]
    }
   ],
   "source": [
    "model.eval()\n",
    "all_embeds = []\n",
    "for batch in dm.train_dataloader():\n",
    "    with torch.no_grad():\n",
    "        z = model._encode_big_batch(batch.to(model.device))\n",
    "        # take just the *first* molecule of each pair\n",
    "        z1 = z[0::2]\n",
    "        all_embeds.append(z1.cpu())\n",
    "all_embeds = torch.cat(all_embeds, dim=0)  # shape (num_samples, embed_dim)\n",
    "print(\"Encoder embed std per-dim:\", all_embeds.std(dim=0).mean().item())\n",
    "print(\"Min / Max of embed norm:\", all_embeds.norm(dim=1).min().item(), all_embeds.norm(dim=1).max().item())\n"
   ]
  },
  {
   "cell_type": "code",
   "execution_count": null,
   "id": "eb4c6ebc",
   "metadata": {},
   "outputs": [
    {
     "name": "stdout",
     "output_type": "stream",
     "text": [
      "step 000  loss=0.529808\n",
      "step 020  loss=0.357654\n",
      "step 040  loss=0.319406\n",
      "step 060  loss=0.284352\n",
      "step 080  loss=0.250473\n",
      "step 100  loss=0.218685\n",
      "step 120  loss=0.190435\n",
      "step 140  loss=0.164865\n",
      "step 160  loss=0.142127\n",
      "step 180  loss=0.120539\n"
     ]
    }
   ],
   "source": [
    "import torch\n",
    "from torch import nn\n",
    "from model import PeriodicHead\n",
    "# 1) Grab one batch and move to device\n",
    "batch = next(iter(dm.train_dataloader()))\n",
    "batch = batch.to(model.device)\n",
    "\n",
    "# 2) Prepare y_true exactly as in your LightningModule\n",
    "y_flat = batch.y.view(batch.num_graphs, -1)      # (2N, D)\n",
    "N      = batch.num_graphs // 2\n",
    "y_true = y_flat.view(N, 2, -1)[:, 0, :]          # (N,2)\n",
    "\n",
    "# 3) Run encoder once to get z_cat\n",
    "#    (we .detach() so the encoder stays frozen later)\n",
    "with torch.no_grad():\n",
    "    z_all = model._encode_big_batch(batch)  # (2N, E)\n",
    "z1    = z_all[0::2]                        # first of each pair -> (N, E)\n",
    "z2    = z_all[1::2]                        # second of each pair -> (N, E)\n",
    "z_cat = torch.cat([z1, z2], dim=1)         # (N, 2E)\n",
    "\n",
    "# 4) Build a fresh head (no unit-circle normalization)\n",
    "input_dim = z_cat.shape[1]\n",
    "head = PeriodicHead(\n",
    "    input_dim=input_dim,\n",
    "    output_dim=2,\n",
    "    hidden_dim=32,\n",
    "    n_layers=1,\n",
    "    dropout=0.0,\n",
    "    use_residual=False\n",
    ").to(model.device)\n",
    "\n",
    "# disable the divide-by-norm step\n",
    "# after you construct your head:\n",
    "def raw_forward(self, x):\n",
    "    return self.net(x)          # <— no divide‐by‐norm\n",
    "\n",
    "# bind it:\n",
    "head.forward = raw_forward.__get__(head, type(head))\n",
    "model.head   = head\n",
    "# 5) Freeze encoder weights so only the head trains\n",
    "for enc in model.encoders:\n",
    "    for p in enc.parameters():\n",
    "        p.requires_grad = False\n",
    "\n",
    "# 6) Set up optimizer & MSE loss on raw sin/cos\n",
    "criterion = nn.MSELoss()\n",
    "optimizer = torch.optim.Adam(head.parameters(), lr=1e-3, weight_decay=0)\n",
    "\n",
    "# 7) Overfit loop on that single batch\n",
    "model.train()\n",
    "for step in range(200):\n",
    "    optimizer.zero_grad()\n",
    "    # forward through just the head—encoder outputs are baked into z_cat\n",
    "    y_pred = head(z_cat)\n",
    "    loss   = criterion(y_pred, y_true)\n",
    "    loss.backward()\n",
    "    optimizer.step()\n",
    "    if step % 20 == 0:\n",
    "        print(f\"step {step:03d}  loss={loss.item():.6f}\")\n"
   ]
  },
  {
   "cell_type": "code",
   "execution_count": null,
   "id": "f7535e5e",
   "metadata": {},
   "outputs": [
    {
     "name": "stdout",
     "output_type": "stream",
     "text": [
      "step 000  loss=0.591795\n",
      "step 020  loss=0.357691\n",
      "step 040  loss=0.316110\n",
      "step 060  loss=0.281011\n",
      "step 080  loss=0.247454\n",
      "step 100  loss=0.215135\n",
      "step 120  loss=0.186938\n",
      "step 140  loss=0.160373\n",
      "step 160  loss=0.138598\n",
      "step 180  loss=0.118414\n"
     ]
    }
   ],
   "source": [
    "class SimpleHead(nn.Module):\n",
    "    def __init__(self, in_dim):\n",
    "        super().__init__()\n",
    "        self.net = nn.Sequential(\n",
    "            nn.Linear(in_dim, 64),\n",
    "            nn.ReLU(),\n",
    "            nn.Linear(64, 2),\n",
    "        )\n",
    "    def forward(self, x):\n",
    "        return self.net(x)\n",
    "\n",
    "head = SimpleHead(z_cat.shape[1]).to(model.device)\n",
    "model.head = head\n",
    "# freeze encoder as before…\n",
    "\n",
    "opt       = torch.optim.Adam(head.parameters(), lr=1e-3)\n",
    "criterion = nn.MSELoss()\n",
    "for step in range(200):\n",
    "    opt.zero_grad()\n",
    "    y_pred = head(z_cat)\n",
    "    loss   = criterion(y_pred, y_true)\n",
    "    loss.backward()\n",
    "    opt.step()\n",
    "    if step % 20 == 0:\n",
    "        print(f\"step {step:03d}  loss={loss.item():.6f}\")\n"
   ]
  },
  {
   "cell_type": "code",
   "execution_count": null,
   "id": "7545ccff",
   "metadata": {},
   "outputs": [
    {
     "name": "stderr",
     "output_type": "stream",
     "text": [
      "You are using the plain ModelCheckpoint callback. Consider using LitModelCheckpoint which with seamless uploading to Model registry.\n",
      "GPU available: True (cuda), used: True\n",
      "TPU available: False, using: 0 TPU cores\n",
      "HPU available: False, using: 0 HPUs\n",
      "/home/calvin/miniforge3/envs/dmpnn_rocm/lib/python3.10/site-packages/torch_geometric/data/dataset.py:240: UserWarning: The `pre_transform` argument differs from the one used in the pre-processed version of this dataset. If you want to make use of another pre-processing technique, pass `force_reload=True` explicitly to reload the dataset.\n",
      "  warnings.warn(\n",
      "/home/calvin/code/vibe_cmpnn/dataset.py:539: UserWarning: std(): degrees of freedom is <= 0. Correction should be strictly less than the reduction factor (input numel divided by output numel). (Triggered internally at /pytorch/aten/src/ATen/native/ReduceOps.cpp:1831.)\n",
      "  self.std  = ys.std(dim=0, unbiased=False).float().clamp(min=1e-12)\n",
      "LOCAL_RANK: 0 - CUDA_VISIBLE_DEVICES: [0]\n",
      "\n",
      "  | Name      | Type          | Params | Mode \n",
      "----------------------------------------------------\n",
      "0 | encoder1  | CMPNNEncoder  | 40.2 M | train\n",
      "1 | encoder2  | CMPNNEncoder  | 40.2 M | train\n",
      "2 | head      | PeriodicHead  | 12.6 M | train\n",
      "3 | metrics   | ModuleDict    | 1      | train\n",
      "4 | criterion | SinCosMSELoss | 0      | train\n",
      "----------------------------------------------------\n",
      "93.0 M    Trainable params\n",
      "0         Non-trainable params\n",
      "93.0 M    Total params\n",
      "371.851   Total estimated model params size (MB)\n",
      "71        Modules in train mode\n",
      "0         Modules in eval mode\n"
     ]
    },
    {
     "data": {
      "application/vnd.jupyter.widget-view+json": {
       "model_id": "d430a479904f4e0b9ca4381dc09b955a",
       "version_major": 2,
       "version_minor": 0
      },
      "text/plain": [
       "Sanity Checking: |          | 0/? [00:00<?, ?it/s]"
      ]
     },
     "metadata": {},
     "output_type": "display_data"
    },
    {
     "name": "stderr",
     "output_type": "stream",
     "text": [
      "/home/calvin/miniforge3/envs/dmpnn_rocm/lib/python3.10/site-packages/pytorch_lightning/loops/fit_loop.py:310: The number of training batches (22) is smaller than the logging interval Trainer(log_every_n_steps=50). Set a lower value for log_every_n_steps if you want to see logs for the training epoch.\n"
     ]
    },
    {
     "data": {
      "application/vnd.jupyter.widget-view+json": {
       "model_id": "6909150e1cba460eabe993895cb57ffc",
       "version_major": 2,
       "version_minor": 0
      },
      "text/plain": [
       "Training: |          | 0/? [00:00<?, ?it/s]"
      ]
     },
     "metadata": {},
     "output_type": "display_data"
    },
    {
     "data": {
      "application/vnd.jupyter.widget-view+json": {
       "model_id": "cce1365e9e484b4e877b32fc44e713d7",
       "version_major": 2,
       "version_minor": 0
      },
      "text/plain": [
       "Validation: |          | 0/? [00:00<?, ?it/s]"
      ]
     },
     "metadata": {},
     "output_type": "display_data"
    },
    {
     "data": {
      "application/vnd.jupyter.widget-view+json": {
       "model_id": "0d181df820d84f7fa4cfeeacdbac0d6c",
       "version_major": 2,
       "version_minor": 0
      },
      "text/plain": [
       "Validation: |          | 0/? [00:00<?, ?it/s]"
      ]
     },
     "metadata": {},
     "output_type": "display_data"
    },
    {
     "data": {
      "application/vnd.jupyter.widget-view+json": {
       "model_id": "5d0c9603b074429bb783fc20c957d1d3",
       "version_major": 2,
       "version_minor": 0
      },
      "text/plain": [
       "Validation: |          | 0/? [00:00<?, ?it/s]"
      ]
     },
     "metadata": {},
     "output_type": "display_data"
    },
    {
     "data": {
      "application/vnd.jupyter.widget-view+json": {
       "model_id": "07c473b09e6a4694b8a2c2962fd3673c",
       "version_major": 2,
       "version_minor": 0
      },
      "text/plain": [
       "Validation: |          | 0/? [00:00<?, ?it/s]"
      ]
     },
     "metadata": {},
     "output_type": "display_data"
    },
    {
     "data": {
      "application/vnd.jupyter.widget-view+json": {
       "model_id": "cbd86f7a98b34379b856169ff3d9bb58",
       "version_major": 2,
       "version_minor": 0
      },
      "text/plain": [
       "Validation: |          | 0/? [00:00<?, ?it/s]"
      ]
     },
     "metadata": {},
     "output_type": "display_data"
    },
    {
     "data": {
      "application/vnd.jupyter.widget-view+json": {
       "model_id": "cdb710e0c2f7480d983462ab52e03f17",
       "version_major": 2,
       "version_minor": 0
      },
      "text/plain": [
       "Validation: |          | 0/? [00:00<?, ?it/s]"
      ]
     },
     "metadata": {},
     "output_type": "display_data"
    },
    {
     "data": {
      "application/vnd.jupyter.widget-view+json": {
       "model_id": "b455210a3b1644b78ed87c49a2cabdd8",
       "version_major": 2,
       "version_minor": 0
      },
      "text/plain": [
       "Validation: |          | 0/? [00:00<?, ?it/s]"
      ]
     },
     "metadata": {},
     "output_type": "display_data"
    },
    {
     "data": {
      "application/vnd.jupyter.widget-view+json": {
       "model_id": "a324fc16203849498413c611511eeec0",
       "version_major": 2,
       "version_minor": 0
      },
      "text/plain": [
       "Validation: |          | 0/? [00:00<?, ?it/s]"
      ]
     },
     "metadata": {},
     "output_type": "display_data"
    },
    {
     "data": {
      "application/vnd.jupyter.widget-view+json": {
       "model_id": "92c9ca02d8a048f6a64bd6ce0f42dd30",
       "version_major": 2,
       "version_minor": 0
      },
      "text/plain": [
       "Validation: |          | 0/? [00:00<?, ?it/s]"
      ]
     },
     "metadata": {},
     "output_type": "display_data"
    },
    {
     "data": {
      "application/vnd.jupyter.widget-view+json": {
       "model_id": "999c395badbf467eb080e1682c3b5ff9",
       "version_major": 2,
       "version_minor": 0
      },
      "text/plain": [
       "Validation: |          | 0/? [00:00<?, ?it/s]"
      ]
     },
     "metadata": {},
     "output_type": "display_data"
    },
    {
     "data": {
      "application/vnd.jupyter.widget-view+json": {
       "model_id": "e0caca2d9658475dbacf80b3f3d323fc",
       "version_major": 2,
       "version_minor": 0
      },
      "text/plain": [
       "Validation: |          | 0/? [00:00<?, ?it/s]"
      ]
     },
     "metadata": {},
     "output_type": "display_data"
    },
    {
     "data": {
      "application/vnd.jupyter.widget-view+json": {
       "model_id": "e4cd5fce9b0c47edadf1ceca0916bff0",
       "version_major": 2,
       "version_minor": 0
      },
      "text/plain": [
       "Validation: |          | 0/? [00:00<?, ?it/s]"
      ]
     },
     "metadata": {},
     "output_type": "display_data"
    },
    {
     "data": {
      "application/vnd.jupyter.widget-view+json": {
       "model_id": "1c12f35c3270453299ba16cc42f674ac",
       "version_major": 2,
       "version_minor": 0
      },
      "text/plain": [
       "Validation: |          | 0/? [00:00<?, ?it/s]"
      ]
     },
     "metadata": {},
     "output_type": "display_data"
    },
    {
     "data": {
      "application/vnd.jupyter.widget-view+json": {
       "model_id": "ac79ba1759554ab29e2a4730c339604c",
       "version_major": 2,
       "version_minor": 0
      },
      "text/plain": [
       "Validation: |          | 0/? [00:00<?, ?it/s]"
      ]
     },
     "metadata": {},
     "output_type": "display_data"
    },
    {
     "data": {
      "application/vnd.jupyter.widget-view+json": {
       "model_id": "515b3ce23b794530af4ddaf98bedb7dc",
       "version_major": 2,
       "version_minor": 0
      },
      "text/plain": [
       "Validation: |          | 0/? [00:00<?, ?it/s]"
      ]
     },
     "metadata": {},
     "output_type": "display_data"
    },
    {
     "data": {
      "application/vnd.jupyter.widget-view+json": {
       "model_id": "97ff84ec73a6432bb3d3b99ad87e64ad",
       "version_major": 2,
       "version_minor": 0
      },
      "text/plain": [
       "Validation: |          | 0/? [00:00<?, ?it/s]"
      ]
     },
     "metadata": {},
     "output_type": "display_data"
    },
    {
     "data": {
      "application/vnd.jupyter.widget-view+json": {
       "model_id": "b183ea1f8a024d419a8e6102780222b3",
       "version_major": 2,
       "version_minor": 0
      },
      "text/plain": [
       "Validation: |          | 0/? [00:00<?, ?it/s]"
      ]
     },
     "metadata": {},
     "output_type": "display_data"
    },
    {
     "data": {
      "application/vnd.jupyter.widget-view+json": {
       "model_id": "549f34716e6c43f38705c53e1f66a521",
       "version_major": 2,
       "version_minor": 0
      },
      "text/plain": [
       "Validation: |          | 0/? [00:00<?, ?it/s]"
      ]
     },
     "metadata": {},
     "output_type": "display_data"
    },
    {
     "data": {
      "application/vnd.jupyter.widget-view+json": {
       "model_id": "3087474706ec401d830ee735ce7bc757",
       "version_major": 2,
       "version_minor": 0
      },
      "text/plain": [
       "Validation: |          | 0/? [00:00<?, ?it/s]"
      ]
     },
     "metadata": {},
     "output_type": "display_data"
    },
    {
     "data": {
      "application/vnd.jupyter.widget-view+json": {
       "model_id": "6b3fcb258a424dd2af7813387d5bebdc",
       "version_major": 2,
       "version_minor": 0
      },
      "text/plain": [
       "Validation: |          | 0/? [00:00<?, ?it/s]"
      ]
     },
     "metadata": {},
     "output_type": "display_data"
    },
    {
     "data": {
      "application/vnd.jupyter.widget-view+json": {
       "model_id": "34b15975993b47969c8724354e76aeb9",
       "version_major": 2,
       "version_minor": 0
      },
      "text/plain": [
       "Validation: |          | 0/? [00:00<?, ?it/s]"
      ]
     },
     "metadata": {},
     "output_type": "display_data"
    },
    {
     "data": {
      "application/vnd.jupyter.widget-view+json": {
       "model_id": "d64cf5707c634138947256cb797a7035",
       "version_major": 2,
       "version_minor": 0
      },
      "text/plain": [
       "Validation: |          | 0/? [00:00<?, ?it/s]"
      ]
     },
     "metadata": {},
     "output_type": "display_data"
    },
    {
     "data": {
      "application/vnd.jupyter.widget-view+json": {
       "model_id": "dcfb4d00f5544754bad9c73abedde362",
       "version_major": 2,
       "version_minor": 0
      },
      "text/plain": [
       "Validation: |          | 0/? [00:00<?, ?it/s]"
      ]
     },
     "metadata": {},
     "output_type": "display_data"
    },
    {
     "data": {
      "application/vnd.jupyter.widget-view+json": {
       "model_id": "ff714e95eb67465f9534c79b884d1156",
       "version_major": 2,
       "version_minor": 0
      },
      "text/plain": [
       "Validation: |          | 0/? [00:00<?, ?it/s]"
      ]
     },
     "metadata": {},
     "output_type": "display_data"
    },
    {
     "data": {
      "application/vnd.jupyter.widget-view+json": {
       "model_id": "2e98daed3fe3403d842022b2d1c7ffde",
       "version_major": 2,
       "version_minor": 0
      },
      "text/plain": [
       "Validation: |          | 0/? [00:00<?, ?it/s]"
      ]
     },
     "metadata": {},
     "output_type": "display_data"
    },
    {
     "data": {
      "application/vnd.jupyter.widget-view+json": {
       "model_id": "f5b3066f2872427b87855c8fa1305f48",
       "version_major": 2,
       "version_minor": 0
      },
      "text/plain": [
       "Validation: |          | 0/? [00:00<?, ?it/s]"
      ]
     },
     "metadata": {},
     "output_type": "display_data"
    },
    {
     "data": {
      "application/vnd.jupyter.widget-view+json": {
       "model_id": "006c76f22d1d48fb99426335ebca62e0",
       "version_major": 2,
       "version_minor": 0
      },
      "text/plain": [
       "Validation: |          | 0/? [00:00<?, ?it/s]"
      ]
     },
     "metadata": {},
     "output_type": "display_data"
    },
    {
     "data": {
      "application/vnd.jupyter.widget-view+json": {
       "model_id": "18f4ee5b5cda4f48b381c2e1fd212b0a",
       "version_major": 2,
       "version_minor": 0
      },
      "text/plain": [
       "Validation: |          | 0/? [00:00<?, ?it/s]"
      ]
     },
     "metadata": {},
     "output_type": "display_data"
    },
    {
     "data": {
      "application/vnd.jupyter.widget-view+json": {
       "model_id": "48eb0bda10ab46bca6e05a337c68aa5e",
       "version_major": 2,
       "version_minor": 0
      },
      "text/plain": [
       "Validation: |          | 0/? [00:00<?, ?it/s]"
      ]
     },
     "metadata": {},
     "output_type": "display_data"
    },
    {
     "data": {
      "application/vnd.jupyter.widget-view+json": {
       "model_id": "48dea8f1fe564737aeeec7beb319f87d",
       "version_major": 2,
       "version_minor": 0
      },
      "text/plain": [
       "Validation: |          | 0/? [00:00<?, ?it/s]"
      ]
     },
     "metadata": {},
     "output_type": "display_data"
    },
    {
     "data": {
      "application/vnd.jupyter.widget-view+json": {
       "model_id": "87a388b642f5478fbadcf18dee16ac1d",
       "version_major": 2,
       "version_minor": 0
      },
      "text/plain": [
       "Validation: |          | 0/? [00:00<?, ?it/s]"
      ]
     },
     "metadata": {},
     "output_type": "display_data"
    },
    {
     "data": {
      "application/vnd.jupyter.widget-view+json": {
       "model_id": "c72982d0020b4fa9909a38abe94a53fe",
       "version_major": 2,
       "version_minor": 0
      },
      "text/plain": [
       "Validation: |          | 0/? [00:00<?, ?it/s]"
      ]
     },
     "metadata": {},
     "output_type": "display_data"
    },
    {
     "data": {
      "application/vnd.jupyter.widget-view+json": {
       "model_id": "acc78a128d35475c9d7067548f89e4fb",
       "version_major": 2,
       "version_minor": 0
      },
      "text/plain": [
       "Validation: |          | 0/? [00:00<?, ?it/s]"
      ]
     },
     "metadata": {},
     "output_type": "display_data"
    },
    {
     "data": {
      "application/vnd.jupyter.widget-view+json": {
       "model_id": "c8a3a972633d406fb8b3999875ad7dcc",
       "version_major": 2,
       "version_minor": 0
      },
      "text/plain": [
       "Validation: |          | 0/? [00:00<?, ?it/s]"
      ]
     },
     "metadata": {},
     "output_type": "display_data"
    },
    {
     "data": {
      "application/vnd.jupyter.widget-view+json": {
       "model_id": "82408f3b9ccf4edebee636cc6a51c8fe",
       "version_major": 2,
       "version_minor": 0
      },
      "text/plain": [
       "Validation: |          | 0/? [00:00<?, ?it/s]"
      ]
     },
     "metadata": {},
     "output_type": "display_data"
    },
    {
     "data": {
      "application/vnd.jupyter.widget-view+json": {
       "model_id": "67ed5b5fe57847aeb8be4377d8bf37cb",
       "version_major": 2,
       "version_minor": 0
      },
      "text/plain": [
       "Validation: |          | 0/? [00:00<?, ?it/s]"
      ]
     },
     "metadata": {},
     "output_type": "display_data"
    },
    {
     "data": {
      "application/vnd.jupyter.widget-view+json": {
       "model_id": "0329c07239e545ca9db675779511e2d3",
       "version_major": 2,
       "version_minor": 0
      },
      "text/plain": [
       "Validation: |          | 0/? [00:00<?, ?it/s]"
      ]
     },
     "metadata": {},
     "output_type": "display_data"
    },
    {
     "data": {
      "application/vnd.jupyter.widget-view+json": {
       "model_id": "95da930052c3467693a78610b109bd8e",
       "version_major": 2,
       "version_minor": 0
      },
      "text/plain": [
       "Validation: |          | 0/? [00:00<?, ?it/s]"
      ]
     },
     "metadata": {},
     "output_type": "display_data"
    },
    {
     "data": {
      "application/vnd.jupyter.widget-view+json": {
       "model_id": "d867226fcb89400f89cb6fcd6f8cfd99",
       "version_major": 2,
       "version_minor": 0
      },
      "text/plain": [
       "Validation: |          | 0/? [00:00<?, ?it/s]"
      ]
     },
     "metadata": {},
     "output_type": "display_data"
    },
    {
     "data": {
      "application/vnd.jupyter.widget-view+json": {
       "model_id": "4687b83d19064a4d822ff578ece54b99",
       "version_major": 2,
       "version_minor": 0
      },
      "text/plain": [
       "Validation: |          | 0/? [00:00<?, ?it/s]"
      ]
     },
     "metadata": {},
     "output_type": "display_data"
    },
    {
     "data": {
      "application/vnd.jupyter.widget-view+json": {
       "model_id": "39093112d2f543edbbfaf6ed69089398",
       "version_major": 2,
       "version_minor": 0
      },
      "text/plain": [
       "Validation: |          | 0/? [00:00<?, ?it/s]"
      ]
     },
     "metadata": {},
     "output_type": "display_data"
    },
    {
     "data": {
      "application/vnd.jupyter.widget-view+json": {
       "model_id": "709a884baf314e4aa2cf076c3d35b036",
       "version_major": 2,
       "version_minor": 0
      },
      "text/plain": [
       "Validation: |          | 0/? [00:00<?, ?it/s]"
      ]
     },
     "metadata": {},
     "output_type": "display_data"
    },
    {
     "data": {
      "application/vnd.jupyter.widget-view+json": {
       "model_id": "fff46fffc8bc492eb1930659b87f3386",
       "version_major": 2,
       "version_minor": 0
      },
      "text/plain": [
       "Validation: |          | 0/? [00:00<?, ?it/s]"
      ]
     },
     "metadata": {},
     "output_type": "display_data"
    },
    {
     "data": {
      "application/vnd.jupyter.widget-view+json": {
       "model_id": "659db3bb5ef74815bf451ab4e1eb40fd",
       "version_major": 2,
       "version_minor": 0
      },
      "text/plain": [
       "Validation: |          | 0/? [00:00<?, ?it/s]"
      ]
     },
     "metadata": {},
     "output_type": "display_data"
    },
    {
     "data": {
      "application/vnd.jupyter.widget-view+json": {
       "model_id": "3c3f71d131fd4993bbc043632ef6620b",
       "version_major": 2,
       "version_minor": 0
      },
      "text/plain": [
       "Validation: |          | 0/? [00:00<?, ?it/s]"
      ]
     },
     "metadata": {},
     "output_type": "display_data"
    },
    {
     "data": {
      "application/vnd.jupyter.widget-view+json": {
       "model_id": "243c479da9124e09af3c67bae7093b73",
       "version_major": 2,
       "version_minor": 0
      },
      "text/plain": [
       "Validation: |          | 0/? [00:00<?, ?it/s]"
      ]
     },
     "metadata": {},
     "output_type": "display_data"
    },
    {
     "data": {
      "application/vnd.jupyter.widget-view+json": {
       "model_id": "4cbe68faa13945b4a726e222c4492f9a",
       "version_major": 2,
       "version_minor": 0
      },
      "text/plain": [
       "Validation: |          | 0/? [00:00<?, ?it/s]"
      ]
     },
     "metadata": {},
     "output_type": "display_data"
    },
    {
     "data": {
      "application/vnd.jupyter.widget-view+json": {
       "model_id": "6903294c439f489c8c75f4cd2d526691",
       "version_major": 2,
       "version_minor": 0
      },
      "text/plain": [
       "Validation: |          | 0/? [00:00<?, ?it/s]"
      ]
     },
     "metadata": {},
     "output_type": "display_data"
    },
    {
     "data": {
      "application/vnd.jupyter.widget-view+json": {
       "model_id": "3053b684f0e844f4ad7a4a8a8d287f8c",
       "version_major": 2,
       "version_minor": 0
      },
      "text/plain": [
       "Validation: |          | 0/? [00:00<?, ?it/s]"
      ]
     },
     "metadata": {},
     "output_type": "display_data"
    },
    {
     "data": {
      "application/vnd.jupyter.widget-view+json": {
       "model_id": "4529ff679f5c4c2faef826513b084587",
       "version_major": 2,
       "version_minor": 0
      },
      "text/plain": [
       "Validation: |          | 0/? [00:00<?, ?it/s]"
      ]
     },
     "metadata": {},
     "output_type": "display_data"
    },
    {
     "name": "stderr",
     "output_type": "stream",
     "text": [
      "`Trainer.fit` stopped: `max_epochs=50` reached.\n"
     ]
    }
   ],
   "source": [
    "\n",
    "# 2) freeze nothing, but build a param group:\n",
    "head_params    = list(model.head.parameters())\n",
    "encoder_params = [p for enc in model.encoders for p in enc.parameters()]\n",
    "\n",
    "optimizer = torch.optim.Adam([\n",
    "    {\"params\": head_params,    \"lr\": 1e-3},\n",
    "    {\"params\": encoder_params, \"lr\": 1e-5},\n",
    "], weight_decay=0)\n",
    "\n",
    "trainer = Trainer(\n",
    "    max_epochs=50,\n",
    "    accelerator=\"gpu\", devices=1,\n",
    "    # skip your scheduler for now\n",
    ")\n",
    "# 3) monkey-patch configure_optimizers to return your optimizer:\n",
    "model.configure_optimizers = lambda: optimizer\n",
    "\n",
    "trainer.fit(model, datamodule=dm)\n"
   ]
  },
  {
   "cell_type": "code",
   "execution_count": null,
   "id": "22cd3097",
   "metadata": {},
   "outputs": [
    {
     "name": "stdout",
     "output_type": "stream",
     "text": [
      "00: loss = 0.544769\n",
      "10: loss = 3.470448\n",
      "20: loss = 1.323049\n",
      "30: loss = 0.422271\n",
      "40: loss = 0.218719\n",
      "50: loss = 0.166360\n",
      "60: loss = 0.148849\n",
      "70: loss = 0.133371\n",
      "80: loss = 0.117203\n",
      "90: loss = 0.106977\n"
     ]
    }
   ],
   "source": [
    "import torch\n",
    "from torch import nn\n",
    "# 1) grab one batch and move it to the right device\n",
    "batch = next(iter(dm.train_dataloader()))\n",
    "batch = batch.to(model.device)\n",
    "\n",
    "# 2) run your encoder to get the 2N embeddings\n",
    "with torch.no_grad():\n",
    "    z_all = model._encode_big_batch(batch)    # shape (2N, E)\n",
    "\n",
    "# 3) split into z1 / z2 and cat to get z_cat\n",
    "z1 = z_all[0::2]   # first of each pair\n",
    "z2 = z_all[1::2]   # second of each pair\n",
    "z_cat = torch.cat([z1, z2], dim=1)  # shape (N, 2E)\n",
    "\n",
    "# 4) pull out the true sin/cos targets from batch.y\n",
    "y_flat  = batch.y.view(batch.num_graphs, -1)      # (2N, D)\n",
    "N       = batch.num_graphs // 2\n",
    "y_true  = y_flat.view(N, 2, -1)[:, 0, :]          # (N, D)\n",
    "# D here should be 2 (sin,cos)\n",
    "\n",
    "assert z_cat.shape[0] == y_true.shape[0]\n",
    "assert y_true.shape[1] == 2\n",
    "\n",
    "# 5) build a fresh linear head + MSELoss\n",
    "head_only = nn.Linear(z_cat.size(1), 2, bias=False).to(model.device)\n",
    "mse       = nn.MSELoss()\n",
    "opt       = torch.optim.Adam(head_only.parameters(), lr=1e-2)\n",
    "\n",
    "# 6) overfit loop\n",
    "for step in range(100):\n",
    "    pred = head_only(z_cat)           # (N,2)\n",
    "    loss = mse(pred, y_true)          # now both are real Tensors\n",
    "    opt.zero_grad()\n",
    "    loss.backward()\n",
    "    opt.step()\n",
    "    if step % 10 == 0:\n",
    "        print(f\"{step:02d}: loss = {loss.item():.6f}\")\n"
   ]
  },
  {
   "cell_type": "code",
   "execution_count": null,
   "id": "8bd78d4f",
   "metadata": {},
   "outputs": [
    {
     "name": "stdout",
     "output_type": "stream",
     "text": [
      "[full model] step 000 loss=0.0987\n",
      "[full model] step 010 loss=1.0604\n",
      "[full model] step 020 loss=0.4667\n",
      "[full model] step 030 loss=0.3105\n",
      "[full model] step 040 loss=0.2737\n",
      "[full model] step 050 loss=0.2518\n",
      "[full model] step 060 loss=0.2335\n",
      "[full model] step 070 loss=0.2218\n",
      "[full model] step 080 loss=0.2115\n",
      "[full model] step 090 loss=0.2031\n"
     ]
    }
   ],
   "source": [
    "# re-attach head and encoder to `model`\n",
    "model.head = head_only\n",
    "for p in model.encoders:\n",
    "    for param in p.parameters():\n",
    "        param.requires_grad = True\n",
    "\n",
    "opt_all = torch.optim.Adam(model.parameters(), lr=1e-3, weight_decay=0.)\n",
    "model.train()\n",
    "for step in range(100):\n",
    "    big_batch = batch.to(model.device)\n",
    "    pred = model(big_batch)\n",
    "    loss = mse(pred, y_true)\n",
    "    opt_all.zero_grad(); loss.backward(); opt_all.step()\n",
    "    if step % 10 == 0:\n",
    "        print(f\"[full model] step {step:03d} loss={loss.item():.4f}\")\n"
   ]
  },
  {
   "cell_type": "code",
   "execution_count": null,
   "id": "eca16a87",
   "metadata": {},
   "outputs": [
    {
     "name": "stdout",
     "output_type": "stream",
     "text": [
      "encoder1.lin_node.0.weight 1.6935406165430322e-05\n",
      "encoder1.lin_node.0.bias 6.365262834151508e-06\n",
      "encoder1.lin_node.1.weight 2.2153367353894282e-06\n",
      "encoder1.lin_node.1.bias 1.61411446697457e-06\n",
      "encoder1.lin_edge.0.weight 4.369194812170463e-06\n",
      "encoder1.lin_edge.0.bias 2.9578864086943213e-06\n",
      "encoder1.lin_edge.1.weight 1.7656564068602165e-06\n",
      "encoder1.lin_edge.1.bias 1.1567643696253072e-06\n",
      "encoder1.lin_x.0.weight 2.4848761270845898e-08\n",
      "encoder1.lin_x.0.bias 8.988881639027113e-09\n",
      "encoder1.lin_x.1.weight 1.5950135656694897e-09\n",
      "encoder1.lin_x.1.bias 1.3284546795944152e-09\n",
      "encoder1.node_updates.0.weight 2.3749449610477313e-05\n",
      "encoder1.node_updates.0.bias 5.412759378486953e-07\n",
      "encoder1.node_updates.1.weight 2.3395825337502174e-05\n",
      "encoder1.node_updates.1.bias 1.5314014945033705e-08\n",
      "encoder1.node_updates.2.weight 0.0002174914989154786\n",
      "encoder1.node_updates.2.bias 2.5086882571301317e-10\n",
      "encoder1.edge_updates.0.weight 2.5356735932291485e-05\n",
      "encoder1.edge_updates.0.bias 3.421060910113738e-07\n",
      "encoder1.edge_updates.1.weight 5.422817775979638e-05\n",
      "encoder1.edge_updates.1.bias 2.357999839830427e-08\n",
      "encoder1.edge_updates.2.weight 0.0009899638826027513\n",
      "encoder1.edge_updates.2.bias 7.62153951061606e-10\n",
      "encoder1.batch_gru.bias 0.0\n",
      "encoder1.batch_gru.gru.weight_ih_l0 0.0\n",
      "encoder1.batch_gru.gru.weight_hh_l0 0.0\n",
      "encoder1.batch_gru.gru.bias_ih_l0 0.0\n",
      "encoder1.batch_gru.gru.bias_hh_l0 0.0\n",
      "encoder1.batch_gru.gru.weight_ih_l0_reverse 0.0\n",
      "encoder1.batch_gru.gru.weight_hh_l0_reverse 0.0\n",
      "encoder1.batch_gru.gru.bias_ih_l0_reverse 0.0\n",
      "encoder1.batch_gru.gru.bias_hh_l0_reverse 0.0\n",
      "encoder1.booster_proj.0.weight 1.701116225660826e-08\n",
      "encoder1.booster_proj.0.bias 2.1244817105525726e-07\n",
      "encoder1.booster_proj.1.weight 1.772852864512231e-09\n",
      "encoder1.booster_proj.1.bias 3.5520866248361926e-09\n",
      "encoder1.final_update.0.weight 0.009220685809850693\n",
      "encoder1.final_update.0.bias 3.87890253250589e-09\n",
      "encoder1.final_update.1.weight 0.0010592967737466097\n",
      "encoder1.final_update.1.bias 0.0006455671391449869\n",
      "encoder1.readout_gru.weight_ih_l0 0.02650841511785984\n",
      "encoder1.readout_gru.weight_hh_l0 0.00857885554432869\n",
      "encoder1.readout_gru.bias_ih_l0 0.0010172915644943714\n",
      "encoder1.readout_gru.bias_hh_l0 0.000666958570946008\n",
      "encoder1.readout_gru.weight_ih_l0_reverse 0.03211216628551483\n",
      "encoder1.readout_gru.weight_hh_l0_reverse 0.008951814845204353\n",
      "encoder1.readout_gru.bias_ih_l0_reverse 0.0012323461705818772\n",
      "encoder1.readout_gru.bias_hh_l0_reverse 0.0006798589020036161\n",
      "encoder2.lin_node.0.weight 0.0022800236474722624\n",
      "encoder2.lin_node.0.bias 0.0008694707066752017\n",
      "encoder2.lin_node.1.weight 9.155095904134214e-05\n",
      "encoder2.lin_node.1.bias 0.00010345848568249494\n",
      "encoder2.lin_edge.0.weight 0.0005243632476776838\n",
      "encoder2.lin_edge.0.bias 0.0003586667880881578\n",
      "encoder2.lin_edge.1.weight 0.0003089946985710412\n",
      "encoder2.lin_edge.1.bias 0.00016184133710339665\n",
      "encoder2.lin_x.0.weight 1.1424666581660858e-06\n",
      "encoder2.lin_x.0.bias 4.5585679231407994e-07\n",
      "encoder2.lin_x.1.weight 1.0410524708959201e-07\n",
      "encoder2.lin_x.1.bias 9.639768450142583e-08\n",
      "encoder2.node_updates.0.weight 0.0017193452222272754\n",
      "encoder2.node_updates.0.bias 4.0377624827669933e-05\n",
      "encoder2.node_updates.1.weight 0.0004652235365938395\n",
      "encoder2.node_updates.1.bias 1.3946305443823803e-06\n",
      "encoder2.node_updates.2.weight 0.0007000274490565062\n",
      "encoder2.node_updates.2.bias 1.0226273161606514e-08\n",
      "encoder2.edge_updates.0.weight 0.0008648972143419087\n",
      "encoder2.edge_updates.0.bias 2.1421254132292233e-05\n",
      "encoder2.edge_updates.1.weight 0.0006992413545958698\n",
      "encoder2.edge_updates.1.bias 8.888754337021965e-07\n",
      "encoder2.edge_updates.2.weight 0.0027336638886481524\n",
      "encoder2.edge_updates.2.bias 3.4830467399160625e-08\n",
      "encoder2.batch_gru.bias 6.638647964685163e-12\n",
      "encoder2.batch_gru.gru.weight_ih_l0 9.146248203251162e-08\n",
      "encoder2.batch_gru.gru.weight_hh_l0 1.3202899884490193e-10\n",
      "encoder2.batch_gru.gru.bias_ih_l0 5.743183706385935e-12\n",
      "encoder2.batch_gru.gru.bias_hh_l0 5.743144241426856e-12\n",
      "encoder2.batch_gru.gru.weight_ih_l0_reverse 5.419524882199767e-07\n",
      "encoder2.batch_gru.gru.weight_hh_l0_reverse 3.255633540533154e-10\n",
      "encoder2.batch_gru.gru.bias_ih_l0_reverse 2.827039817521193e-11\n",
      "encoder2.batch_gru.gru.bias_hh_l0_reverse 2.827039817521193e-11\n",
      "encoder2.booster_proj.0.weight 2.697053389510984e-07\n",
      "encoder2.booster_proj.0.bias 1.3252935104901553e-06\n",
      "encoder2.booster_proj.1.weight 3.453892105653722e-08\n",
      "encoder2.booster_proj.1.bias 5.7182543145017917e-08\n",
      "encoder2.final_update.0.weight 0.0071437545120716095\n",
      "encoder2.final_update.0.bias 1.2519376468844712e-07\n",
      "encoder2.final_update.1.weight 0.000819586799480021\n",
      "encoder2.final_update.1.bias 0.0005193063407205045\n",
      "encoder2.readout_gru.weight_ih_l0 0.01285118144005537\n",
      "encoder2.readout_gru.weight_hh_l0 0.011757833883166313\n",
      "encoder2.readout_gru.bias_ih_l0 0.00047925341641530395\n",
      "encoder2.readout_gru.bias_hh_l0 0.00041348717059008777\n",
      "encoder2.readout_gru.weight_ih_l0_reverse 0.009273914620280266\n",
      "encoder2.readout_gru.weight_hh_l0_reverse 0.005871880333870649\n",
      "encoder2.readout_gru.bias_ih_l0_reverse 0.0003638734051492065\n",
      "encoder2.readout_gru.bias_hh_l0_reverse 0.0002575035614427179\n",
      "head.weight 0.3310436010360718\n"
     ]
    }
   ],
   "source": [
    "for name, param in model.named_parameters():\n",
    "    if param.grad is not None:\n",
    "        print(name, param.grad.norm().item())\n"
   ]
  },
  {
   "cell_type": "code",
   "execution_count": null,
   "id": "52ecf077",
   "metadata": {},
   "outputs": [
    {
     "ename": "KeyboardInterrupt",
     "evalue": "",
     "output_type": "error",
     "traceback": [
      "\u001b[0;31m---------------------------------------------------------------------------\u001b[0m",
      "\u001b[0;31mKeyboardInterrupt\u001b[0m                         Traceback (most recent call last)",
      "Cell \u001b[0;32mIn[26], line 53\u001b[0m\n\u001b[1;32m     51\u001b[0m \u001b[38;5;28;01mfor\u001b[39;00m step \u001b[38;5;129;01min\u001b[39;00m \u001b[38;5;28mrange\u001b[39m(\u001b[38;5;241m100\u001b[39m):\n\u001b[1;32m     52\u001b[0m     optimizer\u001b[38;5;241m.\u001b[39mzero_grad()\n\u001b[0;32m---> 53\u001b[0m     y_pred \u001b[38;5;241m=\u001b[39m \u001b[43mmodel\u001b[49m\u001b[43m(\u001b[49m\u001b[43mbatch\u001b[49m\u001b[43m)\u001b[49m        \u001b[38;5;66;03m# (N,2)\u001b[39;00m\n\u001b[1;32m     54\u001b[0m     loss   \u001b[38;5;241m=\u001b[39m criterion(y_pred, y_true)\n\u001b[1;32m     55\u001b[0m     loss\u001b[38;5;241m.\u001b[39mbackward()\n",
      "File \u001b[0;32m~/miniforge3/envs/dmpnn_rocm/lib/python3.10/site-packages/torch/nn/modules/module.py:1739\u001b[0m, in \u001b[0;36mModule._wrapped_call_impl\u001b[0;34m(self, *args, **kwargs)\u001b[0m\n\u001b[1;32m   1737\u001b[0m     \u001b[38;5;28;01mreturn\u001b[39;00m \u001b[38;5;28mself\u001b[39m\u001b[38;5;241m.\u001b[39m_compiled_call_impl(\u001b[38;5;241m*\u001b[39margs, \u001b[38;5;241m*\u001b[39m\u001b[38;5;241m*\u001b[39mkwargs)  \u001b[38;5;66;03m# type: ignore[misc]\u001b[39;00m\n\u001b[1;32m   1738\u001b[0m \u001b[38;5;28;01melse\u001b[39;00m:\n\u001b[0;32m-> 1739\u001b[0m     \u001b[38;5;28;01mreturn\u001b[39;00m \u001b[38;5;28;43mself\u001b[39;49m\u001b[38;5;241;43m.\u001b[39;49m\u001b[43m_call_impl\u001b[49m\u001b[43m(\u001b[49m\u001b[38;5;241;43m*\u001b[39;49m\u001b[43margs\u001b[49m\u001b[43m,\u001b[49m\u001b[43m \u001b[49m\u001b[38;5;241;43m*\u001b[39;49m\u001b[38;5;241;43m*\u001b[39;49m\u001b[43mkwargs\u001b[49m\u001b[43m)\u001b[49m\n",
      "File \u001b[0;32m~/miniforge3/envs/dmpnn_rocm/lib/python3.10/site-packages/torch/nn/modules/module.py:1750\u001b[0m, in \u001b[0;36mModule._call_impl\u001b[0;34m(self, *args, **kwargs)\u001b[0m\n\u001b[1;32m   1745\u001b[0m \u001b[38;5;66;03m# If we don't have any hooks, we want to skip the rest of the logic in\u001b[39;00m\n\u001b[1;32m   1746\u001b[0m \u001b[38;5;66;03m# this function, and just call forward.\u001b[39;00m\n\u001b[1;32m   1747\u001b[0m \u001b[38;5;28;01mif\u001b[39;00m \u001b[38;5;129;01mnot\u001b[39;00m (\u001b[38;5;28mself\u001b[39m\u001b[38;5;241m.\u001b[39m_backward_hooks \u001b[38;5;129;01mor\u001b[39;00m \u001b[38;5;28mself\u001b[39m\u001b[38;5;241m.\u001b[39m_backward_pre_hooks \u001b[38;5;129;01mor\u001b[39;00m \u001b[38;5;28mself\u001b[39m\u001b[38;5;241m.\u001b[39m_forward_hooks \u001b[38;5;129;01mor\u001b[39;00m \u001b[38;5;28mself\u001b[39m\u001b[38;5;241m.\u001b[39m_forward_pre_hooks\n\u001b[1;32m   1748\u001b[0m         \u001b[38;5;129;01mor\u001b[39;00m _global_backward_pre_hooks \u001b[38;5;129;01mor\u001b[39;00m _global_backward_hooks\n\u001b[1;32m   1749\u001b[0m         \u001b[38;5;129;01mor\u001b[39;00m _global_forward_hooks \u001b[38;5;129;01mor\u001b[39;00m _global_forward_pre_hooks):\n\u001b[0;32m-> 1750\u001b[0m     \u001b[38;5;28;01mreturn\u001b[39;00m \u001b[43mforward_call\u001b[49m\u001b[43m(\u001b[49m\u001b[38;5;241;43m*\u001b[39;49m\u001b[43margs\u001b[49m\u001b[43m,\u001b[49m\u001b[43m \u001b[49m\u001b[38;5;241;43m*\u001b[39;49m\u001b[38;5;241;43m*\u001b[39;49m\u001b[43mkwargs\u001b[49m\u001b[43m)\u001b[49m\n\u001b[1;32m   1752\u001b[0m result \u001b[38;5;241m=\u001b[39m \u001b[38;5;28;01mNone\u001b[39;00m\n\u001b[1;32m   1753\u001b[0m called_always_called_hooks \u001b[38;5;241m=\u001b[39m \u001b[38;5;28mset\u001b[39m()\n",
      "File \u001b[0;32m~/code/vibe_cmpnn/pl_module.py:322\u001b[0m, in \u001b[0;36mMultiCMPNNLitModel.forward\u001b[0;34m(self, big_batch)\u001b[0m\n\u001b[1;32m    315\u001b[0m \u001b[38;5;28;01mdef\u001b[39;00m\u001b[38;5;250m \u001b[39m\u001b[38;5;21mforward\u001b[39m(\u001b[38;5;28mself\u001b[39m, big_batch):\n\u001b[1;32m    316\u001b[0m \u001b[38;5;250m    \u001b[39m\u001b[38;5;124;03m\"\"\"\u001b[39;00m\n\u001b[1;32m    317\u001b[0m \u001b[38;5;124;03m    big_batch : PyG Batch with 2 × N graphs\u001b[39;00m\n\u001b[1;32m    318\u001b[0m \u001b[38;5;124;03m    pair_idx  : LongTensor [2N] holding 0,0,1,1,2,2,…\u001b[39;00m\n\u001b[1;32m    319\u001b[0m \n\u001b[1;32m    320\u001b[0m \u001b[38;5;124;03m    returns   : Tensor [N]  (prediction per pair)\u001b[39;00m\n\u001b[1;32m    321\u001b[0m \u001b[38;5;124;03m    \"\"\"\u001b[39;00m\n\u001b[0;32m--> 322\u001b[0m     z_all \u001b[38;5;241m=\u001b[39m \u001b[38;5;28;43mself\u001b[39;49m\u001b[38;5;241;43m.\u001b[39;49m\u001b[43m_encode_big_batch\u001b[49m\u001b[43m(\u001b[49m\u001b[43mbig_batch\u001b[49m\u001b[43m)\u001b[49m          \u001b[38;5;66;03m# (2N, embed)\u001b[39;00m\n\u001b[1;32m    324\u001b[0m     \u001b[38;5;66;03m# even positions --> first molecule, odd positions --> second molecule\u001b[39;00m\n\u001b[1;32m    325\u001b[0m     z1 \u001b[38;5;241m=\u001b[39m z_all[\u001b[38;5;241m0\u001b[39m::\u001b[38;5;241m2\u001b[39m]          \u001b[38;5;66;03m# shape (N, embed)\u001b[39;00m\n",
      "File \u001b[0;32m~/code/vibe_cmpnn/pl_module.py:364\u001b[0m, in \u001b[0;36mMultiCMPNNLitModel._encode_big_batch\u001b[0;34m(self, batch)\u001b[0m\n\u001b[1;32m    357\u001b[0m \u001b[38;5;66;03m# run both encoders\u001b[39;00m\n\u001b[1;32m    358\u001b[0m z1 \u001b[38;5;241m=\u001b[39m \u001b[38;5;28mself\u001b[39m\u001b[38;5;241m.\u001b[39mencoder1\u001b[38;5;241m.\u001b[39membed(\n\u001b[1;32m    359\u001b[0m     batch\u001b[38;5;241m.\u001b[39mx[nmask1],\n\u001b[1;32m    360\u001b[0m     batch\u001b[38;5;241m.\u001b[39medge_index[:, emask1],           \u001b[38;5;66;03m# indices already start at 0\u001b[39;00m\n\u001b[1;32m    361\u001b[0m     batch\u001b[38;5;241m.\u001b[39medge_attr[emask1],\n\u001b[1;32m    362\u001b[0m     batch\u001b[38;5;241m.\u001b[39mbatch[nmask1],                   \u001b[38;5;66;03m# 0 … N-1\u001b[39;00m\n\u001b[1;32m    363\u001b[0m )\n\u001b[0;32m--> 364\u001b[0m z2 \u001b[38;5;241m=\u001b[39m \u001b[38;5;28;43mself\u001b[39;49m\u001b[38;5;241;43m.\u001b[39;49m\u001b[43mencoder2\u001b[49m\u001b[38;5;241;43m.\u001b[39;49m\u001b[43membed\u001b[49m\u001b[43m(\u001b[49m\n\u001b[1;32m    365\u001b[0m \u001b[43m    \u001b[49m\u001b[43mbatch\u001b[49m\u001b[38;5;241;43m.\u001b[39;49m\u001b[43mx\u001b[49m\u001b[43m[\u001b[49m\u001b[43mnmask2\u001b[49m\u001b[43m]\u001b[49m\u001b[43m,\u001b[49m\n\u001b[1;32m    366\u001b[0m \u001b[43m    \u001b[49m\u001b[43mbatch\u001b[49m\u001b[38;5;241;43m.\u001b[39;49m\u001b[43medge_index\u001b[49m\u001b[43m[\u001b[49m\u001b[43m:\u001b[49m\u001b[43m,\u001b[49m\u001b[43m \u001b[49m\u001b[43memask2\u001b[49m\u001b[43m]\u001b[49m\u001b[43m \u001b[49m\u001b[38;5;241;43m-\u001b[39;49m\u001b[43m \u001b[49m\u001b[43mnode_off\u001b[49m\u001b[43m,\u001b[49m\u001b[43m    \u001b[49m\u001b[38;5;66;43;03m# re-index nodes\u001b[39;49;00m\n\u001b[1;32m    367\u001b[0m \u001b[43m    \u001b[49m\u001b[43mbatch\u001b[49m\u001b[38;5;241;43m.\u001b[39;49m\u001b[43medge_attr\u001b[49m\u001b[43m[\u001b[49m\u001b[43memask2\u001b[49m\u001b[43m]\u001b[49m\u001b[43m,\u001b[49m\n\u001b[1;32m    368\u001b[0m \u001b[43m    \u001b[49m\u001b[43mbatch\u001b[49m\u001b[38;5;241;43m.\u001b[39;49m\u001b[43mbatch\u001b[49m\u001b[43m[\u001b[49m\u001b[43mnmask2\u001b[49m\u001b[43m]\u001b[49m\u001b[43m \u001b[49m\u001b[38;5;241;43m-\u001b[39;49m\u001b[43m \u001b[49m\u001b[43mn_half\u001b[49m\u001b[43m,\u001b[49m\u001b[43m              \u001b[49m\u001b[38;5;66;43;03m# 0 … N-1 again\u001b[39;49;00m\n\u001b[1;32m    369\u001b[0m \u001b[43m\u001b[49m\u001b[43m)\u001b[49m\n\u001b[1;32m    371\u001b[0m \u001b[38;5;66;03m# put them back in graph order (first N graphs, then next N graphs)\u001b[39;00m\n\u001b[1;32m    372\u001b[0m z_all             \u001b[38;5;241m=\u001b[39m torch\u001b[38;5;241m.\u001b[39mempty(\n\u001b[1;32m    373\u001b[0m     (n_graphs_tot, z1\u001b[38;5;241m.\u001b[39msize(\u001b[38;5;241m1\u001b[39m)), dtype\u001b[38;5;241m=\u001b[39mz1\u001b[38;5;241m.\u001b[39mdtype, device\u001b[38;5;241m=\u001b[39mz1\u001b[38;5;241m.\u001b[39mdevice\n\u001b[1;32m    374\u001b[0m )\n",
      "File \u001b[0;32m~/code/vibe_cmpnn/model.py:140\u001b[0m, in \u001b[0;36mCMPNNEncoder.embed\u001b[0;34m(self, x, edge_index, edge_attr, batch)\u001b[0m\n\u001b[1;32m    138\u001b[0m \u001b[38;5;28;01mif\u001b[39;00m inv_idx \u001b[38;5;129;01mis\u001b[39;00m \u001b[38;5;28;01mNone\u001b[39;00m:\n\u001b[1;32m    139\u001b[0m     inv_idx \u001b[38;5;241m=\u001b[39m \u001b[38;5;28mself\u001b[39m\u001b[38;5;241m.\u001b[39m_build_inverse_edges(edge_index, x\u001b[38;5;241m.\u001b[39msize(\u001b[38;5;241m0\u001b[39m))\n\u001b[0;32m--> 140\u001b[0m h_v, h_e \u001b[38;5;241m=\u001b[39m \u001b[38;5;28;43mself\u001b[39;49m\u001b[38;5;241;43m.\u001b[39;49m\u001b[43m_message_passing\u001b[49m\u001b[43m(\u001b[49m\u001b[43mh_v\u001b[49m\u001b[43m,\u001b[49m\u001b[43m \u001b[49m\u001b[43mh_e\u001b[49m\u001b[43m,\u001b[49m\u001b[43m \u001b[49m\u001b[43mh_e0\u001b[49m\u001b[43m,\u001b[49m\u001b[43m \u001b[49m\u001b[43medge_index\u001b[49m\u001b[43m,\u001b[49m\u001b[43m \u001b[49m\u001b[43minv_idx\u001b[49m\u001b[43m,\u001b[49m\u001b[43m \u001b[49m\u001b[43mbatch\u001b[49m\u001b[43m)\u001b[49m\n\u001b[1;32m    141\u001b[0m \u001b[38;5;66;03m# 3) final merge\u001b[39;00m\n\u001b[1;32m    142\u001b[0m h_v \u001b[38;5;241m=\u001b[39m \u001b[38;5;28mself\u001b[39m\u001b[38;5;241m.\u001b[39m_final_merge(h_v, h_e, x, edge_index)\n",
      "File \u001b[0;32m~/code/vibe_cmpnn/model.py:200\u001b[0m, in \u001b[0;36mCMPNNEncoder._message_passing\u001b[0;34m(self, h_v, h_e, h_e0, edge_index, inv_idx, batch)\u001b[0m\n\u001b[1;32m    198\u001b[0m     src, dst \u001b[38;5;241m=\u001b[39m edge_index\n\u001b[1;32m    199\u001b[0m     m_e \u001b[38;5;241m=\u001b[39m h_v[dst] \u001b[38;5;241m-\u001b[39m h_e[inv_idx]\n\u001b[0;32m--> 200\u001b[0m     h_e \u001b[38;5;241m=\u001b[39m F\u001b[38;5;241m.\u001b[39mrelu(h_e0 \u001b[38;5;241m+\u001b[39m \u001b[38;5;28;43mself\u001b[39;49m\u001b[38;5;241;43m.\u001b[39;49m\u001b[43medge_updates\u001b[49m\u001b[43m[\u001b[49m\u001b[43mstep\u001b[49m\u001b[43m]\u001b[49m\u001b[43m(\u001b[49m\u001b[43mm_e\u001b[49m\u001b[43m)\u001b[49m)\n\u001b[1;32m    201\u001b[0m     h_e \u001b[38;5;241m=\u001b[39m \u001b[38;5;28mself\u001b[39m\u001b[38;5;241m.\u001b[39mdropout_mp(h_e)\n\u001b[1;32m    202\u001b[0m \u001b[38;5;66;03m# apply global context booster once after message passing (if enabled)\u001b[39;00m\n",
      "File \u001b[0;32m~/miniforge3/envs/dmpnn_rocm/lib/python3.10/site-packages/torch/nn/modules/module.py:1739\u001b[0m, in \u001b[0;36mModule._wrapped_call_impl\u001b[0;34m(self, *args, **kwargs)\u001b[0m\n\u001b[1;32m   1737\u001b[0m     \u001b[38;5;28;01mreturn\u001b[39;00m \u001b[38;5;28mself\u001b[39m\u001b[38;5;241m.\u001b[39m_compiled_call_impl(\u001b[38;5;241m*\u001b[39margs, \u001b[38;5;241m*\u001b[39m\u001b[38;5;241m*\u001b[39mkwargs)  \u001b[38;5;66;03m# type: ignore[misc]\u001b[39;00m\n\u001b[1;32m   1738\u001b[0m \u001b[38;5;28;01melse\u001b[39;00m:\n\u001b[0;32m-> 1739\u001b[0m     \u001b[38;5;28;01mreturn\u001b[39;00m \u001b[38;5;28;43mself\u001b[39;49m\u001b[38;5;241;43m.\u001b[39;49m\u001b[43m_call_impl\u001b[49m\u001b[43m(\u001b[49m\u001b[38;5;241;43m*\u001b[39;49m\u001b[43margs\u001b[49m\u001b[43m,\u001b[49m\u001b[43m \u001b[49m\u001b[38;5;241;43m*\u001b[39;49m\u001b[38;5;241;43m*\u001b[39;49m\u001b[43mkwargs\u001b[49m\u001b[43m)\u001b[49m\n",
      "File \u001b[0;32m~/miniforge3/envs/dmpnn_rocm/lib/python3.10/site-packages/torch/nn/modules/module.py:1750\u001b[0m, in \u001b[0;36mModule._call_impl\u001b[0;34m(self, *args, **kwargs)\u001b[0m\n\u001b[1;32m   1745\u001b[0m \u001b[38;5;66;03m# If we don't have any hooks, we want to skip the rest of the logic in\u001b[39;00m\n\u001b[1;32m   1746\u001b[0m \u001b[38;5;66;03m# this function, and just call forward.\u001b[39;00m\n\u001b[1;32m   1747\u001b[0m \u001b[38;5;28;01mif\u001b[39;00m \u001b[38;5;129;01mnot\u001b[39;00m (\u001b[38;5;28mself\u001b[39m\u001b[38;5;241m.\u001b[39m_backward_hooks \u001b[38;5;129;01mor\u001b[39;00m \u001b[38;5;28mself\u001b[39m\u001b[38;5;241m.\u001b[39m_backward_pre_hooks \u001b[38;5;129;01mor\u001b[39;00m \u001b[38;5;28mself\u001b[39m\u001b[38;5;241m.\u001b[39m_forward_hooks \u001b[38;5;129;01mor\u001b[39;00m \u001b[38;5;28mself\u001b[39m\u001b[38;5;241m.\u001b[39m_forward_pre_hooks\n\u001b[1;32m   1748\u001b[0m         \u001b[38;5;129;01mor\u001b[39;00m _global_backward_pre_hooks \u001b[38;5;129;01mor\u001b[39;00m _global_backward_hooks\n\u001b[1;32m   1749\u001b[0m         \u001b[38;5;129;01mor\u001b[39;00m _global_forward_hooks \u001b[38;5;129;01mor\u001b[39;00m _global_forward_pre_hooks):\n\u001b[0;32m-> 1750\u001b[0m     \u001b[38;5;28;01mreturn\u001b[39;00m \u001b[43mforward_call\u001b[49m\u001b[43m(\u001b[49m\u001b[38;5;241;43m*\u001b[39;49m\u001b[43margs\u001b[49m\u001b[43m,\u001b[49m\u001b[43m \u001b[49m\u001b[38;5;241;43m*\u001b[39;49m\u001b[38;5;241;43m*\u001b[39;49m\u001b[43mkwargs\u001b[49m\u001b[43m)\u001b[49m\n\u001b[1;32m   1752\u001b[0m result \u001b[38;5;241m=\u001b[39m \u001b[38;5;28;01mNone\u001b[39;00m\n\u001b[1;32m   1753\u001b[0m called_always_called_hooks \u001b[38;5;241m=\u001b[39m \u001b[38;5;28mset\u001b[39m()\n",
      "File \u001b[0;32m~/miniforge3/envs/dmpnn_rocm/lib/python3.10/site-packages/torch/nn/modules/linear.py:125\u001b[0m, in \u001b[0;36mLinear.forward\u001b[0;34m(self, input)\u001b[0m\n\u001b[1;32m    124\u001b[0m \u001b[38;5;28;01mdef\u001b[39;00m\u001b[38;5;250m \u001b[39m\u001b[38;5;21mforward\u001b[39m(\u001b[38;5;28mself\u001b[39m, \u001b[38;5;28minput\u001b[39m: Tensor) \u001b[38;5;241m-\u001b[39m\u001b[38;5;241m>\u001b[39m Tensor:\n\u001b[0;32m--> 125\u001b[0m     \u001b[38;5;28;01mreturn\u001b[39;00m \u001b[43mF\u001b[49m\u001b[38;5;241;43m.\u001b[39;49m\u001b[43mlinear\u001b[49m\u001b[43m(\u001b[49m\u001b[38;5;28;43minput\u001b[39;49m\u001b[43m,\u001b[49m\u001b[43m \u001b[49m\u001b[38;5;28;43mself\u001b[39;49m\u001b[38;5;241;43m.\u001b[39;49m\u001b[43mweight\u001b[49m\u001b[43m,\u001b[49m\u001b[43m \u001b[49m\u001b[38;5;28;43mself\u001b[39;49m\u001b[38;5;241;43m.\u001b[39;49m\u001b[43mbias\u001b[49m\u001b[43m)\u001b[49m\n",
      "\u001b[0;31mKeyboardInterrupt\u001b[0m: "
     ]
    }
   ],
   "source": [
    "import torch\n",
    "from torch import nn\n",
    "\n",
    "# 1) grab one batch & move it to your device\n",
    "batch = next(iter(dm.train_dataloader()))\n",
    "batch = batch.to(model.device)\n",
    "\n",
    "# 2) pull out your sin/cos “ground truth” the same way you do in your LitModule:\n",
    "with torch.no_grad():\n",
    "    y_flat = batch.y.view(batch.num_graphs, -1)      # (2N, D)\n",
    "N = batch.num_graphs // 2\n",
    "y_true = y_flat.view(N, 2, -1)[:, 0, :]             # (N, D), here D==2\n",
    "\n",
    "# 3) compute your embedding dims\n",
    "with torch.no_grad():\n",
    "    z_all = model._encode_big_batch(batch)          # (2N, E)\n",
    "z1 = z_all[0::2]                                    # (N, E)\n",
    "z2 = z_all[1::2]                                    # (N, E)\n",
    "embed_dim = z1.size(1)                              # E\n",
    "head_input_dim = 2 * embed_dim                      # what your head sees\n",
    "# if you used `head_hidden = head_input_dim//2` in your model:\n",
    "head_hidden = head_input_dim // 2                   # or just pick 300\n",
    "\n",
    "# 4) sweep LR & weight‐decay on a fresh head, freezing the encoder\n",
    "lrs = [1e-1, 1e-2, 1e-3, 1e-4]\n",
    "wds = [0.0, 1e-4, 1e-3, 1e-2]\n",
    "\n",
    "best = dict(final_loss=1e9, lr=None, wd=None)\n",
    "from model import PeriodicHead\n",
    "for lr in lrs:\n",
    "    for wd in wds:\n",
    "        # a brand‐new PeriodicHead each time\n",
    "        head = PeriodicHead(\n",
    "            input_dim=head_input_dim,\n",
    "            hidden_dim=head_hidden,\n",
    "            n_layers=2,           # give it a little depth\n",
    "            dropout=0.1,\n",
    "            use_residual=True\n",
    "        ).to(model.device)\n",
    "        model.head = head\n",
    "\n",
    "        # freeze everything except the head\n",
    "        for enc in model.encoders:\n",
    "            for p in enc.parameters():\n",
    "                p.requires_grad = False\n",
    "\n",
    "        optimizer = torch.optim.Adam(model.parameters(), lr=lr, weight_decay=wd)\n",
    "        criterion = nn.MSELoss()\n",
    "\n",
    "        # overfit loop on this one batch\n",
    "        for step in range(100):\n",
    "            optimizer.zero_grad()\n",
    "            y_pred = model(batch)        # (N,2)\n",
    "            loss   = criterion(y_pred, y_true)\n",
    "            loss.backward()\n",
    "            optimizer.step()\n",
    "\n",
    "        if loss.item() < best['final_loss']:\n",
    "            best.update(final_loss=loss.item(), lr=lr, wd=wd)\n",
    "\n",
    "print(\"Best on one batch:\", best)\n"
   ]
  },
  {
   "cell_type": "code",
   "execution_count": null,
   "id": "1838a5cc",
   "metadata": {},
   "outputs": [
    {
     "name": "stdout",
     "output_type": "stream",
     "text": [
      "00 loss=0.7652\n",
      "10 loss=0.6323\n",
      "20 loss=0.6127\n",
      "30 loss=0.5614\n",
      "40 loss=0.5776\n",
      "50 loss=0.5470\n",
      "60 loss=0.4995\n",
      "70 loss=0.4451\n",
      "80 loss=0.3677\n",
      "90 loss=0.3244\n"
     ]
    }
   ],
   "source": [
    "import torch\n",
    "from torch import nn\n",
    "\n",
    "# 1) Grab one batch\n",
    "batch = next(iter(dm.train_dataloader()))\n",
    "batch = batch.to(model.device)\n",
    "\n",
    "# 2) Build y_true exactly as in your module\n",
    "y_flat = batch.y.view(batch.num_graphs, -1)    # (2N, D)\n",
    "N       = batch.num_graphs // 2\n",
    "y_true  = y_flat.view(N, 2, -1)[:, 0, :]      # (N,2)\n",
    "\n",
    "# 3) Freeze encoder and swap in a “trainable but unnormalized” head\n",
    "for enc in model.encoders:\n",
    "    for p in enc.parameters():\n",
    "        p.requires_grad = False\n",
    "\n",
    "model.head.normalize = False  # <— key change\n",
    "optimizer = torch.optim.Adam(model.parameters(), lr=1e-4, weight_decay=1e-4)\n",
    "criterion = nn.MSELoss()\n",
    "\n",
    "# 4) Overfit loop\n",
    "for step in range(100):\n",
    "    optimizer.zero_grad()\n",
    "    y_pred = model(batch)   # now head.forward() skips the unit-circle divide\n",
    "    loss   = criterion(y_pred, y_true)\n",
    "    loss.backward()\n",
    "    optimizer.step()\n",
    "    if step % 10 == 0:\n",
    "        print(f\"{step:02d} loss={loss.item():.4f}\")\n"
   ]
  },
  {
   "cell_type": "code",
   "execution_count": null,
   "id": "fba9b38a",
   "metadata": {},
   "outputs": [
    {
     "name": "stderr",
     "output_type": "stream",
     "text": [
      "/home/calvin/miniforge3/envs/dmpnn_rocm/lib/python3.10/site-packages/torch_geometric/data/dataset.py:240: UserWarning: The `pre_transform` argument differs from the one used in the pre-processed version of this dataset. If you want to make use of another pre-processing technique, pass `force_reload=True` explicitly to reload the dataset.\n",
      "  warnings.warn(\n"
     ]
    },
    {
     "name": "stderr",
     "output_type": "stream",
     "text": [
      "/home/calvin/code/vibe_cmpnn/dataset.py:539: UserWarning: std(): degrees of freedom is <= 0. Correction should be strictly less than the reduction factor (input numel divided by output numel). (Triggered internally at /pytorch/aten/src/ATen/native/ReduceOps.cpp:1831.)\n",
      "  self.std  = ys.std(dim=0, unbiased=False).float().clamp(min=1e-12)\n",
      "/home/calvin/miniforge3/envs/dmpnn_rocm/lib/python3.10/site-packages/pytorch_lightning/callbacks/model_checkpoint.py:654: Checkpoint directory tb_logs/cmpnn/version_112/checkpoints exists and is not empty.\n",
      "LOCAL_RANK: 0 - CUDA_VISIBLE_DEVICES: [0]\n",
      "/home/calvin/miniforge3/envs/dmpnn_rocm/lib/python3.10/site-packages/pytorch_lightning/loops/fit_loop.py:310: The number of training batches (22) is smaller than the logging interval Trainer(log_every_n_steps=50). Set a lower value for log_every_n_steps if you want to see logs for the training epoch.\n",
      "`Trainer.fit` stopped: `max_epochs=300` reached.\n",
      "LR finder stopped early after 242 steps due to diverging loss.\n",
      "Failed to compute suggestion for learning rate because there are not enough points. Increase the loop iteration limits or the size of your dataset/dataloader.\n",
      "Restoring states from the checkpoint path at /home/calvin/code/vibe_cmpnn/.lr_find_fc613d33-6629-45ee-a155-000b426bbdfb.ckpt\n",
      "Restored all states from the checkpoint at /home/calvin/code/vibe_cmpnn/.lr_find_fc613d33-6629-45ee-a155-000b426bbdfb.ckpt\n"
     ]
    }
   ],
   "source": [
    "from pytorch_lightning.tuner.tuning import Tuner\n",
    "\n",
    "\n",
    "# create a Tuner wrapping your existing Trainer\n",
    "tuner = Tuner(trainer)\n",
    "\n",
    "# run the LR finder\n",
    "lr_finder = tuner.lr_find(\n",
    "    model,\n",
    "    datamodule=dm,\n",
    "    # optional: specify a range\n",
    "    min_lr=1e-6,\n",
    "    max_lr=10,\n",
    "    num_training=1000,       # how many steps to run\n",
    ")\n"
   ]
  },
  {
   "cell_type": "code",
   "execution_count": null,
   "id": "fa2e0653",
   "metadata": {},
   "outputs": [
    {
     "name": "stderr",
     "output_type": "stream",
     "text": [
      "You are using the plain ModelCheckpoint callback. Consider using LitModelCheckpoint which with seamless uploading to Model registry.\n",
      "GPU available: True (cuda), used: True\n",
      "TPU available: False, using: 0 TPU cores\n",
      "HPU available: False, using: 0 HPUs\n",
      "`Trainer(limit_train_batches=1)` was configured so 1 batch per epoch will be used.\n"
     ]
    },
    {
     "name": "stderr",
     "output_type": "stream",
     "text": [
      "/home/calvin/miniforge3/envs/dmpnn_rocm/lib/python3.10/site-packages/torch_geometric/data/dataset.py:240: UserWarning: The `pre_transform` argument differs from the one used in the pre-processed version of this dataset. If you want to make use of another pre-processing technique, pass `force_reload=True` explicitly to reload the dataset.\n",
      "  warnings.warn(\n",
      "/home/calvin/code/vibe_cmpnn/dataset.py:539: UserWarning: std(): degrees of freedom is <= 0. Correction should be strictly less than the reduction factor (input numel divided by output numel). (Triggered internally at /pytorch/aten/src/ATen/native/ReduceOps.cpp:1831.)\n",
      "  self.std  = ys.std(dim=0, unbiased=False).float().clamp(min=1e-12)\n",
      "LOCAL_RANK: 0 - CUDA_VISIBLE_DEVICES: [0]\n",
      "\n",
      "  | Name      | Type         | Params | Mode \n",
      "---------------------------------------------------\n",
      "0 | encoder1  | CMPNNEncoder | 3.5 M  | train\n",
      "1 | encoder2  | CMPNNEncoder | 3.5 M  | train\n",
      "2 | head      | PeriodicHead | 721 K  | train\n",
      "3 | metrics   | ModuleDict   | 1      | train\n",
      "4 | criterion | AngularError | 1      | train\n",
      "---------------------------------------------------\n",
      "7.8 M     Trainable params\n",
      "0         Non-trainable params\n",
      "7.8 M     Total params\n",
      "31.034    Total estimated model params size (MB)\n",
      "69        Modules in train mode\n",
      "0         Modules in eval mode\n",
      "/home/calvin/miniforge3/envs/dmpnn_rocm/lib/python3.10/site-packages/pytorch_lightning/loops/fit_loop.py:310: The number of training batches (1) is smaller than the logging interval Trainer(log_every_n_steps=50). Set a lower value for log_every_n_steps if you want to see logs for the training epoch.\n"
     ]
    },
    {
     "data": {
      "application/vnd.jupyter.widget-view+json": {
       "model_id": "936631582fd147bfaed733c916135272",
       "version_major": 2,
       "version_minor": 0
      },
      "text/plain": [
       "Training: |          | 0/? [00:00<?, ?it/s]"
      ]
     },
     "metadata": {},
     "output_type": "display_data"
    },
    {
     "name": "stderr",
     "output_type": "stream",
     "text": [
      "`Trainer.fit` stopped: `max_epochs=100` reached.\n"
     ]
    }
   ],
   "source": [
    "from pytorch_lightning import Trainer\n",
    "\n",
    "trainer = Trainer(\n",
    "    max_epochs=100,           # run 100 “epochs”\n",
    "    limit_train_batches=1,    # only 1 batch from the train loader each epoch\n",
    "    limit_val_batches=0,      # skip validation entirely\n",
    "    accelerator=\"gpu\",\n",
    "    devices=1,\n",
    ")\n",
    "\n",
    "# this uses your existing train_dataloader, but only that first batch every epoch\n",
    "trainer.fit(model, datamodule=dm)\n"
   ]
  },
  {
   "cell_type": "code",
   "execution_count": null,
   "id": "4fe8ab90",
   "metadata": {},
   "outputs": [
    {
     "name": "stderr",
     "output_type": "stream",
     "text": [
      "/home/calvin/miniforge3/envs/dmpnn_rocm/lib/python3.10/site-packages/pytorch_lightning/core/module.py:441: You are trying to `self.log()` but the `self.trainer` reference is not registered on the model yet. This is most likely because the model hasn't been passed to the `Trainer`\n"
     ]
    },
    {
     "name": "stdout",
     "output_type": "stream",
     "text": [
      "step 00  loss=1.4700  grad_norm=13.0571\n",
      "step 01  loss=1.5932  grad_norm=1.5689\n",
      "step 02  loss=1.6042  grad_norm=1.2718\n",
      "step 03  loss=1.5837  grad_norm=1.1515\n",
      "step 04  loss=1.5987  grad_norm=1.0577\n",
      "step 05  loss=1.5557  grad_norm=1.2467\n",
      "step 06  loss=1.5695  grad_norm=1.4891\n",
      "step 07  loss=1.5098  grad_norm=1.1657\n",
      "step 08  loss=1.4652  grad_norm=1.5627\n",
      "step 09  loss=1.4220  grad_norm=1.1377\n",
      "step 10  loss=1.3434  grad_norm=1.3483\n",
      "step 11  loss=1.3003  grad_norm=0.9090\n",
      "step 12  loss=1.2764  grad_norm=0.8490\n",
      "step 13  loss=1.2873  grad_norm=0.5649\n",
      "step 14  loss=1.2756  grad_norm=0.5676\n",
      "step 15  loss=1.2875  grad_norm=0.5902\n",
      "step 16  loss=1.3122  grad_norm=0.5893\n",
      "step 17  loss=1.2940  grad_norm=0.6657\n",
      "step 18  loss=1.2726  grad_norm=0.6003\n",
      "step 19  loss=1.2866  grad_norm=0.5039\n",
      "step 20  loss=1.2963  grad_norm=0.5724\n",
      "step 21  loss=1.3024  grad_norm=0.5607\n",
      "step 22  loss=1.2861  grad_norm=0.4903\n",
      "step 23  loss=1.2867  grad_norm=0.7463\n",
      "step 24  loss=1.2913  grad_norm=0.5683\n",
      "step 25  loss=1.2591  grad_norm=0.5269\n",
      "step 26  loss=1.2914  grad_norm=0.5094\n",
      "step 27  loss=1.2610  grad_norm=0.5088\n",
      "step 28  loss=1.2811  grad_norm=0.5571\n",
      "step 29  loss=1.2707  grad_norm=0.5812\n",
      "step 30  loss=1.2576  grad_norm=0.5585\n",
      "step 31  loss=1.2556  grad_norm=0.4808\n",
      "step 32  loss=1.2917  grad_norm=0.5135\n",
      "step 33  loss=1.2675  grad_norm=0.4324\n",
      "step 34  loss=1.2660  grad_norm=0.4871\n",
      "step 35  loss=1.2597  grad_norm=0.4554\n",
      "step 36  loss=1.2604  grad_norm=0.5331\n",
      "step 37  loss=1.2556  grad_norm=0.5000\n",
      "step 38  loss=1.2780  grad_norm=0.5734\n",
      "step 39  loss=1.2777  grad_norm=0.7624\n",
      "step 40  loss=1.2432  grad_norm=0.6835\n",
      "step 41  loss=1.2518  grad_norm=1.2610\n",
      "step 42  loss=1.2179  grad_norm=1.0909\n",
      "step 43  loss=1.2143  grad_norm=0.6613\n",
      "step 44  loss=1.2617  grad_norm=1.1360\n",
      "step 45  loss=1.2386  grad_norm=0.9849\n",
      "step 46  loss=1.2227  grad_norm=0.8191\n",
      "step 47  loss=1.2081  grad_norm=0.9514\n",
      "step 48  loss=1.2279  grad_norm=0.9961\n",
      "step 49  loss=1.1908  grad_norm=1.0235\n"
     ]
    }
   ],
   "source": [
    "# 1) Grab one batch\n",
    "batch = next(iter(dm.train_dataloader()))\n",
    "\n",
    "# 2) Grab your optimizer (no scheduler)\n",
    "opt = torch.optim.Adam(model.parameters(), lr=1e-3, weight_decay=model.weight_decay)\n",
    "\n",
    "model.train()\n",
    "for step in range(50):\n",
    "    opt.zero_grad()\n",
    "    # forward + loss\n",
    "    loss = model.training_step(batch, 0)   # returns a Tensor\n",
    "    loss.backward()\n",
    "    \n",
    "    # compute total gradient norm\n",
    "    total_norm = 0.0\n",
    "    for p in model.parameters():\n",
    "        if p.grad is not None:\n",
    "            total_norm += p.grad.data.norm()**2\n",
    "    total_norm = total_norm**0.5\n",
    "\n",
    "    print(f\"step {step:02d}  loss={loss.item():.4f}  grad_norm={total_norm:.4f}\")\n",
    "    \n",
    "    opt.step()\n"
   ]
  },
  {
   "cell_type": "code",
   "execution_count": null,
   "id": "517c1905",
   "metadata": {},
   "outputs": [
    {
     "ename": "AttributeError",
     "evalue": "'bool' object has no attribute 'any'",
     "output_type": "error",
     "traceback": [
      "\u001b[0;31m---------------------------------------------------------------------------\u001b[0m",
      "\u001b[0;31mAttributeError\u001b[0m                            Traceback (most recent call last)",
      "Cell \u001b[0;32mIn[28], line 9\u001b[0m\n\u001b[1;32m      6\u001b[0m y_true \u001b[38;5;241m=\u001b[39m y_flat\u001b[38;5;241m.\u001b[39mview(N, \u001b[38;5;241m2\u001b[39m, \u001b[38;5;241m-\u001b[39m\u001b[38;5;241m1\u001b[39m)[:, \u001b[38;5;241m0\u001b[39m, :]           \u001b[38;5;66;03m# (N, D)\u001b[39;00m\n\u001b[1;32m      8\u001b[0m \u001b[38;5;66;03m# compute mask of valid rows\u001b[39;00m\n\u001b[0;32m----> 9\u001b[0m valid \u001b[38;5;241m=\u001b[39m \u001b[38;5;241m~\u001b[39m\u001b[43m(\u001b[49m\u001b[43my_true\u001b[49m\u001b[43m \u001b[49m\u001b[38;5;241;43m==\u001b[39;49m\u001b[43m \u001b[49m\u001b[43mmodel\u001b[49m\u001b[38;5;241;43m.\u001b[39;49m\u001b[43mhparams\u001b[49m\u001b[38;5;241;43m.\u001b[39;49m\u001b[43mignore_val\u001b[49m\u001b[43m)\u001b[49m\u001b[38;5;241;43m.\u001b[39;49m\u001b[43many\u001b[49m(dim\u001b[38;5;241m=\u001b[39m\u001b[38;5;241m1\u001b[39m)  \u001b[38;5;66;03m# (N,)\u001b[39;00m\n\u001b[1;32m     10\u001b[0m \u001b[38;5;28mprint\u001b[39m(\u001b[38;5;124mf\u001b[39m\u001b[38;5;124m\"\u001b[39m\u001b[38;5;132;01m{\u001b[39;00mvalid\u001b[38;5;241m.\u001b[39msum()\u001b[38;5;241m.\u001b[39mitem()\u001b[38;5;132;01m}\u001b[39;00m\u001b[38;5;124m valid samples out of \u001b[39m\u001b[38;5;132;01m{\u001b[39;00m\u001b[38;5;28mlen\u001b[39m(valid)\u001b[38;5;132;01m}\u001b[39;00m\u001b[38;5;124m in that batch\u001b[39m\u001b[38;5;124m\"\u001b[39m)\n",
      "\u001b[0;31mAttributeError\u001b[0m: 'bool' object has no attribute 'any'"
     ]
    }
   ],
   "source": [
    "# unpack one batch\n",
    "batch = next(iter(dm.train_dataloader()))\n",
    "y_pred = model(batch)                            # (B, 2)\n",
    "y_flat = batch.y.view(batch.num_graphs, -1)      # (2N, D)\n",
    "N      = batch.num_graphs//2\n",
    "y_true = y_flat.view(N, 2, -1)[:, 0, :]           # (N, D)\n",
    "\n",
    "# compute mask of valid rows\n",
    "valid = ~(y_true == model.hparams.ignore_val).any(dim=1)  # (N,)\n",
    "print(f\"{valid.sum().item()} valid samples out of {len(valid)} in that batch\")"
   ]
  },
  {
   "cell_type": "code",
   "execution_count": null,
   "id": "a28b8bf9",
   "metadata": {},
   "outputs": [
    {
     "name": "stdout",
     "output_type": "stream",
     "text": [
      "step 00  loss=0.5307\n",
      "step 01  loss=3.2688\n",
      "step 02  loss=0.6746\n",
      "step 03  loss=0.6431\n",
      "step 04  loss=0.8190\n",
      "step 05  loss=0.6187\n",
      "step 06  loss=0.4547\n",
      "step 07  loss=0.5073\n",
      "step 08  loss=0.5728\n",
      "step 09  loss=0.5199\n",
      "step 10  loss=0.4460\n",
      "step 11  loss=0.4350\n",
      "step 12  loss=0.4670\n",
      "step 13  loss=0.4883\n",
      "step 14  loss=0.4589\n",
      "step 15  loss=0.4256\n",
      "step 16  loss=0.4093\n",
      "step 17  loss=0.4165\n",
      "step 18  loss=0.4244\n",
      "step 19  loss=0.4199\n",
      "step 20  loss=0.4028\n",
      "step 21  loss=0.3928\n",
      "step 22  loss=0.3923\n",
      "step 23  loss=0.3889\n",
      "step 24  loss=0.3763\n",
      "step 25  loss=0.3786\n",
      "step 26  loss=0.3890\n",
      "step 27  loss=0.3723\n",
      "step 28  loss=0.3604\n",
      "step 29  loss=0.3644\n",
      "step 30  loss=0.3504\n",
      "step 31  loss=0.3583\n",
      "step 32  loss=0.3501\n",
      "step 33  loss=0.3503\n",
      "step 34  loss=0.3336\n",
      "step 35  loss=0.3408\n",
      "step 36  loss=0.3391\n",
      "step 37  loss=0.3334\n",
      "step 38  loss=0.3360\n",
      "step 39  loss=0.3367\n",
      "step 40  loss=0.3271\n",
      "step 41  loss=0.3249\n",
      "step 42  loss=0.3269\n",
      "step 43  loss=0.3224\n",
      "step 44  loss=0.3156\n",
      "step 45  loss=0.3008\n",
      "step 46  loss=0.3047\n",
      "step 47  loss=0.3066\n",
      "step 48  loss=0.3079\n",
      "step 49  loss=0.3024\n"
     ]
    }
   ],
   "source": [
    "import torch.nn as nn\n",
    "from torch.nn import MSELoss\n",
    "\n",
    "# stash originals\n",
    "orig_head      = model.head\n",
    "orig_criterion = model.criterion\n",
    "\n",
    "# replace with linear head + MSE\n",
    "head_in = orig_head.net.input_dim  # same dimensionality\n",
    "model.head      = nn.Linear(head_in, 2).to(model.device)\n",
    "model.criterion = MSELoss()\n",
    "\n",
    "# overfit loop again\n",
    "opt = torch.optim.Adam(model.parameters(), lr=1e-3, weight_decay=0)\n",
    "model.train()\n",
    "for step in range(50):\n",
    "    opt.zero_grad()\n",
    "    loss = model.training_step(batch, 0)\n",
    "    loss.backward()\n",
    "    opt.step()\n",
    "    print(f\"step {step:02d}  loss={loss.item():.4f}\")\n",
    "\n",
    "# restore\n",
    "model.head      = orig_head\n",
    "model.criterion = orig_criterion\n"
   ]
  },
  {
   "cell_type": "code",
   "execution_count": null,
   "id": "d4a45d4c",
   "metadata": {},
   "outputs": [
    {
     "name": "stderr",
     "output_type": "stream",
     "text": [
      "/home/calvin/miniforge3/envs/dmpnn_rocm/lib/python3.10/site-packages/torch_geometric/data/dataset.py:240: UserWarning: The `pre_transform` argument differs from the one used in the pre-processed version of this dataset. If you want to make use of another pre-processing technique, pass `force_reload=True` explicitly to reload the dataset.\n",
      "  warnings.warn(\n",
      "/home/calvin/code/vibe_cmpnn/dataset.py:523: UserWarning: std(): degrees of freedom is <= 0. Correction should be strictly less than the reduction factor (input numel divided by output numel). (Triggered internally at /pytorch/aten/src/ATen/native/ReduceOps.cpp:1831.)\n",
      "  self.std  = ys.std(dim=0, unbiased=False).float().clamp(min=1e-12)\n",
      "LOCAL_RANK: 0 - CUDA_VISIBLE_DEVICES: [0]\n"
     ]
    },
    {
     "data": {
      "application/vnd.jupyter.widget-view+json": {
       "model_id": "045b4dfdd8f34fabbbf6d2f32bbcf8fa",
       "version_major": 2,
       "version_minor": 0
      },
      "text/plain": [
       "Testing: |          | 0/? [00:00<?, ?it/s]"
      ]
     },
     "metadata": {},
     "output_type": "display_data"
    },
    {
     "name": "stdout",
     "output_type": "stream",
     "text": [
      "[DEBUG] z_graph: mean=-0.005036900285631418, std=0.5861964225769043, norm=14.244894981384277\n",
      "[DEBUG] z_global: mean=-0.006732393987476826, std=0.5958136320114136, norm=14.575729370117188\n",
      "[z_cat stats] -0.005884646438062191 0.5909978151321411 22.228364944458008\n",
      "[DEBUG] angular_error ignoring value -10\n",
      "SHAPE: torch.Size([7, 2]), torch.Size([7, 2])\n",
      "SHAPE: torch.Size([7])\n",
      "SHAPE: torch.Size([7])\n",
      "[DEBUG LOSS] test core=0.6491, penalty=0.0000, total=0.6491\n"
     ]
    },
    {
     "data": {
      "text/html": [
       "<pre style=\"white-space:pre;overflow-x:auto;line-height:normal;font-family:Menlo,'DejaVu Sans Mono',consolas,'Courier New',monospace\">┏━━━━━━━━━━━━━━━━━━━━━━━━━━━┳━━━━━━━━━━━━━━━━━━━━━━━━━━━┓\n",
       "┃<span style=\"font-weight: bold\">        Test metric        </span>┃<span style=\"font-weight: bold\">       DataLoader 0        </span>┃\n",
       "┡━━━━━━━━━━━━━━━━━━━━━━━━━━━╇━━━━━━━━━━━━━━━━━━━━━━━━━━━┩\n",
       "│<span style=\"color: #008080; text-decoration-color: #008080\">         test_loss         </span>│<span style=\"color: #800080; text-decoration-color: #800080\">    0.6491351127624512     </span>│\n",
       "└───────────────────────────┴───────────────────────────┘\n",
       "</pre>\n"
      ],
      "text/plain": [
       "┏━━━━━━━━━━━━━━━━━━━━━━━━━━━┳━━━━━━━━━━━━━━━━━━━━━━━━━━━┓\n",
       "┃\u001b[1m \u001b[0m\u001b[1m       Test metric       \u001b[0m\u001b[1m \u001b[0m┃\u001b[1m \u001b[0m\u001b[1m      DataLoader 0       \u001b[0m\u001b[1m \u001b[0m┃\n",
       "┡━━━━━━━━━━━━━━━━━━━━━━━━━━━╇━━━━━━━━━━━━━━━━━━━━━━━━━━━┩\n",
       "│\u001b[36m \u001b[0m\u001b[36m        test_loss        \u001b[0m\u001b[36m \u001b[0m│\u001b[35m \u001b[0m\u001b[35m   0.6491351127624512    \u001b[0m\u001b[35m \u001b[0m│\n",
       "└───────────────────────────┴───────────────────────────┘\n"
      ]
     },
     "metadata": {},
     "output_type": "display_data"
    },
    {
     "data": {
      "text/plain": [
       "[{'test_loss': 0.6491351127624512}]"
      ]
     },
     "execution_count": 60,
     "metadata": {},
     "output_type": "execute_result"
    }
   ],
   "source": [
    "trainer.test(\n",
    "    model,\n",
    "    datamodule=dm,\n",
    "    ckpt_path=None,\n",
    ")"
   ]
  },
  {
   "cell_type": "code",
   "execution_count": null,
   "id": "8ec8444a",
   "metadata": {},
   "outputs": [
    {
     "name": "stderr",
     "output_type": "stream",
     "text": [
      "/home/calvin/miniforge3/envs/dmpnn_rocm/lib/python3.10/site-packages/torch_geometric/data/dataset.py:240: UserWarning: The `pre_transform` argument differs from the one used in the pre-processed version of this dataset. If you want to make use of another pre-processing technique, pass `force_reload=True` explicitly to reload the dataset.\n",
      "  warnings.warn(\n",
      "/home/calvin/code/vibe_cmpnn/dataset.py:523: UserWarning: std(): degrees of freedom is <= 0. Correction should be strictly less than the reduction factor (input numel divided by output numel). (Triggered internally at /pytorch/aten/src/ATen/native/ReduceOps.cpp:1831.)\n",
      "  self.std  = ys.std(dim=0, unbiased=False).float().clamp(min=1e-12)\n",
      "LOCAL_RANK: 0 - CUDA_VISIBLE_DEVICES: [0]\n"
     ]
    },
    {
     "data": {
      "application/vnd.jupyter.widget-view+json": {
       "model_id": "b7ecb667fe3946f1a2af2d4a12598d9b",
       "version_major": 2,
       "version_minor": 0
      },
      "text/plain": [
       "Predicting: |          | 0/? [00:00<?, ?it/s]"
      ]
     },
     "metadata": {},
     "output_type": "display_data"
    },
    {
     "name": "stdout",
     "output_type": "stream",
     "text": [
      "[DEBUG] z_graph: mean=-0.005036898888647556, std=0.5861963629722595, norm=14.244893074035645\n",
      "[DEBUG] z_global: mean=-0.006732393987476826, std=0.5958136320114136, norm=14.575729370117188\n",
      "[z_cat stats] -0.005884646438062191 0.5909978151321411 22.228364944458008\n",
      "tensor([353.3131, 353.4437, 353.0035, 353.6177, 354.1756, 351.9063, 352.0171,\n",
      "        351.9905, 351.9977])\n"
     ]
    }
   ],
   "source": [
    "preds = trainer.predict(model, datamodule=dm)  # list[ Tensor[N_i] ]\n",
    "all_preds = torch.cat(preds, dim=0)          # Tensor[181]\n",
    "print(all_preds)"
   ]
  },
  {
   "cell_type": "code",
   "execution_count": null,
   "id": "a580a946",
   "metadata": {},
   "outputs": [
    {
     "data": {
      "text/plain": [
       "torch.Size([181])"
      ]
     },
     "execution_count": 60,
     "metadata": {},
     "output_type": "execute_result"
    }
   ],
   "source": [
    "all_preds.shape"
   ]
  },
  {
   "cell_type": "code",
   "execution_count": null,
   "id": "082862ae",
   "metadata": {},
   "outputs": [],
   "source": [
    "# Collect all test_dataloader y\n",
    "true_y = []\n",
    "for batch in test_loader:\n",
    "    # Only take every second y\n",
    "    true_y.append(batch.y[::2])  # Tensor[64, 2]\n",
    "true_y = torch.cat(true_y, dim=0)  # Tensor[181, 2]"
   ]
  },
  {
   "cell_type": "code",
   "execution_count": null,
   "id": "3a20758a",
   "metadata": {},
   "outputs": [
    {
     "data": {
      "text/plain": [
       "torch.Size([181, 2])"
      ]
     },
     "execution_count": 64,
     "metadata": {},
     "output_type": "execute_result"
    }
   ],
   "source": [
    "true_y.shape"
   ]
  },
  {
   "cell_type": "code",
   "execution_count": null,
   "id": "61b2d13a",
   "metadata": {},
   "outputs": [
    {
     "name": "stdout",
     "output_type": "stream",
     "text": [
      "tensor([   -10.0000,    332.0890,     49.8532,     37.7229,     46.3269,\n",
      "           217.7069,    299.2800,    343.3428,    340.4858,    328.5795,\n",
      "           150.8692,     46.5301,     84.0576,    282.9548,    328.9590,\n",
      "           218.9244,    346.9791,    119.1237,    131.3261,     65.4235,\n",
      "           220.9652,     16.2020,     21.3853,    119.8216,    350.2300,\n",
      "           239.8332,    179.7326,    179.9942,    357.0247,    276.2914,\n",
      "           282.2538,    346.2236,     43.0225,      7.6281,     39.1450,\n",
      "           236.5552,    283.5990,    204.6917,    355.4701,     40.4915,\n",
      "           303.7410,    350.4498,     31.7037,    325.5664,     90.0605,\n",
      "            62.1747,     18.6538,    321.3817,    339.2704,    178.1472,\n",
      "           265.1026,    348.6366,    143.8015,    163.3258,    271.4944,\n",
      "           313.1190,    179.9877,    -10.0000,    330.7414,    183.8454,\n",
      "           180.0030,    327.8297,    331.6864,     80.6194,    135.2667,\n",
      "           356.3757,      0.9040,    359.9715,    179.9149,    121.3137,\n",
      "           -10.0000,    333.9539,    280.6723,    271.4174,    348.3242,\n",
      "           359.9826,    197.8873,    341.9906,    297.6547,    298.8822,\n",
      "           -10.0000,    255.0659,    221.7840,    133.6239,    163.4876,\n",
      "           350.5967,    294.1764,    117.5297,    326.6448,     53.1460,\n",
      "           324.8156,    287.3813,     29.2108,    -10.0000,     66.1973,\n",
      "           337.6115,      0.0062,    205.1866,    -10.0000,    198.4432,\n",
      "           160.0490,    202.7557,    -10.0000,     81.8392,    348.2199,\n",
      "            41.4721,    101.2075,    154.4174,    159.1763,    344.4082,\n",
      "            89.4081,     36.1697,    352.6858,    116.2595,    263.0804,\n",
      "           322.4861,    347.3373,     96.7046,     25.5747,    359.9428,\n",
      "           317.0707,      5.9740,     26.2268,    238.7666,    138.0139,\n",
      "           244.5619,    359.9888,    308.2559,    267.2800,    180.0083,\n",
      "           258.4515,     64.9856,    183.3070,     10.1950,    100.1075,\n",
      "           354.4819,     49.8444,    284.2517,    168.5476,    -10.0000,\n",
      "            93.8934,    271.9396,    307.5862,    -10.0000,    157.4469,\n",
      "           178.7964,     63.8742,    359.9874,    227.9195,     15.0865,\n",
      "           341.0622,     16.7646,    312.8414,     58.4217,    347.8894,\n",
      "           247.9730,    310.9282,      0.0000,    119.3190,     82.9083,\n",
      "             8.7102,    132.8599,     27.2226,      1.1409,    236.3913,\n",
      "             1.8133,    305.4153,    301.1900,     26.9797,     71.2361,\n",
      "           238.8168,    287.3801,    -10.0000,     26.1747,      1.7616,\n",
      "           138.3919,     16.9304,    199.8006,    359.7044,    348.2828,\n",
      "            95.3130])\n"
     ]
    }
   ],
   "source": [
    "\n",
    "# Compute the angle (theta) from sin and cos values\n",
    "true_theta = torch.where(\n",
    "    true_y[..., 0] == -10, \n",
    "    torch.tensor(-10.0, device=true_y.device),  # Keep -10 as is\n",
    "    torch.atan2(true_y[..., 0], true_y[..., 1])  # Compute atan2 for valid values\n",
    ")\n",
    "\n",
    "# Convert to degrees\n",
    "true_deg = torch.where(\n",
    "    true_theta == -10,\n",
    "    torch.tensor(-10.0, device=true_theta.device),  # Keep -10 as is\n",
    "    true_theta * 180.0 / torch.pi  # Convert valid radians to degrees\n",
    ")\n",
    "\n",
    "# Ensure degrees are in the range [0, 360) for valid values\n",
    "true_deg = torch.where(\n",
    "    true_deg == -10,\n",
    "    true_deg,  # Keep -10 as is\n",
    "    true_deg % 360.0  # Normalize valid degrees\n",
    ")\n",
    "\n",
    "# Set the print options to suppress scientific notation\n",
    "torch.set_printoptions(sci_mode=False)\n",
    "print(true_deg)"
   ]
  },
  {
   "cell_type": "code",
   "execution_count": null,
   "id": "72c05d99",
   "metadata": {},
   "outputs": [
    {
     "data": {
      "text/plain": [
       "torch.Size([181])"
      ]
     },
     "execution_count": 66,
     "metadata": {},
     "output_type": "execute_result"
    }
   ],
   "source": [
    "true_deg.shape"
   ]
  },
  {
   "cell_type": "code",
   "execution_count": null,
   "id": "0f8b0675",
   "metadata": {},
   "outputs": [
    {
     "name": "stdout",
     "output_type": "stream",
     "text": [
      "Linear MAE:  117.39505767822266\n",
      "Circular MAE: 85.86058807373047\n"
     ]
    }
   ],
   "source": [
    "import torch\n",
    "\n",
    "# assume:\n",
    "#   preds :  Tensor[TOTAL]  # your concatenated predictions in [0..360)\n",
    "#   truth :  Tensor[TOTAL]  # your true angles, with –10 as ignore_val\n",
    "\n",
    "ignore_val = -10.0\n",
    "\n",
    "# 1) build a mask of all valid entries\n",
    "mask = true_deg != ignore_val                # Tensor[bool]\n",
    "\n",
    "preds     = torch.as_tensor(all_preds)\n",
    "true_deg  = torch.as_tensor(true_deg)\n",
    "# 2) apply it\n",
    "preds_filt = preds[mask]\n",
    "truth_filt = true_deg[mask]\n",
    "\n",
    "# 3a) *naïve* MAE\n",
    "mae_linear = (preds_filt - truth_filt).abs().mean()\n",
    "print(\"Linear MAE: \", mae_linear.item())\n",
    "\n",
    "# 3b) *circular* MAE (accounts for wrap-around at 0/360)\n",
    "delta = (preds_filt - truth_filt + 180.0) % 360.0 - 180.0\n",
    "mae_circ = delta.abs().mean()\n",
    "print(\"Circular MAE:\", mae_circ.item())\n"
   ]
  },
  {
   "cell_type": "code",
   "execution_count": null,
   "id": "64827a50",
   "metadata": {},
   "outputs": [
    {
     "name": "stdout",
     "output_type": "stream",
     "text": [
      "Ground‐truth angular std: 121.4°\n"
     ]
    }
   ],
   "source": [
    "std_true = truth_filt.std().item()\n",
    "print(f\"Ground‐truth angular std: {std_true:.1f}°\")\n"
   ]
  },
  {
   "cell_type": "code",
   "execution_count": null,
   "id": "83623c85",
   "metadata": {},
   "outputs": [
    {
     "name": "stdout",
     "output_type": "stream",
     "text": [
      "Prediction angular std: 27.9°\n"
     ]
    }
   ],
   "source": [
    "# after concatenating all batch outputs:\n",
    "\n",
    "preds_std = preds_filt.std().item()\n",
    "print(f\"Prediction angular std: {preds_std:.1f}°\")\n"
   ]
  },
  {
   "cell_type": "code",
   "execution_count": null,
   "id": "93615b1e",
   "metadata": {},
   "outputs": [
    {
     "data": {
      "image/png": "[encoded data removed]",
      "text/plain": [
       "<Figure size 640x480 with 1 Axes>"
      ]
     },
     "metadata": {},
     "output_type": "display_data"
    },
    {
     "data": {
      "image/png": "[encoded data removed]",
      "text/plain": [
       "<Figure size 640x480 with 1 Axes>"
      ]
     },
     "metadata": {},
     "output_type": "display_data"
    }
   ],
   "source": [
    "import matplotlib.pyplot as plt\n",
    "\n",
    "# 1) Truth distribution\n",
    "plt.hist(truth_filt.numpy(), bins=36, histtype='step', label='truth')\n",
    "plt.title(\"Truth Distribution\")\n",
    "plt.xlabel(\"Angle (°)\")\n",
    "plt.legend()\n",
    "plt.show()\n",
    "\n",
    "# 2) Prediction distribution\n",
    "plt.hist(preds_filt.numpy(), bins=36, histtype='step', label='preds')\n",
    "plt.title(\"Prediction Distribution\")\n",
    "plt.xlabel(\"Angle (°)\")\n",
    "plt.legend()\n",
    "plt.show()\n"
   ]
  },
  {
   "cell_type": "code",
   "execution_count": null,
   "id": "a2cfbf05",
   "metadata": {},
   "outputs": [],
   "source": []
  }
 ],
 "metadata": {
  "kernelspec": {
   "display_name": "dmpnn_rocm",
   "language": "python",
   "name": "python3"
  },
  "language_info": {
   "codemirror_mode": {
    "name": "ipython",
    "version": 3
   },
   "file_extension": ".py",
   "mimetype": "text/x-python",
   "name": "python",
   "nbconvert_exporter": "python",
   "pygments_lexer": "ipython3",
   "version": "3.10.16"
  }
 },
 "nbformat": 4,
 "nbformat_minor": 5
}
