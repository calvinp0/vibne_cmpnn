{
 "cells": [
  {
   "cell_type": "code",
   "execution_count": 1,
   "id": "abcff600",
   "metadata": {},
   "outputs": [
    {
     "name": "stdout",
     "output_type": "stream",
     "text": [
      "Current working directory: /home/calvin/code/vibe_cmpnn\n",
      "Project files: ['dataset.py', '.pytest_cache', 'raw', 'vibe_test.ipynb', '__pycache__', 'processed', '0392-1.pdf', 'model.py', 'model_tests.py']\n",
      "Raw directory files: ['val.csv', 'SAMPL.csv', 'train.csv', 'test.csv']\n"
     ]
    }
   ],
   "source": [
    "%load_ext autoreload\n",
    "%autoreload 2\n",
    "import os\n",
    "import random\n",
    "import numpy as np\n",
    "import torch\n",
    "import torch.backends.cudnn as cudnn\n",
    "# Verify working directory and raw data files\n",
    "print('Current working directory:', os.getcwd())\n",
    "print('Project files:', os.listdir(os.getcwd()))\n",
    "print('Raw directory files:', os.listdir(os.path.join(os.getcwd(), 'raw')))\n",
    "## reproducibility seeds\n",
    "random.seed(42)\n",
    "np.random.seed(42)\n",
    "torch.manual_seed(42)\n",
    "torch.cuda.manual_seed_all(42)\n",
    "cudnn.deterministic = True\n",
    "cudnn.benchmark = False"
   ]
  },
  {
   "cell_type": "code",
   "execution_count": 2,
   "id": "6754a6f3",
   "metadata": {},
   "outputs": [
    {
     "name": "stderr",
     "output_type": "stream",
     "text": [
      "Processing...\n",
      "Done!\n",
      "/home/calvin/miniforge3/envs/dmpnn_rocm/lib/python3.10/site-packages/torch_geometric/data/in_memory_dataset.py:300: UserWarning: It is not recommended to directly access the internal storage format `data` of an 'InMemoryDataset'. If you are absolutely certain what you are doing, access the internal storage via `InMemoryDataset._data` instead to suppress this warning. Alternatively, you can access stacked individual attributes of every graph via `dataset.{attr_name}`.\n",
      "  warnings.warn(msg)\n"
     ]
    },
    {
     "name": "stdout",
     "output_type": "stream",
     "text": [
      "Found None at indices: []\n"
     ]
    },
    {
     "name": "stderr",
     "output_type": "stream",
     "text": [
      "/home/calvin/miniforge3/envs/dmpnn_rocm/lib/python3.10/site-packages/torch/nn/modules/linear.py:125: UserWarning: Attempting to use hipBLASLt on an unsupported architecture! Overriding blas backend to hipblas (Triggered internally at /pytorch/aten/src/ATen/Context.cpp:310.)\n",
      "  return F.linear(input, self.weight, self.bias)\n"
     ]
    },
    {
     "name": "stdout",
     "output_type": "stream",
     "text": [
      "Epoch 01  Loss: 0.8556\n",
      "Epoch 02  Loss: 0.6391\n",
      "Epoch 03  Loss: 0.6104\n",
      "Epoch 04  Loss: 0.4765\n",
      "Epoch 05  Loss: 0.2860\n",
      "Epoch 06  Loss: 0.1734\n",
      "Epoch 07  Loss: 0.2184\n",
      "Epoch 08  Loss: 0.1343\n",
      "Epoch 09  Loss: 0.1082\n",
      "Epoch 10  Loss: 0.1085\n",
      "Epoch 11  Loss: 0.0912\n",
      "Epoch 12  Loss: 0.0846\n",
      "Epoch 13  Loss: 0.2057\n",
      "Epoch 14  Loss: 0.1537\n",
      "Epoch 15  Loss: 0.1168\n",
      "Epoch 16  Loss: 0.0947\n",
      "Epoch 17  Loss: 0.1033\n",
      "Epoch 18  Loss: 0.1424\n",
      "Epoch 19  Loss: 0.0831\n",
      "Epoch 20  Loss: 0.0704\n",
      "Epoch 21  Loss: 0.0653\n",
      "Epoch 22  Loss: 0.0624\n",
      "Epoch 23  Loss: 0.0584\n",
      "Epoch 24  Loss: 0.0613\n",
      "Epoch 25  Loss: 0.0604\n",
      "Epoch 26  Loss: 0.0524\n",
      "Epoch 27  Loss: 0.0813\n",
      "Epoch 28  Loss: 0.0837\n",
      "Epoch 29  Loss: 0.0567\n",
      "Epoch 30  Loss: 0.0551\n",
      "Epoch 31  Loss: 0.0504\n",
      "Epoch 32  Loss: 0.0473\n",
      "Epoch 33  Loss: 0.0506\n",
      "Epoch 34  Loss: 0.0592\n",
      "Epoch 35  Loss: 0.0530\n",
      "Epoch 36  Loss: 0.0608\n",
      "Epoch 37  Loss: 0.0412\n",
      "Epoch 38  Loss: 0.0463\n",
      "Epoch 39  Loss: 0.0425\n",
      "Epoch 40  Loss: 0.0395\n",
      "Epoch 41  Loss: 0.0410\n",
      "Epoch 42  Loss: 0.0433\n",
      "Epoch 43  Loss: 0.0341\n",
      "Epoch 44  Loss: 0.0323\n",
      "Epoch 45  Loss: 0.0361\n",
      "Epoch 46  Loss: 0.0462\n",
      "Epoch 47  Loss: 0.1013\n",
      "Epoch 48  Loss: 0.1101\n",
      "Epoch 49  Loss: 0.0953\n",
      "Epoch 50  Loss: 0.0868\n"
     ]
    }
   ],
   "source": [
    "import torch\n",
    "from torch_geometric.loader import DataLoader\n",
    "from torch_geometric.data import Batch\n",
    "from dataset import CMPNNDataset\n",
    "from model import CMPNNEncoder, FFNHead\n",
    "\n",
    "# 1. Prepare data\n",
    "dataset = CMPNNDataset(root='.', csv_file='SAMPL.csv')\n",
    "loader = DataLoader(dataset, batch_size=32, shuffle=True, collate_fn=Batch.from_data_list)\n",
    "# Check for None entries\n",
    "none_indices = [i for i in range(len(dataset)) if dataset[i] is None]\n",
    "print(\"Found None at indices:\", none_indices)\n",
    "\n",
    "# 2. Build model, encoder + FFN head\n",
    "device = torch.device('cuda' if torch.cuda.is_available() else 'cpu')\n",
    "model = CMPNNEncoder(in_node_feats=127, in_edge_feats=12, hidden_dim=128, num_steps=5, dropout=0.05, n_tasks=1).to(device)\n",
    "head = FFNHead(in_dim=256, hidden_dim=64, out_dim=1, dropout=0.1).to(device)\n",
    "optimizer = torch.optim.Adam(list(model.parameters()) + list(head.parameters()), lr=1e-3)\n",
    "criterion = torch.nn.MSELoss()  # or BCEWithLogitsLoss()\n",
    "\n",
    "# 3. Training loop\n",
    "model.train(); head.train()\n",
    "for epoch in range(1, 51):\n",
    "    total_loss = 0\n",
    "    for batch in loader:\n",
    "        batch = batch.to(device)\n",
    "        # extract graph embeddings\n",
    "        z = model.embed(batch.x, batch.edge_index, batch.edge_attr, batch.batch)\n",
    "        # predict with FFN head\n",
    "        y_pred = head(z).view(-1)\n",
    "        # compute loss\n",
    "        loss = criterion(y_pred, batch.y.view(-1))\n",
    "        optimizer.zero_grad()\n",
    "        loss.backward()\n",
    "        optimizer.step()\n",
    "        total_loss += loss.item() * batch.num_graphs\n",
    "    print(f'Epoch {epoch:02d}  Loss: {total_loss/len(dataset):.4f}')"
   ]
  },
  {
   "cell_type": "code",
   "execution_count": 3,
   "id": "e7c751fd",
   "metadata": {},
   "outputs": [
    {
     "name": "stdout",
     "output_type": "stream",
     "text": [
      "torch.Size([1, 1])\n"
     ]
    }
   ],
   "source": [
    "N, E = 40, 60\n",
    "x         = torch.randn(N, 10)\n",
    "edge_idx  = torch.randint(0, N, (2, E))\n",
    "# make it bidirectional\n",
    "edge_idx  = torch.cat([edge_idx, edge_idx[[1,0]]], dim=1)\n",
    "edge_attr = torch.randn(edge_idx.size(1), 6)\n",
    "batch_vec = torch.zeros(N, dtype=torch.long)\n",
    "\n",
    "model = CMPNNEncoder(10, 6, hidden_dim=32, num_steps=3)\n",
    "out   = model(x, edge_idx, edge_attr, batch_vec)\n",
    "print(out.shape)            # torch.Size([1, 1])"
   ]
  },
  {
   "cell_type": "code",
   "execution_count": null,
   "id": "0b011ce9",
   "metadata": {},
   "outputs": [],
   "source": []
  },
  {
   "cell_type": "code",
   "execution_count": null,
   "id": "73fbcb68",
   "metadata": {},
   "outputs": [],
   "source": []
  },
  {
   "cell_type": "code",
   "execution_count": null,
   "id": "57990d47",
   "metadata": {},
   "outputs": [],
   "source": []
  },
  {
   "cell_type": "code",
   "execution_count": null,
   "id": "6e2c9371",
   "metadata": {},
   "outputs": [],
   "source": []
  },
  {
   "cell_type": "code",
   "execution_count": 4,
   "id": "28cf7c36",
   "metadata": {},
   "outputs": [
    {
     "name": "stderr",
     "output_type": "stream",
     "text": [
      "Processing...\n",
      "Done!\n",
      "/home/calvin/miniforge3/envs/dmpnn_rocm/lib/python3.10/site-packages/torch_geometric/data/in_memory_dataset.py:300: UserWarning: It is not recommended to directly access the internal storage format `data` of an 'InMemoryDataset'. If you are absolutely certain what you are doing, access the internal storage via `InMemoryDataset._data` instead to suppress this warning. Alternatively, you can access stacked individual attributes of every graph via `dataset.{attr_name}`.\n",
      "  warnings.warn(msg)\n"
     ]
    }
   ],
   "source": [
    "# 6. Dataset & preprocessing tests\n",
    "import torch, pandas as pd\n",
    "from rdkit import Chem\n",
    "from rdkit.Chem.SaltRemover import SaltRemover\n",
    "from dataset import CMPNNDataset, atom_features, bond_features\n",
    "\n",
    "# atom feature vector length: 100+6+5+4+5+5+1+1 = 127\n",
    "mol = Chem.MolFromSmiles('CCO')\n",
    "feat0 = atom_features(mol.GetAtomWithIdx(0))\n",
    "assert feat0.shape == (127,), f'Atom feature length {feat0.shape} != 127'\n",
    "\n",
    "# bond feature vector length: 4+1+1+6 = 12\n",
    "bf = bond_features(mol.GetBondBetweenAtoms(0, 1))\n",
    "assert bf.shape == (12,), f'Bond feature length {bf.shape} != 12'\n",
    "\n",
    "# bidirected edges doubling test\n",
    "data = CMPNNDataset(root='.', csv_file='SAMPL.csv')[0]\n",
    "# raw Data stores undirected bonds duplicated in process()\n",
    "orig = pd.read_csv('./raw/SAMPL.csv').iloc[0]['smiles']\n",
    "mol0 = Chem.MolFromSmiles(orig)\n",
    "n_bonds = mol0.GetNumBonds()\n",
    "E = data.edge_index.size(1)//2\n",
    "assert E == n_bonds, f'Edges per direction {E} != original bonds {n_bonds}'\n",
    "\n"
   ]
  },
  {
   "cell_type": "code",
   "execution_count": 5,
   "id": "ecc04523",
   "metadata": {},
   "outputs": [
    {
     "name": "stdout",
     "output_type": "stream",
     "text": [
      "Splits: train=514, val=64, test=64\n"
     ]
    }
   ],
   "source": [
    "# 0. Scaffold-based train/val/test split in-memory\n",
    "import pandas as pd\n",
    "from dataset import scaffold_split_df\n",
    "# read full CSV\n",
    "df = pd.read_csv('raw/SAMPL.csv')\n",
    "# split by Bemis–Murcko scaffold\n",
    "train_df, val_df, test_df = scaffold_split_df(df, valid_ratio=0.1, test_ratio=0.1, seed=42)\n",
    "# write splits back to disk for CMPNNDataset\n",
    "train_df.to_csv('raw/train.csv', index=False)\n",
    "val_df.to_csv  ('raw/val.csv',   index=False)\n",
    "test_df.to_csv ('raw/test.csv',  index=False)\n",
    "print(f'Splits: train={len(train_df)}, val={len(val_df)}, test={len(test_df)}')"
   ]
  },
  {
   "cell_type": "code",
   "execution_count": null,
   "id": "a6aa645f",
   "metadata": {},
   "outputs": [],
   "source": []
  },
  {
   "cell_type": "code",
   "execution_count": null,
   "id": "eaa48765",
   "metadata": {},
   "outputs": [],
   "source": []
  },
  {
   "cell_type": "code",
   "execution_count": 6,
   "id": "78c298f2",
   "metadata": {},
   "outputs": [
    {
     "name": "stdout",
     "output_type": "stream",
     "text": [
      "Train/Val/Test sizes: 514/64/64\n"
     ]
    },
    {
     "name": "stderr",
     "output_type": "stream",
     "text": [
      "Processing...\n",
      "Done!\n",
      "/home/calvin/miniforge3/envs/dmpnn_rocm/lib/python3.10/site-packages/torch_geometric/data/in_memory_dataset.py:300: UserWarning: It is not recommended to directly access the internal storage format `data` of an 'InMemoryDataset'. If you are absolutely certain what you are doing, access the internal storage via `InMemoryDataset._data` instead to suppress this warning. Alternatively, you can access stacked individual attributes of every graph via `dataset.{attr_name}`.\n",
      "  warnings.warn(msg)\n",
      "Processing...\n",
      "Done!\n",
      "/home/calvin/miniforge3/envs/dmpnn_rocm/lib/python3.10/site-packages/torch_geometric/data/in_memory_dataset.py:300: UserWarning: It is not recommended to directly access the internal storage format `data` of an 'InMemoryDataset'. If you are absolutely certain what you are doing, access the internal storage via `InMemoryDataset._data` instead to suppress this warning. Alternatively, you can access stacked individual attributes of every graph via `dataset.{attr_name}`.\n",
      "  warnings.warn(msg)\n",
      "Processing...\n",
      "Done!\n",
      "/home/calvin/miniforge3/envs/dmpnn_rocm/lib/python3.10/site-packages/torch_geometric/data/in_memory_dataset.py:300: UserWarning: It is not recommended to directly access the internal storage format `data` of an 'InMemoryDataset'. If you are absolutely certain what you are doing, access the internal storage via `InMemoryDataset._data` instead to suppress this warning. Alternatively, you can access stacked individual attributes of every graph via `dataset.{attr_name}`.\n",
      "  warnings.warn(msg)\n"
     ]
    }
   ],
   "source": [
    "# 1. Load datasets and create DataLoaders\n",
    "from dataset import CMPNNDataset\n",
    "from torch_geometric.loader import DataLoader\n",
    "from torch_geometric.data import Batch\n",
    "train_ds = CMPNNDataset(root='.', csv_file='train.csv')\n",
    "val_ds   = CMPNNDataset(root='.', csv_file='val.csv')\n",
    "test_ds  = CMPNNDataset(root='.', csv_file='test.csv')\n",
    "print(f'Train/Val/Test sizes: {len(train_ds)}/{len(val_ds)}/{len(test_ds)}')\n",
    "# batching\n",
    "train_loader = DataLoader(train_ds, batch_size=32, shuffle=True,  collate_fn=Batch.from_data_list)\n",
    "val_loader   = DataLoader(val_ds,   batch_size=32, shuffle=False, collate_fn=Batch.from_data_list)\n",
    "test_loader  = DataLoader(test_ds,  batch_size=32, shuffle=False, collate_fn=Batch.from_data_list)"
   ]
  },
  {
   "cell_type": "code",
   "execution_count": 7,
   "id": "62bab2eb",
   "metadata": {},
   "outputs": [
    {
     "name": "stdout",
     "output_type": "stream",
     "text": [
      "Epoch 01: Train 0.7850  Val 0.9049\n",
      "Epoch 02: Train 0.5953  Val 0.7930\n",
      "Epoch 03: Train 0.5666  Val 0.7836\n",
      "Epoch 04: Train 0.4378  Val 1.4682\n",
      "Epoch 05: Train 0.6099  Val 1.1244\n",
      "Epoch 06: Train 0.4168  Val 0.9850\n",
      "Epoch 07: Train 0.4590  Val 0.7920\n",
      "Epoch 08: Train 0.4062  Val 0.7474\n",
      "Epoch 09: Train 0.3422  Val 0.6725\n",
      "Epoch 10: Train 0.3576  Val 0.9579\n",
      "Epoch 11: Train 0.3116  Val 1.1360\n",
      "Epoch 12: Train 0.3127  Val 0.8146\n",
      "Epoch 13: Train 0.3156  Val 0.8058\n",
      "Epoch 14: Train 0.3163  Val 1.0900\n",
      "Epoch 15: Train 0.3135  Val 0.5861\n",
      "Epoch 16: Train 0.2900  Val 0.4939\n",
      "Epoch 17: Train 0.2600  Val 0.6162\n",
      "Epoch 18: Train 0.2606  Val 0.4906\n",
      "Epoch 19: Train 0.3982  Val 0.9715\n",
      "Epoch 20: Train 0.3573  Val 0.9137\n",
      "Epoch 21: Train 0.4912  Val 0.8282\n",
      "Epoch 22: Train 0.3222  Val 0.6584\n",
      "Epoch 23: Train 0.2775  Val 0.5727\n",
      "Epoch 24: Train 0.2503  Val 0.6441\n",
      "Epoch 25: Train 0.2577  Val 0.6238\n",
      "Epoch 26: Train 0.2542  Val 0.6298\n",
      "Epoch 27: Train 0.3466  Val 0.8389\n",
      "Epoch 28: Train 0.3432  Val 0.9546\n",
      "Epoch 29: Train 0.4107  Val 0.8153\n",
      "Epoch 30: Train 0.3583  Val 0.7193\n",
      "Epoch 31: Train 0.3204  Val 0.7817\n",
      "Epoch 32: Train 0.4244  Val 0.8615\n",
      "Epoch 33: Train 0.4653  Val 0.7023\n",
      "Epoch 34: Train 0.3994  Val 0.6080\n",
      "Epoch 35: Train 0.3567  Val 0.9382\n",
      "Epoch 36: Train 0.8016  Val 1.0824\n",
      "Epoch 37: Train 0.7943  Val 0.9506\n",
      "Epoch 38: Train 0.5674  Val 0.8560\n",
      "Epoch 39: Train 0.4335  Val 0.7687\n",
      "Epoch 40: Train 0.3968  Val 0.6927\n",
      "Epoch 41: Train 0.3379  Val 0.6930\n",
      "Epoch 42: Train 0.3042  Val 0.7130\n",
      "Epoch 43: Train 0.3053  Val 0.6074\n",
      "Epoch 44: Train 0.3016  Val 0.6628\n",
      "Epoch 45: Train 0.2730  Val 0.6387\n",
      "Epoch 46: Train 0.3164  Val 0.5657\n",
      "Epoch 47: Train 0.2810  Val 0.5015\n",
      "Epoch 48: Train 0.3549  Val 0.8816\n",
      "Epoch 49: Train 0.3041  Val 0.6001\n",
      "Epoch 50: Train 0.2960  Val 0.7654\n"
     ]
    },
    {
     "data": {
      "text/plain": [
       "<All keys matched successfully>"
      ]
     },
     "execution_count": 7,
     "metadata": {},
     "output_type": "execute_result"
    }
   ],
   "source": [
    "# 2. Training loop with validation\n",
    "import torch\n",
    "device = torch.device('cuda' if torch.cuda.is_available() else 'cpu')\n",
    "model = CMPNNEncoder(in_node_feats=127, in_edge_feats=12, hidden_dim=128, num_steps=5, dropout=0.05, n_tasks=1, readout='gru', use_booster=True).to(device)\n",
    "head  = FFNHead(in_dim=256, hidden_dim=64, out_dim=1, dropout=0.1).to(device)\n",
    "optimizer = torch.optim.Adam(list(model.parameters()) + list(head.parameters()), lr=1e-3)\n",
    "criterion = torch.nn.MSELoss()\n",
    "best_val = float('inf')\n",
    "best_weights = None\n",
    "for epoch in range(1, 51):\n",
    "    model.train(); head.train()\n",
    "    train_loss = 0\n",
    "    for batch in train_loader:\n",
    "        batch = batch.to(device)\n",
    "        z = model.embed(batch.x, batch.edge_index, batch.edge_attr, batch.batch)\n",
    "        y_pred = head(z).view(-1)\n",
    "        loss = criterion(y_pred, batch.y.view(-1))\n",
    "        optimizer.zero_grad(); loss.backward(); optimizer.step()\n",
    "        train_loss += loss.item() * batch.num_graphs\n",
    "    avg_train = train_loss / len(train_ds)\n",
    "    # validation\n",
    "    model.eval(); head.eval()\n",
    "    val_loss = 0\n",
    "    with torch.no_grad():\n",
    "        for batch in val_loader:\n",
    "            batch = batch.to(device)\n",
    "            z = model.embed(batch.x, batch.edge_index, batch.edge_attr, batch.batch)\n",
    "            y_pred = head(z).view(-1)\n",
    "            val_loss += criterion(y_pred, batch.y.view(-1)).item() * batch.num_graphs\n",
    "    avg_val = val_loss / len(val_ds)\n",
    "    print(f'Epoch {epoch:02d}: Train {avg_train:.4f}  Val {avg_val:.4f}')\n",
    "    if avg_val < best_val:\n",
    "        best_val = avg_val\n",
    "        best_weights = (model.state_dict(), head.state_dict())\n",
    "# load best model\n",
    "model.load_state_dict(best_weights[0])\n",
    "head.load_state_dict(best_weights[1])"
   ]
  },
  {
   "cell_type": "code",
   "execution_count": 8,
   "id": "3deaeef8",
   "metadata": {},
   "outputs": [
    {
     "name": "stdout",
     "output_type": "stream",
     "text": [
      "Test RMSE: 0.8999365532551704\n"
     ]
    }
   ],
   "source": [
    "# 3. Test set evaluation\n",
    "model.eval(); head.eval()\n",
    "test_loss = 0\n",
    "with torch.no_grad():\n",
    "    for batch in test_loader:\n",
    "        batch = batch.to(device)\n",
    "        z = model.embed(batch.x, batch.edge_index, batch.edge_attr, batch.batch)\n",
    "        y_pred = head(z).view(-1)\n",
    "        test_loss += criterion(y_pred, batch.y.view(-1)).item() * batch.num_graphs\n",
    "print('Test RMSE:', (test_loss / len(test_ds)) ** 0.5)"
   ]
  },
  {
   "cell_type": "code",
   "execution_count": 9,
   "id": "8dbbf584",
   "metadata": {},
   "outputs": [
    {
     "ename": "NameError",
     "evalue": "name 'pred' is not defined",
     "output_type": "error",
     "traceback": [
      "\u001b[0;31m---------------------------------------------------------------------------\u001b[0m",
      "\u001b[0;31mNameError\u001b[0m                                 Traceback (most recent call last)",
      "Cell \u001b[0;32mIn[9], line 5\u001b[0m\n\u001b[1;32m      3\u001b[0m \u001b[38;5;66;03m# during training\u001b[39;00m\n\u001b[1;32m      4\u001b[0m y_norm \u001b[38;5;241m=\u001b[39m (batch\u001b[38;5;241m.\u001b[39my \u001b[38;5;241m-\u001b[39m mean) \u001b[38;5;241m/\u001b[39m std\n\u001b[0;32m----> 5\u001b[0m loss \u001b[38;5;241m=\u001b[39m criterion(\u001b[43mpred\u001b[49m\u001b[38;5;241m.\u001b[39mview(\u001b[38;5;241m-\u001b[39m\u001b[38;5;241m1\u001b[39m), y_norm)\n\u001b[1;32m      6\u001b[0m \u001b[38;5;66;03m# at eval time\u001b[39;00m\n\u001b[1;32m      7\u001b[0m mse \u001b[38;5;241m=\u001b[39m criterion(pred\u001b[38;5;241m.\u001b[39mview(\u001b[38;5;241m-\u001b[39m\u001b[38;5;241m1\u001b[39m), y_norm)\u001b[38;5;241m.\u001b[39mitem()\n",
      "\u001b[0;31mNameError\u001b[0m: name 'pred' is not defined"
     ]
    }
   ],
   "source": [
    "train_y = train_df.y.values\n",
    "mean, std = train_y.mean(), train_y.std()\n",
    "# during training\n",
    "y_norm = (batch.y - mean) / std\n",
    "loss = criterion(pred.view(-1), y_norm)\n",
    "# at eval time\n",
    "mse = criterion(pred.view(-1), y_norm).item()\n",
    "rmse = std * sqrt(mse)\n",
    "print(f\"RMSE (kcal/mol): {rmse:.3f}\")"
   ]
  },
  {
   "cell_type": "code",
   "execution_count": null,
   "id": "784e7e58",
   "metadata": {},
   "outputs": [],
   "source": []
  }
 ],
 "metadata": {
  "kernelspec": {
   "display_name": "dmpnn_rocm",
   "language": "python",
   "name": "python3"
  },
  "language_info": {
   "codemirror_mode": {
    "name": "ipython",
    "version": 3
   },
   "file_extension": ".py",
   "mimetype": "text/x-python",
   "name": "python",
   "nbconvert_exporter": "python",
   "pygments_lexer": "ipython3",
   "version": "3.10.16"
  }
 },
 "nbformat": 4,
 "nbformat_minor": 5
}
